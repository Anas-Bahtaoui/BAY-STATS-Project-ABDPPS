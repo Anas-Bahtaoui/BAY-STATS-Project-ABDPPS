{
 "cells": [
  {
   "cell_type": "code",
   "execution_count": 1,
   "id": "d4cbfc52",
   "metadata": {},
   "outputs": [],
   "source": [
    "# GLOBAL VARIABLES. BE SURE NOT TO OVERWRITE THEM\n",
    "D = 8 # Amount of documents\n",
    "V = 12 # Size of the vocabulary\n",
    "\n",
    "# (Approximate) Maximum allowed amount of same word repetition in a document (it may be lower in practise due to the data generation strategy)\n",
    "# To get the actual maximum amount, call Simulator.get_M\n",
    "M = 10 \n",
    "\n",
    "\n",
    "k = 5 # Amount of topics\n",
    "gamma = 0.2  #"
   ]
  },
  {
   "cell_type": "code",
   "execution_count": 2,
   "id": "5fe1b136",
   "metadata": {},
   "outputs": [],
   "source": [
    "# GLOBAL VARIABLES. BE SURE NOT TO OVERWRITE THEM\n",
    "#D = 100 # Amount of documents\n",
    "#V = 18 # Size of the vocabulary\n",
    "\n",
    "# (Approximate) Maximum allowed amount of same word repetition in a document (it may be lower in practise due to the data generation strategy)\n",
    "# To get the actual maximum amount, call Simulator.get_M\n",
    "#M = 5 \n",
    "\n",
    "#k = 6 # Amount of topics\n",
    "#gamma = 0.2\n",
    "\n",
    "# FA: Since we're testing so much, lets agree on using just 1 small set of global variables for now"
   ]
  },
  {
   "cell_type": "code",
   "execution_count": 3,
   "id": "e449f034",
   "metadata": {},
   "outputs": [],
   "source": [
    "from matplotlib import pyplot as plt\n",
    "import numpy as np\n",
    "import pandas as pd"
   ]
  },
  {
   "cell_type": "markdown",
   "id": "18505e79",
   "metadata": {},
   "source": [
    "From now on let's use the following simulated data for further testing"
   ]
  },
  {
   "cell_type": "code",
   "execution_count": 4,
   "id": "eaec80b6",
   "metadata": {},
   "outputs": [],
   "source": [
    "from simulator import Simulator"
   ]
  },
  {
   "cell_type": "code",
   "execution_count": 5,
   "id": "ce39e841",
   "metadata": {},
   "outputs": [
    {
     "name": "stdout",
     "output_type": "stream",
     "text": [
      "Success: Sigma transformed from K\n",
      "Success: G transformed from K\n",
      "Success: W and Z generated\n",
      "Success: E transformed from Z\n",
      "Success: C transformed from Z\n",
      "Success: Sigma transformed from K\n",
      "Success: G transformed from K\n",
      "Success: W and Z generated\n",
      "Success: E transformed from Z\n",
      "Success: C transformed from Z\n"
     ]
    }
   ],
   "source": [
    "test_data = Simulator(D, V, M, k, gamma, seed=1967)  # Man on the moon\n",
    "test_data.generate_all_data()\n",
    "\n",
    "random_initial_data = Simulator(D, V, M, k, gamma, seed=1969)  # Woodstock Music Festival\n",
    "random_initial_data.generate_all_data()"
   ]
  },
  {
   "cell_type": "code",
   "execution_count": 6,
   "id": "05313560",
   "metadata": {},
   "outputs": [
    {
     "data": {
      "text/plain": [
       "<matplotlib.image.AxesImage at 0x7f81b68b7e80>"
      ]
     },
     "execution_count": 6,
     "metadata": {},
     "output_type": "execute_result"
    },
    {
     "data": {
      "image/png": "[encoded data removed]",
      "text/plain": [
       "<Figure size 288x288 with 1 Axes>"
      ]
     },
     "metadata": {
      "needs_background": "light"
     },
     "output_type": "display_data"
    },
    {
     "data": {
      "image/png": "[encoded data removed]",
      "text/plain": [
       "<Figure size 288x288 with 1 Axes>"
      ]
     },
     "metadata": {
      "needs_background": "light"
     },
     "output_type": "display_data"
    }
   ],
   "source": [
    "plt.matshow(test_data.G, cmap='Blues')\n",
    "plt.matshow(random_initial_data.G, cmap='Blues')"
   ]
  },
  {
   "cell_type": "markdown",
   "id": "dec37a1c",
   "metadata": {},
   "source": [
    "# 2. MC SAMPLER"
   ]
  },
  {
   "cell_type": "markdown",
   "id": "aefa593b",
   "metadata": {},
   "source": [
    "## 2.3.1 Sampling H (Metropolis-Hastings MC Sampling)"
   ]
  },
  {
   "cell_type": "markdown",
   "id": "4c0cec40",
   "metadata": {},
   "source": [
    "### Task:\n",
    "\n",
    "You must implement a function that receives matrices $E_i$, $K_i$ and vector $\\mu$ and generates the next $H_{i+1}$."
   ]
  },
  {
   "cell_type": "markdown",
   "id": "4473f603",
   "metadata": {},
   "source": [
    "\n",
    ". $E$ matrix of $D \\times k$ where $E_d$ is the $k$-dim vector of counts of sampled drawings for the $z$-th topic over all words for each document\n",
    "\n",
    ". $K$ matrix of $k \\times k$ representing the precision matrix associated to the graph $G$\n",
    "\n",
    ". $\\mu = 0$\n",
    "\n",
    ". $H$ matrix of $D \\times k$ where $H_d = \\eta_d$ is the $k$-dim vector of the topic prevalences over document $d$"
   ]
  },
  {
   "cell_type": "code",
   "execution_count": 7,
   "id": "84e01991",
   "metadata": {},
   "outputs": [],
   "source": [
    "from samplers import MC_sample_H"
   ]
  },
  {
   "cell_type": "markdown",
   "id": "1ae5810c",
   "metadata": {},
   "source": [
    "## 2.3.2 H Sampling Tests"
   ]
  },
  {
   "cell_type": "code",
   "execution_count": 8,
   "id": "ab704944",
   "metadata": {},
   "outputs": [],
   "source": [
    "E_copy = test_data.E.copy()\n",
    "Sigma_copy = test_data.Sigma.copy()\n",
    "\n",
    "H_sample = MC_sample_H(E_copy, Sigma_copy)\n",
    "\n",
    "assert np.all(E_copy == test_data.E)\n",
    "assert np.all(Sigma_copy == test_data.Sigma)"
   ]
  },
  {
   "cell_type": "code",
   "execution_count": 9,
   "id": "ffc583cb",
   "metadata": {},
   "outputs": [
    {
     "name": "stdout",
     "output_type": "stream",
     "text": [
      "CPU times: user 54.4 s, sys: 26.8 ms, total: 54.5 s\n",
      "Wall time: 54.7 s\n"
     ]
    }
   ],
   "source": [
    "%%time\n",
    "# Check that the Sampler works properly (This will take... forever)\n",
    "errors = []\n",
    "matrix_changes = []\n",
    "burn_in = 1000\n",
    "\n",
    "for i in range(5000):\n",
    "    H_sample_old = H_sample.copy()\n",
    "    H_sample = MC_sample_H(E_copy, Sigma_copy, H_sample_old, burn_in=10)\n",
    "    matrix_changes.append(~np.all(H_sample_old == H_sample))\n",
    "    if i >= burn_in:\n",
    "        errors.append(np.linalg.norm(H_sample - test_data.H))  # Computing error wrt the target matrix"
   ]
  },
  {
   "cell_type": "code",
   "execution_count": 10,
   "id": "cf3b455c",
   "metadata": {},
   "outputs": [
    {
     "name": "stdout",
     "output_type": "stream",
     "text": [
      "Matrix changes (1 = changed, 0 = same)\n",
      "count    5000.000000\n",
      "mean        0.432000\n",
      "std         0.495404\n",
      "min         0.000000\n",
      "25%         0.000000\n",
      "50%         0.000000\n",
      "75%         1.000000\n",
      "max         1.000000\n",
      "dtype: float64\n"
     ]
    },
    {
     "data": {
      "text/plain": [
       "<AxesSubplot:>"
      ]
     },
     "execution_count": 10,
     "metadata": {},
     "output_type": "execute_result"
    },
    {
     "data": {
      "image/png": "[encoded data removed]",
      "text/plain": [
       "<Figure size 432x288 with 1 Axes>"
      ]
     },
     "metadata": {
      "needs_background": "light"
     },
     "output_type": "display_data"
    }
   ],
   "source": [
    "# Matrix should change\n",
    "matrix_changes = pd.Series(matrix_changes).astype(int)\n",
    "print(\"Matrix changes (1 = changed, 0 = same)\")\n",
    "\n",
    "print(matrix_changes.describe())\n",
    "matrix_changes.hist(bins=30)"
   ]
  },
  {
   "cell_type": "code",
   "execution_count": 11,
   "id": "d26c4d13",
   "metadata": {},
   "outputs": [
    {
     "name": "stdout",
     "output_type": "stream",
     "text": [
      "H L2-error metrics\n",
      "count    4000.000000\n",
      "mean        6.269000\n",
      "std         0.320944\n",
      "min         5.537455\n",
      "25%         5.999677\n",
      "50%         6.335943\n",
      "75%         6.526306\n",
      "max         7.088386\n",
      "dtype: float64\n"
     ]
    },
    {
     "data": {
      "text/plain": [
       "<AxesSubplot:>"
      ]
     },
     "execution_count": 11,
     "metadata": {},
     "output_type": "execute_result"
    },
    {
     "data": {
      "image/png": "[encoded data removed]",
      "text/plain": [
       "<Figure size 432x288 with 1 Axes>"
      ]
     },
     "metadata": {
      "needs_background": "light"
     },
     "output_type": "display_data"
    }
   ],
   "source": [
    "# Error should be distributed close to 0 (I guess...)  # BUG https://trello.com/c/9k2e8PQz/33-mcsampleh-is-not-close-to-expected-target\n",
    "errors = pd.Series(errors)\n",
    "print(\"H L2-error metrics\")\n",
    "print(errors.describe())\n",
    "errors.hist(bins=30)"
   ]
  },
  {
   "cell_type": "code",
   "execution_count": 12,
   "id": "e36c3126",
   "metadata": {},
   "outputs": [
    {
     "name": "stdout",
     "output_type": "stream",
     "text": [
      "H L2-error series\n"
     ]
    },
    {
     "data": {
      "image/png": "[encoded data removed]",
      "text/plain": [
       "<Figure size 432x288 with 1 Axes>"
      ]
     },
     "metadata": {
      "needs_background": "light"
     },
     "output_type": "display_data"
    }
   ],
   "source": [
    "errors.plot()\n",
    "print(\"H L2-error series\")"
   ]
  },
  {
   "cell_type": "markdown",
   "id": "25d00ba6",
   "metadata": {},
   "source": [
    "As you can see, the true (left) and the last sampled (center) $\\Theta$ are quite similar. The right heatmap represents the difference of the first two. \n"
   ]
  },
  {
   "cell_type": "code",
   "execution_count": 13,
   "id": "1319c2e2",
   "metadata": {},
   "outputs": [
    {
     "data": {
      "image/png": "[encoded data removed]",
      "text/plain": [
       "<Figure size 1080x360 with 6 Axes>"
      ]
     },
     "metadata": {
      "needs_background": "light"
     },
     "output_type": "display_data"
    },
    {
     "data": {
      "text/plain": [
       "0.752275646565546"
      ]
     },
     "execution_count": 13,
     "metadata": {},
     "output_type": "execute_result"
    }
   ],
   "source": [
    "import seaborn as sn\n",
    "from transformation_functions import update_Theta\n",
    "\n",
    "\n",
    "fig, ax = plt.subplots(1,3, figsize=(15, 5))\n",
    "\n",
    "last_Theta = update_Theta(np.zeros(H_sample.shape), H_sample)\n",
    "true_Theta = update_Theta(np.zeros(H_sample.shape), test_data.H)\n",
    "\n",
    "sn.heatmap(true_Theta, cmap='Blues',ax=ax[0])\n",
    "sn.heatmap(last_Theta, cmap='Blues',ax=ax[1])\n",
    "sn.heatmap(abs(true_Theta - last_Theta),cmap='Blues',ax=ax[2],center=0)\n",
    "plt.show()\n",
    "\n",
    "np.linalg.norm(true_Theta-last_Theta)"
   ]
  }
 ],
 "metadata": {
  "interpreter": {
   "hash": "a803b5bf187bf95155bcb05f6102b06519856e9ee60d4a9ebc29561a74488513"
  },
  "kernelspec": {
   "display_name": "Python 3.8 (d2)",
   "language": "python",
   "name": "d2"
  },
  "language_info": {
   "codemirror_mode": {
    "name": "ipython",
    "version": 3
   },
   "file_extension": ".py",
   "mimetype": "text/x-python",
   "name": "python",
   "nbconvert_exporter": "python",
   "pygments_lexer": "ipython3",
   "version": "3.8.12"
  }
 },
 "nbformat": 4,
 "nbformat_minor": 5
}
