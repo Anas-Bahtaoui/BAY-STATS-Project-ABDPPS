{
 "cells": [
  {
   "cell_type": "code",
   "execution_count": 1,
   "id": "ed2629ed",
   "metadata": {},
   "outputs": [],
   "source": [
    "# GLOBAL VARIABLES. BE SURE NOT TO OVERWRITE THEM\n",
    "D = 8 # Amount of documents\n",
    "V = 12 # Size of the vocabulary\n",
    "\n",
    "# (Approximate) Maximum allowed amount of same word repetition in a document (it may be lower in practise due to the data generation strategy)\n",
    "# To get the actual maximum amount, call Simulator.get_M\n",
    "M = 10 \n",
    "\n",
    "\n",
    "k = 5 # Amount of topics\n",
    "gamma = 0.2  #"
   ]
  },
  {
   "cell_type": "code",
   "execution_count": 2,
   "id": "39cbecf9",
   "metadata": {},
   "outputs": [],
   "source": [
    "# GLOBAL VARIABLES. BE SURE NOT TO OVERWRITE THEM\n",
    "#D = 50 # Amount of documents\n",
    "#V = 18 # Size of the vocabulary\n",
    "\n",
    "# (Approximate) Maximum allowed amount of same word repetition in a document (it may be lower in practise due to the data generation strategy)\n",
    "# To get the actual maximum amount, call Simulator.get_M\n",
    "#M = 5 \n",
    "\n",
    "#k = 6 # Amount of topics\n",
    "#gamma = 0.2\n",
    "\n",
    "# FA: Since we're testing so much, lets agree on using just 1 small set of global variables for now"
   ]
  },
  {
   "cell_type": "code",
   "execution_count": 3,
   "id": "9b6dad5b",
   "metadata": {},
   "outputs": [],
   "source": [
    "from matplotlib import pyplot as plt\n",
    "import numpy as np\n",
    "import pandas as pd"
   ]
  },
  {
   "cell_type": "markdown",
   "id": "c119c559",
   "metadata": {},
   "source": [
    "From now on let's use the following simulated data for further testing"
   ]
  },
  {
   "cell_type": "code",
   "execution_count": 4,
   "id": "7af1ac0a",
   "metadata": {},
   "outputs": [],
   "source": [
    "from simulator import Simulator"
   ]
  },
  {
   "cell_type": "code",
   "execution_count": 5,
   "id": "95b3757b",
   "metadata": {},
   "outputs": [
    {
     "name": "stdout",
     "output_type": "stream",
     "text": [
      "Success: Sigma transformed from K\n",
      "Success: G transformed from K\n",
      "Success: W and Z generated\n",
      "Success: E transformed from Z\n",
      "Success: C transformed from Z\n",
      "Success: G transformed from K\n",
      "Success: W and Z generated\n",
      "Success: E transformed from Z\n",
      "Success: C transformed from Z\n"
     ]
    }
   ],
   "source": [
    "test_data = Simulator(D, V, M, k, gamma, seed=1967)  # Man on the moon\n",
    "test_data.generate_all_data()\n",
    "\n",
    "random_initial_data = Simulator(D, V, M, k, gamma, seed=1969)  # Woodstock Music Festival\n",
    "random_initial_data.generate_non_informative()"
   ]
  },
  {
   "cell_type": "code",
   "execution_count": 6,
   "id": "0321270b",
   "metadata": {},
   "outputs": [
    {
     "data": {
      "text/plain": [
       "<matplotlib.image.AxesImage at 0x19aafb5edc0>"
      ]
     },
     "execution_count": 6,
     "metadata": {},
     "output_type": "execute_result"
    },
    {
     "data": {
      "image/png": "[encoded data removed]",
      "text/plain": [
       "<Figure size 288x288 with 1 Axes>"
      ]
     },
     "metadata": {
      "needs_background": "light"
     },
     "output_type": "display_data"
    },
    {
     "data": {
      "image/png": "[encoded data removed]",
      "text/plain": [
       "<Figure size 288x288 with 1 Axes>"
      ]
     },
     "metadata": {
      "needs_background": "light"
     },
     "output_type": "display_data"
    }
   ],
   "source": [
    "plt.matshow(test_data.G, cmap='Blues')\n",
    "plt.matshow(random_initial_data.G, cmap='Blues')"
   ]
  },
  {
   "cell_type": "code",
   "execution_count": 9,
   "id": "1bd8dcc0-bb6c-43b3-9ae0-f97b84b61e80",
   "metadata": {},
   "outputs": [
    {
     "data": {
      "text/plain": [
       "array([[1., 3., 3., 5., 2., 4., 2., 2., 3., 1., 4., 1.],\n",
       "       [2., 4., 3., 4., 3., 2., 2., 1., 7., 3., 1., 4.],\n",
       "       [5., 2., 2., 4., 3., 4., 3., 1., 3., 3., 3., 3.],\n",
       "       [3., 1., 3., 0., 2., 2., 4., 3., 4., 2., 2., 3.],\n",
       "       [2., 1., 6., 4., 8., 3., 6., 1., 4., 0., 4., 1.]])"
      ]
     },
     "execution_count": 9,
     "metadata": {},
     "output_type": "execute_result"
    }
   ],
   "source": [
    "random_initial_data.C"
   ]
  },
  {
   "cell_type": "markdown",
   "id": "5783d0af",
   "metadata": {},
   "source": [
    "# 2. MC SAMPLER"
   ]
  },
  {
   "cell_type": "markdown",
   "id": "a8f6edea",
   "metadata": {},
   "source": [
    "## 2.1.1 Sampling Z (MCMC Sampler)"
   ]
  },
  {
   "cell_type": "markdown",
   "id": "23dd06b6",
   "metadata": {},
   "source": [
    "### Task:\n",
    "\n",
    "You must implement a function that receives matrices $W$, $\\Theta_{i+1}$ and $B_i$ and generates the next $Z_{i+1}$ and $B_{i+1}$."
   ]
  },
  {
   "cell_type": "code",
   "execution_count": 10,
   "id": "faa25f04",
   "metadata": {},
   "outputs": [],
   "source": [
    "from samplers import MC_sample_Z\n",
    "from binder_loss import binder_loss"
   ]
  },
  {
   "cell_type": "markdown",
   "id": "c603287f",
   "metadata": {},
   "source": [
    "## 2.1.2 Z Sampling Tests"
   ]
  },
  {
   "cell_type": "markdown",
   "id": "22dd8483",
   "metadata": {},
   "source": [
    "### MC_sample_Z tests"
   ]
  },
  {
   "cell_type": "code",
   "execution_count": 11,
   "id": "e1ceddd9",
   "metadata": {},
   "outputs": [],
   "source": [
    "Z_copy = random_initial_data.Z.copy()\n",
    "E_copy = random_initial_data.E.copy()\n",
    "C_copy = random_initial_data.C.copy()\n",
    "\n",
    "W_copy = test_data.W.copy()\n",
    "Theta_copy = test_data.Theta.copy()\n",
    "B_copy = test_data.B.copy()\n",
    "\n"
   ]
  },
  {
   "cell_type": "code",
   "execution_count": 12,
   "id": "fb2c0643",
   "metadata": {},
   "outputs": [
    {
     "data": {
      "text/plain": [
       "<matplotlib.image.AxesImage at 0x19aafc488b0>"
      ]
     },
     "execution_count": 12,
     "metadata": {},
     "output_type": "execute_result"
    },
    {
     "data": {
      "image/png": "[encoded data removed]",
      "text/plain": [
       "<Figure size 288x345.6 with 1 Axes>"
      ]
     },
     "metadata": {
      "needs_background": "light"
     },
     "output_type": "display_data"
    }
   ],
   "source": [
    "plt.matshow(Z_copy[0], cmap='Blues')"
   ]
  },
  {
   "cell_type": "code",
   "execution_count": 13,
   "id": "ac53349e",
   "metadata": {},
   "outputs": [
    {
     "data": {
      "text/plain": [
       "array([[ 2., -1., -1., -1., -1., -1., -1., -1., -1., -1.],\n",
       "       [-1., -1., -1., -1., -1., -1., -1., -1., -1., -1.],\n",
       "       [-1., -1., -1., -1., -1., -1., -1., -1., -1., -1.],\n",
       "       [-1., -1., -1., -1., -1., -1., -1., -1., -1., -1.],\n",
       "       [-1., -1., -1., -1., -1., -1., -1., -1., -1., -1.],\n",
       "       [-1., -1., -1., -1., -1., -1., -1., -1., -1., -1.],\n",
       "       [-1., -1., -1., -1., -1., -1., -1., -1., -1., -1.],\n",
       "       [-1., -1., -1., -1., -1., -1., -1., -1., -1., -1.],\n",
       "       [ 1., -1., -1., -1., -1., -1., -1., -1., -1., -1.],\n",
       "       [-1., -1., -1., -1., -1., -1., -1., -1., -1., -1.],\n",
       "       [-1., -1., -1., -1., -1., -1., -1., -1., -1., -1.],\n",
       "       [-1., -1., -1., -1., -1., -1., -1., -1., -1., -1.]])"
      ]
     },
     "execution_count": 13,
     "metadata": {},
     "output_type": "execute_result"
    }
   ],
   "source": [
    "# Check that the function runs with no issues, without side effects but on Z\n",
    "\n",
    "Z_sample, E_sample, C_sample = MC_sample_Z(Z_copy, W_copy, Theta_copy, B_copy, E_copy, C_copy, debug=True)\n",
    "\n",
    "assert np.any(Z_copy != random_initial_data.Z)\n",
    "assert np.all(W_copy == test_data.W)\n",
    "assert np.all(Theta_copy == test_data.Theta)\n",
    "assert np.all(B_copy == test_data.B)\n",
    "\n",
    "Z_sample[0]"
   ]
  },
  {
   "cell_type": "code",
   "execution_count": 14,
   "id": "39539b2b",
   "metadata": {},
   "outputs": [
    {
     "data": {
      "text/plain": [
       "<matplotlib.image.AxesImage at 0x19aafca9640>"
      ]
     },
     "execution_count": 14,
     "metadata": {},
     "output_type": "execute_result"
    },
    {
     "data": {
      "image/png": "[encoded data removed]",
      "text/plain": [
       "<Figure size 288x345.6 with 1 Axes>"
      ]
     },
     "metadata": {
      "needs_background": "light"
     },
     "output_type": "display_data"
    }
   ],
   "source": [
    "plt.matshow(Z_sample[0], cmap='Blues')"
   ]
  },
  {
   "cell_type": "markdown",
   "id": "111d4bbe",
   "metadata": {},
   "source": [
    "### Binder loss tests"
   ]
  },
  {
   "cell_type": "code",
   "execution_count": 15,
   "id": "af8c1253",
   "metadata": {},
   "outputs": [
    {
     "name": "stdout",
     "output_type": "stream",
     "text": [
      "Error: 219409\n",
      "Max error: 921600\n",
      "Error %: 23.80740017361111\n",
      "Wall time: 25 ms\n"
     ]
    },
    {
     "data": {
      "text/plain": [
       "0.23807400173611112"
      ]
     },
     "execution_count": 15,
     "metadata": {},
     "output_type": "execute_result"
    }
   ],
   "source": [
    "%%time\n",
    "# Testing\n",
    "binder_loss(Z_sample, test_data.Z, debug=True)  # Note that all possible pairs are 460320"
   ]
  },
  {
   "cell_type": "code",
   "execution_count": 16,
   "id": "2a40fbf1",
   "metadata": {},
   "outputs": [
    {
     "name": "stdout",
     "output_type": "stream",
     "text": [
      "Error: 0\n",
      "Max error: 921600\n",
      "Error %: 0.0\n",
      "Wall time: 31 ms\n"
     ]
    },
    {
     "data": {
      "text/plain": [
       "0.0"
      ]
     },
     "execution_count": 16,
     "metadata": {},
     "output_type": "execute_result"
    }
   ],
   "source": [
    "%%time\n",
    "# This MUST return zero\n",
    "binder_loss(Z_sample, Z_sample, debug=True)"
   ]
  },
  {
   "cell_type": "code",
   "execution_count": 17,
   "id": "ef3a8a57",
   "metadata": {},
   "outputs": [
    {
     "name": "stdout",
     "output_type": "stream",
     "text": [
      "Error: 0\n",
      "Max error: 921600\n",
      "Error %: 0.0\n",
      "Wall time: 25 ms\n"
     ]
    },
    {
     "data": {
      "text/plain": [
       "0.0"
      ]
     },
     "execution_count": 17,
     "metadata": {},
     "output_type": "execute_result"
    }
   ],
   "source": [
    "# Shifting indexes\n",
    "Z_sample_shifted = Z_sample.copy()\n",
    "for i in range(k):\n",
    "    replace_value = (i + 1) % k \n",
    "    Z_sample_shifted[Z_sample == i] = replace_value\n",
    "\n",
    "# This MUST return zero\n",
    "%time binder_loss(Z_sample, Z_sample_shifted, debug=True)"
   ]
  },
  {
   "cell_type": "code",
   "execution_count": 18,
   "id": "e323fd97",
   "metadata": {},
   "outputs": [
    {
     "data": {
      "text/plain": [
       "0.23958333333333334"
      ]
     },
     "execution_count": 18,
     "metadata": {},
     "output_type": "execute_result"
    }
   ],
   "source": [
    "binder_loss(Z_sample[1], test_data.Z[1])"
   ]
  },
  {
   "cell_type": "markdown",
   "id": "df4a81c4",
   "metadata": {},
   "source": [
    "### MC_sample_Z cycle test"
   ]
  },
  {
   "cell_type": "code",
   "execution_count": 19,
   "id": "e428a3d0",
   "metadata": {},
   "outputs": [
    {
     "name": "stdout",
     "output_type": "stream",
     "text": [
      "The sampled Z has 960 words, while the target Z has 960 words (diff 0)\n",
      "Wall time: 3min 41s\n"
     ]
    }
   ],
   "source": [
    "%%time\n",
    "\n",
    "# Check that the Sampler works properly (This will take a while)\n",
    "\n",
    "errors = []\n",
    "E_errors = []\n",
    "C_errors = []\n",
    "matrix_changes = []\n",
    "burn_in = 1000\n",
    "print(f'The sampled Z has {Z_sample.size} words, while the target Z has {test_data.Z.size} words (diff {abs(Z_sample.size-test_data.Z.size)})')\n",
    "for i in range(5000):\n",
    "    Z_sample_old = Z_sample.copy()\n",
    "    E_sample_old = E_sample.copy()\n",
    "    C_sample_old = C_sample.copy()\n",
    "    Z_sample, E_sample, C_sample = MC_sample_Z(Z_sample, W_copy, Theta_copy, B_copy, E_sample, C_sample)\n",
    "    matrix_changes.append(~np.all(Z_sample_old == Z_sample))\n",
    "    if i >= burn_in:\n",
    "        errors.append(binder_loss(Z_sample, test_data.Z))  # Computing error wrt the target distribution\n",
    "        E_errors.append(np.linalg.norm(E_sample - test_data.E))        \n",
    "        C_errors.append(np.linalg.norm(C_sample - test_data.C))"
   ]
  },
  {
   "cell_type": "code",
   "execution_count": 20,
   "id": "709df4b4",
   "metadata": {},
   "outputs": [
    {
     "name": "stdout",
     "output_type": "stream",
     "text": [
      "Matrix changes (1 = changed, 0 = same)\n",
      "count    5000.0\n",
      "mean        1.0\n",
      "std         0.0\n",
      "min         1.0\n",
      "25%         1.0\n",
      "50%         1.0\n",
      "75%         1.0\n",
      "max         1.0\n",
      "dtype: float64\n"
     ]
    },
    {
     "data": {
      "text/plain": [
       "<AxesSubplot:>"
      ]
     },
     "execution_count": 20,
     "metadata": {},
     "output_type": "execute_result"
    },
    {
     "data": {
      "image/png": "[encoded data removed]",
      "text/plain": [
       "<Figure size 432x288 with 1 Axes>"
      ]
     },
     "metadata": {
      "needs_background": "light"
     },
     "output_type": "display_data"
    }
   ],
   "source": [
    "# Matrix should change\n",
    "\n",
    "matrix_changes = pd.Series(matrix_changes).astype(int)\n",
    "print(\"Matrix changes (1 = changed, 0 = same)\")\n",
    "print(matrix_changes.describe())\n",
    "matrix_changes.hist()"
   ]
  },
  {
   "cell_type": "code",
   "execution_count": 21,
   "id": "7059c551",
   "metadata": {},
   "outputs": [
    {
     "name": "stdout",
     "output_type": "stream",
     "text": [
      "Error metrics\n",
      "count    4000.000000\n",
      "mean        0.238075\n",
      "std         0.000116\n",
      "min         0.237696\n",
      "25%         0.237998\n",
      "50%         0.238057\n",
      "75%         0.238133\n",
      "max         0.238814\n",
      "dtype: float64\n"
     ]
    },
    {
     "data": {
      "text/plain": [
       "<AxesSubplot:>"
      ]
     },
     "execution_count": 21,
     "metadata": {},
     "output_type": "execute_result"
    },
    {
     "data": {
      "image/png": "[encoded data removed]",
      "text/plain": [
       "<Figure size 432x288 with 1 Axes>"
      ]
     },
     "metadata": {
      "needs_background": "light"
     },
     "output_type": "display_data"
    }
   ],
   "source": [
    "# Error will always be positive and integer, but is it skewed to the left? -> IT IS\n",
    "errors = pd.Series(errors)\n",
    "print(\"Error metrics\")\n",
    "print(errors.describe())\n",
    "errors.hist()"
   ]
  },
  {
   "cell_type": "code",
   "execution_count": 22,
   "id": "2d996c1f",
   "metadata": {},
   "outputs": [
    {
     "data": {
      "text/plain": [
       "<AxesSubplot:>"
      ]
     },
     "execution_count": 22,
     "metadata": {},
     "output_type": "execute_result"
    },
    {
     "data": {
      "image/png": "[encoded data removed]",
      "text/plain": [
       "<Figure size 432x288 with 1 Axes>"
      ]
     },
     "metadata": {
      "needs_background": "light"
     },
     "output_type": "display_data"
    }
   ],
   "source": [
    "errors.plot()  # See if we still have a caterpillar"
   ]
  },
  {
   "cell_type": "code",
   "execution_count": 23,
   "id": "8581673e",
   "metadata": {},
   "outputs": [
    {
     "name": "stdout",
     "output_type": "stream",
     "text": [
      "E error metrics\n",
      "count    4000.000000\n",
      "mean       88.436660\n",
      "std         2.057247\n",
      "min        80.703160\n",
      "25%        87.080423\n",
      "50%        88.459030\n",
      "75%        89.794209\n",
      "max        95.994792\n",
      "dtype: float64\n"
     ]
    },
    {
     "data": {
      "text/plain": [
       "Text(0.5, 1.0, 'E L2-error distribution')"
      ]
     },
     "execution_count": 23,
     "metadata": {},
     "output_type": "execute_result"
    },
    {
     "data": {
      "image/png": "[encoded data removed]",
      "text/plain": [
       "<Figure size 432x288 with 1 Axes>"
      ]
     },
     "metadata": {
      "needs_background": "light"
     },
     "output_type": "display_data"
    }
   ],
   "source": [
    "# Error should be distributed close to 0 (I guess...)\n",
    "# BUG https://trello.com/c/JE1T7Hur/31-mcsamplez-z-is-not-close-to-the-expected-target\n",
    "\n",
    "E_errors = pd.Series(E_errors)\n",
    "print(\"E error metrics\")\n",
    "print(E_errors.describe())\n",
    "E_errors.hist(bins=30)\n",
    "plt.title('E L2-error distribution')"
   ]
  },
  {
   "cell_type": "code",
   "execution_count": 24,
   "id": "fe01ce2c",
   "metadata": {},
   "outputs": [
    {
     "data": {
      "text/plain": [
       "Text(0.5, 1.0, 'E L2-error series')"
      ]
     },
     "execution_count": 24,
     "metadata": {},
     "output_type": "execute_result"
    },
    {
     "data": {
      "image/png": "[encoded data removed]",
      "text/plain": [
       "<Figure size 432x288 with 1 Axes>"
      ]
     },
     "metadata": {
      "needs_background": "light"
     },
     "output_type": "display_data"
    }
   ],
   "source": [
    "E_errors.plot()\n",
    "plt.title('E L2-error series')"
   ]
  },
  {
   "cell_type": "code",
   "execution_count": 25,
   "id": "decc816e",
   "metadata": {},
   "outputs": [
    {
     "name": "stdout",
     "output_type": "stream",
     "text": [
      "C error metrics\n",
      "count    4000.000000\n",
      "mean       53.894494\n",
      "std         1.713100\n",
      "min        48.280431\n",
      "25%        52.754147\n",
      "50%        53.879495\n",
      "75%        55.072679\n",
      "max        60.885138\n",
      "dtype: float64\n"
     ]
    },
    {
     "data": {
      "text/plain": [
       "Text(0.5, 1.0, 'C L2-error distribution')"
      ]
     },
     "execution_count": 25,
     "metadata": {},
     "output_type": "execute_result"
    },
    {
     "data": {
      "image/png": "[encoded data removed]",
      "text/plain": [
       "<Figure size 432x288 with 1 Axes>"
      ]
     },
     "metadata": {
      "needs_background": "light"
     },
     "output_type": "display_data"
    }
   ],
   "source": [
    "# Error should be distributed close to 0 (I guess...)\n",
    "# BUG https://trello.com/c/JE1T7Hur/31-mcsamplez-z-is-not-close-to-the-expected-target\n",
    "C_errors = pd.Series(C_errors)\n",
    "print(\"C error metrics\")\n",
    "print(C_errors.describe())\n",
    "C_errors.hist(bins=30)\n",
    "plt.title('C L2-error distribution')"
   ]
  },
  {
   "cell_type": "code",
   "execution_count": 26,
   "id": "82c634d3",
   "metadata": {},
   "outputs": [
    {
     "data": {
      "text/plain": [
       "Text(0.5, 1.0, 'C L2-error series')"
      ]
     },
     "execution_count": 26,
     "metadata": {},
     "output_type": "execute_result"
    },
    {
     "data": {
      "image/png": "[encoded data removed]",
      "text/plain": [
       "<Figure size 432x288 with 1 Axes>"
      ]
     },
     "metadata": {
      "needs_background": "light"
     },
     "output_type": "display_data"
    }
   ],
   "source": [
    "C_errors.plot()\n",
    "plt.title('C L2-error series')"
   ]
  },
  {
   "cell_type": "code",
   "execution_count": null,
   "id": "fe2ce870",
   "metadata": {},
   "outputs": [],
   "source": []
  },
  {
   "cell_type": "code",
   "execution_count": null,
   "id": "9c2e0a46-0556-4f89-ab3b-fbd48dae5394",
   "metadata": {},
   "outputs": [],
   "source": []
  },
  {
   "cell_type": "code",
   "execution_count": null,
   "id": "e7be2a82-5b79-48ef-b926-de011d7696e9",
   "metadata": {},
   "outputs": [],
   "source": []
  }
 ],
 "metadata": {
  "interpreter": {
   "hash": "a803b5bf187bf95155bcb05f6102b06519856e9ee60d4a9ebc29561a74488513"
  },
  "kernelspec": {
   "display_name": "Python 3",
   "language": "python",
   "name": "python3"
  },
  "language_info": {
   "codemirror_mode": {
    "name": "ipython",
    "version": 3
   },
   "file_extension": ".py",
   "mimetype": "text/x-python",
   "name": "python",
   "nbconvert_exporter": "python",
   "pygments_lexer": "ipython3",
   "version": "3.8.8"
  }
 },
 "nbformat": 4,
 "nbformat_minor": 5
}
