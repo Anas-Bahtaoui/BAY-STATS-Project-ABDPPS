{
 "cells": [
  {
   "cell_type": "code",
   "execution_count": null,
   "id": "abf69761",
   "metadata": {},
   "outputs": [],
   "source": [
    "# GLOBAL VARIABLES. BE SURE NOT TO OVERWRITE THEM\n",
    "D = 8 # Amount of documents\n",
    "V = 12 # Size of the vocabulary\n",
    "\n",
    "# (Approximate) Maximum allowed amount of same word repetition in a document (it may be lower in practise due to the data generation strategy)\n",
    "# To get the actual maximum amount, call Simulator.get_M\n",
    "M = 10 \n",
    "\n",
    "\n",
    "k = 5 # Amount of topics\n",
    "gamma = 0.2  #"
   ]
  },
  {
   "cell_type": "code",
   "execution_count": null,
   "id": "b8aa0161",
   "metadata": {},
   "outputs": [],
   "source": [
    "# GLOBAL VARIABLES. BE SURE NOT TO OVERWRITE THEM\n",
    "#D = 100 # Amount of documents\n",
    "#V = 18 # Size of the vocabulary\n",
    "\n",
    "# (Approximate) Maximum allowed amount of same word repetition in a document (it may be lower in practise due to the data generation strategy)\n",
    "# To get the actual maximum amount, call Simulator.get_M\n",
    "#M = 5 \n",
    "\n",
    "#k = 6 # Amount of topics\n",
    "#gamma = 0.2\n",
    "\n",
    "# FA: Since we're testing so much, lets agree on using just 1 small set of global variables for now"
   ]
  },
  {
   "cell_type": "code",
   "execution_count": 3,
   "id": "a52d51ae",
   "metadata": {},
   "outputs": [],
   "source": [
    "from matplotlib import pyplot as plt\n",
    "import numpy as np\n",
    "import pandas as pd"
   ]
  },
  {
   "cell_type": "markdown",
   "id": "21725aec",
   "metadata": {},
   "source": [
    "From now on let's use the following simulated data for further testing"
   ]
  },
  {
   "cell_type": "code",
   "execution_count": 4,
   "id": "6f9d70e3",
   "metadata": {},
   "outputs": [],
   "source": [
    "from simulator import Simulator"
   ]
  },
  {
   "cell_type": "code",
   "execution_count": 5,
   "id": "3b38d093",
   "metadata": {},
   "outputs": [
    {
     "name": "stdout",
     "output_type": "stream",
     "text": [
      "Success: Sigma transformed from K\n",
      "Success: G transformed from K\n",
      "Success: W and Z generated\n",
      "Success: E transformed from Z\n",
      "Success: C transformed from Z\n",
      "Success: Sigma transformed from K\n",
      "Success: G transformed from K\n",
      "Success: W and Z generated\n",
      "Success: E transformed from Z\n",
      "Success: C transformed from Z\n"
     ]
    }
   ],
   "source": [
    "test_data = Simulator(D, V, M, k, gamma, seed=1967)  # Man on the moon\n",
    "test_data.generate_all_data()\n",
    "\n",
    "random_initial_data = Simulator(D, V, M, k, gamma, seed=1969)  # Woodstock Music Festival\n",
    "random_initial_data.generate_all_data()"
   ]
  },
  {
   "cell_type": "code",
   "execution_count": 6,
   "id": "07d669e1",
   "metadata": {},
   "outputs": [
    {
     "data": {
      "text/plain": [
       "<matplotlib.image.AxesImage at 0x7f8b3c801e80>"
      ]
     },
     "execution_count": 6,
     "metadata": {},
     "output_type": "execute_result"
    },
    {
     "data": {
      "image/png": "[encoded data removed]",
      "text/plain": [
       "<Figure size 288x288 with 1 Axes>"
      ]
     },
     "metadata": {
      "needs_background": "light"
     },
     "output_type": "display_data"
    },
    {
     "data": {
      "image/png": "[encoded data removed]",
      "text/plain": [
       "<Figure size 288x288 with 1 Axes>"
      ]
     },
     "metadata": {
      "needs_background": "light"
     },
     "output_type": "display_data"
    }
   ],
   "source": [
    "plt.matshow(test_data.G, cmap='Blues')\n",
    "plt.matshow(random_initial_data.G, cmap='Blues')"
   ]
  },
  {
   "cell_type": "markdown",
   "id": "7d36919a",
   "metadata": {},
   "source": [
    "# 2. MC SAMPLER"
   ]
  },
  {
   "cell_type": "markdown",
   "id": "aba22c38",
   "metadata": {},
   "source": [
    "## 2.1.1 Sampling Z (MCMC Sampler)"
   ]
  },
  {
   "cell_type": "markdown",
   "id": "d92a3792",
   "metadata": {},
   "source": [
    "### Task:\n",
    "\n",
    "You must implement a function that receives matrices $W$, $\\Theta_{i+1}$ and $B_i$ and generates the next $Z_{i+1}$ and $B_{i+1}$."
   ]
  },
  {
   "cell_type": "code",
   "execution_count": 7,
   "id": "7187c669",
   "metadata": {},
   "outputs": [],
   "source": [
    "from samplers import MC_sample_Z\n",
    "from binder_loss import binder_loss"
   ]
  },
  {
   "cell_type": "markdown",
   "id": "af084a8a",
   "metadata": {},
   "source": [
    "## 2.1.2 Z Sampling Tests"
   ]
  },
  {
   "cell_type": "markdown",
   "id": "bae8c494",
   "metadata": {},
   "source": [
    "### MC_sample_Z tests"
   ]
  },
  {
   "cell_type": "code",
   "execution_count": 8,
   "id": "142a62ee",
   "metadata": {},
   "outputs": [
    {
     "data": {
      "text/plain": [
       "array([[-1., -1., -1., -1., -1., -1., -1., -1., -1., -1.],\n",
       "       [ 2., -1., -1., -1., -1., -1., -1., -1., -1., -1.],\n",
       "       [-1., -1., -1., -1., -1., -1., -1., -1., -1., -1.],\n",
       "       [-1., -1., -1., -1., -1., -1., -1., -1., -1., -1.],\n",
       "       [-1., -1., -1., -1., -1., -1., -1., -1., -1., -1.],\n",
       "       [-1., -1., -1., -1., -1., -1., -1., -1., -1., -1.],\n",
       "       [-1., -1., -1., -1., -1., -1., -1., -1., -1., -1.],\n",
       "       [ 4., -1., -1., -1., -1., -1., -1., -1., -1., -1.],\n",
       "       [-1., -1., -1., -1., -1., -1., -1., -1., -1., -1.],\n",
       "       [-1., -1., -1., -1., -1., -1., -1., -1., -1., -1.],\n",
       "       [-1., -1., -1., -1., -1., -1., -1., -1., -1., -1.],\n",
       "       [-1., -1., -1., -1., -1., -1., -1., -1., -1., -1.]])"
      ]
     },
     "execution_count": 8,
     "metadata": {},
     "output_type": "execute_result"
    }
   ],
   "source": [
    "Z_copy = random_initial_data.Z.copy()\n",
    "\n",
    "W_copy = test_data.W.copy()\n",
    "Theta_copy = test_data.Theta.copy()\n",
    "B_copy = test_data.B.copy()\n",
    "E_copy = test_data.E.copy()\n",
    "C_copy = test_data.C.copy()\n",
    "\n",
    "Z_copy[0]  # Example"
   ]
  },
  {
   "cell_type": "code",
   "execution_count": 9,
   "id": "8f5d9422",
   "metadata": {},
   "outputs": [
    {
     "data": {
      "text/plain": [
       "<matplotlib.image.AxesImage at 0x7f8b3c83d040>"
      ]
     },
     "execution_count": 9,
     "metadata": {},
     "output_type": "execute_result"
    },
    {
     "data": {
      "image/png": "[encoded data removed]",
      "text/plain": [
       "<Figure size 288x345.6 with 1 Axes>"
      ]
     },
     "metadata": {
      "needs_background": "light"
     },
     "output_type": "display_data"
    }
   ],
   "source": [
    "plt.matshow(Z_copy[0], cmap='Blues')"
   ]
  },
  {
   "cell_type": "code",
   "execution_count": 10,
   "id": "b690c883",
   "metadata": {},
   "outputs": [
    {
     "data": {
      "text/plain": [
       "array([[-1., -1., -1., -1., -1., -1., -1., -1., -1., -1.],\n",
       "       [ 4., -1., -1., -1., -1., -1., -1., -1., -1., -1.],\n",
       "       [-1., -1., -1., -1., -1., -1., -1., -1., -1., -1.],\n",
       "       [-1., -1., -1., -1., -1., -1., -1., -1., -1., -1.],\n",
       "       [-1., -1., -1., -1., -1., -1., -1., -1., -1., -1.],\n",
       "       [-1., -1., -1., -1., -1., -1., -1., -1., -1., -1.],\n",
       "       [-1., -1., -1., -1., -1., -1., -1., -1., -1., -1.],\n",
       "       [ 0., -1., -1., -1., -1., -1., -1., -1., -1., -1.],\n",
       "       [-1., -1., -1., -1., -1., -1., -1., -1., -1., -1.],\n",
       "       [-1., -1., -1., -1., -1., -1., -1., -1., -1., -1.],\n",
       "       [-1., -1., -1., -1., -1., -1., -1., -1., -1., -1.],\n",
       "       [-1., -1., -1., -1., -1., -1., -1., -1., -1., -1.]])"
      ]
     },
     "execution_count": 10,
     "metadata": {},
     "output_type": "execute_result"
    }
   ],
   "source": [
    "# Check that the function runs with no issues, without side effects but on Z\n",
    "\n",
    "Z_sample, E_sample, C_sample = MC_sample_Z(Z_copy, W_copy, Theta_copy, B_copy, E_copy, C_copy, debug=True)\n",
    "\n",
    "assert np.any(Z_copy != random_initial_data.Z)\n",
    "assert np.all(W_copy == test_data.W)\n",
    "assert np.all(Theta_copy == test_data.Theta)\n",
    "assert np.all(B_copy == test_data.B)\n",
    "\n",
    "Z_sample[0]"
   ]
  },
  {
   "cell_type": "code",
   "execution_count": 11,
   "id": "9107b527",
   "metadata": {},
   "outputs": [
    {
     "data": {
      "text/plain": [
       "<matplotlib.image.AxesImage at 0x7f8b3c6add60>"
      ]
     },
     "execution_count": 11,
     "metadata": {},
     "output_type": "execute_result"
    },
    {
     "data": {
      "image/png": "[encoded data removed]",
      "text/plain": [
       "<Figure size 288x345.6 with 1 Axes>"
      ]
     },
     "metadata": {
      "needs_background": "light"
     },
     "output_type": "display_data"
    }
   ],
   "source": [
    "plt.matshow(Z_sample[0], cmap='Blues')"
   ]
  },
  {
   "cell_type": "markdown",
   "id": "d4066512",
   "metadata": {},
   "source": [
    "### Binder loss tests"
   ]
  },
  {
   "cell_type": "code",
   "execution_count": 12,
   "id": "a1dc9d4e",
   "metadata": {},
   "outputs": [
    {
     "name": "stdout",
     "output_type": "stream",
     "text": [
      "Error: 198798\n",
      "Max error: 921600\n",
      "Error %: 21.570963541666668\n",
      "CPU times: user 5.29 ms, sys: 93 µs, total: 5.38 ms\n",
      "Wall time: 4.08 ms\n"
     ]
    },
    {
     "data": {
      "text/plain": [
       "0.21570963541666666"
      ]
     },
     "execution_count": 12,
     "metadata": {},
     "output_type": "execute_result"
    }
   ],
   "source": [
    "%%time\n",
    "# Testing\n",
    "binder_loss(Z_sample, test_data.Z, debug=True)  # Note that all possible pairs are 460320"
   ]
  },
  {
   "cell_type": "code",
   "execution_count": 13,
   "id": "0b7b5e25",
   "metadata": {},
   "outputs": [
    {
     "name": "stdout",
     "output_type": "stream",
     "text": [
      "Error: 0\n",
      "Max error: 921600\n",
      "Error %: 0.0\n",
      "CPU times: user 5.32 ms, sys: 98 µs, total: 5.42 ms\n",
      "Wall time: 4.24 ms\n"
     ]
    },
    {
     "data": {
      "text/plain": [
       "0.0"
      ]
     },
     "execution_count": 13,
     "metadata": {},
     "output_type": "execute_result"
    }
   ],
   "source": [
    "%%time\n",
    "# This MUST return zero\n",
    "binder_loss(Z_sample, Z_sample, debug=True)"
   ]
  },
  {
   "cell_type": "code",
   "execution_count": 14,
   "id": "81815c06",
   "metadata": {},
   "outputs": [
    {
     "name": "stdout",
     "output_type": "stream",
     "text": [
      "Error: 0\n",
      "Max error: 921600\n",
      "Error %: 0.0\n",
      "CPU times: user 5.51 ms, sys: 0 ns, total: 5.51 ms\n",
      "Wall time: 4.31 ms\n"
     ]
    },
    {
     "data": {
      "text/plain": [
       "0.0"
      ]
     },
     "execution_count": 14,
     "metadata": {},
     "output_type": "execute_result"
    }
   ],
   "source": [
    "# Shifting indexes\n",
    "Z_sample_shifted = Z_sample.copy()\n",
    "for i in range(k):\n",
    "    replace_value = (i + 1) % k \n",
    "    Z_sample_shifted[Z_sample == i] = replace_value\n",
    "\n",
    "# This MUST return zero\n",
    "%time binder_loss(Z_sample, Z_sample_shifted, debug=True)"
   ]
  },
  {
   "cell_type": "code",
   "execution_count": 15,
   "id": "bc1f1e82",
   "metadata": {},
   "outputs": [
    {
     "data": {
      "text/plain": [
       "0.22236111111111112"
      ]
     },
     "execution_count": 15,
     "metadata": {},
     "output_type": "execute_result"
    }
   ],
   "source": [
    "binder_loss(Z_sample[1], test_data.Z[1])"
   ]
  },
  {
   "cell_type": "markdown",
   "id": "783a3a2c",
   "metadata": {},
   "source": [
    "### MC_sample_Z cycle test"
   ]
  },
  {
   "cell_type": "code",
   "execution_count": 16,
   "id": "7594e47c",
   "metadata": {},
   "outputs": [
    {
     "name": "stdout",
     "output_type": "stream",
     "text": [
      "The sampled Z has 960 words, while the target Z has 960 words (diff 0)\n",
      "CPU times: user 1min 38s, sys: 2.83 s, total: 1min 40s\n",
      "Wall time: 1min 41s\n"
     ]
    }
   ],
   "source": [
    "%%time\n",
    "\n",
    "# Check that the Sampler works properly (This will take a while)\n",
    "\n",
    "errors = []\n",
    "E_errors = []\n",
    "C_errors = []\n",
    "matrix_changes = []\n",
    "burn_in = 1000\n",
    "print(f'The sampled Z has {Z_sample.size} words, while the target Z has {test_data.Z.size} words (diff {abs(Z_sample.size-test_data.Z.size)})')\n",
    "for i in range(5000):\n",
    "    Z_sample_old = Z_sample.copy()\n",
    "    E_sample_old = E_sample.copy()\n",
    "    C_sample_old = C_sample.copy()\n",
    "    Z_sample, E_sample, C_sample = MC_sample_Z(Z_sample, W_copy, Theta_copy, B_copy, E_sample, C_sample)\n",
    "    matrix_changes.append(~np.all(Z_sample_old == Z_sample))\n",
    "    if i >= burn_in:\n",
    "        errors.append(binder_loss(Z_sample, test_data.Z))  # Computing error wrt the target distribution\n",
    "        E_errors.append(np.linalg.norm(E_sample - test_data.E))        \n",
    "        C_errors.append(np.linalg.norm(C_sample - test_data.C))"
   ]
  },
  {
   "cell_type": "code",
   "execution_count": 17,
   "id": "1c127969",
   "metadata": {},
   "outputs": [
    {
     "name": "stdout",
     "output_type": "stream",
     "text": [
      "Matrix changes (1 = changed, 0 = same)\n",
      "count    5000.0\n",
      "mean        1.0\n",
      "std         0.0\n",
      "min         1.0\n",
      "25%         1.0\n",
      "50%         1.0\n",
      "75%         1.0\n",
      "max         1.0\n",
      "dtype: float64\n"
     ]
    },
    {
     "data": {
      "text/plain": [
       "<AxesSubplot:>"
      ]
     },
     "execution_count": 17,
     "metadata": {},
     "output_type": "execute_result"
    },
    {
     "data": {
      "image/png": "[encoded data removed]",
      "text/plain": [
       "<Figure size 432x288 with 1 Axes>"
      ]
     },
     "metadata": {
      "needs_background": "light"
     },
     "output_type": "display_data"
    }
   ],
   "source": [
    "# Matrix should change\n",
    "\n",
    "matrix_changes = pd.Series(matrix_changes).astype(int)\n",
    "print(\"Matrix changes (1 = changed, 0 = same)\")\n",
    "print(matrix_changes.describe())\n",
    "matrix_changes.hist()"
   ]
  },
  {
   "cell_type": "code",
   "execution_count": 18,
   "id": "84b57070",
   "metadata": {},
   "outputs": [
    {
     "name": "stdout",
     "output_type": "stream",
     "text": [
      "Error metrics\n",
      "count    4000.000000\n",
      "mean        0.215643\n",
      "std         0.000264\n",
      "min         0.214759\n",
      "25%         0.215464\n",
      "50%         0.215640\n",
      "75%         0.215821\n",
      "max         0.216752\n",
      "dtype: float64\n"
     ]
    },
    {
     "data": {
      "text/plain": [
       "<AxesSubplot:>"
      ]
     },
     "execution_count": 18,
     "metadata": {},
     "output_type": "execute_result"
    },
    {
     "data": {
      "image/png": "[encoded data removed]",
      "text/plain": [
       "<Figure size 432x288 with 1 Axes>"
      ]
     },
     "metadata": {
      "needs_background": "light"
     },
     "output_type": "display_data"
    }
   ],
   "source": [
    "# Error will always be positive and integer, but is it skewed to the left? -> IT IS\n",
    "errors = pd.Series(errors)\n",
    "print(\"Error metrics\")\n",
    "print(errors.describe())\n",
    "errors.hist()"
   ]
  },
  {
   "cell_type": "code",
   "execution_count": 19,
   "id": "751f96fa",
   "metadata": {},
   "outputs": [
    {
     "data": {
      "text/plain": [
       "<AxesSubplot:>"
      ]
     },
     "execution_count": 19,
     "metadata": {},
     "output_type": "execute_result"
    },
    {
     "data": {
      "image/png": "[encoded data removed]",
      "text/plain": [
       "<Figure size 432x288 with 1 Axes>"
      ]
     },
     "metadata": {
      "needs_background": "light"
     },
     "output_type": "display_data"
    }
   ],
   "source": [
    "errors.plot()  # See if we still have a caterpillar"
   ]
  },
  {
   "cell_type": "code",
   "execution_count": 20,
   "id": "93bc0e2c",
   "metadata": {},
   "outputs": [
    {
     "name": "stdout",
     "output_type": "stream",
     "text": [
      "E error metrics\n",
      "count    4000.000000\n",
      "mean       56.815888\n",
      "std         2.923782\n",
      "min        44.988888\n",
      "25%        54.845237\n",
      "50%        56.885851\n",
      "75%        58.826014\n",
      "max        66.798204\n",
      "dtype: float64\n"
     ]
    },
    {
     "data": {
      "text/plain": [
       "Text(0.5, 1.0, 'E L2-error distribution')"
      ]
     },
     "execution_count": 20,
     "metadata": {},
     "output_type": "execute_result"
    },
    {
     "data": {
      "image/png": "[encoded data removed]",
      "text/plain": [
       "<Figure size 432x288 with 1 Axes>"
      ]
     },
     "metadata": {
      "needs_background": "light"
     },
     "output_type": "display_data"
    }
   ],
   "source": [
    "# Error should be distributed close to 0 (I guess...)\n",
    "# BUG https://trello.com/c/JE1T7Hur/31-mcsamplez-z-is-not-close-to-the-expected-target\n",
    "\n",
    "E_errors = pd.Series(E_errors)\n",
    "print(\"E error metrics\")\n",
    "print(E_errors.describe())\n",
    "E_errors.hist(bins=30)\n",
    "plt.title('E L2-error distribution')"
   ]
  },
  {
   "cell_type": "code",
   "execution_count": 21,
   "id": "92557a54",
   "metadata": {},
   "outputs": [
    {
     "data": {
      "text/plain": [
       "Text(0.5, 1.0, 'E L2-error series')"
      ]
     },
     "execution_count": 21,
     "metadata": {},
     "output_type": "execute_result"
    },
    {
     "data": {
      "image/png": "[encoded data removed]",
      "text/plain": [
       "<Figure size 432x288 with 1 Axes>"
      ]
     },
     "metadata": {
      "needs_background": "light"
     },
     "output_type": "display_data"
    }
   ],
   "source": [
    "E_errors.plot()\n",
    "plt.title('E L2-error series')"
   ]
  },
  {
   "cell_type": "code",
   "execution_count": 22,
   "id": "98400b7f",
   "metadata": {},
   "outputs": [
    {
     "name": "stdout",
     "output_type": "stream",
     "text": [
      "C error metrics\n",
      "count    4000.000000\n",
      "mean       38.959242\n",
      "std         1.506995\n",
      "min        32.756679\n",
      "25%        37.986840\n",
      "50%        38.948684\n",
      "75%        39.962482\n",
      "max        44.260592\n",
      "dtype: float64\n"
     ]
    },
    {
     "data": {
      "text/plain": [
       "Text(0.5, 1.0, 'C L2-error distribution')"
      ]
     },
     "execution_count": 22,
     "metadata": {},
     "output_type": "execute_result"
    },
    {
     "data": {
      "image/png": "[encoded data removed]",
      "text/plain": [
       "<Figure size 432x288 with 1 Axes>"
      ]
     },
     "metadata": {
      "needs_background": "light"
     },
     "output_type": "display_data"
    }
   ],
   "source": [
    "# Error should be distributed close to 0 (I guess...)\n",
    "# BUG https://trello.com/c/JE1T7Hur/31-mcsamplez-z-is-not-close-to-the-expected-target\n",
    "C_errors = pd.Series(C_errors)\n",
    "print(\"C error metrics\")\n",
    "print(C_errors.describe())\n",
    "C_errors.hist(bins=30)\n",
    "plt.title('C L2-error distribution')"
   ]
  },
  {
   "cell_type": "code",
   "execution_count": 23,
   "id": "cbee608b",
   "metadata": {},
   "outputs": [
    {
     "data": {
      "text/plain": [
       "Text(0.5, 1.0, 'C L2-error series')"
      ]
     },
     "execution_count": 23,
     "metadata": {},
     "output_type": "execute_result"
    },
    {
     "data": {
      "image/png": "[encoded data removed]",
      "text/plain": [
       "<Figure size 432x288 with 1 Axes>"
      ]
     },
     "metadata": {
      "needs_background": "light"
     },
     "output_type": "display_data"
    }
   ],
   "source": [
    "C_errors.plot()\n",
    "plt.title('C L2-error series')"
   ]
  },
  {
   "cell_type": "code",
   "execution_count": null,
   "id": "fa67f250",
   "metadata": {},
   "outputs": [],
   "source": []
  }
 ],
 "metadata": {
  "interpreter": {
   "hash": "a803b5bf187bf95155bcb05f6102b06519856e9ee60d4a9ebc29561a74488513"
  },
  "kernelspec": {
   "display_name": "Python 3.8 (d2)",
   "language": "python",
   "name": "d2"
  },
  "language_info": {
   "codemirror_mode": {
    "name": "ipython",
    "version": 3
   },
   "file_extension": ".py",
   "mimetype": "text/x-python",
   "name": "python",
   "nbconvert_exporter": "python",
   "pygments_lexer": "ipython3",
   "version": "3.8.12"
  }
 },
 "nbformat": 4,
 "nbformat_minor": 5
}
