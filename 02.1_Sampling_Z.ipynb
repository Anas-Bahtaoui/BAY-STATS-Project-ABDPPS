{
 "cells": [
  {
   "cell_type": "code",
   "execution_count": 1,
   "id": "ed2629ed",
   "metadata": {},
   "outputs": [],
   "source": [
    "# GLOBAL VARIABLES. BE SURE NOT TO OVERWRITE THEM\n",
    "D = 8 # Amount of documents\n",
    "V = 12 # Size of the vocabulary\n",
    "\n",
    "# (Approximate) Maximum allowed amount of same word repetition in a document (it may be lower in practise due to the data generation strategy)\n",
    "# To get the actual maximum amount, call Simulator.get_M\n",
    "M = 10 \n",
    "\n",
    "\n",
    "k = 5 # Amount of topics\n",
    "gamma = 0.2"
   ]
  },
  {
   "cell_type": "code",
   "execution_count": 2,
   "id": "39cbecf9",
   "metadata": {},
   "outputs": [],
   "source": [
    "# GLOBAL VARIABLES. BE SURE NOT TO OVERWRITE THEM\n",
    "D = 50 # Amount of documents\n",
    "V = 18 # Size of the vocabulary\n",
    "\n",
    "# (Approximate) Maximum allowed amount of same word repetition in a document (it may be lower in practise due to the data generation strategy)\n",
    "# To get the actual maximum amount, call Simulator.get_M\n",
    "M = 5 \n",
    "\n",
    "k = 6 # Amount of topics\n",
    "gamma = 0.2"
   ]
  },
  {
   "cell_type": "code",
   "execution_count": 3,
   "id": "9b6dad5b",
   "metadata": {},
   "outputs": [],
   "source": [
    "from matplotlib import pyplot as plt\n",
    "import numpy as np\n",
    "import pandas as pd"
   ]
  },
  {
   "cell_type": "markdown",
   "id": "c119c559",
   "metadata": {},
   "source": [
    "From now on let's use the following simulated data for further testing"
   ]
  },
  {
   "cell_type": "code",
   "execution_count": 4,
   "id": "7af1ac0a",
   "metadata": {},
   "outputs": [],
   "source": [
    "from simulator import Simulator"
   ]
  },
  {
   "cell_type": "code",
   "execution_count": 5,
   "id": "95b3757b",
   "metadata": {},
   "outputs": [
    {
     "name": "stdout",
     "output_type": "stream",
     "text": [
      "Success: Sigma transformed from K\n",
      "Success: G transformed from K\n",
      "Success: W and Z generated\n",
      "Success: E transformed from Z\n",
      "Success: C transformed from Z\n",
      "Success: G transformed from K\n",
      "Success: E transformed from Z\n",
      "Success: C transformed from Z\n"
     ]
    }
   ],
   "source": [
    "test_data = Simulator(D, V, M, k, gamma, seed=1967)  # Man on the moon\n",
    "test_data.generate_all_data()\n",
    "\n",
    "random_initial_data = Simulator(D, V, M, k, gamma, seed=1969)  # Woodstock Music Festival\n",
    "random_initial_data.generate_non_informative(test_data.W)"
   ]
  },
  {
   "cell_type": "code",
   "execution_count": 6,
   "id": "0321270b",
   "metadata": {},
   "outputs": [
    {
     "data": {
      "text/plain": [
       "<matplotlib.image.AxesImage at 0x7f258ce586a0>"
      ]
     },
     "execution_count": 6,
     "metadata": {},
     "output_type": "execute_result"
    },
    {
     "data": {
      "image/png": "[encoded data removed]",
      "text/plain": [
       "<Figure size 288x288 with 1 Axes>"
      ]
     },
     "metadata": {
      "needs_background": "light"
     },
     "output_type": "display_data"
    },
    {
     "data": {
      "image/png": "[encoded data removed]",
      "text/plain": [
       "<Figure size 288x288 with 1 Axes>"
      ]
     },
     "metadata": {
      "needs_background": "light"
     },
     "output_type": "display_data"
    }
   ],
   "source": [
    "plt.matshow(test_data.G, cmap='Blues')\n",
    "plt.matshow(random_initial_data.G, cmap='Blues')"
   ]
  },
  {
   "cell_type": "code",
   "execution_count": 7,
   "id": "1bd8dcc0-bb6c-43b3-9ae0-f97b84b61e80",
   "metadata": {},
   "outputs": [
    {
     "data": {
      "text/plain": [
       "array([[ 1.,  3.,  4.,  0., -1.],\n",
       "       [ 5.,  1., -1., -1., -1.],\n",
       "       [ 3.,  4., -1., -1., -1.],\n",
       "       [ 3., -1., -1., -1., -1.],\n",
       "       [ 3.,  1.,  3., -1., -1.],\n",
       "       [ 5.,  5.,  2.,  4.,  4.],\n",
       "       [-1., -1., -1., -1., -1.],\n",
       "       [ 4.,  5.,  0., -1., -1.],\n",
       "       [ 4.,  0., -1., -1., -1.],\n",
       "       [ 5., -1., -1., -1., -1.],\n",
       "       [ 4., -1., -1., -1., -1.],\n",
       "       [ 3., -1., -1., -1., -1.],\n",
       "       [-1., -1., -1., -1., -1.],\n",
       "       [-1., -1., -1., -1., -1.],\n",
       "       [-1., -1., -1., -1., -1.],\n",
       "       [ 3., -1., -1., -1., -1.],\n",
       "       [ 5.,  4.,  4.,  5.,  1.],\n",
       "       [ 0., -1., -1., -1., -1.]])"
      ]
     },
     "execution_count": 7,
     "metadata": {},
     "output_type": "execute_result"
    }
   ],
   "source": [
    "random_initial_data.Z[0]"
   ]
  },
  {
   "cell_type": "code",
   "execution_count": 8,
   "id": "34212eb9-3697-46c8-8a94-a089bafc564d",
   "metadata": {},
   "outputs": [
    {
     "data": {
      "text/plain": [
       "array([[ 0.,  3.,  0.,  0., -1.],\n",
       "       [ 0.,  0., -1., -1., -1.],\n",
       "       [ 3.,  0., -1., -1., -1.],\n",
       "       [ 0., -1., -1., -1., -1.],\n",
       "       [ 0.,  0.,  0., -1., -1.],\n",
       "       [ 0.,  0.,  0.,  0.,  0.],\n",
       "       [-1., -1., -1., -1., -1.],\n",
       "       [ 0.,  3.,  0., -1., -1.],\n",
       "       [ 1.,  0., -1., -1., -1.],\n",
       "       [ 0., -1., -1., -1., -1.],\n",
       "       [ 0., -1., -1., -1., -1.],\n",
       "       [ 0., -1., -1., -1., -1.],\n",
       "       [-1., -1., -1., -1., -1.],\n",
       "       [-1., -1., -1., -1., -1.],\n",
       "       [-1., -1., -1., -1., -1.],\n",
       "       [ 0., -1., -1., -1., -1.],\n",
       "       [ 0.,  0.,  0.,  0.,  0.],\n",
       "       [ 5., -1., -1., -1., -1.]])"
      ]
     },
     "execution_count": 8,
     "metadata": {},
     "output_type": "execute_result"
    }
   ],
   "source": [
    "test_data.Z[0]"
   ]
  },
  {
   "cell_type": "markdown",
   "id": "5783d0af",
   "metadata": {},
   "source": [
    "# 2. MC SAMPLER"
   ]
  },
  {
   "cell_type": "markdown",
   "id": "a8f6edea",
   "metadata": {},
   "source": [
    "## 2.1.1 Sampling Z (MCMC Sampler)"
   ]
  },
  {
   "cell_type": "markdown",
   "id": "23dd06b6",
   "metadata": {},
   "source": [
    "### Task:\n",
    "\n",
    "You must implement a function that receives matrices $W$, $\\Theta_{i+1}$ and $B_i$ and generates the next $Z_{i+1}$ and $B_{i+1}$."
   ]
  },
  {
   "cell_type": "code",
   "execution_count": 9,
   "id": "faa25f04",
   "metadata": {},
   "outputs": [],
   "source": [
    "from samplers import MC_sample_Z\n",
    "from binder_loss import binder_loss"
   ]
  },
  {
   "cell_type": "markdown",
   "id": "c603287f",
   "metadata": {},
   "source": [
    "## 2.1.2 Z Sampling Tests"
   ]
  },
  {
   "cell_type": "markdown",
   "id": "22dd8483",
   "metadata": {},
   "source": [
    "### MC_sample_Z tests"
   ]
  },
  {
   "cell_type": "code",
   "execution_count": 10,
   "id": "e1ceddd9",
   "metadata": {},
   "outputs": [],
   "source": [
    "Z_copy = random_initial_data.Z.copy()\n",
    "E_copy = random_initial_data.E.copy()\n",
    "C_copy = random_initial_data.C.copy()\n",
    "\n",
    "W_copy = test_data.W.copy()\n",
    "Theta_copy = test_data.Theta.copy()\n",
    "B_copy = test_data.B.copy()\n"
   ]
  },
  {
   "cell_type": "code",
   "execution_count": 11,
   "id": "fb2c0643",
   "metadata": {},
   "outputs": [
    {
     "data": {
      "text/plain": [
       "<matplotlib.image.AxesImage at 0x7f258cd564a0>"
      ]
     },
     "execution_count": 11,
     "metadata": {},
     "output_type": "execute_result"
    },
    {
     "data": {
      "image/png": "[encoded data removed]",
      "text/plain": [
       "<Figure size 288x1036.8 with 1 Axes>"
      ]
     },
     "metadata": {
      "needs_background": "light"
     },
     "output_type": "display_data"
    }
   ],
   "source": [
    "plt.matshow(Z_copy[0], cmap='Blues')"
   ]
  },
  {
   "cell_type": "code",
   "execution_count": 12,
   "id": "ac53349e",
   "metadata": {},
   "outputs": [
    {
     "data": {
      "text/plain": [
       "array([[ 3.,  4.,  4.,  4., -1.],\n",
       "       [ 4.,  4., -1., -1., -1.],\n",
       "       [ 5.,  5., -1., -1., -1.],\n",
       "       [ 3., -1., -1., -1., -1.],\n",
       "       [ 4.,  2.,  4., -1., -1.],\n",
       "       [ 3.,  3.,  4.,  5.,  4.],\n",
       "       [-1., -1., -1., -1., -1.],\n",
       "       [ 4.,  5.,  4., -1., -1.],\n",
       "       [ 4.,  3., -1., -1., -1.],\n",
       "       [ 4., -1., -1., -1., -1.],\n",
       "       [ 5., -1., -1., -1., -1.],\n",
       "       [ 4., -1., -1., -1., -1.],\n",
       "       [-1., -1., -1., -1., -1.],\n",
       "       [-1., -1., -1., -1., -1.],\n",
       "       [-1., -1., -1., -1., -1.],\n",
       "       [ 4., -1., -1., -1., -1.],\n",
       "       [ 4.,  4.,  3.,  4.,  4.],\n",
       "       [ 4., -1., -1., -1., -1.]])"
      ]
     },
     "execution_count": 12,
     "metadata": {},
     "output_type": "execute_result"
    }
   ],
   "source": [
    "# Check that the function runs with no issues, without side effects but on Z\n",
    "\n",
    "Z_sample, E_sample, C_sample = MC_sample_Z(Z_copy, W_copy, Theta_copy, B_copy, E_copy, C_copy, debug=True)\n",
    "\n",
    "assert np.any(Z_copy != random_initial_data.Z)\n",
    "assert np.all(W_copy == test_data.W)\n",
    "assert np.all(Theta_copy == test_data.Theta)\n",
    "assert np.all(B_copy == test_data.B)\n",
    "\n",
    "Z_sample[0]"
   ]
  },
  {
   "cell_type": "code",
   "execution_count": 13,
   "id": "39539b2b",
   "metadata": {},
   "outputs": [
    {
     "data": {
      "text/plain": [
       "<matplotlib.image.AxesImage at 0x7f258efe0d60>"
      ]
     },
     "execution_count": 13,
     "metadata": {},
     "output_type": "execute_result"
    },
    {
     "data": {
      "image/png": "[encoded data removed]",
      "text/plain": [
       "<Figure size 288x1036.8 with 1 Axes>"
      ]
     },
     "metadata": {
      "needs_background": "light"
     },
     "output_type": "display_data"
    }
   ],
   "source": [
    "plt.matshow(Z_sample[0], cmap='Blues')"
   ]
  },
  {
   "cell_type": "markdown",
   "id": "111d4bbe",
   "metadata": {},
   "source": [
    "### Binder loss tests"
   ]
  },
  {
   "cell_type": "code",
   "execution_count": 14,
   "id": "af8c1253",
   "metadata": {},
   "outputs": [
    {
     "name": "stdout",
     "output_type": "stream",
     "text": [
      "Error: 246857\n",
      "Max error: 20250000\n",
      "Error %: 1.2190469135802469\n",
      "CPU times: user 130 ms, sys: 22.3 ms, total: 152 ms\n",
      "Wall time: 154 ms\n"
     ]
    },
    {
     "data": {
      "text/plain": [
       "0.012190469135802469"
      ]
     },
     "execution_count": 14,
     "metadata": {},
     "output_type": "execute_result"
    }
   ],
   "source": [
    "%%time\n",
    "# Testing\n",
    "binder_loss(Z_sample, test_data.Z, debug=True)  # Note that all possible pairs are 460320"
   ]
  },
  {
   "cell_type": "code",
   "execution_count": 15,
   "id": "2a40fbf1",
   "metadata": {},
   "outputs": [
    {
     "name": "stdout",
     "output_type": "stream",
     "text": [
      "Error: 0\n",
      "Max error: 20250000\n",
      "Error %: 0.0\n",
      "CPU times: user 138 ms, sys: 10.9 ms, total: 149 ms\n",
      "Wall time: 150 ms\n"
     ]
    },
    {
     "data": {
      "text/plain": [
       "0.0"
      ]
     },
     "execution_count": 15,
     "metadata": {},
     "output_type": "execute_result"
    }
   ],
   "source": [
    "%%time\n",
    "# This MUST return zero\n",
    "binder_loss(Z_sample, Z_sample, debug=True)"
   ]
  },
  {
   "cell_type": "code",
   "execution_count": 16,
   "id": "ef3a8a57",
   "metadata": {},
   "outputs": [
    {
     "name": "stdout",
     "output_type": "stream",
     "text": [
      "Error: 0\n",
      "Max error: 20250000\n",
      "Error %: 0.0\n",
      "CPU times: user 138 ms, sys: 6.33 ms, total: 144 ms\n",
      "Wall time: 146 ms\n"
     ]
    },
    {
     "data": {
      "text/plain": [
       "0.0"
      ]
     },
     "execution_count": 16,
     "metadata": {},
     "output_type": "execute_result"
    }
   ],
   "source": [
    "# Shifting indexes\n",
    "Z_sample_shifted = Z_sample.copy()\n",
    "for i in range(k):\n",
    "    replace_value = (i + 1) % k \n",
    "    Z_sample_shifted[Z_sample == i] = replace_value\n",
    "\n",
    "# This MUST return zero\n",
    "%time binder_loss(Z_sample, Z_sample_shifted, debug=True)"
   ]
  },
  {
   "cell_type": "code",
   "execution_count": 17,
   "id": "e323fd97",
   "metadata": {},
   "outputs": [
    {
     "data": {
      "text/plain": [
       "0.046419753086419754"
      ]
     },
     "execution_count": 17,
     "metadata": {},
     "output_type": "execute_result"
    }
   ],
   "source": [
    "binder_loss(Z_sample[1], test_data.Z[1])"
   ]
  },
  {
   "cell_type": "markdown",
   "id": "df4a81c4",
   "metadata": {},
   "source": [
    "### MC_sample_Z cycle test"
   ]
  },
  {
   "cell_type": "code",
   "execution_count": 18,
   "id": "e428a3d0",
   "metadata": {},
   "outputs": [
    {
     "name": "stdout",
     "output_type": "stream",
     "text": [
      "The sampled Z has 4500 words, while the target Z has 4500 words (diff 0)\n",
      "CPU times: user 26min 15s, sys: 1min 22s, total: 27min 37s\n",
      "Wall time: 28min 18s\n"
     ]
    }
   ],
   "source": [
    "%%time\n",
    "\n",
    "# Check that the Sampler works properly (This will take a while)\n",
    "\n",
    "errors = []\n",
    "E_errors = []\n",
    "C_errors = []\n",
    "matrix_changes = []\n",
    "burn_in = 1000\n",
    "print(f'The sampled Z has {Z_sample.size} words, while the target Z has {test_data.Z.size} words (diff {abs(Z_sample.size-test_data.Z.size)})')\n",
    "for i in range(5000):\n",
    "    Z_sample_old = Z_sample.copy()\n",
    "    E_sample_old = E_sample.copy()\n",
    "    C_sample_old = C_sample.copy()\n",
    "    Z_sample, E_sample, C_sample = MC_sample_Z(Z_sample, W_copy, Theta_copy, B_copy, E_sample, C_sample)\n",
    "    matrix_changes.append(~np.all(Z_sample_old == Z_sample))\n",
    "    if i >= burn_in:\n",
    "        errors.append(binder_loss(Z_sample, test_data.Z))  # Computing error wrt the target distribution\n",
    "        E_errors.append(np.linalg.norm(E_sample - test_data.E))        \n",
    "        C_errors.append(np.linalg.norm(C_sample - test_data.C))"
   ]
  },
  {
   "cell_type": "code",
   "execution_count": 19,
   "id": "709df4b4",
   "metadata": {},
   "outputs": [
    {
     "name": "stdout",
     "output_type": "stream",
     "text": [
      "Matrix changes (1 = changed, 0 = same)\n",
      "count    5000.0\n",
      "mean        1.0\n",
      "std         0.0\n",
      "min         1.0\n",
      "25%         1.0\n",
      "50%         1.0\n",
      "75%         1.0\n",
      "max         1.0\n",
      "dtype: float64\n"
     ]
    },
    {
     "data": {
      "text/plain": [
       "<AxesSubplot:>"
      ]
     },
     "execution_count": 19,
     "metadata": {},
     "output_type": "execute_result"
    },
    {
     "data": {
      "image/png": "[encoded data removed]",
      "text/plain": [
       "<Figure size 432x288 with 1 Axes>"
      ]
     },
     "metadata": {
      "needs_background": "light"
     },
     "output_type": "display_data"
    }
   ],
   "source": [
    "# Matrix should change\n",
    "\n",
    "matrix_changes = pd.Series(matrix_changes).astype(int)\n",
    "print(\"Matrix changes (1 = changed, 0 = same)\")\n",
    "print(matrix_changes.describe())\n",
    "matrix_changes.hist()"
   ]
  },
  {
   "cell_type": "code",
   "execution_count": 20,
   "id": "7059c551",
   "metadata": {},
   "outputs": [
    {
     "name": "stdout",
     "output_type": "stream",
     "text": [
      "Error metrics\n",
      "count    4000.000000\n",
      "mean        0.012300\n",
      "std         0.000294\n",
      "min         0.011645\n",
      "25%         0.012073\n",
      "50%         0.012265\n",
      "75%         0.012483\n",
      "max         0.013515\n",
      "dtype: float64\n"
     ]
    },
    {
     "data": {
      "text/plain": [
       "<AxesSubplot:>"
      ]
     },
     "execution_count": 20,
     "metadata": {},
     "output_type": "execute_result"
    },
    {
     "data": {
      "image/png": "[encoded data removed]",
      "text/plain": [
       "<Figure size 432x288 with 1 Axes>"
      ]
     },
     "metadata": {
      "needs_background": "light"
     },
     "output_type": "display_data"
    }
   ],
   "source": [
    "# Error will always be positive and integer, but is it skewed to the left? -> IT IS\n",
    "errors = pd.Series(errors)\n",
    "print(\"Error metrics\")\n",
    "print(errors.describe())\n",
    "errors.hist()"
   ]
  },
  {
   "cell_type": "code",
   "execution_count": 21,
   "id": "2d996c1f",
   "metadata": {},
   "outputs": [
    {
     "data": {
      "text/plain": [
       "<AxesSubplot:>"
      ]
     },
     "execution_count": 21,
     "metadata": {},
     "output_type": "execute_result"
    },
    {
     "data": {
      "image/png": "[encoded data removed]",
      "text/plain": [
       "<Figure size 432x288 with 1 Axes>"
      ]
     },
     "metadata": {
      "needs_background": "light"
     },
     "output_type": "display_data"
    }
   ],
   "source": [
    "errors.plot()  # See if we still have a caterpillar"
   ]
  },
  {
   "cell_type": "markdown",
   "id": "08cf8864-c38d-4390-831a-9ad65dfeaeb0",
   "metadata": {},
   "source": [
    "# We need to delete these checkings: "
   ]
  },
  {
   "cell_type": "code",
   "execution_count": 22,
   "id": "8581673e",
   "metadata": {},
   "outputs": [
    {
     "name": "stdout",
     "output_type": "stream",
     "text": [
      "E error metrics\n",
      "count    4000.000000\n",
      "mean       94.882793\n",
      "std         5.117921\n",
      "min        81.645576\n",
      "25%        91.331813\n",
      "50%        94.562149\n",
      "75%        98.025506\n",
      "max       111.507847\n",
      "dtype: float64\n"
     ]
    },
    {
     "data": {
      "text/plain": [
       "Text(0.5, 1.0, 'E L2-error distribution')"
      ]
     },
     "execution_count": 22,
     "metadata": {},
     "output_type": "execute_result"
    },
    {
     "data": {
      "image/png": "[encoded data removed]",
      "text/plain": [
       "<Figure size 432x288 with 1 Axes>"
      ]
     },
     "metadata": {
      "needs_background": "light"
     },
     "output_type": "display_data"
    }
   ],
   "source": [
    "# Error should be distributed close to 0 (I guess...)\n",
    "# BUG https://trello.com/c/JE1T7Hur/31-mcsamplez-z-is-not-close-to-the-expected-target\n",
    "\n",
    "E_errors = pd.Series(E_errors)\n",
    "print(\"E error metrics\")\n",
    "print(E_errors.describe())\n",
    "E_errors.hist(bins=30)\n",
    "plt.title('E L2-error distribution')"
   ]
  },
  {
   "cell_type": "code",
   "execution_count": 23,
   "id": "fe01ce2c",
   "metadata": {},
   "outputs": [
    {
     "data": {
      "text/plain": [
       "Text(0.5, 1.0, 'E L2-error series')"
      ]
     },
     "execution_count": 23,
     "metadata": {},
     "output_type": "execute_result"
    },
    {
     "data": {
      "image/png": "[encoded data removed]",
      "text/plain": [
       "<Figure size 432x288 with 1 Axes>"
      ]
     },
     "metadata": {
      "needs_background": "light"
     },
     "output_type": "display_data"
    }
   ],
   "source": [
    "E_errors.plot()\n",
    "plt.title('E L2-error series')"
   ]
  },
  {
   "cell_type": "code",
   "execution_count": 24,
   "id": "decc816e",
   "metadata": {},
   "outputs": [
    {
     "name": "stdout",
     "output_type": "stream",
     "text": [
      "C error metrics\n",
      "count    4000.000000\n",
      "mean      146.875534\n",
      "std         9.377708\n",
      "min       115.654658\n",
      "25%       140.406553\n",
      "50%       146.826428\n",
      "75%       153.195953\n",
      "max       175.299743\n",
      "dtype: float64\n"
     ]
    },
    {
     "data": {
      "text/plain": [
       "Text(0.5, 1.0, 'C L2-error distribution')"
      ]
     },
     "execution_count": 24,
     "metadata": {},
     "output_type": "execute_result"
    },
    {
     "data": {
      "image/png": "[encoded data removed]",
      "text/plain": [
       "<Figure size 432x288 with 1 Axes>"
      ]
     },
     "metadata": {
      "needs_background": "light"
     },
     "output_type": "display_data"
    }
   ],
   "source": [
    "# Error should be distributed close to 0 (I guess...)\n",
    "# BUG https://trello.com/c/JE1T7Hur/31-mcsamplez-z-is-not-close-to-the-expected-target\n",
    "C_errors = pd.Series(C_errors)\n",
    "print(\"C error metrics\")\n",
    "print(C_errors.describe())\n",
    "C_errors.hist(bins=30)\n",
    "plt.title('C L2-error distribution')"
   ]
  },
  {
   "cell_type": "code",
   "execution_count": 25,
   "id": "82c634d3",
   "metadata": {},
   "outputs": [
    {
     "data": {
      "text/plain": [
       "Text(0.5, 1.0, 'C L2-error series')"
      ]
     },
     "execution_count": 25,
     "metadata": {},
     "output_type": "execute_result"
    },
    {
     "data": {
      "image/png": "[encoded data removed]",
      "text/plain": [
       "<Figure size 432x288 with 1 Axes>"
      ]
     },
     "metadata": {
      "needs_background": "light"
     },
     "output_type": "display_data"
    }
   ],
   "source": [
    "C_errors.plot()\n",
    "plt.title('C L2-error series')"
   ]
  },
  {
   "cell_type": "code",
   "execution_count": null,
   "id": "e7be2a82-5b79-48ef-b926-de011d7696e9",
   "metadata": {},
   "outputs": [],
   "source": []
  }
 ],
 "metadata": {
  "interpreter": {
   "hash": "a803b5bf187bf95155bcb05f6102b06519856e9ee60d4a9ebc29561a74488513"
  },
  "kernelspec": {
   "display_name": "Python 3 (ipykernel)",
   "language": "python",
   "name": "python3"
  },
  "language_info": {
   "codemirror_mode": {
    "name": "ipython",
    "version": 3
   },
   "file_extension": ".py",
   "mimetype": "text/x-python",
   "name": "python",
   "nbconvert_exporter": "python",
   "pygments_lexer": "ipython3",
   "version": "3.10.2"
  }
 },
 "nbformat": 4,
 "nbformat_minor": 5
}
