{
 "cells": [
  {
   "cell_type": "markdown",
   "id": "bfb98188",
   "metadata": {},
   "source": [
    "Idea: When B stabilizes, the topics will be stable and hence G will be comparable.\n",
    "\n",
    "We perform many iterations and verify B converges.\n",
    "\n",
    "After B converges, we take the graphs from those iterations and choose the most frequent one."
   ]
  },
  {
   "cell_type": "code",
   "execution_count": 1,
   "id": "11894da1",
   "metadata": {},
   "outputs": [],
   "source": [
    "from const import globs\n",
    "from matplotlib import pyplot as plt\n",
    "import numpy as np\n",
    "import pandas as pd"
   ]
  },
  {
   "cell_type": "code",
   "execution_count": 2,
   "id": "a6d8c7b3",
   "metadata": {},
   "outputs": [],
   "source": [
    "# GLOBAL VARIABLES. BE SURE NOT TO OVERWRITE THEM\n",
    "\n",
    "D, V, M, k, gamma = globs('l')"
   ]
  },
  {
   "cell_type": "markdown",
   "id": "8027bccd",
   "metadata": {},
   "source": [
    "From now on let's use the following simulated data for further testing"
   ]
  },
  {
   "cell_type": "code",
   "execution_count": 3,
   "id": "23b9babd",
   "metadata": {},
   "outputs": [],
   "source": [
    "from simulator import Simulator\n",
    "from samplers import MC_sample_Z, MC_sample_B, MC_sample_H, MC_sample_GK\n",
    "from transformation_functions import update_Theta, update_Sigma, update_E, update_C\n",
    "from generator_functions import sample_Z_from_W\n",
    "from binder_loss import binder_loss\n",
    "from graph_loss import permutation_topics, graph_loss"
   ]
  },
  {
   "cell_type": "markdown",
   "id": "c4e21417",
   "metadata": {},
   "source": [
    "# 4. MAIN CYCLE"
   ]
  },
  {
   "cell_type": "markdown",
   "id": "5e12a78c",
   "metadata": {},
   "source": [
    "### Generating Target Data\n",
    "\n",
    "These data will be used as input (matrix Z and W) and target (matrix G) for our simulation. "
   ]
  },
  {
   "cell_type": "code",
   "execution_count": 4,
   "id": "eea51c31",
   "metadata": {},
   "outputs": [
    {
     "name": "stdout",
     "output_type": "stream",
     "text": [
      "Success: Sigma transformed from K\n",
      "Success: G transformed from K\n",
      "Success: W and Z generated\n",
      "Success: E transformed from Z\n",
      "Success: C transformed from Z\n"
     ]
    }
   ],
   "source": [
    "simulated_data = Simulator(D, V, M, k, gamma, seed=1888)\n",
    "simulated_data.generate_all_data()"
   ]
  },
  {
   "cell_type": "code",
   "execution_count": 5,
   "id": "55018878",
   "metadata": {},
   "outputs": [
    {
     "data": {
      "text/plain": [
       "array([[2., 1., 3., ..., 5., 2., 0.],\n",
       "       [3., 3., 2., ..., 2., 4., 2.],\n",
       "       [1., 1., 1., ..., 2., 2., 0.],\n",
       "       ...,\n",
       "       [0., 2., 0., ..., 1., 0., 1.],\n",
       "       [2., 2., 0., ..., 2., 1., 3.],\n",
       "       [2., 1., 0., ..., 1., 2., 3.]])"
      ]
     },
     "execution_count": 5,
     "metadata": {},
     "output_type": "execute_result"
    }
   ],
   "source": [
    "# Input Data:\n",
    "simulated_data.W"
   ]
  },
  {
   "cell_type": "code",
   "execution_count": 6,
   "id": "2e770357",
   "metadata": {
    "scrolled": true
   },
   "outputs": [
    {
     "data": {
      "text/plain": [
       "<matplotlib.image.AxesImage at 0x7f2dae788c40>"
      ]
     },
     "execution_count": 6,
     "metadata": {},
     "output_type": "execute_result"
    },
    {
     "data": {
      "image/png": "[encoded data removed]",
      "text/plain": [
       "<Figure size 288x288 with 1 Axes>"
      ]
     },
     "metadata": {
      "needs_background": "light"
     },
     "output_type": "display_data"
    }
   ],
   "source": [
    "# Target graph\n",
    "plt.matshow(simulated_data.G, cmap='Blues')"
   ]
  },
  {
   "cell_type": "markdown",
   "id": "6aeeb668",
   "metadata": {},
   "source": [
    "### Generating Uninformative Initial Data\n",
    "\n",
    "These are used as our initial guess for Sigma, K, B, Theta and G"
   ]
  },
  {
   "cell_type": "code",
   "execution_count": 7,
   "id": "ba7c7965",
   "metadata": {},
   "outputs": [
    {
     "name": "stdout",
     "output_type": "stream",
     "text": [
      "Success: G transformed from K\n",
      "Success: E transformed from Z\n",
      "Success: C transformed from Z\n"
     ]
    },
    {
     "data": {
      "text/plain": [
       "<matplotlib.image.AxesImage at 0x7f2dae68f520>"
      ]
     },
     "execution_count": 7,
     "metadata": {},
     "output_type": "execute_result"
    },
    {
     "data": {
      "image/png": "[encoded data removed]",
      "text/plain": [
       "<Figure size 288x288 with 1 Axes>"
      ]
     },
     "metadata": {
      "needs_background": "light"
     },
     "output_type": "display_data"
    }
   ],
   "source": [
    "# Initial guesses\n",
    "initial_uninf = Simulator(D, V, M, k, gamma, 2020)\n",
    "initial_uninf.generate_non_informative(simulated_data.W)\n",
    "\n",
    "# Initial graph\n",
    "plt.matshow(initial_uninf.G, cmap='Blues')"
   ]
  },
  {
   "cell_type": "markdown",
   "id": "82137ab5",
   "metadata": {},
   "source": [
    "## Global Sampler\n",
    "\n",
    "All objects are updated within the cycle."
   ]
  },
  {
   "cell_type": "code",
   "execution_count": null,
   "id": "2ef36656",
   "metadata": {},
   "outputs": [
    {
     "name": "stdout",
     "output_type": "stream",
     "text": [
      "Now at iteration 0/5000\n",
      "Now at iteration 100/5000\n",
      "Now at iteration 200/5000\n"
     ]
    }
   ],
   "source": [
    "%%time\n",
    "max_iterations = 5000\n",
    "np.random.seed(25041945)\n",
    "\n",
    "# Initialization\n",
    "Sigma = initial_uninf.Sigma.copy()\n",
    "K = np.linalg.inv(Sigma)\n",
    "B = initial_uninf.B.copy()\n",
    "Theta = initial_uninf.Theta.copy()\n",
    "G = initial_uninf.G.copy()\n",
    "\n",
    "alpha = np.ones(V)  # Uninformative prior\n",
    "b = k - 1\n",
    "\n",
    "Z = initial_uninf.Z.copy()  # Random sample of Z based on actual data: Done in generator\n",
    "\n",
    "E = initial_uninf.E.copy()  # Transformation of Z: Done in generator\n",
    "C = initial_uninf.C.copy()  # Transformation of Z: Done in generator\n",
    "\n",
    "H = initial_uninf.H.copy()\n",
    "step = 0.5\n",
    "\n",
    "# Metrics\n",
    "\n",
    "Zerrors1 = []\n",
    "Zconv = []\n",
    "\n",
    "Berrors1 = []\n",
    "B_converge1 = [] \n",
    "perms = []\n",
    "\n",
    "waiting_times1 = []\n",
    "sampled_Gs1 = []\n",
    "graph_changes1 = []\n",
    "edges_log1 = []\n",
    "errors_log1 = []\n",
    "graph_losses1 = []\n",
    "\n",
    "for iteration in range(max_iterations):\n",
    "    \n",
    "    # Step 1\n",
    "    last_Z = Z.copy()\n",
    "    Z, E, C = MC_sample_Z(Z, simulated_data.W, Theta, B, E, C, debug=True)\n",
    "    Zerrors1.append(binder_loss(Z, simulated_data.Z))\n",
    "    Zconv.append(binder_loss(Z, last_Z))\n",
    "    \n",
    "    # Step 2\n",
    "    last_B = B.copy()\n",
    "    B = MC_sample_B(alpha, C)\n",
    "    B_converge1.append(np.linalg.norm(B - last_B))\n",
    "    \n",
    "    err_by_it = []\n",
    "    for topic in range(k):\n",
    "        err_by_it.append(np.linalg.norm(B[topic] - last_B[topic]))  # Computing error wrt the target distribution  # BUG https://trello.com/c/uEYV7fSC/32-mcsampleb-shape-mismatch\n",
    "    Berrors1.append(err_by_it)\n",
    "    \n",
    "    permute = permutation_topics(B_true=simulated_data.B, B_sampled=B)\n",
    "    perms.append(permute)\n",
    "    \n",
    "    # Step 3\n",
    "    H, step = MC_sample_H(E, Sigma, K, step_size=step, H_current=H, burn_in=15)\n",
    "    Theta = update_Theta(Theta, H)  # get Theta from H\n",
    "    \n",
    "    # Step 4    \n",
    "    G_old = G.copy()\n",
    "    wt_sample, G_new, K = MC_sample_GK(G, H, b, debug=False)\n",
    "    \n",
    "    graph_changes1.append(~np.all(G_new == G_old))\n",
    "    \n",
    "    G = G_new\n",
    "    Sigma = np.linalg.inv(K)\n",
    "    \n",
    "    waiting_times1.append(wt_sample)\n",
    "    sampled_Gs1.append(G.copy())\n",
    "        \n",
    "    wrong_edges = np.sum(G != simulated_data.G)\n",
    "    error = np.linalg.norm(Sigma - simulated_data.Sigma)\n",
    "    edges_log1.append(wrong_edges)\n",
    "    errors_log1.append(error)\n",
    "    \n",
    "    graph_loss_value = graph_loss(G_true=simulated_data.G, G_sampled=G, permutation=permute)\n",
    "    graph_losses1.append(graph_loss_value)\n",
    "    \n",
    "    if iteration % 100 == 0:\n",
    "        print('Now at iteration ' + str(iteration) + '/' + str(max_iterations))\n",
    "    \n",
    "# NOTE: Should perform 500 iterations every 7 minutes\n",
    "# If it takes longer, RESTART, it could have gotten stuck in the R part"
   ]
  },
  {
   "cell_type": "code",
   "execution_count": null,
   "id": "7f3cff3d",
   "metadata": {},
   "outputs": [],
   "source": [
    "B_conv = pd.Series(B_converge1)\n",
    "\n",
    "print(\"B convergence metrics\")\n",
    "print(B_conv.describe())\n",
    "\n",
    "B_conv.hist(bins=30)  # Should look like an exponential decay?\n",
    "plt.suptitle('B marginal changes histogram', x=0.5, y=1, ha='center')\n",
    "plt.show()\n",
    "\n",
    "B_conv.plot(title=\"B convergence series\")\n",
    "cut = 1000  # It will be a standard burn in\n",
    "plt.axvline(x=cut, color='red', linestyle='--')\n",
    "plt.show()\n",
    "\n",
    "B_conv[0:cut].plot(title=\"B convergence series: First iterations\")\n",
    "plt.show()\n",
    "\n",
    "B_conv[cut:].plot(title=\"B convergence series: Last iterations\")\n",
    "plt.show()"
   ]
  },
  {
   "cell_type": "code",
   "execution_count": null,
   "id": "50ad799f",
   "metadata": {},
   "outputs": [],
   "source": [
    "errors = pd.Series(Zerrors1)\n",
    "print(\"Z binder loss metrics\")\n",
    "print(errors.describe())\n",
    "errors.hist(bins=30)\n",
    "plt.suptitle('Z binder loss histogram', x=0.5, y=1, ha='center')\n",
    "plt.show()\n",
    "\n",
    "errors.plot(title=\"Z convergence series\")  # See if we still have a caterpillar\n",
    "plt.axvline(x=cut, color='red', linestyle='--')\n",
    "plt.show()\n",
    "\n",
    "errors[0:cut].plot(title=\"Z convergence series: First iterations\")\n",
    "plt.show()\n",
    "\n",
    "errors[cut:].plot(title=\"Z convergence series: Last iterations\")\n",
    "plt.show()"
   ]
  },
  {
   "cell_type": "code",
   "execution_count": null,
   "id": "56163266",
   "metadata": {},
   "outputs": [],
   "source": [
    "errorsZ = pd.Series(Zconv)\n",
    "print(\"Z binder loss between iterations metrics\")\n",
    "print(errorsZ.describe())\n",
    "errorsZ.hist(bins=30)\n",
    "plt.suptitle('Z binder loss between iterations histogram', x=0.5, y=1, ha='center')\n",
    "plt.show()\n",
    "\n",
    "errorsZ.plot(title=\"Z convergence between iterations series\")  # See if we still have a caterpillar\n",
    "plt.axvline(x=cut, color='red', linestyle='--')\n",
    "plt.show()\n",
    "\n",
    "errorsZ[0:cut].plot(title=\"Z convergence between iterations: First iterations\")\n",
    "plt.show()\n",
    "\n",
    "errorsZ[cut:].plot(title=\"Z convergence between iterations: Last iterations\")\n",
    "plt.show()"
   ]
  },
  {
   "cell_type": "code",
   "execution_count": null,
   "id": "c2ebb6b9",
   "metadata": {},
   "outputs": [],
   "source": [
    "Berrors = pd.DataFrame(Berrors1)\n",
    "print(\"B L2-error metrics\")\n",
    "print(errors.describe())\n",
    "\n",
    "Berrors.hist(bins=30, layout=(3,2), figsize=(10, 6))\n",
    "plt.show()\n",
    "\n",
    "print('B L2-error series')\n",
    "Berrors.plot(subplots=True, layout=(3,2), figsize=(10, 6))\n",
    "plt.show()\n",
    "\n",
    "print('B L2-error series: First iterations')\n",
    "Berrors[0:cut].plot(subplots=True, layout=(3,2), figsize=(10, 6))\n",
    "plt.show()\n",
    "\n",
    "print('B L2-error series: Last iterations')\n",
    "Berrors[cut:].plot(subplots=True, layout=(3,2), figsize=(10, 6))\n",
    "plt.show()"
   ]
  },
  {
   "cell_type": "code",
   "execution_count": null,
   "id": "860d0356",
   "metadata": {},
   "outputs": [],
   "source": [
    "matrix_changes = pd.Series(graph_changes1).astype(int)\n",
    "\n",
    "print(\"G matrix changes (1 = changed, 0 = same)\")\n",
    "print(matrix_changes.describe())\n",
    "\n",
    "matrix_changes.hist()\n",
    "plt.suptitle(\"Graph changes histogram (1 = changed, 0 = same)\", x=0.5, y=1, ha='center')\n",
    "plt.show()\n",
    "\n",
    "matrix_changes.plot(title='G changes series')\n",
    "plt.axvline(x=cut, color='red', linestyle='--')\n",
    "plt.show()"
   ]
  },
  {
   "cell_type": "code",
   "execution_count": null,
   "id": "ca2eb7e8",
   "metadata": {},
   "outputs": [],
   "source": [
    "wait_times_full = pd.Series(waiting_times1)\n",
    "wait_times_full.plot(title=\"Waiting times full series\")\n",
    "plt.axvline(x=cut, color='red', linestyle='--')\n",
    "plt.show()\n",
    "\n",
    "wait_times_init = pd.Series(waiting_times1[0:cut])\n",
    "wait_times_init.plot(title=\"Waiting times series until iteration\"+str(cut))\n",
    "plt.show()\n",
    "\n",
    "wait_times_cut = pd.Series(waiting_times1[cut:])\n",
    "wait_times_cut.plot(title=\"Waiting times series since iteration \"+str(cut))\n",
    "plt.show()"
   ]
  },
  {
   "cell_type": "code",
   "execution_count": null,
   "id": "4a6b0d5b",
   "metadata": {},
   "outputs": [],
   "source": [
    "wrong_edges = pd.Series(edges_log1)\n",
    "\n",
    "print(\"Wrong edges metrics\")\n",
    "print(wrong_edges.describe())\n",
    "\n",
    "wrong_edges.hist(bins=30)\n",
    "plt.suptitle('G wrong edges histogram', x=0.5, y=1, ha='center')\n",
    "plt.show()\n",
    "\n",
    "wrong_edges.plot(title=\"Wrong edges series\")\n",
    "plt.axvline(x=cut, color='red', linestyle='--')\n",
    "plt.show()\n",
    "\n",
    "plt.scatter(wait_times_full, wrong_edges)\n",
    "plt.xlabel('Waiting times')\n",
    "plt.ylabel('Wrong edges')\n",
    "plt.show()"
   ]
  },
  {
   "cell_type": "code",
   "execution_count": null,
   "id": "acc1b610",
   "metadata": {},
   "outputs": [],
   "source": [
    "Sigma_errors = pd.Series(errors_log1)\n",
    "\n",
    "print(\"Sigma errors metrics\")\n",
    "print(Sigma_errors.describe())\n",
    "\n",
    "Sigma_errors.hist(bins=30)\n",
    "plt.suptitle('Sigma L2-errors histogram', x=0.5, y=1, ha='center')\n",
    "plt.show()\n",
    "\n",
    "Sigma_errors.plot(title=\"Sigma L2-errors series\")\n",
    "plt.axvline(x=cut, color='red', linestyle='--')\n",
    "plt.show()\n",
    "\n",
    "Sigma_errors[0:1000].plot(title=\"Sigma L2-errors series: First 1000 iterations\")\n",
    "plt.show()\n",
    "\n",
    "Sigma_errors[4000:5000].plot(title=\"Sigma L2-errors series: Last 1000 iterations\")\n",
    "plt.show()"
   ]
  },
  {
   "cell_type": "code",
   "execution_count": null,
   "id": "4e18a881",
   "metadata": {},
   "outputs": [],
   "source": [
    "graph_loss = pd.Series(graph_losses1)\n",
    "\n",
    "print(\"Graph loss metrics\")\n",
    "print(graph_loss.describe())\n",
    "\n",
    "graph_loss.hist(bins=30)\n",
    "plt.suptitle('G graph loss histogram', x=0.5, y=1, ha='center')\n",
    "plt.show()\n",
    "\n",
    "graph_loss.plot(title=\"Graph loss series\")\n",
    "plt.axvline(x=cut, color='red', linestyle='--')\n",
    "plt.show()\n",
    "\n",
    "graph_loss[0:cut].plot(title=\"Waiting times series until iteration\"+str(cut))\n",
    "plt.show()\n",
    "\n",
    "graph_loss[cut:].plot(title=\"Waiting times series since iteration \"+str(cut))\n",
    "plt.show()\n",
    "\n",
    "plt.scatter(wait_times_full, graph_loss)\n",
    "plt.xlabel('Waiting times')\n",
    "plt.ylabel('Graph losses')\n",
    "plt.show()"
   ]
  },
  {
   "cell_type": "markdown",
   "id": "547565fc",
   "metadata": {},
   "source": [
    "### Final alternative\n",
    "\n",
    "a) Last graph"
   ]
  },
  {
   "cell_type": "code",
   "execution_count": null,
   "id": "75dcc06a",
   "metadata": {},
   "outputs": [],
   "source": [
    "import pickle\n",
    "\n",
    "with open('2022-02-09_1107_sampled_Gs.pkl', 'rb') as f:  # opens a file in read byte mode \n",
    "    sampled_Gs = pickle.load(f)"
   ]
  },
  {
   "cell_type": "code",
   "execution_count": null,
   "id": "92ea97b4",
   "metadata": {},
   "outputs": [],
   "source": [
    "plt.matshow(sampled_Gs[-1], cmap='Blues')\n",
    "plt.suptitle(\"Last graph\", x=0.5, y=1, ha='center')\n",
    "plt.show()"
   ]
  },
  {
   "cell_type": "markdown",
   "id": "0ddd7101",
   "metadata": {},
   "source": [
    "b) Binder loss"
   ]
  },
  {
   "cell_type": "code",
   "execution_count": null,
   "id": "b45f231a",
   "metadata": {},
   "outputs": [],
   "source": [
    "with open('2022-02-08_2243_Zerrors.pkl', 'rb') as f:  # opens a file in read byte mode \n",
    "    Zerrors = pickle.load(f)\n",
    "\n",
    "opt1 = np.argmin(Zerrors[1000:])\n",
    "\n",
    "plt.matshow(sampled_Gs[opt1], cmap='Blues')\n",
    "plt.suptitle(\"Graph from iteration \"+str(opt1+1000), x=0.5, y=1, ha='center')\n",
    "plt.show()"
   ]
  },
  {
   "cell_type": "code",
   "execution_count": null,
   "id": "b7b29b15",
   "metadata": {},
   "outputs": [],
   "source": [
    "opt2 = np.argmin(Zerrors[3000:])\n",
    "\n",
    "plt.matshow(sampled_Gs[opt2], cmap='Blues')\n",
    "plt.suptitle(\"Graph from iteration \"+str(opt2+3000), x=0.5, y=1, ha='center')\n",
    "plt.show()"
   ]
  },
  {
   "cell_type": "code",
   "execution_count": null,
   "id": "36759a7f",
   "metadata": {},
   "outputs": [],
   "source": [
    "opt3 = np.argmin(Zerrors[4000:])\n",
    "\n",
    "plt.matshow(sampled_Gs[opt3], cmap='Blues')\n",
    "plt.suptitle(\"Graph from iteration \"+str(opt3+4000), x=0.5, y=1, ha='center')\n",
    "plt.show()"
   ]
  },
  {
   "cell_type": "markdown",
   "id": "4313f5b3",
   "metadata": {},
   "source": [
    "c) Most sampled graphs"
   ]
  },
  {
   "cell_type": "code",
   "execution_count": null,
   "id": "cb07736b",
   "metadata": {},
   "outputs": [],
   "source": [
    "graphs = []\n",
    "counts = []\n",
    "not_found = True\n",
    "for it in range(cut,max_iterations):\n",
    "    not_found = True\n",
    "    for j in range(len(graphs)):\n",
    "        if np.all(sampled_Gs1[it] == graphs[j]):\n",
    "            counts[j] += waiting_times1[it]\n",
    "            not_found = False\n",
    "    if not_found:\n",
    "        graphs.append(sampled_Gs1[it])\n",
    "        counts.append(waiting_times1[it])\n",
    "\n",
    "plt.bar(range(len(counts)),counts)\n",
    "plt.suptitle('Sampled graphs histogram', x=0.5, y=1, ha='center')\n",
    "plt.show()\n",
    "\n",
    "modes = pd.Series(counts).sort_values()\n",
    "\n",
    "plt.matshow(graphs[counts.index(modes[0])], cmap='Blues')\n",
    "plt.suptitle(\"Most frequent graph in stable region\", x=0.5, y=1, ha='center')\n",
    "plt.show()\n",
    "\n",
    "plt.matshow(graphs[counts.index(modes[1])], cmap='Blues')\n",
    "plt.suptitle(\"Second most frequent graph in stable region\", x=0.5, y=1, ha='center')\n",
    "plt.show()\n",
    "\n",
    "plt.matshow(graphs[counts.index(modes[2])], cmap='Blues')\n",
    "plt.suptitle(\"Third most frequent graph in stable region\", x=0.5, y=1, ha='center')\n",
    "plt.show()"
   ]
  },
  {
   "cell_type": "markdown",
   "id": "466879dc",
   "metadata": {},
   "source": [
    "#### Data dumping"
   ]
  },
  {
   "cell_type": "code",
   "execution_count": null,
   "id": "d3869395",
   "metadata": {},
   "outputs": [],
   "source": [
    "from datetime import datetime as dt\n",
    "import pickle"
   ]
  },
  {
   "cell_type": "code",
   "execution_count": null,
   "id": "66afbcd6",
   "metadata": {},
   "outputs": [],
   "source": [
    "timestamp = dt.now().strftime(\"%Y-%m-%d_%H%M\")  # by minute\n",
    "\n",
    "filename = 'Zerrors.pkl'\n",
    "with open(timestamp + '_' + filename, 'wb+') as f:  # opens a (new) file in write byte mode \n",
    "    pickle.dump(Zerrors1, f)\n",
    "\n",
    "filename = 'Z_by_iter.pkl'\n",
    "with open(timestamp + '_' + filename, 'wb+') as f:  # opens a (new) file in write byte mode \n",
    "    pickle.dump(Zconv, f)\n",
    "    \n",
    "filename = 'Berrors.pkl'\n",
    "with open(timestamp + '_' + filename, 'wb+') as f:  # opens a (new) file in write byte mode \n",
    "    pickle.dump(Berrors1, f)\n",
    "\n",
    "filename = 'B_converge.pkl'\n",
    "with open(timestamp + '_' + filename, 'wb+') as f:  # opens a (new) file in write byte mode \n",
    "    pickle.dump(B_converge1, f)\n",
    "\n",
    "filename = 'Permutations.pkl'\n",
    "with open(timestamp + '_' + filename, 'wb+') as f:  # opens a (new) file in write byte mode \n",
    "pickle.dump(perms, f)\n",
    "    \n",
    "filename = 'waiting_times.pkl'\n",
    "with open(timestamp + '_' + filename, 'wb+') as f:  # opens a (new) file in write byte mode \n",
    "    pickle.dump(waiting_times1, f)\n",
    "    \n",
    "filename = 'sampled_Gs.pkl'\n",
    "with open(timestamp + '_' + filename, 'wb+') as f:  # opens a (new) file in write byte mode \n",
    "    pickle.dump(sampled_Gs1, f)\n",
    "    \n",
    "filename = 'graph_changes.pkl'\n",
    "with open(timestamp + '_' + filename, 'wb+') as f:  # opens a (new) file in write byte mode \n",
    "    pickle.dump(graph_changes1, f)\n",
    "    \n",
    "filename = 'edges_log.pkl'\n",
    "with open(timestamp + '_' + filename, 'wb+') as f:  # opens a (new) file in write byte mode \n",
    "    pickle.dump(edges_log1, f)\n",
    "    \n",
    "filename = 'errors_log.pkl'\n",
    "with open(timestamp + '_' + filename, 'wb+') as f:  # opens a (new) file in write byte mode \n",
    "    pickle.dump(errors_log1, f)\n",
    "\n",
    "filename = 'graph_losses.pkl'\n",
    "with open(timestamp + '_' + filename, 'wb+') as f:  # opens a (new) file in write byte mode \n",
    "    pickle.dump(graph_losses1, f)"
   ]
  }
 ],
 "metadata": {
  "interpreter": {
   "hash": "a803b5bf187bf95155bcb05f6102b06519856e9ee60d4a9ebc29561a74488513"
  },
  "kernelspec": {
   "display_name": "Python 3.8 (d2)",
   "language": "python",
   "name": "d2"
  },
  "language_info": {
   "codemirror_mode": {
    "name": "ipython",
    "version": 3
   },
   "file_extension": ".py",
   "mimetype": "text/x-python",
   "name": "python",
   "nbconvert_exporter": "python",
   "pygments_lexer": "ipython3",
   "version": "3.8.12"
  }
 },
 "nbformat": 4,
 "nbformat_minor": 5
}
