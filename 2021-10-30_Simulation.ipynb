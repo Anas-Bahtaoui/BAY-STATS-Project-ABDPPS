{
 "cells": [
  {
   "cell_type": "code",
   "execution_count": 1,
   "id": "18e28f77",
   "metadata": {},
   "outputs": [],
   "source": [
    "import pymc3 as pm\n",
    "import numpy as np\n",
    "# import numpy.linalg\n",
    "from matplotlib import pyplot as plt"
   ]
  },
  {
   "cell_type": "code",
   "execution_count": 2,
   "id": "f2e51e19",
   "metadata": {},
   "outputs": [],
   "source": [
    "V = [\n",
    "    'dog',\n",
    "    'aunt',\n",
    "    'cat',\n",
    "    'square',\n",
    "    'house',\n",
    "    'root',\n",
    "    'mouse',\n",
    "    'cow',\n",
    "    'palm',\n",
    "    'tree',\n",
    "    'mom',\n",
    "    'sun',\n",
    "    'moon',\n",
    "    'father',\n",
    "    'spoon',\n",
    "    'circle',\n",
    "    'mug',\n",
    "    'glass'\n",
    "]\n",
    "V_arr = np.array(V)"
   ]
  },
  {
   "cell_type": "code",
   "execution_count": 3,
   "id": "d527fa53",
   "metadata": {},
   "outputs": [],
   "source": [
    "def build_topic_distribution(seed=1234):\n",
    "    np.random.seed(seed)\n",
    "    vocabulary_size = len(V)\n",
    "    distribution = np.random.random(vocabulary_size)\n",
    "    return distribution / distribution.sum()"
   ]
  },
  {
   "cell_type": "code",
   "execution_count": 4,
   "id": "3d3729f6",
   "metadata": {},
   "outputs": [
    {
     "data": {
      "text/plain": [
       "array([0.01973417, 0.0641021 , 0.04510347, 0.08092336, 0.08036872,\n",
       "       0.02808795, 0.02848688, 0.08262492, 0.0987267 , 0.09025611,\n",
       "       0.0368695 , 0.05162255, 0.07042403, 0.07343683, 0.03815064,\n",
       "       0.05782566, 0.0518377 , 0.0014187 ])"
      ]
     },
     "execution_count": 4,
     "metadata": {},
     "output_type": "execute_result"
    }
   ],
   "source": [
    "build_topic_distribution()"
   ]
  },
  {
   "cell_type": "code",
   "execution_count": 5,
   "id": "ea5f0df3",
   "metadata": {},
   "outputs": [],
   "source": [
    "topics = {  # Betas\n",
    "    'red': build_topic_distribution(seed=1),\n",
    "    'blue': build_topic_distribution(seed=2),\n",
    "    'green': build_topic_distribution(seed=3),\n",
    "    'pink': build_topic_distribution(seed=4),\n",
    "    'yellow': build_topic_distribution(seed=5)\n",
    "}"
   ]
  },
  {
   "cell_type": "code",
   "execution_count": 6,
   "id": "cba3b07c",
   "metadata": {},
   "outputs": [
    {
     "data": {
      "text/plain": [
       "array([5.95139825e-02, 1.02798842e-01, 1.63226420e-05, 4.31464413e-02,\n",
       "       2.09438049e-02, 1.31778118e-02, 2.65815397e-02, 4.93156112e-02,\n",
       "       5.66234210e-02, 7.68955339e-02, 5.98240254e-02, 9.77889437e-02,\n",
       "       2.91777592e-02, 1.25317765e-01, 3.90853414e-03, 9.56836599e-02,\n",
       "       5.95543411e-02, 7.97316600e-02])"
      ]
     },
     "execution_count": 6,
     "metadata": {},
     "output_type": "execute_result"
    }
   ],
   "source": [
    "topics['red']"
   ]
  },
  {
   "cell_type": "code",
   "execution_count": 7,
   "id": "35dfc12c",
   "metadata": {},
   "outputs": [
    {
     "data": {
      "text/plain": [
       "1.0"
      ]
     },
     "execution_count": 7,
     "metadata": {},
     "output_type": "execute_result"
    }
   ],
   "source": [
    "topics['red'].sum()"
   ]
  },
  {
   "cell_type": "code",
   "execution_count": 8,
   "id": "5bf5b2a3",
   "metadata": {},
   "outputs": [
    {
     "data": {
      "text/plain": [
       "5"
      ]
     },
     "execution_count": 8,
     "metadata": {},
     "output_type": "execute_result"
    }
   ],
   "source": [
    "topics_number = len(topics)\n",
    "topics_number"
   ]
  },
  {
   "cell_type": "code",
   "execution_count": 9,
   "id": "957b0e0e",
   "metadata": {},
   "outputs": [
    {
     "data": {
      "text/plain": [
       "array([0.00775911, 0.2647408 , 0.04999273, 0.427745  , 0.24976236])"
      ]
     },
     "execution_count": 9,
     "metadata": {},
     "output_type": "execute_result"
    }
   ],
   "source": [
    "np.random.seed(1984)\n",
    "topic_mean = np.random.random(len(topics)) \n",
    "topic_mean /= topic_mean.sum()  # Mu\n",
    "topic_mean"
   ]
  },
  {
   "cell_type": "code",
   "execution_count": 10,
   "id": "24b6b317",
   "metadata": {},
   "outputs": [
    {
     "data": {
      "text/plain": [
       "array([[0.9258647 , 1.32977215, 1.1960876 , 1.02902203, 0.2354462 ],\n",
       "       [1.32977215, 2.59107874, 1.65456663, 1.74944266, 0.87948846],\n",
       "       [1.1960876 , 1.65456663, 2.06661948, 1.5962034 , 0.45713552],\n",
       "       [1.02902203, 1.74944266, 1.5962034 , 1.42787331, 0.61474357],\n",
       "       [0.2354462 , 0.87948846, 0.45713552, 0.61474357, 0.71282345]])"
      ]
     },
     "execution_count": 10,
     "metadata": {},
     "output_type": "execute_result"
    }
   ],
   "source": [
    "np.random.seed(12)\n",
    "topic_covariance = np.random.random((topics_number, topics_number))\n",
    "topic_covariance = np.dot(topic_covariance, topic_covariance.T)\n",
    "topic_covariance"
   ]
  },
  {
   "cell_type": "code",
   "execution_count": 11,
   "id": "43f247f3",
   "metadata": {},
   "outputs": [],
   "source": [
    "def transform_proportions(eta):\n",
    "    # Not sure about this\n",
    "    theta = np.exp(eta)\n",
    "    theta /= theta.sum()\n",
    "    return theta.squeeze()"
   ]
  },
  {
   "cell_type": "code",
   "execution_count": 24,
   "id": "1360b3fd",
   "metadata": {},
   "outputs": [
    {
     "name": "stdout",
     "output_type": "stream",
     "text": [
      "0-th word drawn from topic green is square\n",
      "1-th word drawn from topic green is glass\n",
      "2-th word drawn from topic blue is house\n",
      "3-th word drawn from topic green is tree\n",
      "4-th word drawn from topic green is glass\n",
      "5-th word drawn from topic green is glass\n",
      "6-th word drawn from topic blue is sun\n",
      "7-th word drawn from topic blue is palm\n",
      "8-th word drawn from topic red is father\n",
      "9-th word drawn from topic blue is father\n"
     ]
    },
    {
     "data": {
      "text/plain": [
       "array([0., 0., 0., 1., 1., 0., 0., 0., 1., 1., 0., 1., 0., 2., 0., 0., 0.,\n",
       "       3.])"
      ]
     },
     "execution_count": 24,
     "metadata": {},
     "output_type": "execute_result"
    }
   ],
   "source": [
    "# Correct with this: https://numpy.org/doc/stable/reference/random/index.html#random-quick-start\n",
    "\n",
    "# Building a document:\n",
    "N = 10\n",
    "\n",
    "seed = 1979\n",
    "np.random.seed(seed)\n",
    "\n",
    "# Eta\n",
    "topic_proportions = np.random.multivariate_normal(topic_mean, topic_covariance, 1)  # (in LDA this is a Dirichlet)\n",
    "\n",
    "# Theta\n",
    "topic_normalized_proportions = transform_proportions(topic_proportions)\n",
    "\n",
    "# BoW\n",
    "document = np.zeros(len(V))\n",
    "\n",
    "for n in range(N):\n",
    "    topic_assignment = np.random.multinomial(1, pvals=topic_normalized_proportions).squeeze().astype(bool)\n",
    "    assigned_topic = np.array(list(topics.keys()))[topic_assignment][0]\n",
    "    assigned_topic_distribution = topics[assigned_topic]\n",
    "    word_mask = np.random.multinomial(1, pvals=assigned_topic_distribution).squeeze()\n",
    "    word = V_arr[word_mask.astype(bool)][0]\n",
    "    document += word_mask\n",
    "    print(f'{n}-th word drawn from topic {assigned_topic} is {word}')\n",
    "document"
   ]
  },
  {
   "cell_type": "markdown",
   "id": "0b758b4e",
   "metadata": {},
   "source": [
    "## Lasso"
   ]
  },
  {
   "cell_type": "markdown",
   "id": "7029daaf",
   "metadata": {},
   "source": [
    "I am simulating a covariance matrix sigma (suppose we find it with the VEM algorithm), inverting it and using it to build an adjacency matrix."
   ]
  },
  {
   "cell_type": "code",
   "execution_count": 155,
   "id": "fe06afa5",
   "metadata": {},
   "outputs": [
    {
     "data": {
      "text/plain": [
       "<matplotlib.image.AxesImage at 0x7f70524ec5e0>"
      ]
     },
     "execution_count": 155,
     "metadata": {},
     "output_type": "execute_result"
    },
    {
     "data": {
      "image/png": "[encoded data removed]",
      "text/plain": [
       "<Figure size 288x288 with 1 Axes>"
      ]
     },
     "metadata": {
      "needs_background": "light"
     },
     "output_type": "display_data"
    }
   ],
   "source": [
    "size = 12\n",
    "seed = 1997\n",
    "np.random.seed(seed)\n",
    "sigma = np.random.random((size, size))\n",
    "sigma = np.dot(sigma, sigma.T)  # This way it becomes positive semidefinite\n",
    "# print(sigma)\n",
    "plt.matshow(sigma)"
   ]
  },
  {
   "cell_type": "code",
   "execution_count": 156,
   "id": "d2dc337e",
   "metadata": {},
   "outputs": [
    {
     "data": {
      "text/plain": [
       "<matplotlib.image.AxesImage at 0x7f70524b2d90>"
      ]
     },
     "execution_count": 156,
     "metadata": {},
     "output_type": "execute_result"
    },
    {
     "data": {
      "image/png": "[encoded data removed]",
      "text/plain": [
       "<Figure size 288x288 with 1 Axes>"
      ]
     },
     "metadata": {
      "needs_background": "light"
     },
     "output_type": "display_data"
    }
   ],
   "source": [
    "sigma_inv = sigma**-1 \n",
    "# print(sigma_inv)\n",
    "plt.matshow(sigma_inv)"
   ]
  },
  {
   "cell_type": "markdown",
   "id": "16dbd985",
   "metadata": {},
   "source": [
    "I use Lasso to decide which edges to keep or to discard."
   ]
  },
  {
   "cell_type": "code",
   "execution_count": 148,
   "id": "bcbf3ded",
   "metadata": {},
   "outputs": [],
   "source": [
    "from sklearn.linear_model import Lasso"
   ]
  },
  {
   "cell_type": "code",
   "execution_count": 157,
   "id": "8adda612",
   "metadata": {},
   "outputs": [],
   "source": [
    "rho = 0.005  # Lasso penalization\n",
    "\n",
    "adjacency = np.zeros((size, size))\n",
    "\n",
    "for i in range(size -1):\n",
    "    \n",
    "    \n",
    "    \n",
    "    lasso = Lasso(alpha=rho)\n",
    "    lasso.fit(X=sigma_inv[:,[j for j in range(size) if j > i]], y=sigma_inv[:,i])\n",
    "    \n",
    "#     print(i)\n",
    "#     print(lasso.coef_)\n",
    "    \n",
    "    new_line = (lasso.coef_ != 0).astype(int)  # setting 1's where the coefficients are different from zero\n",
    "    adjacency[i, i+1:] = new_line  # Writing the i-th line of the adjacency matrix (above diagonal)\n",
    "    \n",
    "adjacency += adjacency.T  # Making it symmetric"
   ]
  },
  {
   "cell_type": "code",
   "execution_count": 158,
   "id": "cec74ebb",
   "metadata": {},
   "outputs": [
    {
     "data": {
      "text/plain": [
       "<matplotlib.image.AxesImage at 0x7f7052405af0>"
      ]
     },
     "execution_count": 158,
     "metadata": {},
     "output_type": "execute_result"
    },
    {
     "data": {
      "image/png": "[encoded data removed]",
      "text/plain": [
       "<Figure size 288x288 with 1 Axes>"
      ]
     },
     "metadata": {
      "needs_background": "light"
     },
     "output_type": "display_data"
    }
   ],
   "source": [
    "# print(adjacency)\n",
    "plt.matshow(adjacency)"
   ]
  },
  {
   "cell_type": "code",
   "execution_count": null,
   "id": "f64ddfbb",
   "metadata": {},
   "outputs": [],
   "source": [
    "# Saving it in a format that can be read by \"Gephi\" application"
   ]
  },
  {
   "cell_type": "code",
   "execution_count": 152,
   "id": "cdf657cc",
   "metadata": {},
   "outputs": [],
   "source": [
    "import networkx as nx"
   ]
  },
  {
   "cell_type": "code",
   "execution_count": 153,
   "id": "1afd3903",
   "metadata": {},
   "outputs": [],
   "source": [
    "g = nx.convert_matrix.from_numpy_array(adjacency)"
   ]
  },
  {
   "cell_type": "code",
   "execution_count": 154,
   "id": "2def1120",
   "metadata": {},
   "outputs": [],
   "source": [
    "nx.write_gexf(g, 'simulated.gexf')"
   ]
  },
  {
   "cell_type": "code",
   "execution_count": null,
   "id": "ce8a9ec2",
   "metadata": {},
   "outputs": [],
   "source": []
  },
  {
   "cell_type": "code",
   "execution_count": null,
   "id": "257d822a",
   "metadata": {},
   "outputs": [],
   "source": []
  }
 ],
 "metadata": {
  "kernelspec": {
   "display_name": "Python 3.8 (d2)",
   "language": "python",
   "name": "d2"
  },
  "language_info": {
   "codemirror_mode": {
    "name": "ipython",
    "version": 3
   },
   "file_extension": ".py",
   "mimetype": "text/x-python",
   "name": "python",
   "nbconvert_exporter": "python",
   "pygments_lexer": "ipython3",
   "version": "3.8.12"
  }
 },
 "nbformat": 4,
 "nbformat_minor": 5
}
