{
 "cells": [
  {
   "cell_type": "code",
   "execution_count": 1,
   "id": "0990d342",
   "metadata": {},
   "outputs": [],
   "source": [
    "# GLOBAL VARIABLES. BE SURE NOT TO OVERWRITE THEM\n",
    "D = 8 # Amount of documents\n",
    "V = 12 # Size of the vocabulary\n",
    "\n",
    "# (Approximate) Maximum allowed amount of same word repetition in a document (it may be lower in practise due to the data generation strategy)\n",
    "# To get the actual maximum amount, call Simulator.get_M\n",
    "M = 10 \n",
    "\n",
    "k = 5 # Amount of topics\n",
    "gamma = 0.2  # 0.05"
   ]
  },
  {
   "cell_type": "code",
   "execution_count": 2,
   "id": "e19c3125",
   "metadata": {},
   "outputs": [],
   "source": [
    "# # GLOBAL VARIABLES. BE SURE NOT TO OVERWRITE THEM\n",
    "# D = 100 # Amount of documents\n",
    "# V = 20 # Size of the vocabulary\n",
    "\n",
    "# # (Approximate) Maximum allowed amount of same word repetition in a document (it may be lower in practise due to the data generation strategy)\n",
    "# # To get the actual maximum amount, call Simulator.get_M\n",
    "# M = 10 \n",
    "\n",
    "# k = 10 # Amount of topics\n",
    "# gamma = 0.05"
   ]
  },
  {
   "cell_type": "markdown",
   "id": "e0123764",
   "metadata": {},
   "source": [
    "## IMPORTANT: Please use static random seeds in **EVERY** cell where you use a random function, so that the result does **NOT** change at every run."
   ]
  },
  {
   "cell_type": "markdown",
   "id": "046df285",
   "metadata": {},
   "source": [
    "# 1. ARTIFICIAL DATA"
   ]
  },
  {
   "cell_type": "markdown",
   "id": "7304590f",
   "metadata": {},
   "source": [
    "### Task:\n",
    "\n",
    "You must implement an algorithm that generates an artificial *corpus*, and return also a graph G and a correlation matrix Sigma."
   ]
  },
  {
   "cell_type": "code",
   "execution_count": 3,
   "id": "38e2c0d0",
   "metadata": {},
   "outputs": [],
   "source": [
    "import numpy as np\n",
    "import pandas as pd\n",
    "from scipy.stats import bernoulli\n",
    "#!pip install sklearn\n",
    "from sklearn.datasets import make_sparse_spd_matrix\n",
    "import matplotlib.pyplot as plt"
   ]
  },
  {
   "cell_type": "code",
   "execution_count": 4,
   "id": "0ee10f58",
   "metadata": {},
   "outputs": [],
   "source": [
    "# Transformation functions (deterministic)\n",
    "\n",
    "def update_Theta(Theta, H, log=False):\n",
    "    for d in range(D):\n",
    "        Theta[d] = np.exp(H[d]) / np.sum(np.exp(H[d]), axis=0)\n",
    "    if log:\n",
    "        print('Success: Theta transformed from H')\n",
    "    return Theta\n",
    "\n",
    "def update_E(E, Z):\n",
    "    k = E.shape[1]\n",
    "    for topic in range(k):\n",
    "        E[:, topic] = np.sum(Z == topic, axis=2).sum(axis=1)\n",
    "    print('Success: E transformed from Z')\n",
    "    return E\n",
    "\n",
    "def update_C(C, Z):\n",
    "    k = C.shape[0]\n",
    "    for topic in range(k):\n",
    "        C[topic, :] = np.sum(Z == topic, axis=2).sum(axis=0)\n",
    "    print('Success: C transformed from Z')\n",
    "    return C\n",
    "\n",
    "def update_B(B, C):\n",
    "    # Note this is the transformation from C\n",
    "    for topic in range(0, len(B)):\n",
    "        B[topic] = C[topic] / sum(C[topic])\n",
    "    print('Success: B transformed from C')\n",
    "    return B\n",
    "\n",
    "def update_Sigma(K):\n",
    "    Sigma = np.linalg.inv(K)\n",
    "    print('Success: Sigma transformed from K')\n",
    "    return Sigma"
   ]
  },
  {
   "cell_type": "code",
   "execution_count": 5,
   "id": "1ca91ad1",
   "metadata": {},
   "outputs": [],
   "source": [
    "# Random / Generating functions\n",
    "\n",
    "def build_topic_distribution(seed):\n",
    "    np.random.seed(seed)\n",
    "    distribution = np.random.random(V)\n",
    "    return distribution / distribution.sum()\n",
    "\n",
    "def sample_B(seed):\n",
    "    # B is the matrix whose rows are the distribution of topic i over the vocabulary\n",
    "    # Each row means : for each topic i we have the probability of word i to occur\n",
    "    # TODO: Change with Dirichlet prior -> See line to change\n",
    "    b = np.empty((k,V))\n",
    "    np.random.seed(seed)\n",
    "    for i in range(k):\n",
    "        b[i,:] = build_topic_distribution(seed)  # TODO: Change\n",
    "    return b\n",
    "\n",
    "def sample_G(k, gamma, seed):  # Won't update Sigma automatically anymore\n",
    "    # Bernoulli for G\n",
    "    # generate a random adjacency matrix\n",
    "    np.random.seed(seed)\n",
    "    matrix = np.array([[int(bernoulli.rvs(p=gamma, size=1)) for i in range(k)] for j in range(k)])\n",
    "    for i in range(k):\n",
    "        matrix[i][i] = 0\n",
    "    for i in range(k):\n",
    "        for j in range(k):\n",
    "            matrix[j][i] = matrix[i][j]\n",
    "    return matrix\n",
    "\n",
    "def sample_K(k, seed):  # Won't update Sigma automatically anymore\n",
    "    # I can build K for using make_sparse_spd_matrix from sklearn.datasets for example\n",
    "    np.random.seed(seed)\n",
    "    K = make_sparse_spd_matrix(k, alpha=0.95, norm_diag=False, smallest_coef=0.1, largest_coef=0.9, random_state=None)\n",
    "    return K\n",
    "\n",
    "def sample_H(Sigma, D, k, seed):  # Won't update Theta automatically anymore\n",
    "    # Multivariate Normal\n",
    "    mu = np.zeros(k)\n",
    "    np.random.seed(seed)\n",
    "    H = np.random.multivariate_normal(mu, Sigma, D)\n",
    "    return H\n",
    "\n",
    "def sample_Z_from_W(W, k, seed):\n",
    "    D, V = W.shape\n",
    "    M = int(W.max())\n",
    "    Z = -np.ones((D, V, M))\n",
    "    np.random.seed(seed)\n",
    "    for d in range(D):\n",
    "        for w in range(V): \n",
    "            occurrences = W[d, w]\n",
    "            Z[d, w, 0:occurrences] = np.random.randint(0, k, size=occurrences)    \n",
    "    return Z"
   ]
  },
  {
   "cell_type": "code",
   "execution_count": 6,
   "id": "82863646",
   "metadata": {},
   "outputs": [],
   "source": [
    "# Main Simulator Class\n",
    "class Simulator:\n",
    "    \n",
    "    # Remember we will have indexes starting from 0 so all max are -=1\n",
    "    \n",
    "    def __init__(self, D, V, M, k, gamma, seed):\n",
    "        # Create zero matrices for all possible matrices\n",
    "        self.W = np.zeros((D, V))  # matrix of D×V where Wdn is counter of appearances of the word n in document d\n",
    "        self.B = np.zeros((k, V))  # matrix of kxV where Bz is the parameter vector of the distribution for the z-th topic\n",
    "        self.C = np.zeros((k, V))  # matrix of kxV where Cz is the count vec of sampled topics over each word for all docs\n",
    "        self.E = np.zeros((D, k))  # matrix of Dxk where Ed is the count vec of sampled drawings for topic z over all words for each doc\n",
    "        self.H = np.zeros((D, k))  # H_d is eta_d\n",
    "        self.Theta = np.zeros((D, k))  # This is just a transformation of H\n",
    "        self.G = np.zeros((k, k))  # Adjacency Matrix (Check also python package \"networkx\" for graph objects!)\n",
    "        self.K = np.zeros((k, k))  # Precision matrix of G\n",
    "        self.Sigma = np.zeros((k, k))  # Inverse of K\n",
    "        self.Z = -np.ones((D, V, M))  # Topic assignments for each words of each document\n",
    "        self.D = D\n",
    "        self.V = V\n",
    "        self.M = M\n",
    "        self.k = k\n",
    "        self.gamma = gamma\n",
    "        self.seed = seed  # Random seed\n",
    "\n",
    "    # Generations\n",
    "    def generate_WZ(self):\n",
    "        if M == 0:\n",
    "            raise Exception('Error: M value is 0')\n",
    "        elif np.sum(self.Theta, axis=1).sum(axis=0) == 0:\n",
    "            raise Exception('Error: Theta matrix 0')\n",
    "        elif np.sum(self.B, axis=1).sum(axis=0) == 0:\n",
    "            raise Exception('Error: B matrix 0')\n",
    "        \n",
    "        np.random.seed(self.seed)\n",
    "        # Ref https://numpy.org/doc/stable/reference/random/generated/numpy.random.multinomial.html\n",
    "        # Multinomial drawing for Z and then W\n",
    "        for d in range(self.D):\n",
    "            \n",
    "            # Maximum number of word drawings in the document            \n",
    "            N_d = np.random.randint(1, int(self.M * self.V * 0.7))  # Hard-coding 70% thinning factor\n",
    "            for n in range(N_d):\n",
    "                \n",
    "                # Multinomial drawing from Theta, because it has to be normalized\n",
    "                # This will give a canonical vector over k\n",
    "                mult = np.random.multinomial(1, self.Theta[d], size=1)  # This is a vector of 0's with a single 1\n",
    "                z = np.argmax(mult)  # This is the index of the 1 (Topic index)\n",
    "                \n",
    "                # Multinomial drawing from Beta\n",
    "                # This will give a canonical vector over V\n",
    "                mult = np.random.multinomial(1, self.B[z], size=1)  # This is a vector of 0's with a single 1\n",
    "                w = np.argmax(mult)  # This is the index of the 1 (Word index)\n",
    "                \n",
    "                empty_cell_indexes = np.nonzero(self.Z[d, w] == -1)[0]  # Check if there are still possible unassigned occurrences for this word\n",
    "                if empty_cell_indexes.size != 0:  # At least one entry is not assigned\n",
    "                    first_empty_index = empty_cell_indexes[0]\n",
    "                    self.Z[d, w, first_empty_index] = z  # Assinging word to topic\n",
    "                    self.W[d, w] += 1  # Increasing word counter\n",
    "        \n",
    "        print('Success: W and Z generated')\n",
    "    \n",
    "    # Transformations\n",
    "    def update_Theta(self):\n",
    "        self.Theta = update_Theta(self.Theta, self.H)\n",
    "    \n",
    "    def update_E(self):\n",
    "        self.E = update_E(self.E, self.Z)\n",
    "    \n",
    "    def update_C(self):\n",
    "        self.C = update_C(self.C, self.Z)\n",
    "    \n",
    "    def update_Sigma(self):\n",
    "        self.Sigma = update_Sigma(self.K)\n",
    "    \n",
    "    # Initializing with real data\n",
    "    # def save_W()\n",
    "    \n",
    "    # Priors\n",
    "    def sample_B(self):\n",
    "        self.B = sample_B(self.seed)\n",
    "        \n",
    "    def sample_GK(self):  # Here we can update Sigma automatically\n",
    "        self.G = sample_G(self.k, self.gamma, self.seed)\n",
    "        self.K = sample_K(self.k, self.seed)\n",
    "        self.update_Sigma()\n",
    "    \n",
    "    def sample_H(self):  # Here we can update Theta automatically\n",
    "        self.H = sample_H(self.Sigma, self.D, self.k, self.seed)\n",
    "        self.update_Theta()\n",
    "    \n",
    "    def generate_all_data(self):\n",
    "        # TODO: This should run all relevant methods one after the other in order to fully populate all data matrixes\n",
    "        self.sample_B()  # Will get B\n",
    "        self.sample_GK()  # Will get G, K, Sigma\n",
    "        self.sample_H()  # Will get H, Theta from Sigma\n",
    "        self.generate_WZ()  # Will get W, Z from Theta, B\n",
    "        self.update_E()  # Will get E from Z\n",
    "        self.update_C()  # Will get C from Z\n",
    "        pass"
   ]
  },
  {
   "cell_type": "markdown",
   "id": "88315262",
   "metadata": {},
   "source": [
    "## 1.1 Simulator Tests"
   ]
  },
  {
   "cell_type": "code",
   "execution_count": 7,
   "id": "d7a1d438",
   "metadata": {},
   "outputs": [
    {
     "name": "stdout",
     "output_type": "stream",
     "text": [
      "Success: Sigma transformed from K\n",
      "Success: W and Z generated\n",
      "Success: E transformed from Z\n"
     ]
    }
   ],
   "source": [
    "test0 = Simulator(D, V, M, k, gamma, seed=1996)\n",
    "test0.sample_GK()  # Will get G, K, Sigma\n",
    "test0.sample_H()  # Will get H, Theta from Sigma\n",
    "test0.sample_B()  # Will get B\n",
    "test0.generate_WZ()\n",
    "test0.update_E()"
   ]
  },
  {
   "cell_type": "code",
   "execution_count": 8,
   "id": "095d62d8",
   "metadata": {},
   "outputs": [
    {
     "data": {
      "text/plain": [
       "array([[ 3.,  1.,  5.,  8.,  1.,  9.,  4.,  8.,  5., 10.,  2.,  2.],\n",
       "       [ 9.,  2.,  6.,  9.,  2.,  4.,  9.,  7., 10.,  7.,  5.,  2.],\n",
       "       [ 2.,  0.,  0.,  2.,  0.,  1.,  1.,  2.,  2.,  2.,  0.,  0.],\n",
       "       [ 2.,  0.,  3.,  2.,  1.,  1.,  1.,  2.,  1.,  1.,  0.,  1.],\n",
       "       [ 1.,  0.,  0.,  1.,  0.,  1.,  2.,  2.,  3.,  2.,  0.,  0.],\n",
       "       [ 9.,  0.,  3., 10.,  0.,  6.,  9.,  9., 10., 10.,  3.,  0.],\n",
       "       [ 8.,  0.,  5.,  8.,  1.,  6., 10.,  6., 10., 10.,  0.,  1.],\n",
       "       [ 5.,  1.,  3.,  2.,  0.,  2.,  4.,  3.,  4.,  6.,  1.,  0.]])"
      ]
     },
     "execution_count": 8,
     "metadata": {},
     "output_type": "execute_result"
    }
   ],
   "source": [
    "test0.W\n",
    "\n",
    "# NOTE:\n",
    "# With M*D it's not really respected that M is the real max, just a desired one\n",
    "# With 70% of that it's still not respected but closer\n",
    "# With 50% of that it's respected in this case -> Could check if we can have real max M at some point"
   ]
  },
  {
   "cell_type": "code",
   "execution_count": 9,
   "id": "31f174e2",
   "metadata": {},
   "outputs": [
    {
     "data": {
      "text/plain": [
       "<matplotlib.image.AxesImage at 0x7f8c7b18e610>"
      ]
     },
     "execution_count": 9,
     "metadata": {},
     "output_type": "execute_result"
    },
    {
     "data": {
      "image/png": "[encoded data removed]",
      "text/plain": [
       "<Figure size 288x288 with 1 Axes>"
      ]
     },
     "metadata": {
      "needs_background": "light"
     },
     "output_type": "display_data"
    }
   ],
   "source": [
    "# NOTE You can simply use mathshow to plot matrices:\n",
    "plt.matshow(test0.G, cmap='Blues')"
   ]
  },
  {
   "cell_type": "code",
   "execution_count": 10,
   "id": "8caac31f",
   "metadata": {},
   "outputs": [
    {
     "name": "stdout",
     "output_type": "stream",
     "text": [
      "Success: Sigma transformed from K\n",
      "Success: W and Z generated\n",
      "Success: E transformed from Z\n",
      "Success: C transformed from Z\n"
     ]
    },
    {
     "data": {
      "text/plain": [
       "array([[ 1.,  1.,  2.,  0.,  0.,  2.,  2.,  1.,  1.,  1.,  0.,  3.],\n",
       "       [ 0.,  3.,  0.,  0.,  1.,  0.,  0.,  0.,  0.,  0.,  0.,  1.],\n",
       "       [ 0.,  0.,  1.,  0.,  0.,  0.,  0.,  0.,  0.,  0.,  0.,  0.],\n",
       "       [ 7.,  3.,  5.,  2.,  8.,  1.,  3.,  8.,  5.,  3.,  0.,  5.],\n",
       "       [ 6.,  5.,  7.,  1.,  6.,  3.,  4.,  3.,  5.,  3.,  1., 10.],\n",
       "       [ 0.,  0.,  0.,  0.,  0.,  0.,  1.,  2.,  0.,  0.,  0.,  0.],\n",
       "       [ 2.,  2.,  3.,  0.,  4.,  3.,  0.,  1.,  2.,  4.,  2.,  5.],\n",
       "       [ 5.,  2.,  2.,  0.,  5.,  1.,  5.,  1.,  9.,  3.,  3.,  3.]])"
      ]
     },
     "execution_count": 10,
     "metadata": {},
     "output_type": "execute_result"
    }
   ],
   "source": [
    "# All in one function\n",
    "test1 = Simulator(D, V, M, k, gamma, seed=1979)\n",
    "test1.generate_all_data()\n",
    "test1.W"
   ]
  },
  {
   "cell_type": "code",
   "execution_count": 11,
   "id": "ca820eb6",
   "metadata": {},
   "outputs": [
    {
     "data": {
      "text/plain": [
       "<matplotlib.image.AxesImage at 0x7f8c7b36d7f0>"
      ]
     },
     "execution_count": 11,
     "metadata": {},
     "output_type": "execute_result"
    },
    {
     "data": {
      "image/png": "[encoded data removed]",
      "text/plain": [
       "<Figure size 288x288 with 1 Axes>"
      ]
     },
     "metadata": {
      "needs_background": "light"
     },
     "output_type": "display_data"
    }
   ],
   "source": [
    "# NOTE You can simply use mathshow to plot matrices:\n",
    "plt.matshow(test1.G, cmap='Blues')"
   ]
  },
  {
   "cell_type": "code",
   "execution_count": 12,
   "id": "3c877d42",
   "metadata": {},
   "outputs": [
    {
     "name": "stdout",
     "output_type": "stream",
     "text": [
      "Success: Sigma transformed from K\n",
      "Success: W and Z generated\n",
      "Success: E transformed from Z\n",
      "Success: C transformed from Z\n"
     ]
    }
   ],
   "source": [
    "# Confirming that with the same seed and input parameters, data generated are the same\n",
    "test2 = Simulator(D, V, M, k, gamma, seed=1979)\n",
    "test2.generate_all_data()\n",
    "assert np.all(np.equal(test1.W, test2.W))  "
   ]
  },
  {
   "cell_type": "code",
   "execution_count": 13,
   "id": "2588386a",
   "metadata": {},
   "outputs": [
    {
     "data": {
      "text/plain": [
       "<matplotlib.image.AxesImage at 0x7f8c75fa1100>"
      ]
     },
     "execution_count": 13,
     "metadata": {},
     "output_type": "execute_result"
    },
    {
     "data": {
      "image/png": "[encoded data removed]",
      "text/plain": [
       "<Figure size 288x288 with 1 Axes>"
      ]
     },
     "metadata": {
      "needs_background": "light"
     },
     "output_type": "display_data"
    }
   ],
   "source": [
    "# NOTE You can simply use mathshow to plot matrices:\n",
    "plt.matshow(test2.G, cmap='Blues')"
   ]
  },
  {
   "cell_type": "markdown",
   "id": "14cc6701",
   "metadata": {},
   "source": [
    "From now on let's use the following simulated data for further testing"
   ]
  },
  {
   "cell_type": "code",
   "execution_count": 14,
   "id": "e6bc6a03",
   "metadata": {},
   "outputs": [
    {
     "name": "stdout",
     "output_type": "stream",
     "text": [
      "Success: Sigma transformed from K\n",
      "Success: W and Z generated\n",
      "Success: E transformed from Z\n",
      "Success: C transformed from Z\n",
      "Success: Sigma transformed from K\n",
      "Success: W and Z generated\n",
      "Success: E transformed from Z\n",
      "Success: C transformed from Z\n"
     ]
    }
   ],
   "source": [
    "test_data = Simulator(D, V, M, k, gamma, seed=1967)  # Man on the moon\n",
    "test_data.generate_all_data()\n",
    "\n",
    "random_initial_data = Simulator(D, V, M, k, gamma, seed=1969)  # Woodstock Music Festival\n",
    "random_initial_data.generate_all_data()\n",
    "\n",
    "# Problem: We need at least matching Ws (?)\n",
    "# Shouldn't we generate the random initial data starting from W?\n",
    "# random_initial_data.W = test_data.W\n",
    "# random_initial_data.Z = sample_Z_from_W(test_data.W, k, seed=1969)\n",
    "# ..."
   ]
  },
  {
   "cell_type": "code",
   "execution_count": 15,
   "id": "4cf22576",
   "metadata": {},
   "outputs": [
    {
     "data": {
      "text/plain": [
       "<matplotlib.image.AxesImage at 0x7f8c7b4ee280>"
      ]
     },
     "execution_count": 15,
     "metadata": {},
     "output_type": "execute_result"
    },
    {
     "data": {
      "image/png": "[encoded data removed]",
      "text/plain": [
       "<Figure size 288x288 with 1 Axes>"
      ]
     },
     "metadata": {
      "needs_background": "light"
     },
     "output_type": "display_data"
    },
    {
     "data": {
      "image/png": "[encoded data removed]",
      "text/plain": [
       "<Figure size 288x288 with 1 Axes>"
      ]
     },
     "metadata": {
      "needs_background": "light"
     },
     "output_type": "display_data"
    }
   ],
   "source": [
    "plt.matshow(test_data.G, cmap='Blues')\n",
    "\n",
    "plt.matshow(random_initial_data.G, cmap='Blues')"
   ]
  },
  {
   "cell_type": "markdown",
   "id": "0dc94916",
   "metadata": {},
   "source": [
    "# 2 MC SAMPLER"
   ]
  },
  {
   "cell_type": "markdown",
   "id": "accb70ec",
   "metadata": {},
   "source": [
    "## 2.1.1 MCMC Sampling"
   ]
  },
  {
   "cell_type": "markdown",
   "id": "bb82a982",
   "metadata": {},
   "source": [
    "### Task:\n",
    "\n",
    "You must implement a function that receives matrices $W$, $\\Theta_{i+1}$ and $B_i$ and generates the next $Z_{i+1}$ and $B_{i+1}$."
   ]
  },
  {
   "cell_type": "code",
   "execution_count": 16,
   "id": "b7cca1cf",
   "metadata": {},
   "outputs": [],
   "source": [
    "def binary_search(sequence, item):\n",
    "    begin_index = 0\n",
    "    end_index = len(sequence)-1\n",
    "    \n",
    "    if sequence[begin_index] <= item and item <= sequence[end_index]:\n",
    "        while begin_index < end_index - 1:  # Finish when the list has 2 items: Begin and end\n",
    "            midpoint = (end_index + begin_index) // 2\n",
    "            midpoint_value = sequence[midpoint]\n",
    "            if midpoint_value < item:\n",
    "                begin_index = midpoint\n",
    "            else:\n",
    "                end_index = midpoint\n",
    "        if sequence[begin_index] == item:\n",
    "            return begin_index + 1\n",
    "        elif item <= sequence[end_index]:\n",
    "            return end_index\n",
    "    else:\n",
    "        return -1"
   ]
  },
  {
   "cell_type": "code",
   "execution_count": 30,
   "id": "d98f0a3f",
   "metadata": {},
   "outputs": [],
   "source": [
    "def MC_sample_Z(Z, W, Theta, B, E, C):  # D, k are global variables\n",
    "    for d in range(D):\n",
    "        for v in range(V):\n",
    "            I_di = int(W[d, v])\n",
    "            for j in range(I_di):\n",
    "                z_hat = int(Z[d, v, j])\n",
    "                \n",
    "                if z_hat != -1:  # Bug fix: Took invalid topics and assigned them\n",
    "                \n",
    "                    E[d, z_hat] = max(0, E[d, z_hat]-1)\n",
    "\n",
    "                    C[z_hat, v] = max(0, C[z_hat, v]-1)\n",
    "\n",
    "                    Rho = []  # Needs to start from zero to have the interval to fall into topic 1\n",
    "                    Rho_z = 0\n",
    "                    #Rho.append(Rho_z)\n",
    "\n",
    "                    for z in range(k):\n",
    "                        # Compute the denominator sum\n",
    "                        C_vk = 0\n",
    "                        for b in range(V):\n",
    "                            if b != v:\n",
    "                                C_vk += C[z, b]\n",
    "                        # Compute the upper limits of the topic probabilities\n",
    "                        d_part = E[d, z] + Theta[d, z]\n",
    "                        z_part = C[z, v] + B[z, v]\n",
    "                        denom = C_vk + V * B[z, v]\n",
    "                        Rho_z = d_part * z_part / denom\n",
    "                        Rho.append(Rho_z)\n",
    "                        \n",
    "                    Rho = Rho / np.sum(Rho, axis=0)\n",
    "\n",
    "                    #print('Old topic: '+str(z_hat)+' search in: '+str(Rho))\n",
    "\n",
    "                    #u = np.random.uniform(0, Rho[-1])\n",
    "                    #z_hat = binary_search(Rho, u) - 1\n",
    "                    \n",
    "                    z_hat = np.random.choice(k, 1, p=Rho)\n",
    "\n",
    "                    E[d, z_hat] += 1\n",
    "                    C[z_hat, v] += 1\n",
    "                    Z[d, v, j] = z_hat\n",
    "\n",
    "                    #print('New topic: '+str(z_hat)+', counter by doc: '+str(E[d, z_hat])+', counter by topic: '+str(C[z_hat, v]))\n",
    "\n",
    "    # Note that we directly modify Z since the update per topic helps for the next iteration \n",
    "    return Z, E, C"
   ]
  },
  {
   "cell_type": "markdown",
   "id": "edad6790",
   "metadata": {},
   "source": [
    "## 2.1.2 MCMC Sampling Tests"
   ]
  },
  {
   "cell_type": "code",
   "execution_count": 31,
   "id": "9666d023",
   "metadata": {},
   "outputs": [
    {
     "data": {
      "text/plain": [
       "array([[-1., -1., -1., -1., -1., -1., -1., -1., -1., -1.],\n",
       "       [-1., -1., -1., -1., -1., -1., -1., -1., -1., -1.],\n",
       "       [-1., -1., -1., -1., -1., -1., -1., -1., -1., -1.],\n",
       "       [-1., -1., -1., -1., -1., -1., -1., -1., -1., -1.],\n",
       "       [-1., -1., -1., -1., -1., -1., -1., -1., -1., -1.],\n",
       "       [-1., -1., -1., -1., -1., -1., -1., -1., -1., -1.],\n",
       "       [ 0.,  1., -1., -1., -1., -1., -1., -1., -1., -1.],\n",
       "       [-1., -1., -1., -1., -1., -1., -1., -1., -1., -1.],\n",
       "       [-1., -1., -1., -1., -1., -1., -1., -1., -1., -1.],\n",
       "       [-1., -1., -1., -1., -1., -1., -1., -1., -1., -1.],\n",
       "       [-1., -1., -1., -1., -1., -1., -1., -1., -1., -1.],\n",
       "       [-1., -1., -1., -1., -1., -1., -1., -1., -1., -1.]])"
      ]
     },
     "execution_count": 31,
     "metadata": {},
     "output_type": "execute_result"
    }
   ],
   "source": [
    "Z_copy = random_initial_data.Z.copy()\n",
    "\n",
    "W_copy = test_data.W.copy()\n",
    "Theta_copy = test_data.Theta.copy()\n",
    "B_copy = test_data.B.copy()\n",
    "E_copy = test_data.E.copy()\n",
    "C_copy = test_data.C.copy()\n",
    "\n",
    "Z_copy[0]  # Example"
   ]
  },
  {
   "cell_type": "code",
   "execution_count": 32,
   "id": "ef2f2505",
   "metadata": {},
   "outputs": [
    {
     "data": {
      "text/plain": [
       "<matplotlib.image.AxesImage at 0x7f8c7bcb5220>"
      ]
     },
     "execution_count": 32,
     "metadata": {},
     "output_type": "execute_result"
    },
    {
     "data": {
      "image/png": "[encoded data removed]",
      "text/plain": [
       "<Figure size 288x345.6 with 1 Axes>"
      ]
     },
     "metadata": {
      "needs_background": "light"
     },
     "output_type": "display_data"
    }
   ],
   "source": [
    "plt.matshow(Z_copy[0], cmap='Blues')"
   ]
  },
  {
   "cell_type": "code",
   "execution_count": 33,
   "id": "be60d9b6",
   "metadata": {},
   "outputs": [
    {
     "data": {
      "text/plain": [
       "array([[-1., -1., -1., -1., -1., -1., -1., -1., -1., -1.],\n",
       "       [-1., -1., -1., -1., -1., -1., -1., -1., -1., -1.],\n",
       "       [-1., -1., -1., -1., -1., -1., -1., -1., -1., -1.],\n",
       "       [-1., -1., -1., -1., -1., -1., -1., -1., -1., -1.],\n",
       "       [-1., -1., -1., -1., -1., -1., -1., -1., -1., -1.],\n",
       "       [-1., -1., -1., -1., -1., -1., -1., -1., -1., -1.],\n",
       "       [ 1.,  0., -1., -1., -1., -1., -1., -1., -1., -1.],\n",
       "       [-1., -1., -1., -1., -1., -1., -1., -1., -1., -1.],\n",
       "       [-1., -1., -1., -1., -1., -1., -1., -1., -1., -1.],\n",
       "       [-1., -1., -1., -1., -1., -1., -1., -1., -1., -1.],\n",
       "       [-1., -1., -1., -1., -1., -1., -1., -1., -1., -1.],\n",
       "       [-1., -1., -1., -1., -1., -1., -1., -1., -1., -1.]])"
      ]
     },
     "execution_count": 33,
     "metadata": {},
     "output_type": "execute_result"
    }
   ],
   "source": [
    "# Check that the function runs with no issues, without side effects but on Z\n",
    "\n",
    "Z_sample, E_sample, C_sample = MC_sample_Z(Z_copy, W_copy, Theta_copy, B_copy, E_copy, C_copy)\n",
    "\n",
    "assert np.any(Z_copy != random_initial_data.Z)\n",
    "assert np.all(W_copy == test_data.W)\n",
    "assert np.all(Theta_copy == test_data.Theta)\n",
    "assert np.all(B_copy == test_data.B)\n",
    "\n",
    "# TODO: Review! Should these matrix change? -> Yes since Z is modified\n",
    "# BUG https://trello.com/c/pWZCzOxq/29-mcsamplez-e-and-c-are-modified\n",
    "# assert np.all(E_sample == test_data.E) # Triggers\n",
    "# assert np.all(C_sample == test_data.C) # Triggers\n",
    "\n",
    "Z_sample[0]"
   ]
  },
  {
   "cell_type": "code",
   "execution_count": 34,
   "id": "9e3d5b41",
   "metadata": {},
   "outputs": [
    {
     "data": {
      "text/plain": [
       "<matplotlib.image.AxesImage at 0x7f8c7476eaf0>"
      ]
     },
     "execution_count": 34,
     "metadata": {},
     "output_type": "execute_result"
    },
    {
     "data": {
      "image/png": "[encoded data removed]",
      "text/plain": [
       "<Figure size 288x345.6 with 1 Axes>"
      ]
     },
     "metadata": {
      "needs_background": "light"
     },
     "output_type": "display_data"
    }
   ],
   "source": [
    "plt.matshow(Z_sample[0], cmap='Blues')"
   ]
  },
  {
   "cell_type": "code",
   "execution_count": 35,
   "id": "19a5b1d1",
   "metadata": {},
   "outputs": [
    {
     "name": "stdout",
     "output_type": "stream",
     "text": [
      "The sampled Z has 960 words, while the target Z has 960 words (diff 0)\n",
      "CPU times: user 2min 46s, sys: 2.21 s, total: 2min 48s\n",
      "Wall time: 2min 58s\n"
     ]
    }
   ],
   "source": [
    "%%time\n",
    "# Check that the Sampler works properly (This will take a while)\n",
    "errors = []\n",
    "E_errors = []\n",
    "C_errors = []\n",
    "matrix_changes = []\n",
    "burn_in = 1000\n",
    "print(f'The sampled Z has {Z_sample.size} words, while the target Z has {test_data.Z.size} words (diff {abs(Z_sample.size-test_data.Z.size)})')\n",
    "for i in range(5000):\n",
    "    Z_sample_old = Z_sample.copy()\n",
    "    E_sample_old = E_sample.copy()\n",
    "    C_sample_old = C_sample.copy()\n",
    "    Z_sample, E_sample, C_sample = MC_sample_Z(Z_sample, W_copy, Theta_copy, B_copy, E_sample, C_sample)\n",
    "    matrix_changes.append(~np.all(Z_sample_old == Z_sample))\n",
    "    if i >= burn_in:\n",
    "        errors.append(np.linalg.norm(Z_sample - test_data.Z))  # Computing error wrt the target distribution\n",
    "        E_errors.append(np.linalg.norm(E_sample - test_data.E))        \n",
    "        C_errors.append(np.linalg.norm(C_sample - test_data.C))"
   ]
  },
  {
   "cell_type": "code",
   "execution_count": 36,
   "id": "ad4f23e5",
   "metadata": {},
   "outputs": [
    {
     "name": "stdout",
     "output_type": "stream",
     "text": [
      "Matrix changes (1 = changed, 0 = same)\n",
      "count    5000.0\n",
      "mean        1.0\n",
      "std         0.0\n",
      "min         1.0\n",
      "25%         1.0\n",
      "50%         1.0\n",
      "75%         1.0\n",
      "max         1.0\n",
      "dtype: float64\n"
     ]
    },
    {
     "data": {
      "text/plain": [
       "<AxesSubplot:>"
      ]
     },
     "execution_count": 36,
     "metadata": {},
     "output_type": "execute_result"
    },
    {
     "data": {
      "image/png": "[encoded data removed]",
      "text/plain": [
       "<Figure size 432x288 with 1 Axes>"
      ]
     },
     "metadata": {
      "needs_background": "light"
     },
     "output_type": "display_data"
    }
   ],
   "source": [
    "# Matrix should change\n",
    "matrix_changes = pd.Series(matrix_changes).astype(int)\n",
    "print(\"Matrix changes (1 = changed, 0 = same)\")\n",
    "print(matrix_changes.describe())\n",
    "matrix_changes.hist()"
   ]
  },
  {
   "cell_type": "code",
   "execution_count": 37,
   "id": "25a8ac6e",
   "metadata": {},
   "outputs": [
    {
     "name": "stdout",
     "output_type": "stream",
     "text": [
      "Z error metrics\n",
      "count    4000.000000\n",
      "mean       65.546728\n",
      "std         0.322381\n",
      "min        64.381674\n",
      "25%        65.314623\n",
      "50%        65.543878\n",
      "75%        65.772335\n",
      "max        66.715815\n",
      "dtype: float64\n"
     ]
    },
    {
     "data": {
      "text/plain": [
       "Text(0.5, 1.0, 'Z L2-error distribution')"
      ]
     },
     "execution_count": 37,
     "metadata": {},
     "output_type": "execute_result"
    },
    {
     "data": {
      "image/png": "[encoded data removed]",
      "text/plain": [
       "<Figure size 432x288 with 1 Axes>"
      ]
     },
     "metadata": {
      "needs_background": "light"
     },
     "output_type": "display_data"
    }
   ],
   "source": [
    "# Error should be distributed close to 0 (I guess...)\n",
    "# BUG https://trello.com/c/JE1T7Hur/31-mcsamplez-z-is-not-close-to-the-expected-target\n",
    "errors = pd.Series(errors)\n",
    "print(\"Z error metrics\")\n",
    "print(errors.describe())\n",
    "errors.hist(bins=30)\n",
    "plt.title('Z L2-error distribution')"
   ]
  },
  {
   "cell_type": "code",
   "execution_count": 38,
   "id": "76259ee7",
   "metadata": {},
   "outputs": [
    {
     "data": {
      "text/plain": [
       "Text(0.5, 1.0, 'Z L2-error series')"
      ]
     },
     "execution_count": 38,
     "metadata": {},
     "output_type": "execute_result"
    },
    {
     "data": {
      "image/png": "[encoded data removed]",
      "text/plain": [
       "<Figure size 432x288 with 1 Axes>"
      ]
     },
     "metadata": {
      "needs_background": "light"
     },
     "output_type": "display_data"
    }
   ],
   "source": [
    "errors.plot()\n",
    "plt.title('Z L2-error series')"
   ]
  },
  {
   "cell_type": "code",
   "execution_count": 39,
   "id": "bb3afbc8",
   "metadata": {},
   "outputs": [
    {
     "name": "stdout",
     "output_type": "stream",
     "text": [
      "E error metrics\n",
      "count    4000.000000\n",
      "mean       55.957336\n",
      "std         2.811051\n",
      "min        44.463468\n",
      "25%        54.027771\n",
      "50%        55.892754\n",
      "75%        57.805709\n",
      "max        66.475559\n",
      "dtype: float64\n"
     ]
    },
    {
     "data": {
      "text/plain": [
       "Text(0.5, 1.0, 'E L2-error distribution')"
      ]
     },
     "execution_count": 39,
     "metadata": {},
     "output_type": "execute_result"
    },
    {
     "data": {
      "image/png": "[encoded data removed]",
      "text/plain": [
       "<Figure size 432x288 with 1 Axes>"
      ]
     },
     "metadata": {
      "needs_background": "light"
     },
     "output_type": "display_data"
    }
   ],
   "source": [
    "# Error should be distributed close to 0 (I guess...)\n",
    "# BUG https://trello.com/c/JE1T7Hur/31-mcsamplez-z-is-not-close-to-the-expected-target\n",
    "E_errors = pd.Series(E_errors)\n",
    "print(\"E error metrics\")\n",
    "print(E_errors.describe())\n",
    "E_errors.hist(bins=30)\n",
    "plt.title('E L2-error distribution')"
   ]
  },
  {
   "cell_type": "code",
   "execution_count": 40,
   "id": "3e8ae1ab",
   "metadata": {},
   "outputs": [
    {
     "data": {
      "text/plain": [
       "Text(0.5, 1.0, 'E L2-error series')"
      ]
     },
     "execution_count": 40,
     "metadata": {},
     "output_type": "execute_result"
    },
    {
     "data": {
      "image/png": "[encoded data removed]",
      "text/plain": [
       "<Figure size 432x288 with 1 Axes>"
      ]
     },
     "metadata": {
      "needs_background": "light"
     },
     "output_type": "display_data"
    }
   ],
   "source": [
    "E_errors.plot()\n",
    "plt.title('E L2-error series')"
   ]
  },
  {
   "cell_type": "code",
   "execution_count": 41,
   "id": "6957e721",
   "metadata": {},
   "outputs": [
    {
     "name": "stdout",
     "output_type": "stream",
     "text": [
      "C error metrics\n",
      "count    4000.000000\n",
      "mean       41.769016\n",
      "std         2.150336\n",
      "min        35.128336\n",
      "25%        40.274061\n",
      "50%        41.749250\n",
      "75%        43.133512\n",
      "max        50.438081\n",
      "dtype: float64\n"
     ]
    },
    {
     "data": {
      "text/plain": [
       "Text(0.5, 1.0, 'C L2-error distribution')"
      ]
     },
     "execution_count": 41,
     "metadata": {},
     "output_type": "execute_result"
    },
    {
     "data": {
      "image/png": "[encoded data removed]",
      "text/plain": [
       "<Figure size 432x288 with 1 Axes>"
      ]
     },
     "metadata": {
      "needs_background": "light"
     },
     "output_type": "display_data"
    }
   ],
   "source": [
    "# Error should be distributed close to 0 (I guess...)\n",
    "# BUG https://trello.com/c/JE1T7Hur/31-mcsamplez-z-is-not-close-to-the-expected-target\n",
    "C_errors = pd.Series(C_errors)\n",
    "print(\"C error metrics\")\n",
    "print(C_errors.describe())\n",
    "C_errors.hist(bins=30)\n",
    "plt.title('C L2-error distribution')"
   ]
  },
  {
   "cell_type": "code",
   "execution_count": 42,
   "id": "a22dcfc0",
   "metadata": {},
   "outputs": [
    {
     "data": {
      "text/plain": [
       "Text(0.5, 1.0, 'C L2-error series')"
      ]
     },
     "execution_count": 42,
     "metadata": {},
     "output_type": "execute_result"
    },
    {
     "data": {
      "image/png": "[encoded data removed]",
      "text/plain": [
       "<Figure size 432x288 with 1 Axes>"
      ]
     },
     "metadata": {
      "needs_background": "light"
     },
     "output_type": "display_data"
    }
   ],
   "source": [
    "C_errors.plot()\n",
    "plt.title('C L2-error series')"
   ]
  },
  {
   "cell_type": "code",
   "execution_count": 78,
   "id": "e9657c45",
   "metadata": {},
   "outputs": [],
   "source": [
    "# Binder loss function (FA revised)\n",
    "# Sum for i < j -> 1 error for each pair that is equal in one and different in the other\n",
    "\n",
    "def binder_loss(Z_sample, Z_true, debug=False):\n",
    "    # Input: Z_sample, Z_true matrices -> We only need the cluster indexes\n",
    "    # Output: err scalar -> Sum of errors\n",
    "    if Z_sample.shape != Z_true.shape:\n",
    "        raise Exception('Error: Z matrices of different shape')\n",
    "    # Idea: Turn matrices into single row to check all pairs more easily\n",
    "    # First element checks all next elements\n",
    "    # Get all possible pairs without repeating\n",
    "    errors = np.zeros((k, k))\n",
    "    for t_sample in range(k):  # iterate over sample topics\n",
    "        Z_sample_indicator = Z_sample == t_sample\n",
    "        Z_sample_indicator = Z_sample_indicator.flatten()\n",
    "        # Idea: Matrix of differences between rows\n",
    "        # https://stackoverflow.com/questions/9704565/populate-numpy-matrix-from-the-difference-of-two-vectors\n",
    "        Z_sample_indicator = np.bitwise_xor.outer(Z_sample_indicator, Z_sample_indicator)\n",
    "        # xor if they are different\n",
    "        #Z_sample_indicator = np.abs(Z_sample_indicator)\n",
    "        for t_true in range(k):  # iterate over true topics\n",
    "            # See only equals -> absolute of the difference\n",
    "            # Eq + Eq -> abs(1-1) = 0 no error\n",
    "            # Eq + Diff or Diff + Eq -> abs(1-0) = abs(0-1) = 1 error\n",
    "            # Dif + Diff -> abs(0-0) = 0 no error\n",
    "            Z_true_indicator = Z_true == t_true\n",
    "            Z_true_indicator = Z_true_indicator.flatten()\n",
    "            Z_true_indicator = np.bitwise_xor.outer(Z_true_indicator, Z_true_indicator)\n",
    "            #Z_true_indicator = np.abs(Z_true_indicator)\n",
    "            #print('Size sample: '+str(Z_sample_indicator.size)+', true:'+str(Z_true_indicator.size))\n",
    "            # Now we have the pairwise differences to compare\n",
    "            error_sum = np.not_equal(Z_sample_indicator, Z_true_indicator).sum() \n",
    "            errors[t_sample][t_true] = error_sum/2  # We take the entire matrix so the errors are duplicated\n",
    "            \n",
    "    if debug:\n",
    "        print('Error matrix:')\n",
    "        print(errors)\n",
    "        print('Error sum:')\n",
    "        print(errors.sum())\n",
    "    # Minimization (Stable Marriage Problem)\n",
    "    final_loss = 0\n",
    "    matches = []\n",
    "    theoretical_max = Z_sample.size  # I will use it as a dummy variable\n",
    "    for pair in range(k):\n",
    "        min_error = np.amin(errors.flatten())  # Select min\n",
    "        i, j = np.where(errors == min_error)  # Find index\n",
    "        # There could be multiple minima, only using the first one\n",
    "        i = i[0]\n",
    "        j = j[0]\n",
    "        if debug:\n",
    "            print(f\"Sample topic {i} was matched with true topic {j} with error {min_error}\")\n",
    "        final_loss += min_error\n",
    "        matches.append([i, j])\n",
    "        # Filling corresponding row and column so that those two indexes will not be selected again\n",
    "        errors[:,j] = theoretical_max\n",
    "        errors[i,:] = theoretical_max\n",
    "    return final_loss"
   ]
  },
  {
   "cell_type": "code",
   "execution_count": 79,
   "id": "0791b07e",
   "metadata": {
    "jupyter": {
     "outputs_hidden": true
    }
   },
   "outputs": [
    {
     "name": "stdout",
     "output_type": "stream",
     "text": [
      "Error matrix:\n",
      "[[ 82944. 160175.  75164.  88271.  73584.]\n",
      " [146879. 156416. 137375. 140400. 131175.]\n",
      " [ 84476. 158039.  68796.  88271.  68796.]\n",
      " [109296. 166391. 106496.  91271. 100800.]\n",
      " [114800. 176111. 102236. 119511. 100800.]]\n",
      "Error sum:\n",
      "2848473.0\n",
      "Sample topic 2 was matched with true topic 2 with error 68796.0\n",
      "Sample topic 0 was matched with true topic 2 with error 960.0\n",
      "Sample topic 0 was matched with true topic 0 with error 960.0\n",
      "Sample topic 0 was matched with true topic 0 with error 960.0\n",
      "Sample topic 0 was matched with true topic 0 with error 960.0\n",
      "CPU times: user 105 ms, sys: 5.8 ms, total: 111 ms\n",
      "Wall time: 124 ms\n"
     ]
    },
    {
     "data": {
      "text/plain": [
       "72636.0"
      ]
     },
     "execution_count": 79,
     "metadata": {},
     "output_type": "execute_result"
    }
   ],
   "source": [
    "%%time\n",
    "# Testing\n",
    "binder_loss(Z_sample, test_data.Z, debug=True)  # Note that all possible pairs are 460320"
   ]
  },
  {
   "cell_type": "code",
   "execution_count": 53,
   "id": "sound-upgrade",
   "metadata": {},
   "outputs": [
    {
     "name": "stdout",
     "output_type": "stream",
     "text": [
      "Error matrix:\n",
      "[[     0. 147456.  71199. 109296. 105084.]\n",
      " [147456.      0. 142191. 169884. 166896.]\n",
      " [ 71199. 142191.      0. 102951.  98631.]\n",
      " [109296. 169884. 102951.      0. 133056.]\n",
      " [105084. 166896.  98631. 133056.      0.]]\n",
      "Error sum:\n",
      "2493288.0\n",
      "Sample topic 0 was matched with true topic 0 with error 0.0\n",
      "Sample topic 1 was matched with true topic 1 with error 0.0\n",
      "Sample topic 2 was matched with true topic 2 with error 0.0\n",
      "Sample topic 3 was matched with true topic 3 with error 0.0\n",
      "Sample topic 4 was matched with true topic 4 with error 0.0\n",
      "CPU times: user 103 ms, sys: 3.92 ms, total: 107 ms\n",
      "Wall time: 115 ms\n"
     ]
    },
    {
     "data": {
      "text/plain": [
       "0.0"
      ]
     },
     "execution_count": 53,
     "metadata": {},
     "output_type": "execute_result"
    }
   ],
   "source": [
    "%%time\n",
    "# This MUST return zero\n",
    "binder_loss(Z_sample, Z_sample, debug=True)"
   ]
  },
  {
   "cell_type": "code",
   "execution_count": 55,
   "id": "cubic-judge",
   "metadata": {},
   "outputs": [
    {
     "name": "stdout",
     "output_type": "stream",
     "text": [
      "Error matrix:\n",
      "[[105084.      0. 147456.  71199. 109296.]\n",
      " [166896. 147456.      0. 142191. 169884.]\n",
      " [ 98631.  71199. 142191.      0. 102951.]\n",
      " [133056. 109296. 169884. 102951.      0.]\n",
      " [     0. 105084. 166896.  98631. 133056.]]\n",
      "Error sum:\n",
      "2493288.0\n",
      "Sample topic 0 was matched with true topic 1 with error 0.0\n",
      "Sample topic 1 was matched with true topic 2 with error 0.0\n",
      "Sample topic 2 was matched with true topic 3 with error 0.0\n",
      "Sample topic 3 was matched with true topic 4 with error 0.0\n",
      "Sample topic 4 was matched with true topic 0 with error 0.0\n",
      "CPU times: user 101 ms, sys: 3.28 ms, total: 104 ms\n",
      "Wall time: 112 ms\n"
     ]
    },
    {
     "data": {
      "text/plain": [
       "0.0"
      ]
     },
     "execution_count": 55,
     "metadata": {},
     "output_type": "execute_result"
    }
   ],
   "source": [
    "# Shifting indexes\n",
    "Z_sample_shifted = Z_sample.copy()\n",
    "for i in range(k):\n",
    "    replace_value = (i + 1) % k \n",
    "    Z_sample_shifted[Z_sample == i] = replace_value\n",
    "\n",
    "# This MUST return zero\n",
    "%time binder_loss(Z_sample, Z_sample_shifted, debug=True)"
   ]
  },
  {
   "cell_type": "code",
   "execution_count": 56,
   "id": "f2d6bc0b",
   "metadata": {},
   "outputs": [
    {
     "name": "stdout",
     "output_type": "stream",
     "text": [
      "CPU times: user 18min 41s, sys: 9.05 s, total: 18min 50s\n",
      "Wall time: 20min 18s\n"
     ]
    }
   ],
   "source": [
    "%%time\n",
    "# Check that the Sampler works properly (This will take forever)\n",
    "errors = []\n",
    "\n",
    "burn_in = 500\n",
    "for i in range(2000):\n",
    "    Z_sample_old = Z_sample.copy()\n",
    "    E_sample_old = E_sample.copy()\n",
    "    Z_sample, E_sample, C_sample = MC_sample_Z(Z_sample, W_copy, Theta_copy, B_copy, E_sample, C_sample)\n",
    "    if i >= burn_in:\n",
    "        # Around 30 seconds each 50 iterations -> 15 MINUTES FOR 1500 COMPUTATIONS\n",
    "        errors.append(binder_loss(Z_sample, test_data.Z))  # Computing Binder loss"
   ]
  },
  {
   "cell_type": "code",
   "execution_count": 57,
   "id": "b30b09c3",
   "metadata": {},
   "outputs": [
    {
     "name": "stdout",
     "output_type": "stream",
     "text": [
      "Error metrics\n",
      "count    4000.000000\n",
      "mean       65.546728\n",
      "std         0.322381\n",
      "min        64.381674\n",
      "25%        65.314623\n",
      "50%        65.543878\n",
      "75%        65.772335\n",
      "max        66.715815\n",
      "dtype: float64\n"
     ]
    },
    {
     "data": {
      "text/plain": [
       "<AxesSubplot:>"
      ]
     },
     "execution_count": 57,
     "metadata": {},
     "output_type": "execute_result"
    },
    {
     "data": {
      "image/png": "[encoded data removed]",
      "text/plain": [
       "<Figure size 432x288 with 1 Axes>"
      ]
     },
     "metadata": {
      "needs_background": "light"
     },
     "output_type": "display_data"
    }
   ],
   "source": [
    "# Error will always be positive and integer, but is it skewed to the left?\n",
    "errors = pd.Series(errors)\n",
    "print(\"Error metrics\")\n",
    "print(errors.describe())\n",
    "errors.hist()"
   ]
  },
  {
   "cell_type": "code",
   "execution_count": 58,
   "id": "7acdbb88",
   "metadata": {},
   "outputs": [
    {
     "data": {
      "text/plain": [
       "<AxesSubplot:>"
      ]
     },
     "execution_count": 58,
     "metadata": {},
     "output_type": "execute_result"
    },
    {
     "data": {
      "image/png": "[encoded data removed]",
      "text/plain": [
       "<Figure size 432x288 with 1 Axes>"
      ]
     },
     "metadata": {
      "needs_background": "light"
     },
     "output_type": "display_data"
    }
   ],
   "source": [
    "errors.plot()  # See if we still have a caterpillar"
   ]
  },
  {
   "cell_type": "code",
   "execution_count": 74,
   "id": "343ffd83",
   "metadata": {},
   "outputs": [],
   "source": [
    "def binder_loss_fast(Z_sample, Z_true, debug=False):\n",
    "    # Input: Z_sample, Z_true matrices -> We only need the cluster indexes\n",
    "    # Output: err scalar -> Sum of errors\n",
    "    if Z_sample.shape != Z_true.shape:\n",
    "        raise Exception('Error: Z matrices of different shape')\n",
    "    # Idea: Turn matrices into single row to check all pairs more easily\n",
    "    # First element checks all next elements\n",
    "    # Get all possible pairs without repeating\n",
    "    errors = np.zeros((k, k))\n",
    "    for t_sample in range(k):  # iterate over sample topics\n",
    "        Z_sample_indicator = Z_sample == t_sample\n",
    "        for t_true in range(k):  # iterate over true topics\n",
    "            # See only equals -> absolute of the difference\n",
    "            # Eq + Eq -> abs(1-1) = 0 no error\n",
    "            # Eq + Diff or Diff + Eq -> abs(1-0) = abs(0-1) = 1 error\n",
    "            # Dif + Diff -> abs(0-0) = 0 no error\n",
    "            Z_true_indicator = Z_true == t_true\n",
    "            error_sum = np.not_equal(Z_sample_indicator, Z_true_indicator).sum() \n",
    "            errors[t_sample][t_true] = error_sum\n",
    "            \n",
    "    if debug:\n",
    "        print('Error matrix:')\n",
    "        print(errors)\n",
    "        print('Error sum:')\n",
    "        print(errors.sum())\n",
    "    # Minimization (Stable Marriage Problem)\n",
    "    final_loss = 0\n",
    "    matches = []\n",
    "    theoretical_max = Z_sample.size  # I will use it as a dummy variable\n",
    "    while not len(matches) == k:\n",
    "        min_error = np.amin(errors.flatten())  # Select min\n",
    "        i, j = np.where(errors == min_error)  # Find index\n",
    "        # There could be multiple minima, only using the first one\n",
    "        i = i[0]\n",
    "        j = j[0]\n",
    "        if debug:\n",
    "            print(f\"Sample topic {i} was matched with true topic {j} with error {min_error}\")\n",
    "        final_loss += min_error\n",
    "        matches.append([i, j])\n",
    "        # Filling corresponding row and column so that those two indexes will not be selected again\n",
    "        errors[:,j] = theoretical_max\n",
    "        errors[i,:] = theoretical_max\n",
    "    return final_loss"
   ]
  },
  {
   "cell_type": "code",
   "execution_count": 209,
   "id": "ce47f2b8",
   "metadata": {},
   "outputs": [
    {
     "name": "stdout",
     "output_type": "stream",
     "text": [
      "Error matrix:\n",
      "[[  0. 199.  79. 127. 123.]\n",
      " [199.   0. 190. 238. 234.]\n",
      " [ 79. 190.   0. 118. 114.]\n",
      " [127. 238. 118.   0. 162.]\n",
      " [123. 234. 114. 162.   0.]]\n",
      "Error sum:\n",
      "3168.0\n",
      "Sample topic 0 was matched with true topic 0 with error 0.0\n",
      "Sample topic 1 was matched with true topic 1 with error 0.0\n",
      "Sample topic 2 was matched with true topic 2 with error 0.0\n",
      "Sample topic 3 was matched with true topic 3 with error 0.0\n",
      "Sample topic 4 was matched with true topic 4 with error 0.0\n",
      "CPU times: user 6.57 ms, sys: 0 ns, total: 6.57 ms\n",
      "Wall time: 4.22 ms\n"
     ]
    },
    {
     "data": {
      "text/plain": [
       "0.0"
      ]
     },
     "execution_count": 209,
     "metadata": {},
     "output_type": "execute_result"
    }
   ],
   "source": [
    "%%time\n",
    "# This MUST return zero\n",
    "r = binder_loss_fast(Z_sample, Z_sample, debug=True)\n",
    "r"
   ]
  },
  {
   "cell_type": "code",
   "execution_count": 210,
   "id": "fa1b99c5",
   "metadata": {},
   "outputs": [],
   "source": [
    "# Shifting indexes\n",
    "Z_sample_shifted = Z_sample.copy()\n",
    "for i in range(k):\n",
    "    replace_value = (i + 1) % k \n",
    "    Z_sample_shifted[Z_sample == i] = replace_value"
   ]
  },
  {
   "cell_type": "code",
   "execution_count": 211,
   "id": "35bfaf47",
   "metadata": {},
   "outputs": [
    {
     "data": {
      "text/plain": [
       "<matplotlib.image.AxesImage at 0x7f81656d1070>"
      ]
     },
     "execution_count": 211,
     "metadata": {},
     "output_type": "execute_result"
    },
    {
     "data": {
      "image/png": "[encoded data removed]",
      "text/plain": [
       "<Figure size 288x345.6 with 1 Axes>"
      ]
     },
     "metadata": {
      "needs_background": "light"
     },
     "output_type": "display_data"
    }
   ],
   "source": [
    "plt.matshow(Z_sample[2], cmap='Blues')"
   ]
  },
  {
   "cell_type": "code",
   "execution_count": 212,
   "id": "df18fcb2",
   "metadata": {},
   "outputs": [
    {
     "data": {
      "text/plain": [
       "<matplotlib.image.AxesImage at 0x7f8164d824f0>"
      ]
     },
     "execution_count": 212,
     "metadata": {},
     "output_type": "execute_result"
    },
    {
     "data": {
      "image/png": "[encoded data removed]",
      "text/plain": [
       "<Figure size 288x345.6 with 1 Axes>"
      ]
     },
     "metadata": {
      "needs_background": "light"
     },
     "output_type": "display_data"
    }
   ],
   "source": [
    "plt.matshow(Z_sample_shifted[2], cmap='Blues')"
   ]
  },
  {
   "cell_type": "code",
   "execution_count": 213,
   "id": "a9b993b7",
   "metadata": {},
   "outputs": [
    {
     "name": "stdout",
     "output_type": "stream",
     "text": [
      "Error matrix:\n",
      "[[123.   0. 199.  79. 127.]\n",
      " [234. 199.   0. 190. 238.]\n",
      " [114.  79. 190.   0. 118.]\n",
      " [162. 127. 238. 118.   0.]\n",
      " [  0. 123. 234. 114. 162.]]\n",
      "Error sum:\n",
      "3168.0\n",
      "Sample topic 0 was matched with true topic 1 with error 0.0\n",
      "Sample topic 1 was matched with true topic 2 with error 0.0\n",
      "Sample topic 2 was matched with true topic 3 with error 0.0\n",
      "Sample topic 3 was matched with true topic 4 with error 0.0\n",
      "Sample topic 4 was matched with true topic 0 with error 0.0\n",
      "CPU times: user 3.18 ms, sys: 60 µs, total: 3.24 ms\n",
      "Wall time: 1.86 ms\n"
     ]
    },
    {
     "data": {
      "text/plain": [
       "0.0"
      ]
     },
     "execution_count": 213,
     "metadata": {},
     "output_type": "execute_result"
    }
   ],
   "source": [
    "%%time\n",
    "# This MUST return zero\n",
    "r = binder_loss_fast(Z_sample, Z_sample_shifted, debug=True)\n",
    "r"
   ]
  },
  {
   "cell_type": "code",
   "execution_count": 214,
   "id": "b8ff362f",
   "metadata": {},
   "outputs": [
    {
     "name": "stdout",
     "output_type": "stream",
     "text": [
      "Error matrix:\n",
      "[[ 99. 218.  89. 102.  85.]\n",
      " [190. 215. 190. 187. 164.]\n",
      " [ 98. 207.  74.  97.  80.]\n",
      " [132. 219. 116. 109. 120.]\n",
      " [138. 249. 120. 145. 118.]]\n",
      "Error sum:\n",
      "3561.0\n",
      "Sample topic 2 was matched with true topic 2 with error 74.0\n",
      "Sample topic 0 was matched with true topic 4 with error 85.0\n",
      "Sample topic 3 was matched with true topic 3 with error 109.0\n",
      "Sample topic 4 was matched with true topic 0 with error 138.0\n",
      "Sample topic 1 was matched with true topic 1 with error 215.0\n",
      "CPU times: user 2.46 ms, sys: 47 µs, total: 2.51 ms\n",
      "Wall time: 1.47 ms\n"
     ]
    },
    {
     "data": {
      "text/plain": [
       "621.0"
      ]
     },
     "execution_count": 214,
     "metadata": {},
     "output_type": "execute_result"
    }
   ],
   "source": [
    "%%time\n",
    "binder_loss_fast(Z_sample, test_data.Z, debug=True)"
   ]
  },
  {
   "cell_type": "code",
   "execution_count": 215,
   "id": "e231125f",
   "metadata": {},
   "outputs": [
    {
     "data": {
      "text/plain": [
       "2474"
      ]
     },
     "execution_count": 215,
     "metadata": {},
     "output_type": "execute_result"
    }
   ],
   "source": [
    "binder_loss(Z_sample[1], test_data.Z[1])"
   ]
  },
  {
   "cell_type": "code",
   "execution_count": 216,
   "id": "63947061",
   "metadata": {},
   "outputs": [
    {
     "name": "stdout",
     "output_type": "stream",
     "text": [
      "Error matrix:\n",
      "[[14.  8. 13.  4. 12.]\n",
      " [13. 11. 16.  9. 13.]\n",
      " [16. 10. 13.  6. 14.]\n",
      " [12.  6. 13.  2. 10.]\n",
      " [17. 11. 16.  9. 13.]]\n",
      "Error sum:\n",
      "281.0\n",
      "Sample topic 3 was matched with true topic 3 with error 2.0\n",
      "Sample topic 0 was matched with true topic 1 with error 8.0\n",
      "Sample topic 1 was matched with true topic 0 with error 13.0\n",
      "Sample topic 2 was matched with true topic 2 with error 13.0\n",
      "Sample topic 4 was matched with true topic 4 with error 13.0\n"
     ]
    },
    {
     "data": {
      "text/plain": [
       "49.0"
      ]
     },
     "execution_count": 216,
     "metadata": {},
     "output_type": "execute_result"
    }
   ],
   "source": [
    "binder_loss_fast(Z_sample[1], test_data.Z[1], debug=True)"
   ]
  },
  {
   "cell_type": "code",
   "execution_count": 75,
   "id": "67d6f41a",
   "metadata": {},
   "outputs": [
    {
     "name": "stdout",
     "output_type": "stream",
     "text": [
      "CPU times: user 2min 58s, sys: 2.77 s, total: 3min 1s\n",
      "Wall time: 3min 21s\n"
     ]
    }
   ],
   "source": [
    "%%time\n",
    "# Check that the Sampler works properly\n",
    "errors = []\n",
    "\n",
    "burn_in = 1000\n",
    "for i in range(5000):\n",
    "    Z_sample_old = Z_sample.copy()\n",
    "    E_sample_old = E_sample.copy()\n",
    "    Z_sample, E_sample, C_sample = MC_sample_Z(Z_sample, W_copy, Theta_copy, B_copy, E_sample, C_sample)\n",
    "    if i >= burn_in:\n",
    "        errors.append(binder_loss_fast(Z_sample, test_data.Z))  # Computing Binder loss"
   ]
  },
  {
   "cell_type": "code",
   "execution_count": 76,
   "id": "closing-stevens",
   "metadata": {},
   "outputs": [
    {
     "name": "stdout",
     "output_type": "stream",
     "text": [
      "Z error metrics\n",
      "count    4000.000000\n",
      "mean      634.366000\n",
      "std         9.976519\n",
      "min       597.000000\n",
      "25%       627.000000\n",
      "50%       635.000000\n",
      "75%       641.000000\n",
      "max       671.000000\n",
      "dtype: float64\n"
     ]
    },
    {
     "data": {
      "text/plain": [
       "Text(0.5, 1.0, 'Z Binder-fast-error distribution')"
      ]
     },
     "execution_count": 76,
     "metadata": {},
     "output_type": "execute_result"
    },
    {
     "data": {
      "image/png": "[encoded data removed]",
      "text/plain": [
       "<Figure size 432x288 with 1 Axes>"
      ]
     },
     "metadata": {
      "needs_background": "light"
     },
     "output_type": "display_data"
    }
   ],
   "source": [
    "# Error will always be positive and integer, but is it skewed to the left?\n",
    "errors = pd.Series(errors)\n",
    "print(\"Z error metrics\")\n",
    "print(errors.describe())\n",
    "errors.hist(bins=30)\n",
    "plt.title('Z Binder-fast-error distribution')"
   ]
  },
  {
   "cell_type": "code",
   "execution_count": 77,
   "id": "environmental-composer",
   "metadata": {},
   "outputs": [
    {
     "data": {
      "text/plain": [
       "Text(0.5, 1.0, 'Z Binder-fast-error series')"
      ]
     },
     "execution_count": 77,
     "metadata": {},
     "output_type": "execute_result"
    },
    {
     "data": {
      "image/png": "[encoded data removed]",
      "text/plain": [
       "<Figure size 432x288 with 1 Axes>"
      ]
     },
     "metadata": {
      "needs_background": "light"
     },
     "output_type": "display_data"
    }
   ],
   "source": [
    "errors.plot()  # See if we still have a caterpillar\n",
    "plt.title('Z Binder-fast-error series')"
   ]
  },
  {
   "cell_type": "code",
   "execution_count": null,
   "id": "square-finding",
   "metadata": {},
   "outputs": [],
   "source": [
    "# Binder loss (Giulia)\n",
    "def binder_loss_alt(Z_sample, Z_true, debug=False):\n",
    "    # Fill here\n",
    "    return final_loss"
   ]
  },
  {
   "cell_type": "code",
   "execution_count": null,
   "id": "elegant-boxing",
   "metadata": {},
   "outputs": [],
   "source": [
    "# Testing"
   ]
  },
  {
   "cell_type": "code",
   "execution_count": null,
   "id": "foster-condition",
   "metadata": {},
   "outputs": [],
   "source": [
    "%%time\n",
    "# Check that the Sampler works properly\n",
    "errors = []\n",
    "\n",
    "burn_in = 1000\n",
    "for i in range(5000):\n",
    "    Z_sample_old = Z_sample.copy()\n",
    "    E_sample_old = E_sample.copy()\n",
    "    Z_sample, E_sample, C_sample = MC_sample_Z(Z_sample, W_copy, Theta_copy, B_copy, E_sample, C_sample)\n",
    "    if i >= burn_in:\n",
    "        errors.append(binder_loss_alt(Z_sample, test_data.Z))  # Computing Binder loss"
   ]
  },
  {
   "cell_type": "code",
   "execution_count": null,
   "id": "graduate-contamination",
   "metadata": {},
   "outputs": [],
   "source": [
    "# Error will always be positive and integer, but is it skewed to the left?\n",
    "errors = pd.Series(errors)\n",
    "print(\"Z error metrics\")\n",
    "print(errors.describe())\n",
    "errors.hist(bins=30)\n",
    "plt.title('Z Binder-alt-error distribution')"
   ]
  },
  {
   "cell_type": "code",
   "execution_count": null,
   "id": "minor-spirituality",
   "metadata": {},
   "outputs": [],
   "source": [
    "errors.plot()  # See if we still have a caterpillar\n",
    "plt.title('Z Binder-alt-error series')"
   ]
  },
  {
   "cell_type": "code",
   "execution_count": null,
   "id": "greek-table",
   "metadata": {},
   "outputs": [],
   "source": []
  },
  {
   "cell_type": "markdown",
   "id": "680c0b5d",
   "metadata": {},
   "source": [
    "## 2.2.1 Beta sampling"
   ]
  },
  {
   "cell_type": "markdown",
   "id": "88bb1eb2",
   "metadata": {},
   "source": [
    "### Task:\n",
    "\n",
    "You must implement a function that receives matrices $C_i$ and vector $\\alpha$ and generates the next $B_{i+1}$."
   ]
  },
  {
   "cell_type": "code",
   "execution_count": 62,
   "id": "6585f1fd",
   "metadata": {},
   "outputs": [],
   "source": [
    "def MC_sample_B(alpha, C):\n",
    "    # B, C are (k, V) -> Generate k vectors\n",
    "    B = np.random.dirichlet(alpha + C[0,:], size=1)  # Topic 0\n",
    "    for i in range(C.shape[0]-1):  # Go through topics: Fix is excluding topic 0 already generated\n",
    "        B = np.concatenate((B, np.random.dirichlet(alpha + C[i+1,:], size=1)), axis=0)\n",
    "    return B"
   ]
  },
  {
   "cell_type": "markdown",
   "id": "100c162a",
   "metadata": {},
   "source": [
    "## 2.2.2 Beta sampling tests"
   ]
  },
  {
   "cell_type": "code",
   "execution_count": 63,
   "id": "deb840f0",
   "metadata": {},
   "outputs": [],
   "source": [
    "# Check that the function runs with no issues, without side effects\n",
    "alpha = np.ones(V)\n",
    "C_copy = test_data.C.copy()\n",
    "\n",
    "B_sample = MC_sample_B(alpha, C_copy)\n",
    "\n",
    "assert np.all(C_copy == test_data.C)"
   ]
  },
  {
   "cell_type": "code",
   "execution_count": 64,
   "id": "009bdfba",
   "metadata": {},
   "outputs": [
    {
     "data": {
      "text/plain": [
       "(5, 12)"
      ]
     },
     "execution_count": 64,
     "metadata": {},
     "output_type": "execute_result"
    }
   ],
   "source": [
    "B_sample.shape  # k, V -> Fixed"
   ]
  },
  {
   "cell_type": "code",
   "execution_count": 66,
   "id": "5a8999c9",
   "metadata": {},
   "outputs": [
    {
     "name": "stdout",
     "output_type": "stream",
     "text": [
      "The sampled B has 60 words, while the target B has 60 words (diff 0)\n",
      "CPU times: user 957 ms, sys: 39.4 ms, total: 996 ms\n",
      "Wall time: 1 s\n"
     ]
    }
   ],
   "source": [
    "%%time\n",
    "# Check that the Sampler works properly (This will take a while)\n",
    "errors = []\n",
    "matrix_changes = []\n",
    "burn_in = 1000\n",
    "print(f'The sampled B has {B_sample.size} words, while the target B has {test_data.B.size} words (diff {abs(B_sample.size-test_data.B.size)})')\n",
    "for i in range(5000):\n",
    "    B_sample_old = B_sample.copy()\n",
    "    B_sample = MC_sample_B(alpha, C_copy)\n",
    "    matrix_changes.append(~np.all(B_sample_old == B_sample))\n",
    "    if i >= burn_in:\n",
    "        err_by_it = []\n",
    "        for topic in range(k):\n",
    "            err_by_it.append(np.linalg.norm(B_sample[topic] - test_data.B[topic]))  # Computing error wrt the target distribution  # BUG https://trello.com/c/uEYV7fSC/32-mcsampleb-shape-mismatch\n",
    "        errors.append(err_by_it)"
   ]
  },
  {
   "cell_type": "code",
   "execution_count": 67,
   "id": "da87cb0d",
   "metadata": {},
   "outputs": [
    {
     "name": "stdout",
     "output_type": "stream",
     "text": [
      "Matrix changes (1 = changed, 0 = same)\n",
      "count    5000.0\n",
      "mean        1.0\n",
      "std         0.0\n",
      "min         1.0\n",
      "25%         1.0\n",
      "50%         1.0\n",
      "75%         1.0\n",
      "max         1.0\n",
      "dtype: float64\n"
     ]
    },
    {
     "data": {
      "text/plain": [
       "<AxesSubplot:>"
      ]
     },
     "execution_count": 67,
     "metadata": {},
     "output_type": "execute_result"
    },
    {
     "data": {
      "image/png": "[encoded data removed]",
      "text/plain": [
       "<Figure size 432x288 with 1 Axes>"
      ]
     },
     "metadata": {
      "needs_background": "light"
     },
     "output_type": "display_data"
    }
   ],
   "source": [
    "# Matrix should change\n",
    "matrix_changes = pd.Series(matrix_changes).astype(int)\n",
    "print(\"Matrix changes (1 = changed, 0 = same)\")\n",
    "print(matrix_changes.describe())\n",
    "matrix_changes.hist()"
   ]
  },
  {
   "cell_type": "code",
   "execution_count": 73,
   "id": "d45e7131",
   "metadata": {},
   "outputs": [
    {
     "name": "stdout",
     "output_type": "stream",
     "text": [
      "B L2-error metrics\n",
      "                 0            1            2            3            4\n",
      "count  4000.000000  4000.000000  4000.000000  4000.000000  4000.000000\n",
      "mean      0.125786     0.095724     0.161984     0.142733     0.188411\n",
      "std       0.027048     0.018558     0.032080     0.027218     0.031964\n",
      "min       0.046260     0.038586     0.062631     0.063571     0.082112\n",
      "25%       0.106942     0.082755     0.139950     0.124139     0.167087\n",
      "50%       0.124195     0.095142     0.160764     0.141771     0.186724\n",
      "75%       0.143462     0.108191     0.182476     0.160321     0.209760\n",
      "max       0.244832     0.171952     0.292934     0.248283     0.353935\n"
     ]
    },
    {
     "data": {
      "text/plain": [
       "array([[<AxesSubplot:title={'center':'0'}>,\n",
       "        <AxesSubplot:title={'center':'1'}>],\n",
       "       [<AxesSubplot:title={'center':'2'}>,\n",
       "        <AxesSubplot:title={'center':'3'}>],\n",
       "       [<AxesSubplot:title={'center':'4'}>, <AxesSubplot:>]], dtype=object)"
      ]
     },
     "execution_count": 73,
     "metadata": {},
     "output_type": "execute_result"
    },
    {
     "data": {
      "image/png": "[encoded data removed]",
      "text/plain": [
       "<Figure size 432x288 with 6 Axes>"
      ]
     },
     "metadata": {
      "needs_background": "light"
     },
     "output_type": "display_data"
    }
   ],
   "source": [
    "# Error should be distributed close to 0 (I guess...)  # BUG https://trello.com/c/JE1T7Hur/31-mcsamplez-z-is-not-close-to-the-expected-target\n",
    "errors = pd.DataFrame(errors)\n",
    "print(\"B L2-error metrics\")\n",
    "print(errors.describe())\n",
    "errors.hist(bins=30, layout=(3,2))"
   ]
  },
  {
   "cell_type": "code",
   "execution_count": 71,
   "id": "f36f8c4d",
   "metadata": {},
   "outputs": [
    {
     "data": {
      "text/plain": [
       "Text(0.5, 1.0, 'B L2-error series')"
      ]
     },
     "execution_count": 71,
     "metadata": {},
     "output_type": "execute_result"
    },
    {
     "data": {
      "image/png": "[encoded data removed]",
      "text/plain": [
       "<Figure size 432x288 with 6 Axes>"
      ]
     },
     "metadata": {
      "needs_background": "light"
     },
     "output_type": "display_data"
    }
   ],
   "source": [
    "errors.plot(subplots=True, layout=(3,2))\n",
    "plt.title('B L2-error series')"
   ]
  },
  {
   "cell_type": "markdown",
   "id": "d40be8f1",
   "metadata": {},
   "source": [
    "## 2.3.1 Metropolis-Hastings MC Sampling"
   ]
  },
  {
   "cell_type": "markdown",
   "id": "6f10d178",
   "metadata": {},
   "source": [
    "### Task:\n",
    "\n",
    "You must implement a function that receives matrices $E_i$, $K_i$ and vector $\\mu$ and generates the next $H_{i+1}$."
   ]
  },
  {
   "cell_type": "markdown",
   "id": "f9e8c1f0",
   "metadata": {},
   "source": [
    "\n",
    ". $E$ matrix of $D \\times k$ where $E_d$ is the $k$-dim vector of counts of sampled drawings for the $z$-th topic over all words for each document\n",
    "\n",
    ". $K$ matrix of $k \\times k$ representing the precision matrix associated to the graph $G$\n",
    "\n",
    ". $\\mu = 0$\n",
    "\n",
    ". $H$ matrix of $D \\times k$ where $H_d = \\eta_d$ is the $k$-dim vector of the topic prevalences over document $d$"
   ]
  },
  {
   "cell_type": "code",
   "execution_count": 224,
   "id": "347b9533",
   "metadata": {},
   "outputs": [],
   "source": [
    "import numpy as np\n",
    "import numpy.linalg"
   ]
  },
  {
   "cell_type": "code",
   "execution_count": 225,
   "id": "982b2024",
   "metadata": {},
   "outputs": [],
   "source": [
    "def sampled_distribution_kernel(eta, K, E):\n",
    "    k = eta.shape[0]\n",
    "    eta_K_eta = -0.5 * eta.dot(K.dot(eta))\n",
    "    E_eta = E.dot(eta)\n",
    "    sum_eta_pow_k = np.sum(np.exp(eta)) ** k\n",
    "    return np.exp(eta_K_eta + E_eta) / sum_eta_pow_k  # This np.exp raises a warning when  eta_K_eta + E_eta > 706"
   ]
  },
  {
   "cell_type": "code",
   "execution_count": 226,
   "id": "f5efa589",
   "metadata": {},
   "outputs": [],
   "source": [
    "def MC_sample_H(E, Sigma, H_current=None, burn_in=100, seed=None):\n",
    "    \n",
    "    np.random.seed(seed)\n",
    "    \n",
    "    K = np.linalg.inv(Sigma)\n",
    "    \n",
    "    D, k = E.shape  # Number of documents, Number of topics\n",
    "    \n",
    "    if H_current is None:\n",
    "        H_current = np.zeros((D, k))\n",
    "    \n",
    "    H_sampled = np.zeros((D, k))\n",
    "    \n",
    "    for d in range(D):  # Iterating over each document\n",
    "        current_eta = H_current[d]\n",
    "        E_d = E[d]\n",
    "        for iteration in range(burn_in + 1):\n",
    "            \n",
    "            # Sampling proposed eta from multivariate normal (q \"proposal density\")\n",
    "            proposed_eta = np.random.multivariate_normal(current_eta, Sigma)\n",
    "            \n",
    "            # Compute acceptance probability\n",
    "            p_proposed_eta = sampled_distribution_kernel(proposed_eta, K, E_d)\n",
    "            p_current_eta = sampled_distribution_kernel(current_eta, K, E_d)\n",
    "            if p_proposed_eta == np.inf or p_current_eta == 0:  # Avoiding divide by 0 and other numerical creeps\n",
    "                alpha = 1\n",
    "            else:\n",
    "                alpha = min(1, p_proposed_eta / p_current_eta)\n",
    "            \n",
    "            if alpha == 1 or np.random.uniform(0.0, 1.0) < alpha:\n",
    "                current_eta = proposed_eta\n",
    "            \n",
    "        H_sampled[d] = current_eta\n",
    "    \n",
    "    return H_sampled"
   ]
  },
  {
   "cell_type": "markdown",
   "id": "e675f448",
   "metadata": {},
   "source": [
    "## 2.3.2 MH Sampling Tests"
   ]
  },
  {
   "cell_type": "code",
   "execution_count": 227,
   "id": "6246dd1a",
   "metadata": {},
   "outputs": [
    {
     "name": "stderr",
     "output_type": "stream",
     "text": [
      "/tmp/ipykernel_39721/2545393832.py:6: RuntimeWarning: overflow encountered in exp\n",
      "  return np.exp(eta_K_eta + E_eta) / sum_eta_pow_k  # This np.exp raises a warning when  eta_K_eta + E_eta > 706\n"
     ]
    }
   ],
   "source": [
    "E_copy = test_data.E.copy()\n",
    "Sigma_copy = test_data.Sigma.copy()\n",
    "\n",
    "H_sample = MC_sample_H(E_copy, Sigma_copy)\n",
    "\n",
    "assert np.all(E_copy == test_data.E)\n",
    "assert np.all(Sigma_copy == test_data.Sigma)"
   ]
  },
  {
   "cell_type": "code",
   "execution_count": 228,
   "id": "b2190044",
   "metadata": {},
   "outputs": [
    {
     "name": "stdout",
     "output_type": "stream",
     "text": [
      "CPU times: user 9.02 s, sys: 1 ms, total: 9.02 s\n",
      "Wall time: 9.02 s\n"
     ]
    }
   ],
   "source": [
    "%%time\n",
    "# Check that the Sampler works properly (This will take... forever)\n",
    "errors = []\n",
    "matrix_changes = []\n",
    "burn_in = 1000\n",
    "for i in range(5000):\n",
    "    H_sample_old = H_sample.copy()\n",
    "    H_sample = MC_sample_H(E_copy, Sigma_copy, burn_in=0)\n",
    "    matrix_changes.append(~np.all(H_sample_old == H_sample))\n",
    "    if i >= burn_in:\n",
    "        errors.append(np.linalg.norm(H_sample - test_data.H))  # Computing error wrt the target matrix"
   ]
  },
  {
   "cell_type": "code",
   "execution_count": 229,
   "id": "ecd5674e",
   "metadata": {},
   "outputs": [
    {
     "name": "stdout",
     "output_type": "stream",
     "text": [
      "Matrix changes (1 = changed, 0 = same)\n",
      "count    5000.0\n",
      "mean        1.0\n",
      "std         0.0\n",
      "min         1.0\n",
      "25%         1.0\n",
      "50%         1.0\n",
      "75%         1.0\n",
      "max         1.0\n",
      "dtype: float64\n"
     ]
    },
    {
     "data": {
      "text/plain": [
       "<AxesSubplot:>"
      ]
     },
     "execution_count": 229,
     "metadata": {},
     "output_type": "execute_result"
    },
    {
     "data": {
      "image/png": "[encoded data removed]",
      "text/plain": [
       "<Figure size 432x288 with 1 Axes>"
      ]
     },
     "metadata": {
      "needs_background": "light"
     },
     "output_type": "display_data"
    }
   ],
   "source": [
    "# Matrix should change\n",
    "matrix_changes = pd.Series(matrix_changes).astype(int)\n",
    "print(\"Matrix changes (1 = changed, 0 = same)\")\n",
    "print(matrix_changes.describe())\n",
    "matrix_changes.hist(bins=30)"
   ]
  },
  {
   "cell_type": "code",
   "execution_count": 231,
   "id": "918346d1",
   "metadata": {},
   "outputs": [
    {
     "name": "stdout",
     "output_type": "stream",
     "text": [
      "H L2-error metrics\n",
      "count    4000.000000\n",
      "mean        8.807632\n",
      "std         1.131734\n",
      "min         5.802072\n",
      "25%         8.005694\n",
      "50%         8.676161\n",
      "75%         9.569152\n",
      "max        13.294959\n",
      "dtype: float64\n"
     ]
    },
    {
     "data": {
      "text/plain": [
       "<AxesSubplot:>"
      ]
     },
     "execution_count": 231,
     "metadata": {},
     "output_type": "execute_result"
    },
    {
     "data": {
      "image/png": "[encoded data removed]",
      "text/plain": [
       "<Figure size 432x288 with 1 Axes>"
      ]
     },
     "metadata": {
      "needs_background": "light"
     },
     "output_type": "display_data"
    }
   ],
   "source": [
    "# Error should be distributed close to 0 (I guess...)  # BUG https://trello.com/c/9k2e8PQz/33-mcsampleh-is-not-close-to-expected-target\n",
    "errors = pd.Series(errors)\n",
    "print(\"H L2-error metrics\")\n",
    "print(errors.describe())\n",
    "errors.hist(bins=30)"
   ]
  },
  {
   "cell_type": "code",
   "execution_count": 232,
   "id": "61b51368",
   "metadata": {},
   "outputs": [
    {
     "name": "stdout",
     "output_type": "stream",
     "text": [
      "H L2-error series\n"
     ]
    },
    {
     "data": {
      "image/png": "[encoded data removed]",
      "text/plain": [
       "<Figure size 432x288 with 1 Axes>"
      ]
     },
     "metadata": {
      "needs_background": "light"
     },
     "output_type": "display_data"
    }
   ],
   "source": [
    "errors.plot()\n",
    "print(\"H L2-error series\")"
   ]
  },
  {
   "cell_type": "markdown",
   "id": "4f2eb162",
   "metadata": {},
   "source": [
    "## 2.4.1 BDMCMC Sampling"
   ]
  },
  {
   "cell_type": "markdown",
   "id": "874dc550",
   "metadata": {},
   "source": [
    "### Task:\n",
    "\n",
    "You must implement a function that receives matrices $W$, $Z_{i+1}$ and $H_{i+1}$ and generates the next $G_{i+1}$ and $K_{i+1}$."
   ]
  },
  {
   "cell_type": "code",
   "execution_count": 236,
   "id": "1b6b529e",
   "metadata": {},
   "outputs": [],
   "source": [
    "import subprocess\n",
    "\n",
    "def serialize_matrix(m):\n",
    "    if len(m.shape) != 2:\n",
    "        raise Exception(\"Can not serialize ill-shaped matrix!\")\n",
    "    res = '\\n'.join(' '.join(str(entry) for entry in row)  # Space between entries, newline between rows\n",
    "                     for row in m)\n",
    "    return '\"' + res + '\"'\n",
    "\n",
    "def deserialize_matrix(line, shape, separator=' '):\n",
    "    return np.fromstring(line, sep=separator).reshape(shape)\n",
    "\n",
    "\n",
    "def MC_sample_GK(G, H, degrees_of_freedom_b, debug=False):\n",
    "    size = G.shape[0]\n",
    "    n = H.shape[0]\n",
    "    \n",
    "    # Serialize the inputs\n",
    "    G = serialize_matrix(G)\n",
    "    \n",
    "    # Transform H into the BDGraph data matrix\n",
    "    data_matrix = H_sample.T.dot(H_sample)\n",
    "    data_matrix = serialize_matrix(data_matrix)\n",
    "    \n",
    "    # call R script using python.subprocess\n",
    "    # The parameter order is: deg.of freedom b, \n",
    "    #                         number of data samples (documents) n, \n",
    "    #                         graph adjacency matrix G, \n",
    "    #                         data matrix,\n",
    "    #                         debug (\"TRUE\" or \"FALSE\"), \n",
    "    command = f\"Rscript --vanilla bdmcmc.R {degrees_of_freedom_b} {n} {G} {data_matrix} {'TRUE' if debug else 'FALSE'}\"\n",
    "    result = subprocess.run(command, \n",
    "                            shell=True, \n",
    "                            capture_output=True,\n",
    "                            text=True)\n",
    "    \n",
    "    if result.returncode != 0:  # Something went wrong\n",
    "        print(result.stdout)\n",
    "        print(result.stderr)\n",
    "        raise Exception(\"Rscript error! Check the previous logs for more details\")\n",
    "    \n",
    "    if debug:\n",
    "        print(result.stdout)\n",
    "    \n",
    "    # The last two lines of the R output MUST be the sampled matrices\n",
    "    lines = result.stdout.rsplit('\\n', 3)  # Split only the last three lines  https://www.w3schools.com/python/ref_string_rsplit.asp\n",
    "    waiting_time = float(lines[-3])  # 3rd from the end\n",
    "    G = deserialize_matrix(lines[-2], shape=(size, size))  # Line before last\n",
    "    K = deserialize_matrix(lines[-1], shape=(size, size))  # Last line\n",
    "    return waiting_time, G, K"
   ]
  },
  {
   "cell_type": "markdown",
   "id": "9598a8a0",
   "metadata": {},
   "source": [
    "#### MC_sample_G tests"
   ]
  },
  {
   "cell_type": "code",
   "execution_count": 247,
   "id": "15d27753",
   "metadata": {},
   "outputs": [
    {
     "name": "stdout",
     "output_type": "stream",
     "text": [
      "[1] \"[R] Matrix G:\"\n",
      "     V1 V2 V3 V4 V5\n",
      "[1,]  0  0  0  0  0\n",
      "[2,]  0  0  0  0  0\n",
      "[3,]  0  0  0  0  0\n",
      "[4,]  0  0  0  0  0\n",
      "[5,]  0  0  0  0  0\n",
      "[1] \"[R] Data Matrix:\"\n",
      "             V1        V2         V3         V4         V5\n",
      "[1,]  7.2968015 -2.420489 -1.4795909 -2.7966846  0.7316807\n",
      "[2,] -2.4204890  5.299117 -3.9268501  2.3824483 -1.0146214\n",
      "[3,] -1.4795909 -3.926850  9.0679195 -0.6008072  2.7273701\n",
      "[4,] -2.7966846  2.382448 -0.6008072  2.6820711 -1.0340785\n",
      "[5,]  0.7316807 -1.014621  2.7273701 -1.0340785  6.5834584\n",
      "[1] \"[R] Shape Matrix:\"\n",
      "     [,1] [,2] [,3] [,4] [,5]\n",
      "[1,]    1    0    0    0    0\n",
      "[2,]    0    1    0    0    0\n",
      "[3,]    0    0    1    0    0\n",
      "[4,]    0    0    0    1    0\n",
      "[5,]    0    0    0    0    1\n",
      "1 iteration is started.                     \n",
      " Iteration  1                 \n",
      "[1] \"[R] Waiting time:\"\n",
      "[1] 0.45\n",
      "[1] \"[R] Sampled Matrix G:\"\n",
      "   V1 V2 V3 V4 V5\n",
      "V1  0  0  0  0  0\n",
      "V2  0  0  0  0  0\n",
      "V3  0  0  0  0  0\n",
      "V4  0  0  0  0  0\n",
      "V5  0  0  0  0  0\n",
      "[1] \"[R] Sampled Matrix K:\"\n",
      "          V1        V2        V3       V4        V5\n",
      "V1 0.1873049 0.0000000 0.0000000 0.000000 0.0000000\n",
      "V2 0.0000000 0.1324816 0.0000000 0.000000 0.0000000\n",
      "V3 0.0000000 0.0000000 0.0692594 0.000000 0.0000000\n",
      "V4 0.0000000 0.0000000 0.0000000 0.384792 0.0000000\n",
      "V5 0.0000000 0.0000000 0.0000000 0.000000 0.1295968\n",
      "[1] \"[R] returning results:\"\n",
      "0.45\n",
      "0 0 0 0 0 0 0 0 0 0 0 0 0 0 0 0 0 0 0 0 0 0 0 0 0 \n",
      "0.1873049 0 0 0 0 0 0.1324816 0 0 0 0 0 0.0692594 0 0 0 0 0 0.384792 0 0 0 0 0 0.1295968 \n"
     ]
    }
   ],
   "source": [
    "# Check that the function runs with no issues, without side effects\n",
    "G_copy = random_initial_data.G.copy()\n",
    "H_copy = test_data.H.copy()\n",
    "degrees_of_freedom_b = k - 1\n",
    "shape_matrix = np.eye(k)\n",
    "\n",
    "wt_sample, G_sample, K_sample = MC_sample_GK(G_copy, H_copy, degrees_of_freedom_b, debug=True)\n",
    "\n",
    "# assert np.all(W_copy == test_data.W)\n",
    "# assert np.all(Z_copy == test_data.Z)\n",
    "# assert np.all(H_copy == test_data.H)\n",
    "# assert np.all(K_copy == test_data.K)\n",
    "# assert np.all(E_copy == test_data.E)\n",
    "# assert np.all(shape_matrix == np.eye(k))"
   ]
  },
  {
   "cell_type": "markdown",
   "id": "e999178a",
   "metadata": {},
   "source": [
    "## 2.4.2 BDMCMC Sampling Tests"
   ]
  },
  {
   "cell_type": "markdown",
   "id": "c50d0dfa",
   "metadata": {},
   "source": [
    "#### MC_sample_GK tests"
   ]
  },
  {
   "cell_type": "code",
   "execution_count": 249,
   "id": "947c6b0b",
   "metadata": {},
   "outputs": [
    {
     "name": "stdout",
     "output_type": "stream",
     "text": [
      "[1] \"[R] Matrix G:\"\n",
      "     V1 V2 V3 V4 V5\n",
      "[1,]  0  0  1  0  0\n",
      "[2,]  0  0  0  0  0\n",
      "[3,]  1  0  0  0  0\n",
      "[4,]  0  0  0  0  0\n",
      "[5,]  0  0  0  0  0\n",
      "[1] \"[R] Data Matrix:\"\n",
      "             V1        V2         V3         V4         V5\n",
      "[1,]  7.2968015 -2.420489 -1.4795909 -2.7966846  0.7316807\n",
      "[2,] -2.4204890  5.299117 -3.9268501  2.3824483 -1.0146214\n",
      "[3,] -1.4795909 -3.926850  9.0679195 -0.6008072  2.7273701\n",
      "[4,] -2.7966846  2.382448 -0.6008072  2.6820711 -1.0340785\n",
      "[5,]  0.7316807 -1.014621  2.7273701 -1.0340785  6.5834584\n",
      "[1] \"[R] Shape Matrix:\"\n",
      "     [,1] [,2] [,3] [,4] [,5]\n",
      "[1,]    1    0    0    0    0\n",
      "[2,]    0    1    0    0    0\n",
      "[3,]    0    0    1    0    0\n",
      "[4,]    0    0    0    1    0\n",
      "[5,]    0    0    0    0    1\n",
      "1 iteration is started.                     \n",
      " Iteration  1                 \n",
      "[1] \"[R] Waiting time:\"\n",
      "[1] 0.45\n",
      "[1] \"[R] Sampled Matrix G:\"\n",
      "   V1 V2 V3 V4 V5\n",
      "V1  0  0  1  0  0\n",
      "V2  0  0  0  0  0\n",
      "V3  0  0  0  0  0\n",
      "V4  0  0  0  0  0\n",
      "V5  0  0  0  0  0\n",
      "[1] \"[R] Sampled Matrix K:\"\n",
      "            V1        V2          V3      V4        V5\n",
      "V1  0.18255722 0.0000000 -0.02319777 0.00000 0.0000000\n",
      "V2  0.00000000 0.2146805  0.00000000 0.00000 0.0000000\n",
      "V3 -0.02319777 0.0000000  0.16001335 0.00000 0.0000000\n",
      "V4  0.00000000 0.0000000  0.00000000 0.47868 0.0000000\n",
      "V5  0.00000000 0.0000000  0.00000000 0.00000 0.1365286\n",
      "[1] \"[R] returning results:\"\n",
      "0.45\n",
      "0 0 1 0 0 0 0 0 0 0 0 0 0 0 0 0 0 0 0 0 0 0 0 0 0 \n",
      "0.1825572 0 -0.02319777 0 0 0 0.2146805 0 0 0 -0.02319777 0 0.1600134 0 0 0 0 0 0.47868 0 0 0 0 0 0.1365286 \n"
     ]
    }
   ],
   "source": [
    "#This is a basic test of MC_sample_GK\n",
    "G = [[0,0,1,0,0],\n",
    "     [0,0,0,0,0],\n",
    "     [1,0,0,0,0],\n",
    "     [0,0,0,0,0],\n",
    "     [0,0,0,0,0]]\n",
    "G = np.array(G)\n",
    "wt_sample, G_sample, K_sample = MC_sample_GK(G, H_copy, degrees_of_freedom_b, debug=True)\n",
    "\n",
    "assert np.all(shape_matrix == np.eye(5, dtype=int))"
   ]
  },
  {
   "cell_type": "code",
   "execution_count": 313,
   "id": "11b18607",
   "metadata": {},
   "outputs": [
    {
     "data": {
      "text/plain": [
       "<matplotlib.image.AxesImage at 0x7f8164514d30>"
      ]
     },
     "execution_count": 313,
     "metadata": {},
     "output_type": "execute_result"
    },
    {
     "data": {
      "image/png": "[encoded data removed]",
      "text/plain": [
       "<Figure size 288x288 with 1 Axes>"
      ]
     },
     "metadata": {
      "needs_background": "light"
     },
     "output_type": "display_data"
    }
   ],
   "source": [
    "plt.matshow(G_sample)  # Why is this NOT symmetric?"
   ]
  },
  {
   "cell_type": "code",
   "execution_count": 314,
   "id": "d1094661",
   "metadata": {},
   "outputs": [
    {
     "data": {
      "text/plain": [
       "<matplotlib.image.AxesImage at 0x7f816452abe0>"
      ]
     },
     "execution_count": 314,
     "metadata": {},
     "output_type": "execute_result"
    },
    {
     "data": {
      "image/png": "[encoded data removed]",
      "text/plain": [
       "<Figure size 288x288 with 1 Axes>"
      ]
     },
     "metadata": {
      "needs_background": "light"
     },
     "output_type": "display_data"
    }
   ],
   "source": [
    "plt.matshow(K_sample)  # Why is this NOT a mask of G?"
   ]
  },
  {
   "cell_type": "code",
   "execution_count": 316,
   "id": "3686b760",
   "metadata": {},
   "outputs": [
    {
     "name": "stdout",
     "output_type": "stream",
     "text": [
      "CPU times: user 784 ms, sys: 4.13 s, total: 4.92 s\n",
      "Wall time: 3min 56s\n"
     ]
    }
   ],
   "source": [
    "%%time\n",
    "# Check that the Sampler works properly (This will take... forever)\n",
    "K_errors = []\n",
    "G_errors = []\n",
    "matrix_changes = []\n",
    "burn_in = 0\n",
    "for i in range(1000):\n",
    "    K_sample_old = K_sample.copy()\n",
    "    G_sample_old = G_sample.copy()\n",
    "    wt_sample, G_sample, K_sample = MC_sample_GK(G_sample, H_copy, degrees_of_freedom_b, debug=False)\n",
    "    matrix_changes.append(~np.all(K_sample_old == K_sample))\n",
    "    if i >= burn_in:\n",
    "        K_errors.append(np.linalg.norm(K_sample - test_data.K))  # Computing error wrt the target matrix        \n",
    "        G_errors.append(np.linalg.norm(G_sample - test_data.K))  # Computing error wrt the target matrix"
   ]
  },
  {
   "cell_type": "code",
   "execution_count": 317,
   "id": "0b1c5bf7",
   "metadata": {},
   "outputs": [
    {
     "name": "stdout",
     "output_type": "stream",
     "text": [
      "Matrix changes (1 = changed, 0 = same)\n",
      "count    1000.0\n",
      "mean        1.0\n",
      "std         0.0\n",
      "min         1.0\n",
      "25%         1.0\n",
      "50%         1.0\n",
      "75%         1.0\n",
      "max         1.0\n",
      "dtype: float64\n"
     ]
    },
    {
     "data": {
      "text/plain": [
       "<AxesSubplot:>"
      ]
     },
     "execution_count": 317,
     "metadata": {},
     "output_type": "execute_result"
    },
    {
     "data": {
      "image/png": "[encoded data removed]",
      "text/plain": [
       "<Figure size 432x288 with 1 Axes>"
      ]
     },
     "metadata": {
      "needs_background": "light"
     },
     "output_type": "display_data"
    }
   ],
   "source": [
    "# Matrix should change\n",
    "matrix_changes = pd.Series(matrix_changes).astype(int)\n",
    "print(\"Matrix changes (1 = changed, 0 = same)\")\n",
    "print(matrix_changes.describe())\n",
    "matrix_changes.hist()"
   ]
  },
  {
   "cell_type": "code",
   "execution_count": 318,
   "id": "21b2df4e",
   "metadata": {},
   "outputs": [
    {
     "name": "stdout",
     "output_type": "stream",
     "text": [
      "K L2-error metrics\n",
      "count    4000.000000\n",
      "mean        8.807632\n",
      "std         1.131734\n",
      "min         5.802072\n",
      "25%         8.005694\n",
      "50%         8.676161\n",
      "75%         9.569152\n",
      "max        13.294959\n",
      "dtype: float64\n"
     ]
    },
    {
     "data": {
      "text/plain": [
       "<AxesSubplot:>"
      ]
     },
     "execution_count": 318,
     "metadata": {},
     "output_type": "execute_result"
    },
    {
     "data": {
      "image/png": "[encoded data removed]",
      "text/plain": [
       "<Figure size 432x288 with 1 Axes>"
      ]
     },
     "metadata": {
      "needs_background": "light"
     },
     "output_type": "display_data"
    }
   ],
   "source": [
    "# Error should be distributed close to 0 (I guess...)  # BUG https://trello.com/c/9k2e8PQz/33-mcsampleh-is-not-close-to-expected-target\n",
    "K_errors = pd.Series(errors)\n",
    "print(\"K L2-error metrics\")\n",
    "print(K_errors.describe())\n",
    "K_errors.hist()"
   ]
  },
  {
   "cell_type": "code",
   "execution_count": 319,
   "id": "cf82b20c",
   "metadata": {},
   "outputs": [
    {
     "name": "stdout",
     "output_type": "stream",
     "text": [
      "K L2-error series\n"
     ]
    },
    {
     "data": {
      "image/png": "[encoded data removed]",
      "text/plain": [
       "<Figure size 432x288 with 1 Axes>"
      ]
     },
     "metadata": {
      "needs_background": "light"
     },
     "output_type": "display_data"
    }
   ],
   "source": [
    "K_errors.plot()\n",
    "print(\"K L2-error series\")"
   ]
  },
  {
   "cell_type": "code",
   "execution_count": 320,
   "id": "56601ac5",
   "metadata": {},
   "outputs": [
    {
     "name": "stdout",
     "output_type": "stream",
     "text": [
      "G L2-error metrics\n",
      "count    4000.000000\n",
      "mean        8.807632\n",
      "std         1.131734\n",
      "min         5.802072\n",
      "25%         8.005694\n",
      "50%         8.676161\n",
      "75%         9.569152\n",
      "max        13.294959\n",
      "dtype: float64\n"
     ]
    },
    {
     "data": {
      "text/plain": [
       "<AxesSubplot:>"
      ]
     },
     "execution_count": 320,
     "metadata": {},
     "output_type": "execute_result"
    },
    {
     "data": {
      "image/png": "[encoded data removed]",
      "text/plain": [
       "<Figure size 432x288 with 1 Axes>"
      ]
     },
     "metadata": {
      "needs_background": "light"
     },
     "output_type": "display_data"
    }
   ],
   "source": [
    "# Error should be distributed close to 0 (I guess...)  # BUG https://trello.com/c/9k2e8PQz/33-mcsampleh-is-not-close-to-expected-target\n",
    "G_errors = pd.Series(errors)\n",
    "print(\"G L2-error metrics\")\n",
    "print(G_errors.describe())\n",
    "G_errors.hist()"
   ]
  },
  {
   "cell_type": "code",
   "execution_count": 321,
   "id": "d26e5319",
   "metadata": {},
   "outputs": [
    {
     "name": "stdout",
     "output_type": "stream",
     "text": [
      "G L2-error series\n"
     ]
    },
    {
     "data": {
      "image/png": "[encoded data removed]",
      "text/plain": [
       "<Figure size 432x288 with 1 Axes>"
      ]
     },
     "metadata": {
      "needs_background": "light"
     },
     "output_type": "display_data"
    }
   ],
   "source": [
    "G_errors.plot()\n",
    "print(\"G L2-error series\")"
   ]
  },
  {
   "cell_type": "code",
   "execution_count": null,
   "id": "98e5d514",
   "metadata": {},
   "outputs": [],
   "source": []
  },
  {
   "cell_type": "markdown",
   "id": "91223829",
   "metadata": {},
   "source": [
    "# MAIN ALGORITHM"
   ]
  },
  {
   "cell_type": "markdown",
   "id": "95d9989e",
   "metadata": {},
   "source": [
    "### Generating Data"
   ]
  },
  {
   "cell_type": "code",
   "execution_count": 326,
   "id": "c5cc4125",
   "metadata": {},
   "outputs": [
    {
     "name": "stdout",
     "output_type": "stream",
     "text": [
      "Success: Sigma transformed from K\n",
      "Success: Theta transformed from H\n",
      "Success: W and Z generated\n",
      "Success: E transformed from Z\n",
      "Success: C transformed from Z\n"
     ]
    }
   ],
   "source": [
    "simulated_data = Simulator(D, V, M, k, gamma, seed=1888)\n",
    "simulated_data.generate_all_data()"
   ]
  },
  {
   "cell_type": "code",
   "execution_count": 327,
   "id": "c2c723da",
   "metadata": {},
   "outputs": [
    {
     "data": {
      "text/plain": [
       "array([[ 8., 10.,  0.,  6.,  6.,  4.,  0.,  9.,  5.,  5.,  6.,  3.],\n",
       "       [ 6.,  7.,  1.,  6., 10., 10.,  0., 10.,  4.,  4.,  4.,  7.],\n",
       "       [ 0.,  5.,  0.,  2.,  4.,  3.,  0.,  0.,  2.,  0.,  3.,  1.],\n",
       "       [ 5.,  7.,  1., 10.,  5.,  4.,  0.,  8.,  8.,  4.,  4.,  6.],\n",
       "       [ 1.,  3.,  0.,  2.,  5.,  3.,  1.,  0.,  2.,  0.,  3.,  6.],\n",
       "       [ 2.,  7.,  0.,  2.,  5.,  4.,  0.,  6.,  3.,  2.,  5.,  1.],\n",
       "       [ 6., 10.,  1.,  7.,  7.,  4.,  0.,  7.,  2.,  2.,  6.,  5.],\n",
       "       [ 8., 10.,  0.,  4.,  8., 10.,  0., 10.,  5.,  3.,  7.,  7.]])"
      ]
     },
     "execution_count": 327,
     "metadata": {},
     "output_type": "execute_result"
    }
   ],
   "source": [
    "# Input Data:\n",
    "simulated_data.W"
   ]
  },
  {
   "cell_type": "code",
   "execution_count": 328,
   "id": "4ae6980a",
   "metadata": {},
   "outputs": [
    {
     "data": {
      "text/plain": [
       "<matplotlib.image.AxesImage at 0x7f81641585e0>"
      ]
     },
     "execution_count": 328,
     "metadata": {},
     "output_type": "execute_result"
    },
    {
     "data": {
      "image/png": "[encoded data removed]",
      "text/plain": [
       "<Figure size 288x288 with 1 Axes>"
      ]
     },
     "metadata": {
      "needs_background": "light"
     },
     "output_type": "display_data"
    }
   ],
   "source": [
    "# Target graph\n",
    "plt.matshow(simulated_data.G, cmap='Blues')"
   ]
  },
  {
   "cell_type": "markdown",
   "id": "2213b39f",
   "metadata": {},
   "source": [
    "# SAMPLER"
   ]
  },
  {
   "cell_type": "code",
   "execution_count": 329,
   "id": "a30a387f",
   "metadata": {},
   "outputs": [
    {
     "name": "stdout",
     "output_type": "stream",
     "text": [
      "Success: Sigma transformed from K\n",
      "Success: Theta transformed from H\n"
     ]
    }
   ],
   "source": [
    "# # Initial guesses\n",
    "initial = Simulator(D, V, M, k, gamma, 2020)\n",
    "initial.sample_GK()\n",
    "initial.sample_B()\n",
    "initial.sample_H()"
   ]
  },
  {
   "cell_type": "code",
   "execution_count": 337,
   "id": "e9f7f99d",
   "metadata": {},
   "outputs": [
    {
     "data": {
      "text/plain": [
       "<matplotlib.image.AxesImage at 0x7f81641629a0>"
      ]
     },
     "execution_count": 337,
     "metadata": {},
     "output_type": "execute_result"
    },
    {
     "data": {
      "image/png": "[encoded data removed]",
      "text/plain": [
       "<Figure size 288x288 with 1 Axes>"
      ]
     },
     "metadata": {
      "needs_background": "light"
     },
     "output_type": "display_data"
    }
   ],
   "source": [
    "# Initial graph\n",
    "plt.matshow(initial.G, cmap='Blues')"
   ]
  },
  {
   "cell_type": "code",
   "execution_count": 342,
   "id": "6ee69d88",
   "metadata": {},
   "outputs": [
    {
     "name": "stdout",
     "output_type": "stream",
     "text": [
      "Success: E transformed from Z\n",
      "Success: C transformed from Z\n"
     ]
    },
    {
     "name": "stderr",
     "output_type": "stream",
     "text": [
      "/tmp/ipykernel_39721/2545393832.py:6: RuntimeWarning: overflow encountered in exp\n",
      "  return np.exp(eta_K_eta + E_eta) / sum_eta_pow_k  # This np.exp raises a warning when  eta_K_eta + E_eta > 706\n"
     ]
    },
    {
     "name": "stdout",
     "output_type": "stream",
     "text": [
      "At iteration 0, the wrong edges are 2 and the error on Sigma is 0.7201932254880481\n"
     ]
    },
    {
     "data": {
      "image/png": "[encoded data removed]",
      "text/plain": [
       "<Figure size 288x288 with 1 Axes>"
      ]
     },
     "metadata": {
      "needs_background": "light"
     },
     "output_type": "display_data"
    },
    {
     "name": "stdout",
     "output_type": "stream",
     "text": [
      "G matrix has NOT changed!\n",
      "At iteration 1, the wrong edges are 2 and the error on Sigma is 0.7201932254880481\n",
      "G matrix has NOT changed!\n",
      "At iteration 2, the wrong edges are 2 and the error on Sigma is 0.7201932254880481\n",
      "G matrix has NOT changed!\n",
      "At iteration 3, the wrong edges are 2 and the error on Sigma is 0.7201932254880481\n",
      "G matrix has NOT changed!\n",
      "At iteration 4, the wrong edges are 2 and the error on Sigma is 0.7201932254880481\n",
      "G matrix has NOT changed!\n",
      "At iteration 5, the wrong edges are 2 and the error on Sigma is 0.7201932254880481\n",
      "G matrix has NOT changed!\n",
      "At iteration 6, the wrong edges are 2 and the error on Sigma is 0.7201932254880481\n",
      "G matrix has NOT changed!\n",
      "At iteration 7, the wrong edges are 2 and the error on Sigma is 0.7201932254880481\n",
      "G matrix has NOT changed!\n",
      "At iteration 8, the wrong edges are 2 and the error on Sigma is 0.7201932254880481\n",
      "G matrix has NOT changed!\n",
      "At iteration 9, the wrong edges are 2 and the error on Sigma is 0.7201932254880481\n",
      "G matrix has NOT changed!\n",
      "At iteration 10, the wrong edges are 2 and the error on Sigma is 0.7201932254880481\n"
     ]
    },
    {
     "data": {
      "image/png": "[encoded data removed]",
      "text/plain": [
       "<Figure size 288x288 with 1 Axes>"
      ]
     },
     "metadata": {
      "needs_background": "light"
     },
     "output_type": "display_data"
    },
    {
     "name": "stdout",
     "output_type": "stream",
     "text": [
      "G matrix has NOT changed!\n",
      "At iteration 11, the wrong edges are 2 and the error on Sigma is 0.7201932254880481\n",
      "G matrix has NOT changed!\n",
      "At iteration 12, the wrong edges are 2 and the error on Sigma is 0.7201932254880481\n",
      "G matrix has NOT changed!\n",
      "At iteration 13, the wrong edges are 2 and the error on Sigma is 0.7201932254880481\n",
      "G matrix has NOT changed!\n",
      "At iteration 14, the wrong edges are 2 and the error on Sigma is 0.7201932254880481\n",
      "G matrix has NOT changed!\n",
      "At iteration 15, the wrong edges are 2 and the error on Sigma is 0.7201932254880481\n",
      "G matrix has NOT changed!\n",
      "At iteration 16, the wrong edges are 2 and the error on Sigma is 0.7201932254880481\n",
      "G matrix has NOT changed!\n",
      "At iteration 17, the wrong edges are 2 and the error on Sigma is 0.7201932254880481\n",
      "G matrix has NOT changed!\n",
      "At iteration 18, the wrong edges are 2 and the error on Sigma is 0.7201932254880481\n",
      "G matrix has NOT changed!\n",
      "At iteration 19, the wrong edges are 2 and the error on Sigma is 0.7201932254880481\n"
     ]
    }
   ],
   "source": [
    "max_iteration = 20\n",
    "\n",
    "# Initialization\n",
    "Sigma = initial.Sigma\n",
    "K = np.linalg.inv(Sigma)\n",
    "B = initial.B\n",
    "Theta = initial.Theta\n",
    "G = initial.G\n",
    "\n",
    "alpha = np.ones(V)  # Uninformative prior\n",
    "b = k - 1\n",
    "\n",
    "Z = sample_Z_from_W(simulated_data.W.astype(int), k, 2020)  # Random sample of Z based on actual data\n",
    "\n",
    "E = update_E(np.zeros((D, k)), Z)  # Transformation of Z\n",
    "C = update_C(np.zeros((k, V)), Z)  # Transformation of Z\n",
    "\n",
    "\n",
    "for iteration in range(max_iteration):\n",
    "    \n",
    "    # Step 1\n",
    "    Z, E, C = MC_sample_Z(Z, simulated_data.W, Theta, B, E, C) \n",
    "    \n",
    "    # Step 2\n",
    "    B = MC_sample_B(alpha, C)\n",
    "    \n",
    "    # Step 3\n",
    "    H = MC_sample_H(E, Sigma)\n",
    "    Theta = update_Theta(Theta, H)  # get Theta from H\n",
    "    \n",
    "    # Step 4    \n",
    "    G_old = G.copy()\n",
    "    wt_sample, G_new, K = MC_sample_GK(G, H, b, debug=False)\n",
    "    if np.all(G_new == G_old):\n",
    "        print('G matrix has NOT changed!')\n",
    "    G = G_new\n",
    "    \n",
    "    # Hope for convergence!\n",
    "    wrong_edges = np.sum(G != simulated_data.G)\n",
    "    error = np.linalg.norm(Sigma - simulated_data.Sigma)\n",
    "    print(f\"At iteration {iteration}, the wrong edges are {wrong_edges} and the error on Sigma is {error}\")\n",
    "    \n",
    "    if iteration%10==0:  # Plot every 10 iterations\n",
    "        plt.matshow(G, cmap='Blues')\n",
    "        plt.show()"
   ]
  },
  {
   "cell_type": "code",
   "execution_count": null,
   "id": "029c71eb",
   "metadata": {},
   "outputs": [],
   "source": []
  }
 ],
 "metadata": {
  "interpreter": {
   "hash": "a803b5bf187bf95155bcb05f6102b06519856e9ee60d4a9ebc29561a74488513"
  },
  "kernelspec": {
   "display_name": "Python 3 (ipykernel)",
   "language": "python",
   "name": "python3"
  },
  "language_info": {
   "codemirror_mode": {
    "name": "ipython",
    "version": 3
   },
   "file_extension": ".py",
   "mimetype": "text/x-python",
   "name": "python",
   "nbconvert_exporter": "python",
   "pygments_lexer": "ipython3",
   "version": "3.9.1"
  }
 },
 "nbformat": 4,
 "nbformat_minor": 5
}
