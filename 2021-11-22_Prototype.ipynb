{
 "cells": [
  {
   "cell_type": "code",
   "execution_count": 2,
   "id": "ce462bbc",
   "metadata": {},
   "outputs": [],
   "source": [
    "# GLOBAL VARIABLES. BE SURE NOT TO OVERWRITE THEM\n",
    "D = 8 # Amount of documents\n",
    "V = 12 # Size of the vocabulary\n",
    "\n",
    "# (Approximate) Maximum allowed amount of same word repetition in a document (it may be lower in practise due to the data generation strategy)\n",
    "# To get the actual maximum amount, call Simulator.get_M\n",
    "M = 10 \n",
    "\n",
    "k = 5 # Amount of topics\n",
    "gamma = 0.05"
   ]
  },
  {
   "cell_type": "code",
   "execution_count": 3,
   "id": "ef1eec48",
   "metadata": {},
   "outputs": [],
   "source": [
    "# # GLOBAL VARIABLES. BE SURE NOT TO OVERWRITE THEM\n",
    "# D = 100 # Amount of documents\n",
    "# V = 20 # Size of the vocabulary\n",
    "\n",
    "# # (Approximate) Maximum allowed amount of same word repetition in a document (it may be lower in practise due to the data generation strategy)\n",
    "# # To get the actual maximum amount, call Simulator.get_M\n",
    "# M = 10 \n",
    "\n",
    "# k = 10 # Amount of topics\n",
    "# gamma = 0.05"
   ]
  },
  {
   "cell_type": "markdown",
   "id": "8ac66431",
   "metadata": {},
   "source": [
    "## IMPORTANT: Please use static random seeds in **EVERY** cell where you use a random function, so that the result does **NOT** change at every run."
   ]
  },
  {
   "cell_type": "markdown",
   "id": "76a39d64",
   "metadata": {},
   "source": [
    "# 1. ARTIFICIAL DATA"
   ]
  },
  {
   "cell_type": "markdown",
   "id": "3667feb8",
   "metadata": {},
   "source": [
    "### Task:\n",
    "\n",
    "You must implement an algorithm that generates an artificial *corpus*, and return also a graph G and a correlation matrix Sigma."
   ]
  },
  {
   "cell_type": "code",
   "execution_count": 4,
   "id": "15e52acc",
   "metadata": {},
   "outputs": [],
   "source": [
    "import numpy as np\n",
    "import pandas as pd\n",
    "from scipy.stats import bernoulli\n",
    "#!pip install sklearn\n",
    "from sklearn.datasets import make_sparse_spd_matrix\n",
    "import matplotlib.pyplot as plt"
   ]
  },
  {
   "cell_type": "code",
   "execution_count": 5,
   "id": "fd4a01a1",
   "metadata": {},
   "outputs": [],
   "source": [
    "# Transformation functions (deterministic)\n",
    "\n",
    "def update_Theta(Theta, H):\n",
    "    for d in range(D):\n",
    "        Theta[d] = np.exp(H[d]) / np.sum(np.exp(H[d]), axis=0)\n",
    "    print('Success: Theta transformed from H')\n",
    "    return Theta\n",
    "\n",
    "def update_E(E, Z):\n",
    "    k = E.shape[1]\n",
    "    for topic in range(k):\n",
    "        E[:, topic] = np.sum(Z == topic, axis=2).sum(axis=1)\n",
    "    print('Success: E transformed from Z')\n",
    "    return E\n",
    "\n",
    "def update_C(C, Z):\n",
    "    k = C.shape[0]\n",
    "    for topic in range(k):\n",
    "        C[topic, :] = np.sum(Z == topic, axis=2).sum(axis=0)\n",
    "    print('Success: C transformed from Z')\n",
    "    return C\n",
    "\n",
    "def update_B(B, C):\n",
    "    # Note this is the transformation from C\n",
    "    for topic in range(0, len(B)):\n",
    "        B[topic] = C[topic] / sum(C[topic])\n",
    "    print('Success: B transformed from C')\n",
    "    return B\n",
    "\n",
    "def update_Sigma(K):\n",
    "    Sigma = np.linalg.inv(K)\n",
    "    print('Success: Sigma transformed from K')\n",
    "    return Sigma"
   ]
  },
  {
   "cell_type": "code",
   "execution_count": 6,
   "id": "5b440c78",
   "metadata": {},
   "outputs": [],
   "source": [
    "# Random / Generating functions\n",
    "\n",
    "def build_topic_distribution(seed):\n",
    "    np.random.seed(seed)\n",
    "    distribution = np.random.random(V)\n",
    "    return distribution / distribution.sum()\n",
    "\n",
    "def sample_B(seed):\n",
    "    # B is the matrix whose rows are the distribution of topic i over the vocabulary\n",
    "    # Each row means : for each topic i we have the probability of word i to occur\n",
    "    # TODO: Change with Dirichlet prior -> See line to change\n",
    "    b = np.empty((k,V))\n",
    "    np.random.seed(seed)\n",
    "    for i in range(k):\n",
    "        b[i,:] = build_topic_distribution(seed)  # TODO: Change\n",
    "    return b\n",
    "\n",
    "def sample_G(k, gamma, seed):  # Won't update Sigma automatically anymore\n",
    "    # Bernoulli for G\n",
    "    # generate a random adjacency matrix\n",
    "    np.random.seed(seed)\n",
    "    matrix = np.array([[int(bernoulli.rvs(p=gamma, size=1)) for i in range(k)] for j in range(k)])\n",
    "    for i in range(k):\n",
    "        matrix[i][i] = 0\n",
    "    for i in range(k):\n",
    "        for j in range(k):\n",
    "            matrix[j][i] = matrix[i][j]\n",
    "    return matrix\n",
    "\n",
    "def sample_K(k, seed):  # Won't update Sigma automatically anymore\n",
    "    # I can build K for using make_sparse_spd_matrix from sklearn.datasets for example\n",
    "    np.random.seed(seed)\n",
    "    K = make_sparse_spd_matrix(k, alpha=0.95, norm_diag=False, smallest_coef=0.1, largest_coef=0.9, random_state=None)\n",
    "    return K\n",
    "\n",
    "def sample_H(Sigma, D, k, seed):  # Won't update Theta automatically anymore\n",
    "    # Multivariate Normal\n",
    "    mu = np.zeros(k)\n",
    "    np.random.seed(seed)\n",
    "    H = np.random.multivariate_normal(mu, Sigma, D)\n",
    "    return H\n",
    "\n",
    "def sample_Z_from_W(W, k, seed):\n",
    "    D, V = W.shape\n",
    "    M = int(W.max())\n",
    "    Z = -np.ones((D, V, M))\n",
    "    np.random.seed(seed)\n",
    "    for d in range(D):\n",
    "        for w in range(V): \n",
    "            occurrences = W[d, w]\n",
    "            Z[d, w, 0:occurrences] = np.random.randint(0, k, size=occurrences)    \n",
    "    return Z"
   ]
  },
  {
   "cell_type": "code",
   "execution_count": 7,
   "id": "2c8fc818",
   "metadata": {},
   "outputs": [],
   "source": [
    "# Main Simulator Class\n",
    "class Simulator:\n",
    "    \n",
    "    # Remember we will have indexes starting from 0 so all max are -=1\n",
    "    \n",
    "    def __init__(self, D, V, M, k, gamma, seed):\n",
    "        # Create zero matrices for all possible matrices\n",
    "        self.W = np.zeros((D, V))  # matrix of D×V where Wdn is counter of appearances of the word n in document d\n",
    "        self.B = np.zeros((k, V))  # matrix of kxV where Bz is the parameter vector of the distribution for the z-th topic\n",
    "        self.C = np.zeros((k, V))  # matrix of kxV where Cz is the count vec of sampled topics over each word for all docs\n",
    "        self.E = np.zeros((D, k))  # matrix of Dxk where Ed is the count vec of sampled drawings for topic z over all words for each doc\n",
    "        self.H = np.zeros((D, k))  # H_d is eta_d\n",
    "        self.Theta = np.zeros((D, k))  # This is just a transformation of H\n",
    "        self.G = np.zeros((k, k))  # Adjacency Matrix (Check also python package \"networkx\" for graph objects!)\n",
    "        self.K = np.zeros((k, k))  # Precision matrix of G\n",
    "        self.Sigma = np.zeros((k, k))  # Inverse of K\n",
    "        self.Z = -np.ones((D, V, M))  # Topic assignments for each words of each document\n",
    "        self.D = D\n",
    "        self.V = V\n",
    "        self.M = M\n",
    "        self.k = k\n",
    "        self.gamma = gamma\n",
    "        self.seed = seed  # Random seed\n",
    "        \n",
    "#     def get_M(self):\n",
    "#         # Ref: https://numpy.org/doc/stable/reference/generated/numpy.matrix.max.html\n",
    "#         return int(self.W.max())\n",
    "\n",
    "    # Generations\n",
    "    def generate_WZ(self):\n",
    "        if M == 0:\n",
    "            raise Exception('Error: M value is 0')\n",
    "        elif np.sum(self.Theta, axis=1).sum(axis=0) == 0:\n",
    "            raise Exception('Error: Theta matrix 0')\n",
    "        elif np.sum(self.B, axis=1).sum(axis=0) == 0:\n",
    "            raise Exception('Error: B matrix 0')\n",
    "        \n",
    "        np.random.seed(self.seed)\n",
    "        # Ref https://numpy.org/doc/stable/reference/random/generated/numpy.random.multinomial.html\n",
    "        # Multinomial drawing for Z and then W\n",
    "        for d in range(self.D):\n",
    "            \n",
    "            # Maximum number of word drawings in the document            \n",
    "            N_d = np.random.randint(1, int(self.M * self.V * 0.7))  # Hard-coding 70% thinning factor\n",
    "            for n in range(N_d):\n",
    "                \n",
    "                # Multinomial drawing from Theta, because it has to be normalized\n",
    "                # This will give a canonical vector over k\n",
    "                mult = np.random.multinomial(1, self.Theta[d], size=1)  # This is a vector of 0's with a single 1\n",
    "                z = np.argmax(mult)  # This is the index of the 1 (Topic index)\n",
    "                \n",
    "                # Multinomial drawing from Beta\n",
    "                # This will give a canonical vector over V\n",
    "                mult = np.random.multinomial(1, self.B[z], size=1)  # This is a vector of 0's with a single 1\n",
    "                w = np.argmax(mult)  # This is the index of the 1 (Word index)\n",
    "                \n",
    "                empty_cell_indexes = np.nonzero(self.Z[d, w] == -1)[0]  # Check if there are still possible unassigned occurrences for this word\n",
    "                if empty_cell_indexes.size != 0:  # At least one entry is not assigned\n",
    "                    first_empty_index = empty_cell_indexes[0]\n",
    "                    self.Z[d, w, first_empty_index] = z  # Assinging word to topic\n",
    "                    self.W[d, w] += 1  # Increasing word counter\n",
    "        \n",
    "        print('Success: W and Z generated')\n",
    "\n",
    "        # TODO: I have replaced this function in order to have the exact M\n",
    "#     # Generations\n",
    "#     def generate_WZ(self):\n",
    "#         if M == 0:\n",
    "#             raise Exception('Error: M value is 0')\n",
    "#         elif np.sum(self.Theta, axis=1).sum(axis=0) == 0:\n",
    "#             raise Exception('Error: Theta matrix 0')\n",
    "#         elif np.sum(self.B, axis=1).sum(axis=0) == 0:\n",
    "#             raise Exception('Error: B matrix 0')\n",
    "        \n",
    "#         Z = [[[] for k in range(self.V)] for j in range(self.D)]  # Unknown amount of repetitions\n",
    "#         np.random.seed(self.seed)\n",
    "#         # Ref https://numpy.org/doc/stable/reference/random/generated/numpy.random.multinomial.html\n",
    "#         # Multinomial drawing for Z and then W\n",
    "#         for d in range(self.D):\n",
    "#             # Maximum of words in the document: Lower int of 70% of M * V\n",
    "#             N_d = np.random.randint(0, (5 * self.M * self.V) // 10)\n",
    "#             for n in range(N_d):\n",
    "                \n",
    "#                 # Multinomial drawing from Theta, because it has to be normalized\n",
    "#                 # This will give a canonical vector over k\n",
    "#                 mult = np.random.multinomial(1, self.Theta[d], size=1)  # This is a vector of 0's with a single 1\n",
    "#                 z = np.argmax(mult)  # This is the index of the 1 (Topic index)\n",
    "                \n",
    "#                 # Multinomial drawing from Beta\n",
    "#                 # This will give a canonical vector over V\n",
    "#                 mult = np.random.multinomial(1, self.B[z], size=1)  # This is a vector of 0's with a single 1\n",
    "#                 w = np.argmax(mult)  # This is the index of the 1 (Word index)\n",
    "                \n",
    "#                 Z[d][w].append(z)\n",
    "#                 self.W[d,w] += 1\n",
    "        \n",
    "#         print('Success: W generated')\n",
    "#         self.Z = - np.ones((self.D, self.V, self.get_M()))\n",
    "#         for d in range(self.D):\n",
    "#             for n in range(self.V):\n",
    "#                 for i in range(len(Z[d][n])):  # Only take existing topics\n",
    "#                     self.Z[d][n][i] = Z[d][n][i]  # Replace\n",
    "#         print('Success: Z generated')\n",
    "    \n",
    "    # Transformations\n",
    "    def update_Theta(self):\n",
    "        self.Theta = update_Theta(self.Theta, self.H)\n",
    "    \n",
    "    def update_E(self):\n",
    "        self.E = update_E(self.E, self.Z)\n",
    "    \n",
    "    def update_C(self):\n",
    "        self.C = update_C(self.C, self.Z)\n",
    "    \n",
    "    def update_Sigma(self):\n",
    "        self.Sigma = update_Sigma(self.K)\n",
    "    \n",
    "    # Initializing with real data\n",
    "    # def save_W()\n",
    "    \n",
    "    # Priors\n",
    "    def sample_B(self):\n",
    "        self.B = sample_B(self.seed)\n",
    "        \n",
    "    def sample_GK(self):  # Here we can update Sigma automatically\n",
    "        self.G = sample_G(self.k, self.gamma, self.seed)\n",
    "        self.K = sample_K(self.k, self.seed)\n",
    "        self.update_Sigma()\n",
    "    \n",
    "    def sample_H(self):  # Here we can update Theta automatically\n",
    "        self.H = sample_H(self.Sigma, self.D, self.k, self.seed)\n",
    "        self.update_Theta()\n",
    "    \n",
    "    def generate_all_data(self):\n",
    "        # TODO: This should run all relevant methods one after the other in order to fully populate all data matrixes\n",
    "        self.sample_B()  # Will get B\n",
    "        self.sample_GK()  # Will get G, K, Sigma\n",
    "        self.sample_H()  # Will get H, Theta from Sigma\n",
    "        self.generate_WZ()  # Will get W, Z from Theta, B\n",
    "        self.update_E()  # Will get E from Z\n",
    "        self.update_C()  # Will get C from Z\n",
    "        pass"
   ]
  },
  {
   "cell_type": "markdown",
   "id": "41d43148",
   "metadata": {},
   "source": [
    "## 1.1 Simulator Tests"
   ]
  },
  {
   "cell_type": "code",
   "execution_count": 8,
   "id": "a5696211",
   "metadata": {},
   "outputs": [
    {
     "name": "stdout",
     "output_type": "stream",
     "text": [
      "Success: Sigma transformed from K\n",
      "Success: Theta transformed from H\n",
      "Success: W and Z generated\n",
      "Success: E transformed from Z\n"
     ]
    }
   ],
   "source": [
    "test0 = Simulator(D, V, M, k, gamma, seed=1996)\n",
    "test0.sample_GK()  # Will get G, K, Sigma\n",
    "test0.sample_H()  # Will get H, Theta from Sigma\n",
    "test0.sample_B()  # Will get B\n",
    "test0.generate_WZ()\n",
    "test0.update_E()"
   ]
  },
  {
   "cell_type": "code",
   "execution_count": 9,
   "id": "aa207e91",
   "metadata": {},
   "outputs": [
    {
     "data": {
      "text/plain": [
       "array([[ 3.,  1.,  5.,  8.,  1.,  9.,  4.,  8.,  5., 10.,  2.,  2.],\n",
       "       [ 9.,  2.,  6.,  9.,  2.,  4.,  9.,  7., 10.,  7.,  5.,  2.],\n",
       "       [ 2.,  0.,  0.,  2.,  0.,  1.,  1.,  2.,  2.,  2.,  0.,  0.],\n",
       "       [ 2.,  0.,  3.,  2.,  1.,  1.,  1.,  2.,  1.,  1.,  0.,  1.],\n",
       "       [ 1.,  0.,  0.,  1.,  0.,  1.,  2.,  2.,  3.,  2.,  0.,  0.],\n",
       "       [ 9.,  0.,  3., 10.,  0.,  6.,  9.,  9., 10., 10.,  3.,  0.],\n",
       "       [ 8.,  0.,  5.,  8.,  1.,  6., 10.,  6., 10., 10.,  0.,  1.],\n",
       "       [ 5.,  1.,  3.,  2.,  0.,  2.,  4.,  3.,  4.,  6.,  1.,  0.]])"
      ]
     },
     "execution_count": 9,
     "metadata": {},
     "output_type": "execute_result"
    }
   ],
   "source": [
    "test0.W\n",
    "\n",
    "# NOTE:\n",
    "# With M*D it's not really respected that M is the real max, just a desired one\n",
    "# With 70% of that it's still not respected but closer\n",
    "# With 50% of that it's respected in this case -> Could check if we can have real max M at some point"
   ]
  },
  {
   "cell_type": "code",
   "execution_count": 10,
   "id": "integral-company",
   "metadata": {},
   "outputs": [
    {
     "data": {
      "image/png": "[encoded data removed]",
      "text/plain": [
       "<Figure size 432x288 with 1 Axes>"
      ]
     },
     "metadata": {
      "needs_background": "light"
     },
     "output_type": "display_data"
    }
   ],
   "source": [
    "plt.pcolor(pd.DataFrame(test0.G) > 0.5, cmap='Blues')\n",
    "plt.show()"
   ]
  },
  {
   "cell_type": "code",
   "execution_count": 11,
   "id": "7fc6d3b5",
   "metadata": {},
   "outputs": [
    {
     "name": "stdout",
     "output_type": "stream",
     "text": [
      "Success: Sigma transformed from K\n",
      "Success: Theta transformed from H\n",
      "Success: W and Z generated\n",
      "Success: E transformed from Z\n",
      "Success: C transformed from Z\n"
     ]
    },
    {
     "data": {
      "text/plain": [
       "array([[ 1.,  1.,  2.,  0.,  0.,  2.,  2.,  1.,  1.,  1.,  0.,  3.],\n",
       "       [ 0.,  3.,  0.,  0.,  1.,  0.,  0.,  0.,  0.,  0.,  0.,  1.],\n",
       "       [ 0.,  0.,  1.,  0.,  0.,  0.,  0.,  0.,  0.,  0.,  0.,  0.],\n",
       "       [ 7.,  3.,  5.,  2.,  8.,  1.,  3.,  8.,  5.,  3.,  0.,  5.],\n",
       "       [ 6.,  5.,  7.,  1.,  6.,  3.,  4.,  3.,  5.,  3.,  1., 10.],\n",
       "       [ 0.,  0.,  0.,  0.,  0.,  0.,  1.,  2.,  0.,  0.,  0.,  0.],\n",
       "       [ 2.,  2.,  3.,  0.,  4.,  3.,  0.,  1.,  2.,  4.,  2.,  5.],\n",
       "       [ 5.,  2.,  2.,  0.,  5.,  1.,  5.,  1.,  9.,  3.,  3.,  3.]])"
      ]
     },
     "execution_count": 11,
     "metadata": {},
     "output_type": "execute_result"
    }
   ],
   "source": [
    "# All in one function\n",
    "test1 = Simulator(D, V, M, k, gamma, seed=1979)\n",
    "test1.generate_all_data()\n",
    "test1.W"
   ]
  },
  {
   "cell_type": "code",
   "execution_count": 12,
   "id": "complicated-establishment",
   "metadata": {},
   "outputs": [
    {
     "data": {
      "image/png": "[encoded data removed]",
      "text/plain": [
       "<Figure size 432x288 with 1 Axes>"
      ]
     },
     "metadata": {
      "needs_background": "light"
     },
     "output_type": "display_data"
    }
   ],
   "source": [
    "plt.pcolor(pd.DataFrame(test1.G) > 0.5, cmap='Blues')\n",
    "plt.show()"
   ]
  },
  {
   "cell_type": "code",
   "execution_count": 13,
   "id": "60adf8a7",
   "metadata": {},
   "outputs": [
    {
     "name": "stdout",
     "output_type": "stream",
     "text": [
      "Success: Sigma transformed from K\n",
      "Success: Theta transformed from H\n",
      "Success: W and Z generated\n",
      "Success: E transformed from Z\n",
      "Success: C transformed from Z\n"
     ]
    }
   ],
   "source": [
    "# Confirming that with the same seed and input parameters, data generated are the same\n",
    "test2 = Simulator(D, V, M, k, gamma, seed=1979)\n",
    "test2.generate_all_data()\n",
    "assert np.all(np.equal(test1.W, test2.W))  "
   ]
  },
  {
   "cell_type": "code",
   "execution_count": 14,
   "id": "executed-belief",
   "metadata": {},
   "outputs": [
    {
     "data": {
      "image/png": "[encoded data removed]",
      "text/plain": [
       "<Figure size 432x288 with 1 Axes>"
      ]
     },
     "metadata": {
      "needs_background": "light"
     },
     "output_type": "display_data"
    }
   ],
   "source": [
    "plt.pcolor(pd.DataFrame(test2.G) > 0.5, cmap='Blues')\n",
    "plt.show()"
   ]
  },
  {
   "cell_type": "markdown",
   "id": "e7f446f3",
   "metadata": {},
   "source": [
    "From now on let's use the following simulated data for further testing"
   ]
  },
  {
   "cell_type": "code",
   "execution_count": 15,
   "id": "f4625b8e",
   "metadata": {},
   "outputs": [
    {
     "name": "stdout",
     "output_type": "stream",
     "text": [
      "Success: Sigma transformed from K\n",
      "Success: Theta transformed from H\n",
      "Success: W and Z generated\n",
      "Success: E transformed from Z\n",
      "Success: C transformed from Z\n",
      "Success: Sigma transformed from K\n",
      "Success: Theta transformed from H\n",
      "Success: W and Z generated\n",
      "Success: E transformed from Z\n",
      "Success: C transformed from Z\n"
     ]
    }
   ],
   "source": [
    "test_data = Simulator(D, V, M, k, gamma, seed=1967)  # Man on the moon\n",
    "test_data.generate_all_data()\n",
    "\n",
    "random_initial_data = Simulator(D, V, M, k, gamma, seed=1969)  # Woodstock Music Festival\n",
    "random_initial_data.generate_all_data()\n",
    "\n",
    "# Problem: We need at least matching Ws (?)\n",
    "# Shouldn't we generate the random initial data starting from W?\n",
    "# random_initial_data.W = test_data.W\n",
    "# random_initial_data.Z = sample_Z_from_W(test_data.W, k, seed=1969)\n",
    "# ..."
   ]
  },
  {
   "cell_type": "code",
   "execution_count": 16,
   "id": "b6120901",
   "metadata": {},
   "outputs": [
    {
     "data": {
      "image/png": "[encoded data removed]",
      "text/plain": [
       "<Figure size 432x288 with 1 Axes>"
      ]
     },
     "metadata": {
      "needs_background": "light"
     },
     "output_type": "display_data"
    },
    {
     "data": {
      "image/png": "[encoded data removed]",
      "text/plain": [
       "<Figure size 432x288 with 1 Axes>"
      ]
     },
     "metadata": {
      "needs_background": "light"
     },
     "output_type": "display_data"
    }
   ],
   "source": [
    "plt.pcolor(pd.DataFrame(test_data.G) > 0.5, cmap='Blues')\n",
    "plt.show()\n",
    "\n",
    "plt.pcolor(pd.DataFrame(random_initial_data.G) > 0.5, cmap='Blues')\n",
    "plt.show()\n",
    "\n",
    "# Problem: We should have something here -> Propose to change to 0.1 at least for the real data"
   ]
  },
  {
   "cell_type": "markdown",
   "id": "5ca17f9f",
   "metadata": {},
   "source": [
    "# 2 MC SAMPLER"
   ]
  },
  {
   "cell_type": "markdown",
   "id": "d35cd452",
   "metadata": {},
   "source": [
    "## 2.1.1 MCMC Sampling"
   ]
  },
  {
   "cell_type": "markdown",
   "id": "a4b47f75",
   "metadata": {},
   "source": [
    "### Task:\n",
    "\n",
    "You must implement a function that receives matrices $W$, $\\Theta_{i+1}$ and $B_i$ and generates the next $Z_{i+1}$ and $B_{i+1}$."
   ]
  },
  {
   "cell_type": "code",
   "execution_count": 27,
   "id": "dd459cbb",
   "metadata": {},
   "outputs": [],
   "source": [
    "def binary_search(sequence, item):\n",
    "    begin_index = 0\n",
    "    end_index = len(sequence)-1\n",
    "    \n",
    "    if sequence[begin_index] <= item and item <= sequence[end_index]:\n",
    "        while begin_index < end_index - 1:  # Finish when the list has 2 items: Begin and end\n",
    "            midpoint = (end_index + begin_index) // 2\n",
    "            midpoint_value = sequence[midpoint]\n",
    "            if midpoint_value < item:\n",
    "                begin_index = midpoint\n",
    "            else:\n",
    "                end_index = midpoint\n",
    "        if sequence[begin_index] == item:\n",
    "            return begin_index + 1\n",
    "        elif item <= sequence[end_index]:\n",
    "            return end_index\n",
    "    else:\n",
    "        return -1"
   ]
  },
  {
   "cell_type": "code",
   "execution_count": 28,
   "id": "e1c70f66",
   "metadata": {},
   "outputs": [],
   "source": [
    "def MC_sample_Z(Z, W, Theta, B, E, C):  # D, k are global variables\n",
    "    for d in range(D):\n",
    "        for v in range(V):\n",
    "            I_di = int(W[d, v])\n",
    "            for j in range(I_di):\n",
    "                z_hat = int(Z[d, v, j])\n",
    "                \n",
    "                if z_hat != -1:  # Bug fix: Took invalid topics and assigned them\n",
    "                \n",
    "                    E[d, z_hat] = max(0, E[d, z_hat]-1)\n",
    "\n",
    "                    C[z_hat, v] = max(0, C[z_hat, v]-1)\n",
    "\n",
    "                    Rho = []  # Needs to start from zero to have the interval to fall into topic 1\n",
    "                    Rho_z = 0\n",
    "                    Rho.append(Rho_z)\n",
    "\n",
    "                    for z in range(k):\n",
    "                        # Compute the denominator sum\n",
    "                        C_vk = 0\n",
    "                        for b in range(V):\n",
    "                            if b != v:\n",
    "                                C_vk += C[z, b]\n",
    "                        # Compute the upper limits of the topic probabilities\n",
    "                        d_part = E[d, z] + Theta[d, z]\n",
    "                        z_part = C[z, v] + B[z, v]\n",
    "                        denom = C_vk + V * B[z, v]\n",
    "                        Rho_z += d_part * z_part / denom\n",
    "                        Rho.append(Rho_z)\n",
    "\n",
    "                    #print('Old topic: '+str(z_hat)+' search in: '+str(Rho))\n",
    "\n",
    "                    u = np.random.uniform(0, Rho[-1])\n",
    "                    z_hat = binary_search(Rho, u) - 1\n",
    "\n",
    "                    E[d, z_hat] += 1\n",
    "                    C[z_hat, v] += 1\n",
    "                    Z[d, v, j] = z_hat\n",
    "\n",
    "                    #print('New topic: '+str(z_hat)+', counter by doc: '+str(E[d, z_hat])+', counter by topic: '+str(C[z_hat, v]))\n",
    "\n",
    "    # Note that we directly modify Z since the update per topic helps for the next iteration \n",
    "    return Z, E, C"
   ]
  },
  {
   "cell_type": "markdown",
   "id": "4086abfa",
   "metadata": {},
   "source": [
    "## 2.1.2 MCMC Sampling Tests"
   ]
  },
  {
   "cell_type": "code",
   "execution_count": 29,
   "id": "precious-sherman",
   "metadata": {},
   "outputs": [
    {
     "data": {
      "text/plain": [
       "array([[-1., -1., -1., -1., -1., -1., -1., -1., -1., -1.],\n",
       "       [-1., -1., -1., -1., -1., -1., -1., -1., -1., -1.],\n",
       "       [-1., -1., -1., -1., -1., -1., -1., -1., -1., -1.],\n",
       "       [-1., -1., -1., -1., -1., -1., -1., -1., -1., -1.],\n",
       "       [-1., -1., -1., -1., -1., -1., -1., -1., -1., -1.],\n",
       "       [-1., -1., -1., -1., -1., -1., -1., -1., -1., -1.],\n",
       "       [ 0.,  1., -1., -1., -1., -1., -1., -1., -1., -1.],\n",
       "       [-1., -1., -1., -1., -1., -1., -1., -1., -1., -1.],\n",
       "       [-1., -1., -1., -1., -1., -1., -1., -1., -1., -1.],\n",
       "       [-1., -1., -1., -1., -1., -1., -1., -1., -1., -1.],\n",
       "       [-1., -1., -1., -1., -1., -1., -1., -1., -1., -1.],\n",
       "       [-1., -1., -1., -1., -1., -1., -1., -1., -1., -1.]])"
      ]
     },
     "execution_count": 29,
     "metadata": {},
     "output_type": "execute_result"
    }
   ],
   "source": [
    "Z_copy = random_initial_data.Z.copy()\n",
    "\n",
    "W_copy = test_data.W.copy()\n",
    "Theta_copy = test_data.Theta.copy()\n",
    "B_copy = test_data.B.copy()\n",
    "E_copy = test_data.E.copy()\n",
    "C_copy = test_data.C.copy()\n",
    "\n",
    "Z_copy[0]  # Example"
   ]
  },
  {
   "cell_type": "code",
   "execution_count": 45,
   "id": "afdbfdd9",
   "metadata": {},
   "outputs": [
    {
     "data": {
      "text/plain": [
       "array([[-1., -1., -1., -1., -1., -1., -1., -1., -1., -1.],\n",
       "       [-1., -1., -1., -1., -1., -1., -1., -1., -1., -1.],\n",
       "       [-1., -1., -1., -1., -1., -1., -1., -1., -1., -1.],\n",
       "       [-1., -1., -1., -1., -1., -1., -1., -1., -1., -1.],\n",
       "       [-1., -1., -1., -1., -1., -1., -1., -1., -1., -1.],\n",
       "       [-1., -1., -1., -1., -1., -1., -1., -1., -1., -1.],\n",
       "       [ 4.,  1., -1., -1., -1., -1., -1., -1., -1., -1.],\n",
       "       [-1., -1., -1., -1., -1., -1., -1., -1., -1., -1.],\n",
       "       [-1., -1., -1., -1., -1., -1., -1., -1., -1., -1.],\n",
       "       [-1., -1., -1., -1., -1., -1., -1., -1., -1., -1.],\n",
       "       [-1., -1., -1., -1., -1., -1., -1., -1., -1., -1.],\n",
       "       [-1., -1., -1., -1., -1., -1., -1., -1., -1., -1.]])"
      ]
     },
     "execution_count": 45,
     "metadata": {},
     "output_type": "execute_result"
    }
   ],
   "source": [
    "# Check that the function runs with no issues, without side effects but on Z\n",
    "\n",
    "Z_sample, E_sample, C_sample = MC_sample_Z(Z_copy, W_copy, Theta_copy, B_copy, E_copy, C_copy)\n",
    "\n",
    "assert np.any(Z_copy != random_initial_data.Z)\n",
    "assert np.all(W_copy == test_data.W)\n",
    "assert np.all(Theta_copy == test_data.Theta)\n",
    "assert np.all(B_copy == test_data.B)\n",
    "\n",
    "# TODO: Review! Should these matrix change? -> Yes since Z is modified\n",
    "# BUG https://trello.com/c/pWZCzOxq/29-mcsamplez-e-and-c-are-modified\n",
    "# assert np.all(E_sample == test_data.E) # Triggers\n",
    "# assert np.all(C_sample == test_data.C) # Triggers\n",
    "\n",
    "Z_sample[0]"
   ]
  },
  {
   "cell_type": "code",
   "execution_count": 46,
   "id": "dc50234c",
   "metadata": {},
   "outputs": [
    {
     "name": "stdout",
     "output_type": "stream",
     "text": [
      "The sampled Z has 960 words, while the target Z has 960 words (diff 0)\n",
      "CPU times: user 47.2 s, sys: 447 ms, total: 47.7 s\n",
      "Wall time: 49.8 s\n"
     ]
    }
   ],
   "source": [
    "%%time\n",
    "# Check that the Sampler works properly (This will take a while)\n",
    "errors = []\n",
    "E_errors = []\n",
    "matrix_changes = []\n",
    "burn_in = 1000\n",
    "print(f'The sampled Z has {Z_sample.size} words, while the target Z has {test_data.Z.size} words (diff {abs(Z_sample.size-test_data.Z.size)})')\n",
    "for i in range(5000):\n",
    "    Z_sample_old = Z_sample.copy()\n",
    "    E_sample_old = E_sample.copy()\n",
    "    Z_sample, E_sample, C_sample = MC_sample_Z(Z_sample, W_copy, Theta_copy, B_copy, E_sample, C_sample)\n",
    "    matrix_changes.append(~np.all(Z_sample_old == Z_sample))\n",
    "    if i >= burn_in:\n",
    "        errors.append(np.linalg.norm(Z_sample - test_data.Z))  # Computing error wrt the target distribution\n",
    "        E_errors.append(np.linalg.norm(E_sample - test_data.E))"
   ]
  },
  {
   "cell_type": "code",
   "execution_count": 47,
   "id": "b888876b",
   "metadata": {},
   "outputs": [
    {
     "name": "stdout",
     "output_type": "stream",
     "text": [
      "Matrix changes (1 = changed, 0 = same)\n",
      "count    5000.0\n",
      "mean        1.0\n",
      "std         0.0\n",
      "min         1.0\n",
      "25%         1.0\n",
      "50%         1.0\n",
      "75%         1.0\n",
      "max         1.0\n",
      "dtype: float64\n"
     ]
    },
    {
     "data": {
      "text/plain": [
       "<AxesSubplot:>"
      ]
     },
     "execution_count": 47,
     "metadata": {},
     "output_type": "execute_result"
    },
    {
     "data": {
      "image/png": "[encoded data removed]",
      "text/plain": [
       "<Figure size 432x288 with 1 Axes>"
      ]
     },
     "metadata": {
      "needs_background": "light"
     },
     "output_type": "display_data"
    }
   ],
   "source": [
    "# Matrix should change\n",
    "matrix_changes = pd.Series(matrix_changes).astype(int)\n",
    "print(\"Matrix changes (1 = changed, 0 = same)\")\n",
    "print(matrix_changes.describe())\n",
    "matrix_changes.hist()"
   ]
  },
  {
   "cell_type": "code",
   "execution_count": 48,
   "id": "9eccb43f",
   "metadata": {},
   "outputs": [
    {
     "name": "stdout",
     "output_type": "stream",
     "text": [
      "Error metrics\n",
      "count    4000.000000\n",
      "mean       65.548956\n",
      "std         0.320073\n",
      "min        64.420494\n",
      "25%        65.329932\n",
      "50%        65.543878\n",
      "75%        65.757129\n",
      "max        66.977608\n",
      "dtype: float64\n"
     ]
    },
    {
     "data": {
      "text/plain": [
       "<AxesSubplot:>"
      ]
     },
     "execution_count": 48,
     "metadata": {},
     "output_type": "execute_result"
    },
    {
     "data": {
      "image/png": "[encoded data removed]",
      "text/plain": [
       "<Figure size 432x288 with 1 Axes>"
      ]
     },
     "metadata": {
      "needs_background": "light"
     },
     "output_type": "display_data"
    }
   ],
   "source": [
    "# Error should be distributed close to 0 (I guess...)\n",
    "# BUG https://trello.com/c/JE1T7Hur/31-mcsamplez-z-is-not-close-to-the-expected-target\n",
    "errors = pd.Series(errors)\n",
    "print(\"Error metrics\")\n",
    "print(errors.describe())\n",
    "errors.hist()"
   ]
  },
  {
   "cell_type": "code",
   "execution_count": 49,
   "id": "4a0df69b",
   "metadata": {},
   "outputs": [
    {
     "data": {
      "text/plain": [
       "<AxesSubplot:>"
      ]
     },
     "execution_count": 49,
     "metadata": {},
     "output_type": "execute_result"
    },
    {
     "data": {
      "image/png": "[encoded data removed]",
      "text/plain": [
       "<Figure size 432x288 with 1 Axes>"
      ]
     },
     "metadata": {
      "needs_background": "light"
     },
     "output_type": "display_data"
    }
   ],
   "source": [
    "errors.plot()"
   ]
  },
  {
   "cell_type": "code",
   "execution_count": 50,
   "id": "05fffe9f",
   "metadata": {},
   "outputs": [
    {
     "name": "stdout",
     "output_type": "stream",
     "text": [
      "Error metrics\n",
      "count    4000.000000\n",
      "mean       56.095643\n",
      "std         2.852690\n",
      "min        44.530888\n",
      "25%        54.101756\n",
      "50%        56.044625\n",
      "75%        57.939624\n",
      "max        67.786429\n",
      "dtype: float64\n"
     ]
    },
    {
     "data": {
      "text/plain": [
       "<AxesSubplot:>"
      ]
     },
     "execution_count": 50,
     "metadata": {},
     "output_type": "execute_result"
    },
    {
     "data": {
      "image/png": "[encoded data removed]",
      "text/plain": [
       "<Figure size 432x288 with 1 Axes>"
      ]
     },
     "metadata": {
      "needs_background": "light"
     },
     "output_type": "display_data"
    }
   ],
   "source": [
    "# Error should be distributed close to 0 (I guess...)\n",
    "# BUG https://trello.com/c/JE1T7Hur/31-mcsamplez-z-is-not-close-to-the-expected-target\n",
    "E_errors = pd.Series(E_errors)\n",
    "print(\"Error metrics\")\n",
    "print(E_errors.describe())\n",
    "E_errors.hist()"
   ]
  },
  {
   "cell_type": "code",
   "execution_count": 51,
   "id": "2759f937",
   "metadata": {},
   "outputs": [
    {
     "data": {
      "text/plain": [
       "<AxesSubplot:>"
      ]
     },
     "execution_count": 51,
     "metadata": {},
     "output_type": "execute_result"
    },
    {
     "data": {
      "image/png": "[encoded data removed]",
      "text/plain": [
       "<Figure size 432x288 with 1 Axes>"
      ]
     },
     "metadata": {
      "needs_background": "light"
     },
     "output_type": "display_data"
    }
   ],
   "source": [
    "E_errors.plot()"
   ]
  },
  {
   "cell_type": "code",
   "execution_count": 54,
   "id": "edbe9867",
   "metadata": {},
   "outputs": [],
   "source": [
    "# Binder loss function\n",
    "# Sum for i < j -> 1 error for each pair that is equal in one and different in the other\n",
    "\n",
    "def binder_loss(Z_sample, Z_true):\n",
    "    # Input: Z_sample, Z_true matrices -> We only need the cluster indexes\n",
    "    # Output: err scalar -> Sum of errors\n",
    "    if Z_sample.shape != Z_true.shape:\n",
    "        raise Exception('Error: Z matrices of different shape')\n",
    "    # Idea: Turn matrices into single row to check all pairs more easily\n",
    "    # First element checks all next elements\n",
    "    # Get all possible pairs without repeating\n",
    "    sample = Z_sample.flatten()\n",
    "    true = Z_true.flatten()\n",
    "    err = 0\n",
    "    for i in range(len(sample)):  # Take the index of the first element of the pair\n",
    "        for j in range(len(sample)-i-1):  # Index of the second element (taken from i onwards)\n",
    "            # See only equals -> absolute of the difference\n",
    "            # Eq + Eq -> abs(1-1) = 0 no error\n",
    "            # Eq + Diff or Diff + Eq -> abs(1-0) = abs(0-1) = 1 error\n",
    "            # Dif + Diff -> abs(0-0) = 0 no error\n",
    "            equal_sample = int(sample[i]==sample[i+j+1])  # Fixed bug: Had i, j instead of i, j+i+1\n",
    "            equal_true = int(true[i]==true[i+j+1])\n",
    "            err += abs(equal_sample - equal_true)\n",
    "    return err"
   ]
  },
  {
   "cell_type": "code",
   "execution_count": 55,
   "id": "surprised-telling",
   "metadata": {},
   "outputs": [
    {
     "name": "stdout",
     "output_type": "stream",
     "text": [
      "CPU times: user 744 ms, sys: 7.73 ms, total: 751 ms\n",
      "Wall time: 768 ms\n"
     ]
    },
    {
     "data": {
      "text/plain": [
       "188374"
      ]
     },
     "execution_count": 55,
     "metadata": {},
     "output_type": "execute_result"
    }
   ],
   "source": [
    "%%time\n",
    "# Testing\n",
    "binder_loss(Z_sample, test_data.Z)  # Note that all possible pairs are 460320, so this is around 50%"
   ]
  },
  {
   "cell_type": "code",
   "execution_count": 56,
   "id": "alike-michael",
   "metadata": {},
   "outputs": [
    {
     "name": "stdout",
     "output_type": "stream",
     "text": [
      "CPU times: user 18min 41s, sys: 9.05 s, total: 18min 50s\n",
      "Wall time: 20min 18s\n"
     ]
    }
   ],
   "source": [
    "%%time\n",
    "# Check that the Sampler works properly (This will take forever)\n",
    "errors = []\n",
    "\n",
    "burn_in = 500\n",
    "for i in range(2000):\n",
    "    Z_sample_old = Z_sample.copy()\n",
    "    E_sample_old = E_sample.copy()\n",
    "    Z_sample, E_sample, C_sample = MC_sample_Z(Z_sample, W_copy, Theta_copy, B_copy, E_sample, C_sample)\n",
    "    if i >= burn_in:\n",
    "        # Around 30 seconds each 50 iterations -> 15 MINUTES FOR 1500 COMPUTATIONS\n",
    "        errors.append(binder_loss(Z_sample, test_data.Z))  # Computing Binder loss"
   ]
  },
  {
   "cell_type": "code",
   "execution_count": 57,
   "id": "western-stevens",
   "metadata": {},
   "outputs": [
    {
     "name": "stdout",
     "output_type": "stream",
     "text": [
      "Error metrics\n",
      "count      1500.000000\n",
      "mean     188758.742000\n",
      "std         377.012601\n",
      "min      187502.000000\n",
      "25%      188493.750000\n",
      "50%      188741.000000\n",
      "75%      188999.000000\n",
      "max      190251.000000\n",
      "dtype: float64\n"
     ]
    },
    {
     "data": {
      "text/plain": [
       "<AxesSubplot:>"
      ]
     },
     "execution_count": 57,
     "metadata": {},
     "output_type": "execute_result"
    },
    {
     "data": {
      "image/png": "[encoded data removed]",
      "text/plain": [
       "<Figure size 432x288 with 1 Axes>"
      ]
     },
     "metadata": {
      "needs_background": "light"
     },
     "output_type": "display_data"
    }
   ],
   "source": [
    "# Error will always be positive and integer, but is it skewed to the left?\n",
    "errors = pd.Series(errors)\n",
    "print(\"Error metrics\")\n",
    "print(errors.describe())\n",
    "errors.hist()"
   ]
  },
  {
   "cell_type": "code",
   "execution_count": 58,
   "id": "foreign-buyer",
   "metadata": {},
   "outputs": [
    {
     "data": {
      "text/plain": [
       "<AxesSubplot:>"
      ]
     },
     "execution_count": 58,
     "metadata": {},
     "output_type": "execute_result"
    },
    {
     "data": {
      "image/png": "[encoded data removed]",
      "text/plain": [
       "<Figure size 432x288 with 1 Axes>"
      ]
     },
     "metadata": {
      "needs_background": "light"
     },
     "output_type": "display_data"
    }
   ],
   "source": [
    "errors.plot()  # See if we still have a caterpillar"
   ]
  },
  {
   "cell_type": "code",
   "execution_count": null,
   "id": "dependent-gateway",
   "metadata": {},
   "outputs": [],
   "source": []
  },
  {
   "cell_type": "markdown",
   "id": "eb363f0c",
   "metadata": {},
   "source": [
    "## 2.2.1 Beta sampling"
   ]
  },
  {
   "cell_type": "markdown",
   "id": "76016c47",
   "metadata": {},
   "source": [
    "### Task:\n",
    "\n",
    "You must implement a function that receives matrices $C_i$ and vector $\\alpha$ and generates the next $B_{i+1}$."
   ]
  },
  {
   "cell_type": "code",
   "execution_count": 21,
   "id": "8f07813d",
   "metadata": {},
   "outputs": [],
   "source": [
    "def MC_sample_B(alpha, C):\n",
    "    # B, C are (k, V) -> Generate k vectors\n",
    "    B = np.random.dirichlet(alpha + C[0,:], size=1)  # Topic 0\n",
    "    for i in range(C.shape[0]-1):  # Go through topics: Fix is excluding topic 0 already generated\n",
    "        B = np.concatenate((B, np.random.dirichlet(alpha + C[i+1,:], size=1)), axis=0)\n",
    "    return B"
   ]
  },
  {
   "cell_type": "markdown",
   "id": "c9550454",
   "metadata": {},
   "source": [
    "## 2.2.2 Beta sampling tests"
   ]
  },
  {
   "cell_type": "code",
   "execution_count": 22,
   "id": "7a9bb22e",
   "metadata": {},
   "outputs": [],
   "source": [
    "# Check that the function runs with no issues, without side effects\n",
    "alpha = np.ones(V)\n",
    "C_copy = test_data.C.copy()\n",
    "\n",
    "B_sample = MC_sample_B(alpha, C_copy)\n",
    "\n",
    "assert np.all(C_copy == test_data.C)"
   ]
  },
  {
   "cell_type": "code",
   "execution_count": 23,
   "id": "7b7d8542",
   "metadata": {},
   "outputs": [
    {
     "data": {
      "text/plain": [
       "(5, 12)"
      ]
     },
     "execution_count": 23,
     "metadata": {},
     "output_type": "execute_result"
    }
   ],
   "source": [
    "B_sample.shape  # k, V -> Fixed"
   ]
  },
  {
   "cell_type": "code",
   "execution_count": 24,
   "id": "1be0fba7",
   "metadata": {},
   "outputs": [
    {
     "name": "stdout",
     "output_type": "stream",
     "text": [
      "The sampled B has 60 words, while the target B has 60 words (diff 0)\n",
      "CPU times: user 306 ms, sys: 8.03 ms, total: 314 ms\n",
      "Wall time: 312 ms\n"
     ]
    }
   ],
   "source": [
    "%%time\n",
    "# Check that the Sampler works properly (This will take a while)\n",
    "errors = []\n",
    "matrix_changes = []\n",
    "burn_in = 1000\n",
    "print(f'The sampled B has {B_sample.size} words, while the target B has {test_data.B.size} words (diff {abs(B_sample.size-test_data.B.size)})')\n",
    "for i in range(5000):\n",
    "    B_sample_old = B_sample.copy()\n",
    "    B_sample = MC_sample_B(alpha, C_copy)\n",
    "    matrix_changes.append(~np.all(B_sample_old == B_sample))\n",
    "    if i >= burn_in:\n",
    "        errors.append(np.linalg.norm(B_sample - test_data.B))  # Computing error wrt the target distribution  # BUG https://trello.com/c/uEYV7fSC/32-mcsampleb-shape-mismatch"
   ]
  },
  {
   "cell_type": "code",
   "execution_count": 25,
   "id": "5d3fb778",
   "metadata": {},
   "outputs": [
    {
     "name": "stdout",
     "output_type": "stream",
     "text": [
      "Matrix changes (1 = changed, 0 = same)\n",
      "count    5000.0\n",
      "mean        1.0\n",
      "std         0.0\n",
      "min         1.0\n",
      "25%         1.0\n",
      "50%         1.0\n",
      "75%         1.0\n",
      "max         1.0\n",
      "dtype: float64\n"
     ]
    },
    {
     "data": {
      "text/plain": [
       "<AxesSubplot:>"
      ]
     },
     "execution_count": 25,
     "metadata": {},
     "output_type": "execute_result"
    },
    {
     "data": {
      "image/png": "[encoded data removed]",
      "text/plain": [
       "<Figure size 432x288 with 1 Axes>"
      ]
     },
     "metadata": {
      "needs_background": "light"
     },
     "output_type": "display_data"
    }
   ],
   "source": [
    "# Matrix should change\n",
    "matrix_changes = pd.Series(matrix_changes).astype(int)\n",
    "print(\"Matrix changes (1 = changed, 0 = same)\")\n",
    "print(matrix_changes.describe())\n",
    "matrix_changes.hist()"
   ]
  },
  {
   "cell_type": "code",
   "execution_count": 26,
   "id": "cff6c4c8",
   "metadata": {},
   "outputs": [
    {
     "name": "stdout",
     "output_type": "stream",
     "text": [
      "Error metrics\n",
      "count    4000.000000\n",
      "mean        0.329979\n",
      "std         0.029698\n",
      "min         0.228600\n",
      "25%         0.309971\n",
      "50%         0.328846\n",
      "75%         0.349260\n",
      "max         0.444858\n",
      "dtype: float64\n"
     ]
    },
    {
     "data": {
      "text/plain": [
       "<AxesSubplot:>"
      ]
     },
     "execution_count": 26,
     "metadata": {},
     "output_type": "execute_result"
    },
    {
     "data": {
      "image/png": "[encoded data removed]",
      "text/plain": [
       "<Figure size 432x288 with 1 Axes>"
      ]
     },
     "metadata": {
      "needs_background": "light"
     },
     "output_type": "display_data"
    }
   ],
   "source": [
    "# Error should be distributed close to 0 (I guess...)  # BUG https://trello.com/c/JE1T7Hur/31-mcsamplez-z-is-not-close-to-the-expected-target\n",
    "errors = pd.Series(errors)\n",
    "print(\"Error metrics\")\n",
    "print(errors.describe())\n",
    "errors.hist()"
   ]
  },
  {
   "cell_type": "code",
   "execution_count": 27,
   "id": "34df944c",
   "metadata": {},
   "outputs": [
    {
     "data": {
      "text/plain": [
       "<AxesSubplot:>"
      ]
     },
     "execution_count": 27,
     "metadata": {},
     "output_type": "execute_result"
    },
    {
     "data": {
      "image/png": "[encoded data removed]",
      "text/plain": [
       "<Figure size 432x288 with 1 Axes>"
      ]
     },
     "metadata": {
      "needs_background": "light"
     },
     "output_type": "display_data"
    }
   ],
   "source": [
    "errors.plot()"
   ]
  },
  {
   "cell_type": "markdown",
   "id": "2f13d958",
   "metadata": {},
   "source": [
    "## 2.3.1 Metropolis-Hastings MC Sampling"
   ]
  },
  {
   "cell_type": "markdown",
   "id": "5179b9cd",
   "metadata": {},
   "source": [
    "### Task:\n",
    "\n",
    "You must implement a function that receives matrices $E_i$, $K_i$ and vector $\\mu$ and generates the next $H_{i+1}$."
   ]
  },
  {
   "cell_type": "markdown",
   "id": "b0382edc",
   "metadata": {},
   "source": [
    "\n",
    ". $E$ matrix of $D \\times k$ where $E_d$ is the $k$-dim vector of counts of sampled drawings for the $z$-th topic over all words for each document\n",
    "\n",
    ". $K$ matrix of $k \\times k$ representing the precision matrix associated to the graph $G$\n",
    "\n",
    ". $\\mu = 0$\n",
    "\n",
    ". $H$ matrix of $D \\times k$ where $H_d = \\eta_d$ is the $k$-dim vector of the topic prevalences over document $d$"
   ]
  },
  {
   "cell_type": "code",
   "execution_count": 28,
   "id": "d14158d3",
   "metadata": {},
   "outputs": [],
   "source": [
    "import numpy as np\n",
    "import numpy.linalg"
   ]
  },
  {
   "cell_type": "code",
   "execution_count": 29,
   "id": "c8d992be",
   "metadata": {},
   "outputs": [],
   "source": [
    "def sampled_distribution_kernel(eta, K, E):\n",
    "    k = eta.shape[0]\n",
    "    eta_K_eta = -0.5 * eta.dot(K.dot(eta))\n",
    "    E_eta = E.dot(eta)\n",
    "    sum_eta_pow_k = np.sum(np.exp(eta)) ** k\n",
    "    return np.exp(eta_K_eta + E_eta) / sum_eta_pow_k  # This np.exp raises a warning when  eta_K_eta + E_eta > 706"
   ]
  },
  {
   "cell_type": "code",
   "execution_count": 30,
   "id": "a54296ca",
   "metadata": {},
   "outputs": [],
   "source": [
    "def MC_sample_H(E, Sigma, H_current=None, burn_in=100, seed=None):\n",
    "    \n",
    "    np.random.seed(seed)\n",
    "    \n",
    "    K = np.linalg.inv(Sigma)\n",
    "    \n",
    "    D, k = E.shape  # Number of documents, Number of topics\n",
    "    \n",
    "    if H_current is None:\n",
    "        H_current = np.zeros((D, k))\n",
    "    \n",
    "    H_sampled = np.zeros((D, k))\n",
    "    \n",
    "    for d in range(D):  # Iterating over each document\n",
    "        current_eta = H_current[d]\n",
    "        E_d = E[d]\n",
    "        for iteration in range(burn_in + 1):\n",
    "            \n",
    "            # Sampling proposed eta from multivariate normal (q \"proposal density\")\n",
    "            proposed_eta = np.random.multivariate_normal(current_eta, Sigma)\n",
    "            \n",
    "            # Compute acceptance probability\n",
    "            p_proposed_eta = sampled_distribution_kernel(proposed_eta, K, E_d)\n",
    "            p_current_eta = sampled_distribution_kernel(current_eta, K, E_d)\n",
    "            if p_proposed_eta == np.inf or p_current_eta == 0:  # Avoiding divide by 0 and other numerical creeps\n",
    "                alpha = 1\n",
    "            else:\n",
    "                alpha = min(1, p_proposed_eta / p_current_eta)\n",
    "            \n",
    "            if alpha == 1 or np.random.uniform(0.0, 1.0) < alpha:\n",
    "                current_eta = proposed_eta\n",
    "            \n",
    "        H_sampled[d] = current_eta\n",
    "    \n",
    "    return H_sampled"
   ]
  },
  {
   "cell_type": "markdown",
   "id": "b627fcef",
   "metadata": {},
   "source": [
    "## 2.3.2 MH Sampling Tests"
   ]
  },
  {
   "cell_type": "code",
   "execution_count": 31,
   "id": "2090f568",
   "metadata": {},
   "outputs": [
    {
     "name": "stderr",
     "output_type": "stream",
     "text": [
      "/tmp/ipykernel_111991/2545393832.py:6: RuntimeWarning: overflow encountered in exp\n",
      "  return np.exp(eta_K_eta + E_eta) / sum_eta_pow_k  # This np.exp raises a warning when  eta_K_eta + E_eta > 706\n"
     ]
    }
   ],
   "source": [
    "E_copy = test_data.E.copy()\n",
    "Sigma_copy = test_data.Sigma.copy()\n",
    "\n",
    "H_sample = MC_sample_H(E_copy, Sigma_copy)\n",
    "\n",
    "assert np.all(E_copy == test_data.E)\n",
    "assert np.all(Sigma_copy == test_data.Sigma)"
   ]
  },
  {
   "cell_type": "code",
   "execution_count": 32,
   "id": "55d58927",
   "metadata": {},
   "outputs": [
    {
     "name": "stdout",
     "output_type": "stream",
     "text": [
      "CPU times: user 9.05 s, sys: 14 µs, total: 9.05 s\n",
      "Wall time: 9.07 s\n"
     ]
    }
   ],
   "source": [
    "%%time\n",
    "# Check that the Sampler works properly (This will take... forever)\n",
    "errors = []\n",
    "matrix_changes = []\n",
    "burn_in = 1000\n",
    "for i in range(5000):\n",
    "    H_sample_old = H_sample.copy()\n",
    "    H_sample = MC_sample_H(E_copy, Sigma_copy, burn_in=1)\n",
    "    matrix_changes.append(~np.all(H_sample_old == H_sample))\n",
    "    if i >= burn_in:\n",
    "        errors.append(np.linalg.norm(H_sample - test_data.H))  # Computing error wrt the target matrix"
   ]
  },
  {
   "cell_type": "code",
   "execution_count": 33,
   "id": "3f1cda2d",
   "metadata": {},
   "outputs": [
    {
     "name": "stdout",
     "output_type": "stream",
     "text": [
      "Matrix changes (1 = changed, 0 = same)\n",
      "count    5000.0\n",
      "mean        1.0\n",
      "std         0.0\n",
      "min         1.0\n",
      "25%         1.0\n",
      "50%         1.0\n",
      "75%         1.0\n",
      "max         1.0\n",
      "dtype: float64\n"
     ]
    },
    {
     "data": {
      "text/plain": [
       "<AxesSubplot:>"
      ]
     },
     "execution_count": 33,
     "metadata": {},
     "output_type": "execute_result"
    },
    {
     "data": {
      "image/png": "[encoded data removed]",
      "text/plain": [
       "<Figure size 432x288 with 1 Axes>"
      ]
     },
     "metadata": {
      "needs_background": "light"
     },
     "output_type": "display_data"
    }
   ],
   "source": [
    "# Matrix should change\n",
    "matrix_changes = pd.Series(matrix_changes).astype(int)\n",
    "print(\"Matrix changes (1 = changed, 0 = same)\")\n",
    "print(matrix_changes.describe())\n",
    "matrix_changes.hist()"
   ]
  },
  {
   "cell_type": "code",
   "execution_count": 34,
   "id": "be697ca1",
   "metadata": {},
   "outputs": [
    {
     "name": "stdout",
     "output_type": "stream",
     "text": [
      "Error metrics\n",
      "count    4000.000000\n",
      "mean        8.791508\n",
      "std         1.126076\n",
      "min         5.635197\n",
      "25%         7.983158\n",
      "50%         8.693833\n",
      "75%         9.492784\n",
      "max        13.614358\n",
      "dtype: float64\n"
     ]
    },
    {
     "data": {
      "text/plain": [
       "<AxesSubplot:>"
      ]
     },
     "execution_count": 34,
     "metadata": {},
     "output_type": "execute_result"
    },
    {
     "data": {
      "image/png": "[encoded data removed]",
      "text/plain": [
       "<Figure size 432x288 with 1 Axes>"
      ]
     },
     "metadata": {
      "needs_background": "light"
     },
     "output_type": "display_data"
    }
   ],
   "source": [
    "# Error should be distributed close to 0 (I guess...)  # BUG https://trello.com/c/9k2e8PQz/33-mcsampleh-is-not-close-to-expected-target\n",
    "errors = pd.Series(errors)\n",
    "print(\"Error metrics\")\n",
    "print(errors.describe())\n",
    "errors.hist()"
   ]
  },
  {
   "cell_type": "code",
   "execution_count": 35,
   "id": "14435712",
   "metadata": {},
   "outputs": [
    {
     "data": {
      "text/plain": [
       "<AxesSubplot:>"
      ]
     },
     "execution_count": 35,
     "metadata": {},
     "output_type": "execute_result"
    },
    {
     "data": {
      "image/png": "[encoded data removed]",
      "text/plain": [
       "<Figure size 432x288 with 1 Axes>"
      ]
     },
     "metadata": {
      "needs_background": "light"
     },
     "output_type": "display_data"
    }
   ],
   "source": [
    "errors.plot()"
   ]
  },
  {
   "cell_type": "markdown",
   "id": "69bb7308",
   "metadata": {},
   "source": [
    "## 2.4.1 BDMCMC Sampling"
   ]
  },
  {
   "cell_type": "markdown",
   "id": "92a7b193",
   "metadata": {},
   "source": [
    "### Task:\n",
    "\n",
    "You must implement a function that receives matrices $W$, $Z_{i+1}$ and $H_{i+1}$ and generates the next $G_{i+1}$ and $K_{i+1}$."
   ]
  },
  {
   "cell_type": "code",
   "execution_count": null,
   "id": "7d7bc071",
   "metadata": {},
   "outputs": [],
   "source": [
    "# R code, just for inspiration\n",
    "#\n",
    "#     # (K, G) parameters update and joint draw\n",
    "#     data_BD = matrix(0,nrow = p, ncol = p)\n",
    "#     for(i in 1:n){\n",
    "#       data_BD = data_BD  + t(beta[[i]] - mu)%*%(beta[[i]] - mu)\n",
    "#     }\n",
    "#     if(iter != 1) {\n",
    "#       fit = FGM::bdgraph(data = data_BD, n = n, method = 'ggm', algorithm = 'bdmcmc', iter = 1, burnin = 0,\n",
    "#                     g.prior = gprior, df.prior = d0, g.start = fit$last_graph, save = T)\n",
    "#     } else {\n",
    "#       fit = FGM::bdgraph(data = data_BD, n = n, method = 'ggm', algorithm = 'bdmcmc', iter = 1, burnin = 0,\n",
    "#                     g.prior = gprior, df.prior = d0, g.start = G0, save = T)\n",
    "#     }\n",
    "#     K = fit$last_K"
   ]
  },
  {
   "cell_type": "code",
   "execution_count": 169,
   "id": "f8143262",
   "metadata": {},
   "outputs": [],
   "source": [
    "import subprocess\n",
    "\n",
    "def serialize_matrix(m):\n",
    "    if len(m.shape) != 2:\n",
    "        raise Exception(\"Can not serialize ill-shaped matrix!\")\n",
    "    res = '\\n'.join(' '.join(str(entry) for entry in row)  # Space between entries, newline between rows\n",
    "                     for row in m)\n",
    "    return '\"' + res + '\"'\n",
    "\n",
    "def deserialize_matrix(line, shape, separator=' '):\n",
    "    return np.fromstring(line, sep=separator).reshape(shape)\n",
    "\n",
    "\n",
    "def MC_sample_GK(G, K, H, degrees_of_freedom_b, debug=False):\n",
    "    size = G.shape[0]\n",
    "    n = H.shape[0]\n",
    "    \n",
    "    # Serialize the inputs\n",
    "    G = serialize_matrix(G)\n",
    "    K = serialize_matrix(K)\n",
    "    \n",
    "    # Transform H into the BDGraph data matrix\n",
    "    data_matrix = H_sample.T.dot(H_sample)\n",
    "    data_matrix = serialize_matrix(data_matrix)\n",
    "    \n",
    "    # call R script using python.subprocess\n",
    "    # The parameter order is: deg.of freedom b, \n",
    "    #                         number of data samples (documents) n, \n",
    "    #                         graph adjacency matrix G, \n",
    "    #                         precision matrix K, \n",
    "    #                         data matrix,\n",
    "    #                         debug (\"TRUE\" or \"FALSE\"), \n",
    "    command = f\"Rscript --vanilla bdmcmc.R {b} {n} {G} {K} {data_matrix} {'TRUE' if debug else 'FALSE'}\"\n",
    "    result = subprocess.run(command, \n",
    "                            shell=True, \n",
    "                            capture_output=True,\n",
    "                            text=True)\n",
    "    \n",
    "    if result.returncode != 0:  # Something went wrong\n",
    "        print(result.stdout)\n",
    "        print(result.stderr)\n",
    "        raise Exception(\"Rscript error! Check the previous logs for more details\")\n",
    "    \n",
    "    if debug:\n",
    "        print(result.stdout)\n",
    "    \n",
    "    # The last two lines of the R output MUST be the sampled matrices\n",
    "    lines = result.stdout.rsplit('\\n', 3)  # Split only the last three lines  https://www.w3schools.com/python/ref_string_rsplit.asp\n",
    "    waiting_time = float(lines[-3])  # 3rd from the end\n",
    "    G = deserialize_matrix(lines[-2], shape=(size, size))  # Line before last\n",
    "    K = deserialize_matrix(lines[-1], shape=(size, size))  # Last line\n",
    "    return waiting_time, G, K"
   ]
  },
  {
   "cell_type": "markdown",
   "id": "c07df5b4",
   "metadata": {},
   "source": [
    "#### MC_sample_G tests"
   ]
  },
  {
   "cell_type": "code",
   "execution_count": 172,
   "id": "0ecc7ab9",
   "metadata": {},
   "outputs": [
    {
     "name": "stdout",
     "output_type": "stream",
     "text": [
      "[1] \"[R] Matrix G:\"\n",
      "     V1 V2 V3 V4 V5\n",
      "[1,]  0  0  0  0  0\n",
      "[2,]  0  0  0  0  0\n",
      "[3,]  0  0  0  0  0\n",
      "[4,]  0  0  0  0  0\n",
      "[5,]  0  0  0  0  0\n",
      "[1] \"[R] Matrix K:\"\n",
      "     V1 V2       V3        V4 V5\n",
      "[1,]  1  0  0.00000  0.000000  0\n",
      "[2,]  0  1  0.00000  0.000000  0\n",
      "[3,]  0  0  1.00000 -0.797880  0\n",
      "[4,]  0  0 -0.79788  1.636612  0\n",
      "[5,]  0  0  0.00000  0.000000  1\n",
      "[1] \"[R] Data Matrix:\"\n",
      "           V1        V2       V3        V4        V5\n",
      "[1,] 5767.931  4061.248 3417.288  4083.357  4860.489\n",
      "[2,] 4061.248  9762.239 3944.943  8351.152 10753.449\n",
      "[3,] 3417.288  3944.943 7080.370  4746.036  6007.360\n",
      "[4,] 4083.357  8351.152 4746.036 10810.826 13222.263\n",
      "[5,] 4860.489 10753.449 6007.360 13222.263 17476.518\n",
      "[1] \"[R] Shape Matrix:\"\n",
      "     [,1] [,2] [,3] [,4] [,5]\n",
      "[1,]    1    0    0    0    0\n",
      "[2,]    0    1    0    0    0\n",
      "[3,]    0    0    1    0    0\n",
      "[4,]    0    0    0    1    0\n",
      "[5,]    0    0    0    0    1\n",
      "[1] \"[R] Waiting time:\"\n",
      "[1] 0.45\n",
      "[1] \"[R] Sampled Matrix G:\"\n",
      "     V1 V2 V3 V4 V5\n",
      "[1,]  0  0  0  0  0\n",
      "[2,]  0  0  0  0  0\n",
      "[3,]  0  0  0  0  0\n",
      "[4,]  0  0  0  0  0\n",
      "[5,]  0  0  0  0  0\n",
      "[1] \"[R] Sampled Matrix K:\"\n",
      "     V1 V2       V3        V4 V5\n",
      "[1,]  1  0  0.00000  0.000000  0\n",
      "[2,]  0  1  0.00000  0.000000  0\n",
      "[3,]  0  0  1.00000 -0.797880  0\n",
      "[4,]  0  0 -0.79788  1.636612  0\n",
      "[5,]  0  0  0.00000  0.000000  1\n",
      "[1] \"[R] returning results:\"\n",
      "0.45\n",
      "0 0 0 0 0 0 0 0 0 0 0 0 0 0 0 0 0 0 0 0 0 0 0 0 0 \n",
      "1 0 0 0 0 0 1 0 0 0 0 0 1 -0.79788 0 0 0 -0.79788 1.636612 0 0 0 0 0 1 \n"
     ]
    }
   ],
   "source": [
    "# Check that the function runs with no issues, without side effects\n",
    "G_copy = random_initial_data.G.copy()\n",
    "K_copy = random_initial_data.K.copy()\n",
    "H_copy = test_data.H.copy()\n",
    "degrees_of_freedom_b = k - 1\n",
    "shape_matrix = np.eye(k)\n",
    "\n",
    "wt_sample, G_sample, K_sample = MC_sample_GK(G_copy, K_copy, H_copy, degrees_of_freedom_b, debug=True)\n",
    "\n",
    "# assert np.all(W_copy == test_data.W)\n",
    "# assert np.all(Z_copy == test_data.Z)\n",
    "# assert np.all(H_copy == test_data.H)\n",
    "# assert np.all(K_copy == test_data.K)\n",
    "# assert np.all(E_copy == test_data.E)\n",
    "# assert np.all(shape_matrix == np.eye(k))"
   ]
  },
  {
   "cell_type": "code",
   "execution_count": null,
   "id": "6d90ba71",
   "metadata": {},
   "outputs": [],
   "source": []
  },
  {
   "cell_type": "code",
   "execution_count": null,
   "id": "9b0580cb",
   "metadata": {},
   "outputs": [],
   "source": []
  },
  {
   "cell_type": "markdown",
   "id": "b0c54ea6",
   "metadata": {},
   "source": [
    "# OLD CODE BELOW. TESTS MUST BE REVIEWED TOO"
   ]
  },
  {
   "cell_type": "markdown",
   "id": "fcea49de",
   "metadata": {},
   "source": [
    "### Task:\n",
    "\n",
    "You must implement a function that receives matrices $W$, $Z_{i+1}$ and $H_{i+1}$ and generates the next $G_{i+1}$ and $K_{i+1}$."
   ]
  },
  {
   "cell_type": "code",
   "execution_count": 38,
   "id": "082aefd1",
   "metadata": {},
   "outputs": [],
   "source": [
    "import subprocess\n",
    "\n",
    "# Remember to install BDgraph package version 2.62 on your R environment\n",
    "# You'll need to run the following commands:\n",
    "# remove.packages(\"BDgraph\")\n",
    "# install.packages(\"remotes\")\n",
    "# library(remotes)\n",
    "# install_version(\"BDgraph\", \"2.62\")\n",
    "\n",
    "\n",
    "def MC_sample_K(G, b, shape_matrix, n_of_samples, debug=False):\n",
    "    # save G to csv\n",
    "    np.savetxt(\"adj.csv\", G, delimiter=\",\")\n",
    "    # save shape_matrix to csv (OR pass them as parameters to RScript)\n",
    "    np.savetxt(\"shape.csv\", shape_matrix, delimiter=\",\")\n",
    "    # call R script using python.subprocess\n",
    "    result = subprocess.run(f\"Rscript --vanilla rgwish.R {b} {n_of_samples} {'TRUE' if debug else 'FALSE'}\", shell=True) # -> HOW MANY SAMPLES ARE REQUIRED? SHOULD THIS ALSO BE VARIABLE AND THEREFORE PASSED TO R?\n",
    "    if result.returncode != 0:\n",
    "        raise Exception(\"Rscript error! Check the previous logs for more details\")\n",
    "\n",
    "    # read the results from csv (OR get the result back from R script)\n",
    "    \n",
    "    # Always better to open file handlers within a \"with\" statement (otherwise you must take care of closing the file)\n",
    "    with open(\"gwish.csv\", \"r\") as csv_file:  \n",
    "        K = np.loadtxt(csv_file, delimiter=\",\")\n",
    "    \n",
    "    return K"
   ]
  },
  {
   "cell_type": "code",
   "execution_count": 37,
   "id": "ab6ccc54",
   "metadata": {},
   "outputs": [],
   "source": [
    "# def MC_sample_G(W, Z, H, K, G, E, dof, shape):\n",
    "\n",
    "#     N = G.shape[0]\n",
    "#     delta_K = 0\n",
    "#     beta_K = 0\n",
    "\n",
    "#     death_rates = np.zeros((k,k))\n",
    "#     birth_rates = np.zeros((k,k))\n",
    "    \n",
    "#     n = D  # It's either of the shape indices of H\n",
    "#     # from the paper I'm not sure yet which but looks the docs for us\n",
    "    \n",
    "#     S = shape  # prior parameter\n",
    "#     b = dof  # prior parameter\n",
    "\n",
    "#     PrHK = lambda K, H:        K.size ** (n / 2) * np.exp(-0.5 * np.trace(np.matmul(np.matmul(K, H.T), H)))\n",
    "#     PrK_G = lambda K, G, D, b: K.size ** (b + D - 2) * np.exp(-0.5 * np.trace(np.matmul(S + np.matmul(H.T, H), K)))\n",
    "#     PrG = lambda gamma, E:  (gamma / (1 - gamma)) ** (E.size)\n",
    "#     PrKG_H = lambda K, G, H, D, b, gamma, E: PrHK(K, H) * PrK_G(K, G, D, b) * PrG(gamma, E)\n",
    "\n",
    "#     Pr_init = PrKG_H(K, G, H, D, k - 1, gamma, E)\n",
    "\n",
    "#     for i in range(N):\n",
    "#         for j in range(i + 1, N):\n",
    "#             if G[i,j]:\n",
    "#                 G_loop = G.copy()\n",
    "#                 G_loop[i,j] = 0\n",
    "#                 G_loop[j,i] = 0\n",
    "#                 #technically, we should compute K_loop here...\n",
    "#                 Pr_loop = PrKG_H(K,G_loop,H,D,b,gamma,E)\n",
    "\n",
    "#                 death_rate = Pr_loop / Pr_init\n",
    "\n",
    "#                 if death_rate > 1:\n",
    "#                     death_rate = 1\n",
    "#                 death_rates[i,j] = death_rate\n",
    "#                 death_rates[j,i] = death_rate\n",
    "#                 delta_K += death_rate\n",
    "\n",
    "#             else:\n",
    "#                 G_loop = G.copy()\n",
    "#                 G_loop[i,j] = 1\n",
    "#                 G_loop[j,i] = 1\n",
    "#                 #technically, we should compute K_loop here...\n",
    "#                 Pr_loop = PrKG_H(K, G_loop, H, D, b, gamma, E) \n",
    "\n",
    "#                 birth_rate = Pr_loop / Pr_init\n",
    "\n",
    "#                 if birth_rate > 1:\n",
    "#                     birth_rate = 1\n",
    "#                 birth_rates[i,j] = birth_rate\n",
    "#                 birth_rates[j,i] = birth_rate\n",
    "#                 beta_K += birth_rate\n",
    "    \n",
    "#     W = 1/(beta_K + delta_K)\n",
    "\n",
    "#     pr_death = W * death_rates\n",
    "#     pr_birth = W * birth_rates\n",
    "\n",
    "#     G[pr_death > 0.5] = 0\n",
    "#     G[pr_birth > 0.5] = 1\n",
    "   \n",
    "#     return G"
   ]
  },
  {
   "cell_type": "code",
   "execution_count": 3,
   "id": "edfc5f2a",
   "metadata": {},
   "outputs": [],
   "source": [
    "def Pr_G(n_of_links, p_of_existing_link_theta):\n",
    "    \"\"\"Probability kernel of having a graph with n links, given theta prior of existing link\n",
    "        \n",
    "    \"\"\"\n",
    "    return (p_of_existing_link_theta / (1 - p_of_existing_link_theta)) ** n_link\n",
    "\n",
    "\n",
    "def Pr_K_given_G(degrees_of_freedom_b, shape_matrix_D=None, K=None, norm_of_K=None, trace_of_DK=None):\n",
    "    \"\"\"Probability kernel of precision matrix K given graph G with prior G-Wishart(b, D)\n",
    "        \n",
    "    \"\"\"\n",
    "    # IMPORTANT: I'm assuming K belongs to the cone defined by G. Therefore G is NOT needed as parameter\n",
    "    # IMPORTANT: I am returning a kernel, therefore NOT computing the normalization constant.\n",
    "    \n",
    "    norm_of_K = norm_of_K or np.linalg.norm(K) # norm of K can be precomputed to speed up the process\n",
    "    trace_of_DK = trace_of_DK or np.trace(shape_matrix_D * K) # trace of K can be precomputed to speed up the process\n",
    "    return (norm_of_K ** ((degrees_of_freedom_b - 2) / 2)) * np.exp(-0.5 * trace_of_DK)\n",
    "\n",
    "\n",
    "def Pr_Z_given_K(U=None, K=None, sample_size_n=None, norm_of_K=None, trace_of_KU=None):\n",
    "    \"\"\"Probability kernel of gaussian data matrix Z of n samples given precision matrix K\n",
    "    \n",
    "    Note that you must pass U = Z'Z to avoid repeated computation\n",
    "    \n",
    "    The article defines P(Z|K, G), but G dependence is actually implicit\n",
    "    \"\"\"\n",
    "    norm_of_K = norm_of_K or np.linalg.norm(K) # norm of K can be precomputed to speed up the process\n",
    "    trace_of_KU = trace_of_KU or np.trace(K * U) # tr(KU) can be precomputed to speed up the process\n",
    "    return (norm_of_K ** (sample_size_n / 2)) * np.exp(-0.5 * trace_of_KU)\n",
    "\n",
    "def MC_sample_G(G, K, multivariate_gaussian_data_matrix_Z, degrees_of_freedom_b,  p_of_existing_links=0.5):\n",
    "    \n",
    "    # K must belong to the cone defined by G:\n",
    "    # if this exception is never raised in real life, you may comment it out to speed up code\n",
    "    if not np.sum((K - np.diag(np.diag(K)) != 0) - G) == 0: \n",
    "        raise Exception(\"K matrix does not belong to the cone defined by G!\")\n",
    "    \n",
    "    # Local variables and pre-computed values\n",
    "    n_of_links = int(G.sum() / 2)\n",
    "    k = G.shape[0]  # Number of topics. Also, size of matrix.\n",
    "    sample_size = multivariate_gaussian_data_matrix_Z.shape[0]\n",
    "    U = multivariate_gaussian_data_matrix_Z.T * multivariate_gaussian_data_matrix_Z\n",
    "    norm_of_K = np.norm(K)\n",
    "    trace_of_KU = np.trace(K * U)\n",
    "    trace_of_DK = np.trace(shape_matrix_D * K)\n",
    "    \n",
    "    p_G = Pr_G(n_of_links=n_of_links, \n",
    "               p_of_existing_link_theta=p_of_existing_links)\n",
    "    p_Gminus = Pr_G(n_of_links=n_of_links - 1, \n",
    "                    p_of_existing_link_theta=p_of_existing_links)\n",
    "    p_Gplus = Pr_G(n_of_links=n_of_links + 1, \n",
    "                    p_of_existing_link_theta=p_of_existing_links)\n",
    "    \n",
    "    p_K_given_G = Pr_K_given_G(degrees_of_freedom_b=degrees_of_freedom_b, \n",
    "                               norm_of_K=norm_of_K,\n",
    "                               trace_of_DK=trace_of_DK)\n",
    "    p_Z_given_K = Pr_Z_given_K(sample_size_n=sample_size, \n",
    "                               trace_of_KU=trace_of_KU, \n",
    "                               norm_of_K=norm_of_K)\n",
    "    p_G_K_given_Z = p_Z_given_K * p_K_given_G * p_G\n",
    "    \n",
    "#     1.1+2. Calculate the birth and death rates\n",
    "    BD_prob = np.zeros((k, k))  # This will hold birth and death probabilities (using G as a selection mask)\n",
    "    for i in range(k):\n",
    "        for j in range(i + 1, k):  # Matrix is symmetric and diagonal is 0\n",
    "            if G[i, j] != 0:  # Link exists\n",
    "                Gminus = G.copy()\n",
    "                Kminus = K.copy()  \n",
    "                \n",
    "                # Removing edge\n",
    "                Gminus[i, j] = Gminus[j, i] = Kminus[i, j] = Kminus[j, i] = 0  # I love python!\n",
    "                # TODO: What should I put in Kminus[i, i] and Kminus[j, j] ?\n",
    "                # See https://projecteuclid.org/journals/bayesian-analysis/volume-10/issue-1/Bayesian-Structure-Learning-in-Sparse-Gaussian-Graphical-Models/10.1214/14-BA889.full\n",
    "                norm_of_Kminus = np.norm(Kminus)\n",
    "                \n",
    "                p_Z_given_Kminus = Pr_Z_given_K(U=U, \n",
    "                                                K=Kminus, \n",
    "                                                sample_size_n=sample_size, \n",
    "                                                norm_of_K=norm_of_Kminus)\n",
    "                p_Kminus_given_Gminus = Pr_K_given_G(degrees_of_freedom_b=degrees_of_freedom_b,\n",
    "                                                     shape_matrix_D=shape_matrix_D,\n",
    "                                                     K=Kminus,\n",
    "                                                     norm_of_K=norm_of_Kminus)\n",
    "                \n",
    "                BD_prob[i, j] = BD_prob[j, i] = (p_Z_given_Kminus * p_Kminus_given_Gminus * p_Gminus)\n",
    "                \n",
    "            else:  # Link does not exist\n",
    "                Gplus = G.copy()\n",
    "                Kplus = K.copy()  \n",
    "                \n",
    "                Gplus[i, j] = Gplus[j, i] = 1  # Adding edge\n",
    "                \n",
    "                # TODO: I am just assigning a random value between 0 and 1 to the entry in the precision matrix\n",
    "                # Does it make sense?\n",
    "                Kplus[i, j] = Kplus[j, i] = np.random.random()\n",
    "                # TODO: What should I put in Kplus[i, i] and Kplus[j, j] ?\n",
    "                # See https://projecteuclid.org/journals/bayesian-analysis/volume-10/issue-1/Bayesian-Structure-Learning-in-Sparse-Gaussian-Graphical-Models/10.1214/14-BA889.full\n",
    "                norm_of_Kplus = np.norm(Kplus)\n",
    "                \n",
    "                p_Z_given_Kplus = Pr_Z_given_K(U=U, \n",
    "                                               K=Kplus, \n",
    "                                               sample_size_n=sample_size, \n",
    "                                               norm_of_K=norm_of_Kplus)\n",
    "                p_Kplus_given_Gplus = Pr_K_given_G(degrees_of_freedom_b=degrees_of_freedom_b,\n",
    "                                                   shape_matrix_D=shape_matrix_D,\n",
    "                                                   K=Kplus,\n",
    "                                                   norm_of_K=norm_of_Kplus)\n",
    "                \n",
    "                BD_prob[i, j] = BD_prob[j, i] = (p_Z_given_Kplus * p_Kplus_given_Gplus * p_Gplus)\n",
    "    \n",
    "    BD_prob = np.minimum(BD_prob / p_G_K_given_Z, 1)  # min between ratio and 1\n",
    "    beta_K = BD_prob[~G].sum() / 2  # Selecting edges NOT in G and summing them: overall BIRTH ratio\n",
    "    delta_K = BD_prob[G].sum() / 2  # Selecting edges in G and summing them: overall DEATH ratio\n",
    "\n",
    "#     1.3. Calculate the waiting time (which is the inverse of the sum of the ratios)    \n",
    "    W_K = 1 / (beta_K + delta_K)  # Waiting time. This MUST be returned\n",
    "    \n",
    "    BD_prob *= W_k  # actual Birth-Death probability matrix \n",
    "    \n",
    "#     1.4. Simulate the type of jump (birth or death) \n",
    "    # TODO: This part is missing. See https://projecteuclid.org/journals/bayesian-analysis/volume-10/issue-1/Bayesian-Structure-Learning-in-Sparse-Gaussian-Graphical-Models/10.1214/14-BA889.full\n",
    "    # It is not clear how to chose which edge(s) to add / remove. One at a time? ..."
   ]
  },
  {
   "cell_type": "markdown",
   "id": "45b8839f",
   "metadata": {},
   "source": [
    "## 2.4.2 BDMCMC Sampling Tests"
   ]
  },
  {
   "cell_type": "markdown",
   "id": "71f4fd79",
   "metadata": {},
   "source": [
    "#### MC_sample_K tests"
   ]
  },
  {
   "cell_type": "code",
   "execution_count": 38,
   "id": "14233c95",
   "metadata": {},
   "outputs": [],
   "source": [
    "#This is a basic test of MC_sample_K\n",
    "G = [[0,0,1,0,0],\n",
    "     [0,0,0,0,0],\n",
    "     [1,0,0,0,0],\n",
    "     [0,0,0,0,0],\n",
    "     [0,0,0,0,0]]\n",
    "shape_matrix = np.eye(5, dtype=int)\n",
    "K_sample = MC_sample_K(G, 5, shape_matrix, n_of_samples=1)\n",
    "\n",
    "assert np.all(shape_matrix == np.eye(5, dtype=int))"
   ]
  },
  {
   "cell_type": "code",
   "execution_count": 39,
   "id": "b8a9b367",
   "metadata": {},
   "outputs": [
    {
     "name": "stdout",
     "output_type": "stream",
     "text": [
      "[1] \"[R] rgwish will now be sampling 1 samples. The b (degrees of freedom) is set to 4\"\n",
      "[1] \"[R] rgwish succesfully executed!\"\n"
     ]
    }
   ],
   "source": [
    "#This is a basic test of MC_sample_K\n",
    "G_copy = test_data.G.copy()\n",
    "shape_matrix = np.eye(k, dtype=int)\n",
    "b = k - 1\n",
    "K_sample = MC_sample_K(G_copy, b, shape_matrix, n_of_samples=1, debug=True)\n",
    "\n",
    "assert np.all(G_copy == test_data.G)\n",
    "assert np.all(shape_matrix == np.eye(k, dtype=int))"
   ]
  },
  {
   "cell_type": "code",
   "execution_count": 40,
   "id": "b6e5a3c3",
   "metadata": {},
   "outputs": [
    {
     "name": "stdout",
     "output_type": "stream",
     "text": [
      "CPU times: user 1.16 s, sys: 3.07 s, total: 4.23 s\n",
      "Wall time: 2min 12s\n"
     ]
    }
   ],
   "source": [
    "%%time\n",
    "# Check that the Sampler works properly (This will take... forever)\n",
    "errors = []\n",
    "matrix_changes = []\n",
    "burn_in = 0\n",
    "for i in range(1000):\n",
    "    K_sample_old = K_sample.copy()\n",
    "    K_sample = MC_sample_K(G_copy, b, shape_matrix, n_of_samples=1, debug=False)\n",
    "    matrix_changes.append(~np.all(K_sample_old == K_sample))\n",
    "    if i >= burn_in:\n",
    "        errors.append(np.linalg.norm(K_sample - test_data.K))  # Computing error wrt the target matrix"
   ]
  },
  {
   "cell_type": "code",
   "execution_count": 41,
   "id": "2847258f",
   "metadata": {},
   "outputs": [
    {
     "name": "stdout",
     "output_type": "stream",
     "text": [
      "Matrix changes (1 = changed, 0 = same)\n",
      "count    1000.0\n",
      "mean        1.0\n",
      "std         0.0\n",
      "min         1.0\n",
      "25%         1.0\n",
      "50%         1.0\n",
      "75%         1.0\n",
      "max         1.0\n",
      "dtype: float64\n"
     ]
    },
    {
     "data": {
      "text/plain": [
       "<AxesSubplot:>"
      ]
     },
     "execution_count": 41,
     "metadata": {},
     "output_type": "execute_result"
    },
    {
     "data": {
      "image/png": "[encoded data removed]",
      "text/plain": [
       "<Figure size 432x288 with 1 Axes>"
      ]
     },
     "metadata": {
      "needs_background": "light"
     },
     "output_type": "display_data"
    }
   ],
   "source": [
    "# Matrix should change\n",
    "matrix_changes = pd.Series(matrix_changes).astype(int)\n",
    "print(\"Matrix changes (1 = changed, 0 = same)\")\n",
    "print(matrix_changes.describe())\n",
    "matrix_changes.hist()"
   ]
  },
  {
   "cell_type": "code",
   "execution_count": 42,
   "id": "4ce4f38f",
   "metadata": {},
   "outputs": [
    {
     "name": "stdout",
     "output_type": "stream",
     "text": [
      "Error metrics\n",
      "count    1000.000000\n",
      "mean        8.263602\n",
      "std         3.803911\n",
      "min         1.368047\n",
      "25%         5.260115\n",
      "50%         7.842345\n",
      "75%        10.478852\n",
      "max        24.497483\n",
      "dtype: float64\n"
     ]
    },
    {
     "data": {
      "text/plain": [
       "<AxesSubplot:>"
      ]
     },
     "execution_count": 42,
     "metadata": {},
     "output_type": "execute_result"
    },
    {
     "data": {
      "image/png": "[encoded data removed]",
      "text/plain": [
       "<Figure size 432x288 with 1 Axes>"
      ]
     },
     "metadata": {
      "needs_background": "light"
     },
     "output_type": "display_data"
    }
   ],
   "source": [
    "# Error should be distributed close to 0 (I guess...)  # BUG https://trello.com/c/9k2e8PQz/33-mcsampleh-is-not-close-to-expected-target\n",
    "errors = pd.Series(errors)\n",
    "print(\"Error metrics\")\n",
    "print(errors.describe())\n",
    "errors.hist()"
   ]
  },
  {
   "cell_type": "code",
   "execution_count": 43,
   "id": "ef6efb2e",
   "metadata": {},
   "outputs": [
    {
     "data": {
      "text/plain": [
       "<AxesSubplot:>"
      ]
     },
     "execution_count": 43,
     "metadata": {},
     "output_type": "execute_result"
    },
    {
     "data": {
      "image/png": "[encoded data removed]",
      "text/plain": [
       "<Figure size 432x288 with 1 Axes>"
      ]
     },
     "metadata": {
      "needs_background": "light"
     },
     "output_type": "display_data"
    }
   ],
   "source": [
    "errors.plot()"
   ]
  },
  {
   "cell_type": "code",
   "execution_count": 44,
   "id": "b13a9291",
   "metadata": {},
   "outputs": [
    {
     "data": {
      "text/plain": [
       "[[0, 0, 1, 0, 0],\n",
       " [0, 0, 0, 0, 0],\n",
       " [1, 0, 0, 0, 0],\n",
       " [0, 0, 0, 0, 0],\n",
       " [0, 0, 0, 0, 0]]"
      ]
     },
     "execution_count": 44,
     "metadata": {},
     "output_type": "execute_result"
    }
   ],
   "source": [
    "G"
   ]
  },
  {
   "cell_type": "code",
   "execution_count": 45,
   "id": "d7c1e029",
   "metadata": {},
   "outputs": [
    {
     "data": {
      "text/plain": [
       "array([[1, 0, 0, 0, 0],\n",
       "       [0, 1, 0, 0, 0],\n",
       "       [0, 0, 1, 0, 0],\n",
       "       [0, 0, 0, 1, 0],\n",
       "       [0, 0, 0, 0, 1]])"
      ]
     },
     "execution_count": 45,
     "metadata": {},
     "output_type": "execute_result"
    }
   ],
   "source": [
    "shape_matrix"
   ]
  },
  {
   "cell_type": "markdown",
   "id": "aca5da79",
   "metadata": {},
   "source": [
    "#### MC_sample_G tests"
   ]
  },
  {
   "cell_type": "code",
   "execution_count": 46,
   "id": "9f9c8a9a",
   "metadata": {},
   "outputs": [],
   "source": [
    "# Check that the function runs with no issues, without side effects\n",
    "W_copy = test_data.W.copy()\n",
    "Z_copy = test_data.Z.copy()\n",
    "H_copy = test_data.H.copy()\n",
    "K_copy = test_data.K.copy()\n",
    "G_copy = random_initial_data.G.copy()\n",
    "E_copy = test_data.E.copy()\n",
    "b = k - 1\n",
    "shape_matrix = np.eye(k)\n",
    "\n",
    "G_sample = MC_sample_G(W_copy, Z_copy, H_copy, K_copy, G_copy, E_copy, b, shape_matrix)\n",
    "\n",
    "assert np.all(W_copy == test_data.W)\n",
    "assert np.all(Z_copy == test_data.Z)\n",
    "assert np.all(H_copy == test_data.H)\n",
    "assert np.all(K_copy == test_data.K)\n",
    "assert np.all(E_copy == test_data.E)\n",
    "assert np.all(shape_matrix == np.eye(k))"
   ]
  },
  {
   "cell_type": "code",
   "execution_count": 47,
   "id": "e875a730",
   "metadata": {},
   "outputs": [
    {
     "name": "stdout",
     "output_type": "stream",
     "text": [
      "CPU times: user 1.62 s, sys: 24.8 ms, total: 1.65 s\n",
      "Wall time: 1.61 s\n"
     ]
    }
   ],
   "source": [
    "%%time\n",
    "# Check that the Sampler works properly (This will take... forever)\n",
    "errors = []\n",
    "matrix_changes = []\n",
    "burn_in = 1000\n",
    "for i in range(5000):\n",
    "    G_sample_old = G_sample.copy()\n",
    "    G_sample = MC_sample_G(W_copy, Z_copy, H_copy, K_copy, G_sample, E_copy, b, shape_matrix)\n",
    "    matrix_changes.append(~np.all(G_sample_old == G_sample))\n",
    "    if i >= burn_in:\n",
    "        errors.append(np.linalg.norm(G_sample - test_data.G))  # Computing error wrt the target matrix"
   ]
  },
  {
   "cell_type": "code",
   "execution_count": 48,
   "id": "16413210",
   "metadata": {},
   "outputs": [
    {
     "name": "stdout",
     "output_type": "stream",
     "text": [
      "Matrix changes (1 = changed, 0 = same)\n",
      "count    5000.0\n",
      "mean        0.0\n",
      "std         0.0\n",
      "min         0.0\n",
      "25%         0.0\n",
      "50%         0.0\n",
      "75%         0.0\n",
      "max         0.0\n",
      "dtype: float64\n"
     ]
    },
    {
     "data": {
      "text/plain": [
       "<AxesSubplot:>"
      ]
     },
     "execution_count": 48,
     "metadata": {},
     "output_type": "execute_result"
    },
    {
     "data": {
      "image/png": "[encoded data removed]",
      "text/plain": [
       "<Figure size 432x288 with 1 Axes>"
      ]
     },
     "metadata": {
      "needs_background": "light"
     },
     "output_type": "display_data"
    }
   ],
   "source": [
    "# Matrix should change  # BUG https://trello.com/c/2K64NaeG/28-mcsampleg-g-matrix-is-never-updated\n",
    "matrix_changes = pd.Series(matrix_changes).astype(int)\n",
    "print(\"Matrix changes (1 = changed, 0 = same)\")\n",
    "print(matrix_changes.describe())\n",
    "matrix_changes.hist()"
   ]
  },
  {
   "cell_type": "code",
   "execution_count": 49,
   "id": "2e104530",
   "metadata": {},
   "outputs": [
    {
     "name": "stdout",
     "output_type": "stream",
     "text": [
      "Error metrics\n",
      "count    4000.0\n",
      "mean        0.0\n",
      "std         0.0\n",
      "min         0.0\n",
      "25%         0.0\n",
      "50%         0.0\n",
      "75%         0.0\n",
      "max         0.0\n",
      "dtype: float64\n"
     ]
    },
    {
     "data": {
      "text/plain": [
       "<AxesSubplot:>"
      ]
     },
     "execution_count": 49,
     "metadata": {},
     "output_type": "execute_result"
    },
    {
     "data": {
      "image/png": "[encoded data removed]",
      "text/plain": [
       "<Figure size 432x288 with 1 Axes>"
      ]
     },
     "metadata": {
      "needs_background": "light"
     },
     "output_type": "display_data"
    }
   ],
   "source": [
    "# Error should be distributed close to 0 (I guess...)  # BUG https://trello.com/c/9k2e8PQz/33-mcsampleh-is-not-close-to-expected-target\n",
    "errors = pd.Series(errors)\n",
    "print(\"Error metrics\")\n",
    "print(errors.describe())\n",
    "errors.hist()"
   ]
  },
  {
   "cell_type": "code",
   "execution_count": 50,
   "id": "1dc5b4ee",
   "metadata": {},
   "outputs": [
    {
     "data": {
      "text/plain": [
       "<AxesSubplot:>"
      ]
     },
     "execution_count": 50,
     "metadata": {},
     "output_type": "execute_result"
    },
    {
     "data": {
      "image/png": "[encoded data removed]",
      "text/plain": [
       "<Figure size 432x288 with 1 Axes>"
      ]
     },
     "metadata": {
      "needs_background": "light"
     },
     "output_type": "display_data"
    }
   ],
   "source": [
    "errors.plot()"
   ]
  },
  {
   "cell_type": "code",
   "execution_count": null,
   "id": "f9c46f8e",
   "metadata": {},
   "outputs": [],
   "source": []
  },
  {
   "cell_type": "markdown",
   "id": "340ad3cd",
   "metadata": {},
   "source": [
    "# MAIN ALGORITHM"
   ]
  },
  {
   "cell_type": "markdown",
   "id": "5a8049da",
   "metadata": {},
   "source": [
    "### Generating Data"
   ]
  },
  {
   "cell_type": "code",
   "execution_count": null,
   "id": "7d48e7e5",
   "metadata": {},
   "outputs": [],
   "source": [
    "simulated_data = Simulator(D, V, M, k, gamma, seed=1984)\n",
    "simulated_data.generate_all_data()"
   ]
  },
  {
   "cell_type": "code",
   "execution_count": null,
   "id": "e4a1b6c1",
   "metadata": {},
   "outputs": [],
   "source": [
    "# Input Data:\n",
    "simulated_data.W"
   ]
  },
  {
   "cell_type": "markdown",
   "id": "b5f15547",
   "metadata": {},
   "source": [
    "# SAMPLER"
   ]
  },
  {
   "cell_type": "code",
   "execution_count": null,
   "id": "8b25e233",
   "metadata": {},
   "outputs": [],
   "source": [
    "# # Initial guesses\n",
    "initial = Simulator(D, V, M, k, gamma, 2020)\n",
    "initial.sample_GK()\n",
    "initial.sample_B()\n",
    "initial.sample_H()"
   ]
  },
  {
   "cell_type": "code",
   "execution_count": 15,
   "id": "periodic-depression",
   "metadata": {},
   "outputs": [],
   "source": [
    "import matplotlib.pyplot as plt"
   ]
  },
  {
   "cell_type": "code",
   "execution_count": null,
   "id": "8b113dc8",
   "metadata": {},
   "outputs": [],
   "source": [
    "max_iteration = 100\n",
    "\n",
    "# Data\n",
    "W = simulated_data.W\n",
    "\n",
    "# Initialization\n",
    "Sigma = initial.Sigma\n",
    "K = np.linalg.inv(Sigma)\n",
    "B = initial.B\n",
    "Theta = initial.Theta\n",
    "G = initial.G\n",
    "\n",
    "alpha = np.ones(V)  # Uninformative prior\n",
    "b = k - 1\n",
    "shape_matrix = np.eye(k)\n",
    "\n",
    "Z = sample_Z_from_W(simulated_data.W.astype(int), k, 2020)  # Random sample of Z based on actual data\n",
    "\n",
    "E = update_E(np.zeros((D, k)), Z)  # Transformation of Z\n",
    "C = update_C(np.zeros((k, V)), Z)  # Transformation of Z\n",
    "\n",
    "\n",
    "for iteration in range(max_iteration):\n",
    "    \n",
    "    # Step 1\n",
    "    Z, E, C = MC_sample_Z(Z, W, Theta, B, E, C)  # They are already updated in the algorithm\n",
    "    #E = update_E(E, Z)  # get E from Z\n",
    "    #C = update_C(C, Z)  # get C from Z ...\n",
    "    \n",
    "    # Step 2\n",
    "    B = MC_sample_B(alpha, C)\n",
    "    \n",
    "    # Step 3\n",
    "    H = MC_sample_H(E, Sigma)\n",
    "    Theta = update_Theta(Theta, H)  # get Theta from H\n",
    "    \n",
    "    # Step 4\n",
    "    b += D  # add D since it's the amount of etas we have\n",
    "    shape_matrix += np.matmul(H.T, H)  # Add H^T H (matrix product)\n",
    "    \n",
    "    G_new = MC_sample_G(W, Z, H, K, G, E, b, shape_matrix)\n",
    "    if np.all(G_new == G):\n",
    "        print('G matrix has NOT changed!')\n",
    "    G = G_new\n",
    "    \n",
    "    K = MC_sample_K(G, b, shape_matrix, n_of_samples=1)\n",
    "    Sigma = np.linalg.inv(K)\n",
    "    \n",
    "    # Hope for convergence!\n",
    "    wrong_edges = np.sum(G != simulated_data.G)\n",
    "    error = np.linalg.norm(Sigma - simulated_data.Sigma)\n",
    "    print(f\"At iteration {iteration}, the wrong edges are {wrong_edges} and the error on Sigma is {error}\")\n",
    "    \n",
    "    if iteration//10==0:  # Plot every 10 iterations\n",
    "        df = pd.DataFrame(G)\n",
    "        plt.pcolor(df > 0.5, cmap='Blues')\n",
    "        plt.show()"
   ]
  },
  {
   "cell_type": "code",
   "execution_count": null,
   "id": "9e58bf74",
   "metadata": {},
   "outputs": [],
   "source": [
    "H.shape"
   ]
  },
  {
   "cell_type": "code",
   "execution_count": null,
   "id": "0c3994f5",
   "metadata": {},
   "outputs": [],
   "source": [
    "shape_matrix.shape"
   ]
  },
  {
   "cell_type": "code",
   "execution_count": null,
   "id": "9ae2303b",
   "metadata": {},
   "outputs": [],
   "source": [
    "b"
   ]
  },
  {
   "cell_type": "code",
   "execution_count": null,
   "id": "6f8e8f38",
   "metadata": {},
   "outputs": [],
   "source": []
  }
 ],
 "metadata": {
  "interpreter": {
   "hash": "a803b5bf187bf95155bcb05f6102b06519856e9ee60d4a9ebc29561a74488513"
  },
  "kernelspec": {
   "display_name": "Python 3 (ipykernel)",
   "language": "python",
   "name": "python3"
  },
  "language_info": {
   "codemirror_mode": {
    "name": "ipython",
    "version": 3
   },
   "file_extension": ".py",
   "mimetype": "text/x-python",
   "name": "python",
   "nbconvert_exporter": "python",
   "pygments_lexer": "ipython3",
   "version": "3.9.1"
  }
 },
 "nbformat": 4,
 "nbformat_minor": 5
}
