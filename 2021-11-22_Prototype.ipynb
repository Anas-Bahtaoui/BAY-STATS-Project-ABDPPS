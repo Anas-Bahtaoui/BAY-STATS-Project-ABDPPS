{
 "cells": [
  {
   "cell_type": "code",
   "execution_count": 5,
   "id": "991ed3b5",
   "metadata": {},
   "outputs": [],
   "source": [
    "# GLOBAL VARIABLES. BE SURE NOT TO OVERWRITE THEM\n",
    "D = 50 # Amount of documents\n",
    "V = 100 # Size of the vocabulary\n",
    "M = 10 # Maximum amount of same word repetition in a document\n",
    "k = 5 # Amount of topics"
   ]
  },
  {
   "cell_type": "markdown",
   "id": "afa75f9b",
   "metadata": {},
   "source": [
    "## IMPORTANT: Please use static random seeds in **EVERY** cell where you use a random function, so that the result does **NOT** change at every run."
   ]
  },
  {
   "cell_type": "markdown",
   "id": "1f1e87b7",
   "metadata": {},
   "source": [
    "# 1. ARTIFICIAL DATA"
   ]
  },
  {
   "cell_type": "markdown",
   "id": "ddb34eeb",
   "metadata": {},
   "source": [
    "### Task:\n",
    "\n",
    "You must implement an algorithm that generates an artificial *corpus*, and return also a graph G and a correlation matrix Sigma."
   ]
  },
  {
   "cell_type": "code",
   "execution_count": 16,
   "id": "cb9b3e5c",
   "metadata": {},
   "outputs": [],
   "source": [
    "# OUTPUT:\n",
    "class SIM:  # I'm using a class as a namespace - SIM = Simulation\n",
    "    W = None # matrix of D×V where Wd,n is counter of appearances of the word n in document d\n",
    "    Z = None\n",
    "    B = None\n",
    "    C = None\n",
    "    E = None\n",
    "    Theta = None  # This is just a transformation of H\n",
    "    H = None\n",
    "    Sigma = None\n",
    "    G = None  # Adjacency Matrix (Check also python package \"networkx\" for graph objects!)\n",
    "    K = None  # This is just the reverse of sigma"
   ]
  },
  {
   "cell_type": "code",
   "execution_count": 17,
   "id": "41778ccf",
   "metadata": {},
   "outputs": [],
   "source": [
    "# What follows is just an example..."
   ]
  },
  {
   "cell_type": "code",
   "execution_count": 18,
   "id": "6c0f0b35",
   "metadata": {},
   "outputs": [],
   "source": [
    "import numpy as np"
   ]
  },
  {
   "cell_type": "code",
   "execution_count": 19,
   "id": "36a8e8c8",
   "metadata": {},
   "outputs": [
    {
     "data": {
      "text/plain": [
       "array([[0.69646919, 0.28613933, 0.22685145, 0.55131477, 0.71946897],\n",
       "       [0.42310646, 0.9807642 , 0.68482974, 0.4809319 , 0.39211752],\n",
       "       [0.34317802, 0.72904971, 0.43857224, 0.0596779 , 0.39804426],\n",
       "       [0.73799541, 0.18249173, 0.17545176, 0.53155137, 0.53182759],\n",
       "       [0.63440096, 0.84943179, 0.72445532, 0.61102351, 0.72244338]])"
      ]
     },
     "execution_count": 19,
     "metadata": {},
     "output_type": "execute_result"
    }
   ],
   "source": [
    "# Generating matrix Sigma\n",
    "np.random.seed(123)\n",
    "SIM.Sigma = np.random.random((k, k))\n",
    "SIM.Sigma"
   ]
  },
  {
   "cell_type": "code",
   "execution_count": 20,
   "id": "9eb6cf62",
   "metadata": {},
   "outputs": [
    {
     "ename": "SyntaxError",
     "evalue": "invalid syntax (572798405.py, line 1)",
     "output_type": "error",
     "traceback": [
      "\u001b[0;36m  File \u001b[0;32m\"/tmp/ipykernel_5560/572798405.py\"\u001b[0;36m, line \u001b[0;32m1\u001b[0m\n\u001b[0;31m    etc...\u001b[0m\n\u001b[0m       ^\u001b[0m\n\u001b[0;31mSyntaxError\u001b[0m\u001b[0;31m:\u001b[0m invalid syntax\n"
     ]
    }
   ],
   "source": [
    "etc..."
   ]
  },
  {
   "cell_type": "code",
   "execution_count": null,
   "id": "69ae2960",
   "metadata": {},
   "outputs": [],
   "source": []
  },
  {
   "cell_type": "code",
   "execution_count": null,
   "id": "26508c5f",
   "metadata": {},
   "outputs": [],
   "source": []
  },
  {
   "cell_type": "markdown",
   "id": "35163c32",
   "metadata": {},
   "source": [
    "### Original Data Generating Algorithm by Kanthavel\n"
   ]
  },
  {
   "cell_type": "code",
   "execution_count": 1,
   "id": "4a789102",
   "metadata": {},
   "outputs": [],
   "source": [
    "# Imports\n",
    "import pymc3 as pm\n",
    "import numpy as np\n",
    "# import numpy.linalg\n",
    "from matplotlib import pyplot as plt"
   ]
  },
  {
   "cell_type": "code",
   "execution_count": 2,
   "id": "a83171ed",
   "metadata": {},
   "outputs": [],
   "source": [
    "V = [\n",
    "    'dog',\n",
    "    'aunt',\n",
    "    'cat',\n",
    "    'square',\n",
    "    'house',\n",
    "    'root',\n",
    "    'mouse',\n",
    "    'cow',\n",
    "    'palm',\n",
    "    'tree',\n",
    "    'mom',\n",
    "    'sun',\n",
    "    'moon',\n",
    "    'father',\n",
    "    'spoon',\n",
    "    'circle',\n",
    "    'mug',\n",
    "    'glass'\n",
    "]\n",
    "V_arr = np.array(V)"
   ]
  },
  {
   "cell_type": "code",
   "execution_count": 3,
   "id": "b3c2d24b",
   "metadata": {},
   "outputs": [],
   "source": [
    "def build_topic_distribution(seed=1234):\n",
    "    np.random.seed(seed)\n",
    "    vocabulary_size = len(V)\n",
    "    distribution = np.random.random(vocabulary_size)\n",
    "    return distribution / distribution.sum()"
   ]
  },
  {
   "cell_type": "code",
   "execution_count": 4,
   "id": "d7c0ccc3",
   "metadata": {},
   "outputs": [
    {
     "data": {
      "text/plain": [
       "array([0.01973417, 0.0641021 , 0.04510347, 0.08092336, 0.08036872,\n",
       "       0.02808795, 0.02848688, 0.08262492, 0.0987267 , 0.09025611,\n",
       "       0.0368695 , 0.05162255, 0.07042403, 0.07343683, 0.03815064,\n",
       "       0.05782566, 0.0518377 , 0.0014187 ])"
      ]
     },
     "execution_count": 4,
     "metadata": {},
     "output_type": "execute_result"
    }
   ],
   "source": [
    "build_topic_distribution()"
   ]
  },
  {
   "cell_type": "code",
   "execution_count": 5,
   "id": "c6c567df",
   "metadata": {},
   "outputs": [],
   "source": [
    "topics = {  # Betas\n",
    "    'red': build_topic_distribution(seed=1),\n",
    "    'blue': build_topic_distribution(seed=2),\n",
    "    'green': build_topic_distribution(seed=3),\n",
    "    'pink': build_topic_distribution(seed=4),\n",
    "    'yellow': build_topic_distribution(seed=5)\n",
    "}"
   ]
  },
  {
   "cell_type": "code",
   "execution_count": 6,
   "id": "08ed7a97",
   "metadata": {},
   "outputs": [
    {
     "data": {
      "text/plain": [
       "array([5.95139825e-02, 1.02798842e-01, 1.63226420e-05, 4.31464413e-02,\n",
       "       2.09438049e-02, 1.31778118e-02, 2.65815397e-02, 4.93156112e-02,\n",
       "       5.66234210e-02, 7.68955339e-02, 5.98240254e-02, 9.77889437e-02,\n",
       "       2.91777592e-02, 1.25317765e-01, 3.90853414e-03, 9.56836599e-02,\n",
       "       5.95543411e-02, 7.97316600e-02])"
      ]
     },
     "execution_count": 6,
     "metadata": {},
     "output_type": "execute_result"
    }
   ],
   "source": [
    "topics['red']"
   ]
  },
  {
   "cell_type": "code",
   "execution_count": 7,
   "id": "9210b80e",
   "metadata": {},
   "outputs": [
    {
     "data": {
      "text/plain": [
       "1.0"
      ]
     },
     "execution_count": 7,
     "metadata": {},
     "output_type": "execute_result"
    }
   ],
   "source": [
    "topics['red'].sum()"
   ]
  },
  {
   "cell_type": "code",
   "execution_count": 8,
   "id": "95a0e477",
   "metadata": {},
   "outputs": [
    {
     "data": {
      "text/plain": [
       "5"
      ]
     },
     "execution_count": 8,
     "metadata": {},
     "output_type": "execute_result"
    }
   ],
   "source": [
    "topics_number = len(topics)\n",
    "topics_number"
   ]
  },
  {
   "cell_type": "code",
   "execution_count": 9,
   "id": "b293b1ad",
   "metadata": {},
   "outputs": [
    {
     "data": {
      "text/plain": [
       "array([0.00775911, 0.2647408 , 0.04999273, 0.427745  , 0.24976236])"
      ]
     },
     "execution_count": 9,
     "metadata": {},
     "output_type": "execute_result"
    }
   ],
   "source": [
    "np.random.seed(1984)\n",
    "topic_mean = np.random.random(len(topics)) \n",
    "topic_mean /= topic_mean.sum()  # Mu\n",
    "topic_mean"
   ]
  },
  {
   "cell_type": "code",
   "execution_count": 10,
   "id": "baf65099",
   "metadata": {},
   "outputs": [
    {
     "data": {
      "text/plain": [
       "array([[0.9258647 , 1.32977215, 1.1960876 , 1.02902203, 0.2354462 ],\n",
       "       [1.32977215, 2.59107874, 1.65456663, 1.74944266, 0.87948846],\n",
       "       [1.1960876 , 1.65456663, 2.06661948, 1.5962034 , 0.45713552],\n",
       "       [1.02902203, 1.74944266, 1.5962034 , 1.42787331, 0.61474357],\n",
       "       [0.2354462 , 0.87948846, 0.45713552, 0.61474357, 0.71282345]])"
      ]
     },
     "execution_count": 10,
     "metadata": {},
     "output_type": "execute_result"
    }
   ],
   "source": [
    "np.random.seed(12)\n",
    "topic_covariance = np.random.random((topics_number, topics_number))\n",
    "topic_covariance = np.dot(topic_covariance, topic_covariance.T)\n",
    "topic_covariance"
   ]
  },
  {
   "cell_type": "code",
   "execution_count": 11,
   "id": "5e1a78d8",
   "metadata": {},
   "outputs": [],
   "source": [
    "def transform_proportions(eta):\n",
    "    # Not sure about this\n",
    "    theta = np.exp(eta)\n",
    "    theta /= theta.sum()\n",
    "    return theta.squeeze()"
   ]
  },
  {
   "cell_type": "code",
   "execution_count": 24,
   "id": "b9bc2700",
   "metadata": {},
   "outputs": [
    {
     "name": "stdout",
     "output_type": "stream",
     "text": [
      "0-th word drawn from topic green is square\n",
      "1-th word drawn from topic green is glass\n",
      "2-th word drawn from topic blue is house\n",
      "3-th word drawn from topic green is tree\n",
      "4-th word drawn from topic green is glass\n",
      "5-th word drawn from topic green is glass\n",
      "6-th word drawn from topic blue is sun\n",
      "7-th word drawn from topic blue is palm\n",
      "8-th word drawn from topic red is father\n",
      "9-th word drawn from topic blue is father\n"
     ]
    },
    {
     "data": {
      "text/plain": [
       "array([0., 0., 0., 1., 1., 0., 0., 0., 1., 1., 0., 1., 0., 2., 0., 0., 0.,\n",
       "       3.])"
      ]
     },
     "execution_count": 24,
     "metadata": {},
     "output_type": "execute_result"
    }
   ],
   "source": [
    "# Correct with this: https://numpy.org/doc/stable/reference/random/index.html#random-quick-start\n",
    "\n",
    "# Building a document:\n",
    "N = 10\n",
    "\n",
    "seed = 1979\n",
    "np.random.seed(seed)\n",
    "\n",
    "# Eta\n",
    "topic_proportions = np.random.multivariate_normal(topic_mean, topic_covariance, 1)  # (in LDA this is a Dirichlet)\n",
    "\n",
    "# Theta\n",
    "topic_normalized_proportions = transform_proportions(topic_proportions)\n",
    "\n",
    "# BoW\n",
    "document = np.zeros(len(V))\n",
    "\n",
    "for n in range(N):\n",
    "    topic_assignment = np.random.multinomial(1, pvals=topic_normalized_proportions).squeeze().astype(bool)\n",
    "    assigned_topic = np.array(list(topics.keys()))[topic_assignment][0]\n",
    "    assigned_topic_distribution = topics[assigned_topic]\n",
    "    word_mask = np.random.multinomial(1, pvals=assigned_topic_distribution).squeeze()\n",
    "    word = V_arr[word_mask.astype(bool)][0]\n",
    "    document += word_mask\n",
    "    print(f'{n}-th word drawn from topic {assigned_topic} is {word}')\n",
    "document"
   ]
  },
  {
   "cell_type": "code",
   "execution_count": null,
   "id": "9b0e4c11",
   "metadata": {},
   "outputs": [],
   "source": []
  },
  {
   "cell_type": "code",
   "execution_count": null,
   "id": "4145afa0",
   "metadata": {},
   "outputs": [],
   "source": []
  },
  {
   "cell_type": "code",
   "execution_count": null,
   "id": "06aa3086",
   "metadata": {},
   "outputs": [],
   "source": []
  },
  {
   "cell_type": "markdown",
   "id": "11a40293",
   "metadata": {},
   "source": [
    "# 2 SAMPLER"
   ]
  },
  {
   "cell_type": "markdown",
   "id": "58746da3",
   "metadata": {},
   "source": [
    "# 2.1 Hamiltonian MC Sampling"
   ]
  },
  {
   "cell_type": "markdown",
   "id": "23c6bd1e",
   "metadata": {},
   "source": [
    "### Task:\n",
    "\n",
    "You must implement a function that receives matrices $E_i$, $K_i$ and vector $\\mu$ and generates the next $H_{i+1}$."
   ]
  },
  {
   "cell_type": "code",
   "execution_count": null,
   "id": "ca5dd932",
   "metadata": {},
   "outputs": [],
   "source": [
    "def Hamiltonian_MC_Sampling(E, K, mu):\n",
    "    return None"
   ]
  },
  {
   "cell_type": "code",
   "execution_count": null,
   "id": "2702b035",
   "metadata": {},
   "outputs": [],
   "source": []
  },
  {
   "cell_type": "code",
   "execution_count": null,
   "id": "87ff50ad",
   "metadata": {},
   "outputs": [],
   "source": []
  },
  {
   "cell_type": "code",
   "execution_count": null,
   "id": "536cb6a6",
   "metadata": {},
   "outputs": [],
   "source": []
  },
  {
   "cell_type": "markdown",
   "id": "efefe93b",
   "metadata": {},
   "source": [
    "# 2.2 MCMC Sampling"
   ]
  },
  {
   "cell_type": "markdown",
   "id": "d3940240",
   "metadata": {},
   "source": [
    "### Task:\n",
    "\n",
    "You must implement a function that receives matrices $W$, $\\Theta_{i+1}$ and $B_i$ and generates the next $Z_{i+1}$ and $B_{i+1}$."
   ]
  },
  {
   "cell_type": "code",
   "execution_count": 21,
   "id": "4dc9f680",
   "metadata": {},
   "outputs": [],
   "source": [
    "def MCMC_Sampling(W, Theta, B):\n",
    "    return None"
   ]
  },
  {
   "cell_type": "code",
   "execution_count": null,
   "id": "ee600fb2",
   "metadata": {},
   "outputs": [],
   "source": []
  },
  {
   "cell_type": "code",
   "execution_count": null,
   "id": "30e57b29",
   "metadata": {},
   "outputs": [],
   "source": []
  },
  {
   "cell_type": "code",
   "execution_count": null,
   "id": "e7d982c8",
   "metadata": {},
   "outputs": [],
   "source": []
  },
  {
   "cell_type": "markdown",
   "id": "86208b74",
   "metadata": {},
   "source": [
    "# 2.3 BDMCMC Sampling"
   ]
  },
  {
   "cell_type": "markdown",
   "id": "08ee50db",
   "metadata": {},
   "source": [
    "### Task:\n",
    "\n",
    "You must implement a function that receives matrices $W$, $Z_{i+1}$ and $H_{i+1}$ and generates the next $G_{i+1}$ and $K_{i+1}$."
   ]
  },
  {
   "cell_type": "code",
   "execution_count": 21,
   "id": "d3585933",
   "metadata": {},
   "outputs": [],
   "source": [
    "def BDMCMC_Sampling(W, Z, H):\n",
    "    return None"
   ]
  },
  {
   "cell_type": "code",
   "execution_count": null,
   "id": "a8ee0fd8",
   "metadata": {},
   "outputs": [],
   "source": []
  },
  {
   "cell_type": "code",
   "execution_count": null,
   "id": "e2ded9db",
   "metadata": {},
   "outputs": [],
   "source": []
  },
  {
   "cell_type": "code",
   "execution_count": null,
   "id": "31d50369",
   "metadata": {},
   "outputs": [],
   "source": []
  },
  {
   "cell_type": "code",
   "execution_count": null,
   "id": "b2bba15b",
   "metadata": {},
   "outputs": [],
   "source": []
  }
 ],
 "metadata": {
  "kernelspec": {
   "display_name": "Python 3.8 (d2)",
   "language": "python",
   "name": "d2"
  },
  "language_info": {
   "codemirror_mode": {
    "name": "ipython",
    "version": 3
   },
   "file_extension": ".py",
   "mimetype": "text/x-python",
   "name": "python",
   "nbconvert_exporter": "python",
   "pygments_lexer": "ipython3",
   "version": "3.8.12"
  }
 },
 "nbformat": 4,
 "nbformat_minor": 5
}
