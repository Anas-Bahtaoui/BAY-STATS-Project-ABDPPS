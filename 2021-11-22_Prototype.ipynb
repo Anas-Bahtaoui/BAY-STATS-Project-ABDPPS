{
 "cells": [
  {
   "cell_type": "code",
   "execution_count": 32,
   "id": "2dfb36c9",
   "metadata": {},
   "outputs": [],
   "source": [
    "# GLOBAL VARIABLES. BE SURE NOT TO OVERWRITE THEM\n",
    "D = 5 # Amount of documents\n",
    "V = 10 # Size of the vocabulary\n",
    "M = 10 # Maximum amount of same word repetition in a document\n",
    "k = 5 # Amount of topics\n",
    "gamma = 0.05"
   ]
  },
  {
   "cell_type": "markdown",
   "id": "789fdaf5",
   "metadata": {},
   "source": [
    "## IMPORTANT: Please use static random seeds in **EVERY** cell where you use a random function, so that the result does **NOT** change at every run."
   ]
  },
  {
   "cell_type": "markdown",
   "id": "39c8ceee",
   "metadata": {},
   "source": [
    "# 1. ARTIFICIAL DATA"
   ]
  },
  {
   "cell_type": "markdown",
   "id": "3266efb7",
   "metadata": {},
   "source": [
    "### Task:\n",
    "\n",
    "You must implement an algorithm that generates an artificial *corpus*, and return also a graph G and a correlation matrix Sigma."
   ]
  },
  {
   "cell_type": "code",
   "execution_count": 33,
   "id": "a3976fc0",
   "metadata": {},
   "outputs": [],
   "source": [
    "import numpy as np\n",
    "from scipy.stats import bernoulli\n",
    "#!pip install sklearn\n",
    "from sklearn.datasets import make_sparse_spd_matrix"
   ]
  },
  {
   "cell_type": "code",
   "execution_count": 34,
   "id": "27ed62d4",
   "metadata": {},
   "outputs": [],
   "source": [
    "# Transformation functions (deterministic)\n",
    "\n",
    "def update_Theta(Theta, H):\n",
    "    for d in range(D):\n",
    "        Theta[d] = np.exp(H[d]) / np.sum(np.exp(H[d]), axis=0)\n",
    "    print('Success: Theta transformed from H')\n",
    "    return Theta\n",
    "\n",
    "def update_E(E, Z):\n",
    "    for topic in range(1, len(E)):\n",
    "        E[topic,:] = np.sum(Z == topic, axis=2).sum(axis=1)\n",
    "    print('Success: E transformed from Z')\n",
    "    return E\n",
    "\n",
    "def update_C(C, Z):\n",
    "    for topic in range(1, len(C)):\n",
    "        C[topic, :] = np.sum(Z == topic, axis=2).sum(axis=0)\n",
    "    print('Success: C transformed from Z')\n",
    "    return C\n",
    "\n",
    "def update_B(B, C):\n",
    "    # Note this is the transformation from C\n",
    "    for topic in range(0, len(B)):\n",
    "        B[topic] = C[topic] / sum(C[topic])\n",
    "    print('Success: B transformed from C')\n",
    "    return B\n",
    "\n",
    "def update_Sigma(Sigma, K):\n",
    "    Sigma = np.linalg.inv(K)\n",
    "    print('Success: Sigma transformed from K')\n",
    "    return Sigma"
   ]
  },
  {
   "cell_type": "code",
   "execution_count": null,
   "id": "configured-probe",
   "metadata": {},
   "outputs": [],
   "source": [
    "# Random / Generating funtions\n",
    "\n",
    "def build_topic_distribution(seed):\n",
    "    np.random.seed(seed)\n",
    "    distribution = np.random.random(V)\n",
    "    return distribution / distribution.sum()\n",
    "\n",
    "def sample_B(seed):\n",
    "    # B is the matrix whose rows are the distribution of topic i over the vocabulary\n",
    "    # Each row means : for each topic i we have the probability of word i to occur\n",
    "    # Using what Kanthavel did before\n",
    "    b = np.empty((k,V))\n",
    "    np.random.seed(seed)\n",
    "    for i in range(k):\n",
    "        b[i,:] = build_topic_distribution(seed)\n",
    "    return b\n",
    "\n",
    "def sample_G(k, gamma, seed):  # Won't update Sigma automatically anymore\n",
    "    # Bernoulli for G\n",
    "    # generate a random adjacency matrix\n",
    "    np.random.seed(seed)\n",
    "    matrix = np.array([[int(bernoulli.rvs(p=gamma, size=1)) for i in range(k)] for j in range(k)])\n",
    "    for i in range(k):\n",
    "        matrix[i][i] = 0\n",
    "    for i in range(k):\n",
    "        for j in range(k):\n",
    "            matrix[j][i] = matrix[i][j]\n",
    "    return matrix\n",
    "\n",
    "def sample_K(k, seed):  # Won't update Sigma automatically anymore\n",
    "    # I can build K for using make_sparse_spd_matrix from sklearn.datasets for example\n",
    "    np.random.seed(seed)\n",
    "    K = make_sparse_spd_matrix(k, alpha=0.95, norm_diag=False, smallest_coef=0.1, largest_coef=0.9, random_state=None)\n",
    "    return K\n",
    "\n",
    "def sample_H(Sigma, k, seed):  # Won't update Theta automatically anymore\n",
    "    # Multivariate Normal\n",
    "    mu = np.zeros(k)\n",
    "    np.random.seed(seed)\n",
    "    H = np.random.multivariate_normal(mu, Sigma, k)\n",
    "    return H"
   ]
  },
  {
   "cell_type": "code",
   "execution_count": 55,
   "id": "f4bfd120",
   "metadata": {},
   "outputs": [],
   "source": [
    "# OUTPUT:\n",
    "class SIM:  # I'm using a class as a namespace - SIM = Simulation\n",
    "#     W = None # matrix of D×V where Wdn is counter of appearances of the word n in document d\n",
    "#     Z = None # matrix of DxVxM where Zdnm is the topic index from which the m-th appearance of the word n on doc d is drawn\n",
    "#     B = None # matrix of kxV where Bz is the parameter vector of the distribution for the z-th topic\n",
    "#     C = None # matrix of kxV where Cz is the count vec of sampled topics over each word for all docs\n",
    "#     E = None # matrix of Dxk where Ed is the count vec of sampled drawings for topic z over all words for each doc\n",
    "#     H = None # H_d is eta_d\n",
    "#     Theta = None  # This is just a transformation of H\n",
    "#     G = None  # Adjacency Matrix (Check also python package \"networkx\" for graph objects!)\n",
    "#     K = None  # Precision matrix of G\n",
    "#     Sigma = None # Inverse of K\n",
    "    \n",
    "    # Remember we will have indexes starting from 0 so all max are -=1\n",
    "    \n",
    "    def __init__(self, D, V, k, seed):\n",
    "        print(D,V,k)\n",
    "        # Create zero matrices for all possible matrices\n",
    "        self.W = np.zeros((D, V))\n",
    "        self.B = np.zeros((k, V))\n",
    "        self.C = np.zeros((k, V))\n",
    "        self.E = np.zeros((D, k))\n",
    "        self.H = np.zeros((D, k))\n",
    "        self.Theta = np.zeros((D, k))\n",
    "        self.G = np.zeros((k, k))\n",
    "        self.K = np.zeros((k, k))\n",
    "        self.Sigma = np.zeros((k, k))\n",
    "        self.seed = seed\n",
    "        # Z shouldn't be created before W is sampled (depends if generated or read)\n",
    "    \n",
    "    def get_M(self):\n",
    "        # Ref: https://numpy.org/doc/stable/reference/generated/numpy.matrix.max.html\n",
    "        return self.W.max()\n",
    "    \n",
    "    # Generations\n",
    "    def generate_W_from_M(self, M):\n",
    "        # We use M as the maximum repetitions of words\n",
    "        # Hence, for each word in V in each document, we throw a randint(0,M) for the generative process\n",
    "        if M != 0:\n",
    "            np.random.seed(self.seed)\n",
    "            for d in range(D):\n",
    "                for n in range(V):\n",
    "                    self.W[d,n] = np.random.randint(0,M)\n",
    "            print('Success: W generated from M')\n",
    "            return 0\n",
    "        else:\n",
    "            print('Error: Input 0 for the chosen method')\n",
    "            return 1\n",
    "        \n",
    "    def generate_W_from_Z(self):\n",
    "        if np.sum(self.B, axis=1).sum(axis=0) == 0:\n",
    "            print('Error: Beta matrix 0')\n",
    "            return 1\n",
    "        elif np.sum(self.Z, axis=2).sum(axis=1).sum(axis=0) == 0:\n",
    "            print('Error: Z matrix 0')\n",
    "            return 1\n",
    "        else:\n",
    "            # Multinomial drawing from Z, B\n",
    "            # Ref https://numpy.org/doc/stable/reference/random/generated/numpy.random.multinomial.html\n",
    "            # Params: samples (counts), probabilities, repetitions (different vectors)\n",
    "            # np.random.multinomial(1, self.B[Z[d,n,m]], size=1)\n",
    "            # This will give a canonical vector over V\n",
    "            for d in range(D):\n",
    "                for n in range(V):\n",
    "                    for m in range(len(self.Z[d,n])):\n",
    "                        self.W[d] += np.random.multinomial(1, self.B[self.Z[d,n,m]], size=1)\n",
    "            print('Success: W generated from Z')\n",
    "            return 0\n",
    "        \n",
    "    def generate_Z_from_W(self):\n",
    "        m = self.get_M()\n",
    "        self.Z = np.zeros((D, V, int(m)))\n",
    "        # Multinomial drawing from Theta, because it has to be normalized\n",
    "        # Ref https://numpy.org/doc/stable/reference/random/generated/numpy.random.multinomial.html\n",
    "        # np.random.multinomial(1, self.Theta[d], size=1)\n",
    "        # This will give a canonical vector over k\n",
    "        if np.sum(self.Theta, axis=1).sum(axis=0) == 0:\n",
    "            print('Error: Theta matrix 0')\n",
    "            return 1\n",
    "        for d in range(D):\n",
    "            for n in range(V):\n",
    "                for m in range(self.W[d,n]):\n",
    "                    mult = np.random.multinomial(1, self.Theta[d], size=1)\n",
    "                    self.Z[d,n,m] = np.where(mult == 1)\n",
    "        print('Success: Z generated from Theta')\n",
    "        return 0\n",
    "    \n",
    "    def generate_Z_from_M(self, M):\n",
    "        self.Z = np.zeros((D, V, M))\n",
    "        # Multinomial drawing from Theta, because it has to be normalized\n",
    "        # Ref https://numpy.org/doc/stable/reference/random/generated/numpy.random.multinomial.html\n",
    "        # np.random.multinomial(1, self.Theta[d], size=1)\n",
    "        # This will give a canonical vector over k\n",
    "        if np.sum(self.Theta, axis=1).sum(axis=0) == 0:\n",
    "            print('Error: Theta matrix 0')\n",
    "            return 1\n",
    "        for d in range(D):\n",
    "            for n in range(V):\n",
    "                for m in range(np.random.randint(0,M)):\n",
    "                    mult = np.random.multinomial(1, self.Theta[d], size=1)\n",
    "                    self.Z[d,n,m] = np.where(mult == 1)[-1]\n",
    "        print('Success: Z generated from Theta')\n",
    "        return 0\n",
    "    \n",
    "    # Transformations\n",
    "    def update_Theta(self):\n",
    "        self.Theta = update_Theta(self.Theta, self.H)\n",
    "    \n",
    "    def update_E(self):\n",
    "        self.E = update_E(self.E, self.Z)\n",
    "    \n",
    "    def update_C(self):\n",
    "        self.C = update_C(self.C, self.Z)\n",
    "        \n",
    "    def update_B(self):\n",
    "        self.B = update_B(self.B, self.C)\n",
    "    \n",
    "    def update_Sigma(self):\n",
    "        self.Sigma = update_Sigma(self.Sigma, self.K)\n",
    "    \n",
    "    # Initializing with real data\n",
    "    # def save_W()\n",
    "    \n",
    "    # Priors\n",
    "    def sample_B(self):\n",
    "        self.B = sample_B(self.seed)\n",
    "        \n",
    "    def sample_GK(self, gamma):  # Here we can update Sigma automatically\n",
    "        self.G = sample_G(k, gamma, self.seed)\n",
    "        self.K = sample_K(k, self.seed)\n",
    "        self.update_Sigma()\n",
    "    \n",
    "    def sample_H(self):  # Here we can update Theta automatically\n",
    "        self.H = sample_H(self.Sigma, k, self.seed)\n",
    "        self.update_Theta()\n"
   ]
  },
  {
   "cell_type": "code",
   "execution_count": null,
   "id": "af25d7e4",
   "metadata": {},
   "outputs": [],
   "source": []
  },
  {
   "cell_type": "code",
   "execution_count": null,
   "id": "61eb488b",
   "metadata": {},
   "outputs": [],
   "source": []
  },
  {
   "cell_type": "markdown",
   "id": "819e93b8",
   "metadata": {},
   "source": [
    "# 2 SAMPLER"
   ]
  },
  {
   "cell_type": "markdown",
   "id": "bf5a3427",
   "metadata": {},
   "source": [
    "# 2.1 MCMC Sampling"
   ]
  },
  {
   "cell_type": "markdown",
   "id": "da0fa7e2",
   "metadata": {},
   "source": [
    "### Task:\n",
    "\n",
    "You must implement a function that receives matrices $W$, $\\Theta_{i+1}$ and $B_i$ and generates the next $Z_{i+1}$ and $B_{i+1}$."
   ]
  },
  {
   "cell_type": "code",
   "execution_count": 40,
   "id": "3b27a5fd",
   "metadata": {},
   "outputs": [],
   "source": [
    "def binary_search(sequence, item):\n",
    "    begin_index = 0\n",
    "    end_index = len(sequence)-1\n",
    "    \n",
    "    if sequence[begin_index] <= item <= sequence[end_index]:\n",
    "        while begin_index < end_index - 1:  # Finish when the list has 2 items: Begin and end\n",
    "            midpoint = (end_index + begin_index)//2\n",
    "            midpoint_value = sequence[midpoint]\n",
    "            if midpoint_value < item:\n",
    "                begin_index = midpoint\n",
    "            else:\n",
    "                end_index = midpoint\n",
    "        if sequence[begin_index] == item:\n",
    "            return begin_index\n",
    "        elif item <= sequence[end_index]:\n",
    "            return end_index\n",
    "    else:\n",
    "        return -1"
   ]
  },
  {
   "cell_type": "code",
   "execution_count": 41,
   "id": "006c6eeb",
   "metadata": {},
   "outputs": [],
   "source": [
    "def CGS(Z, W, Theta, B, E, C):  # D, k are global variables\n",
    "    for d in range(D):\n",
    "        # computing N_d\n",
    "        N_d = np.sum(W[d])\n",
    "        for i in range(N_d):\n",
    "            v = V[i]\n",
    "            I_di = W[d][i]\n",
    "            for j in range(I_di):\n",
    "                z_hat = Z[d][i][j]\n",
    "                \n",
    "                E[d][z_hat] = max(0, E[d][z_hat]-1)\n",
    "                \n",
    "                C[z_hat][v] = max(0, C[z_hat][v]-1)\n",
    "                \n",
    "                Rho = [0]  # Needs to start from zero to have the interval to fall into topic 1\n",
    "                Rho_z = 0\n",
    "                \n",
    "                for z in range(k):\n",
    "                    # Compute the denominator sum\n",
    "                    C_vk = 0\n",
    "                    for b in range(N_d):\n",
    "                        if b != i:\n",
    "                            C_vk += C[z][b]\n",
    "                    # Compute the upper limits of the topic probabilities\n",
    "                    Rho_z += (E[d][z] + Theta[d])*(C[z][v] + B[z])/(sum(C_vk)+V*B[z])\n",
    "                    Rho.append(Rho_z)\n",
    "                    \n",
    "                u = np.random.uniform(0, Rho[-1])\n",
    "                z_hat = binary_search(Rho, u)\n",
    "                E[d][z_hat] += 1\n",
    "                C[z_hat][v] += 1\n",
    "                Z[d][i][j] = z_hat\n",
    "    # Note that we directly modify Z since the update per topic helps for the next iteration \n",
    "    return Z"
   ]
  },
  {
   "cell_type": "markdown",
   "id": "4e21de37",
   "metadata": {},
   "source": [
    "# 2.2 Metropolis-Hastings MC Sampling"
   ]
  },
  {
   "cell_type": "markdown",
   "id": "f3d8a315",
   "metadata": {},
   "source": [
    "### Task:\n",
    "\n",
    "You must implement a function that receives matrices $E_i$, $K_i$ and vector $\\mu$ and generates the next $H_{i+1}$."
   ]
  },
  {
   "cell_type": "markdown",
   "id": "eaeb8610",
   "metadata": {},
   "source": [
    "\n",
    ". $E$ matrix of $D \\times k$ where $E_d$ is the $k$-dim vector of counts of sampled drawings for the $z$-th topic over all words for each document\n",
    "\n",
    ". $K$ matrix of $k \\times k$ representing the precision matrix associated to the graph $G$\n",
    "\n",
    ". $\\mu = 0$\n",
    "\n",
    ". $H$ matrix of $D \\times k$ where $H_d = \\eta_d$ is the $k$-dim vector of the topic prevalences over document $d$"
   ]
  },
  {
   "cell_type": "code",
   "execution_count": 37,
   "id": "7837b69b",
   "metadata": {},
   "outputs": [],
   "source": [
    "import numpy as np\n",
    "import numpy.linalg"
   ]
  },
  {
   "cell_type": "code",
   "execution_count": 38,
   "id": "2d1fd98c",
   "metadata": {},
   "outputs": [],
   "source": [
    "def sampled_distribution_kernel(eta, K, E):\n",
    "    k = eta.shape[0]\n",
    "    eta_K_eta = -0.5 * eta.dot(K.dot(eta))\n",
    "    E_eta = E.dot(eta)\n",
    "    sum_eta_pow_k = np.sum(np.exp(eta)) ** k\n",
    "    return np.exp(eta_K_eta + E_eta) / sum_eta_pow_k"
   ]
  },
  {
   "cell_type": "code",
   "execution_count": 39,
   "id": "06649bd3",
   "metadata": {},
   "outputs": [],
   "source": [
    "def H_sampler(E, Sigma, H_current=None, burn_in=100, seed=None):\n",
    "    \n",
    "    np.random.seed(seed)\n",
    "    \n",
    "    K = np.linalg.inv(Sigma)\n",
    "    \n",
    "    D, k = E.shape  # Number of documents, Number of topics\n",
    "    \n",
    "    if H_current is None:\n",
    "        H_current = np.zeros((D, k))\n",
    "    \n",
    "    H_sampled = np.zeros((D, k))\n",
    "    \n",
    "    for d in range(D):  # Iterating over each document\n",
    "        eta_current = H_current[d]\n",
    "        E_d = E[d]\n",
    "        for iteration in range(burn_in + 1):\n",
    "            \n",
    "            # Sampling proposed eta from multivariate normal (q \"proposal density\")\n",
    "            eta_prop = np.random.multivariate_normal(eta_current, Sigma)\n",
    "            \n",
    "            # Compute acceptance probability\n",
    "            alpha = min(1, sampled_distribution_kernel(eta_prop, K, E_d) / sampled_distribution_kernel(eta_current, K, E_d))\n",
    "            \n",
    "            if alpha == 1 or np.random.uniform(0.0, 1.0) < alpha:\n",
    "                eta_current = eta_prop\n",
    "            \n",
    "        H_sampled[d] = eta_current\n",
    "    \n",
    "    return H_sampled"
   ]
  },
  {
   "cell_type": "code",
   "execution_count": null,
   "id": "89199bec",
   "metadata": {},
   "outputs": [],
   "source": []
  },
  {
   "cell_type": "code",
   "execution_count": null,
   "id": "badca957",
   "metadata": {},
   "outputs": [],
   "source": []
  },
  {
   "cell_type": "code",
   "execution_count": null,
   "id": "4b9f6859",
   "metadata": {},
   "outputs": [],
   "source": []
  },
  {
   "cell_type": "markdown",
   "id": "3b9804e4",
   "metadata": {},
   "source": [
    "# 2.3 BDMCMC Sampling"
   ]
  },
  {
   "cell_type": "markdown",
   "id": "074699fb",
   "metadata": {},
   "source": [
    "### Task:\n",
    "\n",
    "You must implement a function that receives matrices $W$, $Z_{i+1}$ and $H_{i+1}$ and generates the next $G_{i+1}$ and $K_{i+1}$."
   ]
  },
  {
   "cell_type": "code",
   "execution_count": 42,
   "id": "2fd6c9dd",
   "metadata": {},
   "outputs": [
    {
     "data": {
      "text/plain": [
       "'\\ndef BDMCMC_Sampling(W, Z, H):\\n    #update_G(W,Z,H,K,G)\\n    #update_K()\\n    return (G,K)\\n'"
      ]
     },
     "execution_count": 42,
     "metadata": {},
     "output_type": "execute_result"
    }
   ],
   "source": [
    "\"\"\"\n",
    "def BDMCMC_Sampling(W, Z, H):\n",
    "    #update_G(W,Z,H,K,G)\n",
    "    #update_K()\n",
    "    return (G,K)\n",
    "\"\"\""
   ]
  },
  {
   "cell_type": "code",
   "execution_count": 60,
   "id": "7870ddce",
   "metadata": {},
   "outputs": [],
   "source": [
    "def update_K(G, b, shape_matrix):\n",
    "    # save G to csv\n",
    "    # save shape_matrix to csv\n",
    "    # (OR pass them as parameters to RScript)\n",
    "    # call R script using python.subprocess\n",
    "    # read the results from csv\n",
    "    # (OR get the result back from R script)\n",
    "    # return resulting K\n",
    "    pass"
   ]
  },
  {
   "cell_type": "code",
   "execution_count": 43,
   "id": "fb471d89",
   "metadata": {},
   "outputs": [],
   "source": [
    "def update_G(W, Z, H, K, G, E):\n",
    "\n",
    "    N = G.shape[0]\n",
    "    delta_K = 0\n",
    "    beta_K = 0\n",
    "\n",
    "    death_rates = np.zeros((k,k))\n",
    "    birth_rates = np.zeros((k,k))\n",
    "\n",
    "    PrHK = lambda K,H:      K.size**(n/2) * np.exp(-0.5*np.trace(np.matmul(np.matmul(K, np.transpose(H)), H)))\n",
    "    PrK_G = lambda K,G,D,b: K.size**(b+D-2) * np.exp(-0.5*np.trace(np.matmul(S + np.matmul(np.transpose(H), H), K)))\n",
    "    PrG = lambda gamma, E:  (gamma/(1-gamma))**(E.size)\n",
    "\n",
    "    PrKG_H = lambda K,G,H,D,b,gamma,E: PrHK(K,H)*PrK_G(K,G,D,b)*PrG(gamma,E)\n",
    "\n",
    "    Pr_init = PrKG_H(K,G,H,D,k-1,gamma,E)\n",
    "\n",
    "    for i in range(N):\n",
    "        for j in range(i+1, N):\n",
    "            if G[i,j]:\n",
    "                G_loop = G.copy()\n",
    "                G_loop[i,j], G_loop[j,i] = 0\n",
    "                #technically, we should compute K_loop here...\n",
    "                Pr_loop = PrKG_H(K,G_loop,H,D,b,gamma,E)\n",
    "\n",
    "                death_rate = Pr_loop/Pr_init\n",
    "\n",
    "                if death_rate > 1:\n",
    "                    death_rate = 1\n",
    "                death_rates[i,j], death_rates[j,i] = death_rate, death_rate\n",
    "                delta_K += death_rate\n",
    "\n",
    "            else:\n",
    "                G_loop = G.copy()\n",
    "                G_loop[i,j], G_loop[j,i] = 1\n",
    "                #technically, we should compute K_loop here...\n",
    "                Pr_loop = PrKG_H(K,G_loop,H,D,b,gamma,E) \n",
    "\n",
    "                birth_rate = Pr_loop/Pr_init\n",
    "\n",
    "                if birth_rate > 1:\n",
    "                    birth_rate = 1\n",
    "                birth_rates[i,j], birth_rates[j,i] = birth_rate, birth_rate\n",
    "                beta_K += birth_rate\n",
    "    \n",
    "    W = 1/(beta_K + delta_K)\n",
    "\n",
    "    pr_death = W*death_rates\n",
    "    pr_birth = W*birth_rates\n",
    "\n",
    "    for i in range(N):\n",
    "        for j in range(i+1, N):\n",
    "            if pr_death[i,j] > 0.5:\n",
    "                G[i,j], G[j,i] = 0,0\n",
    "            elif pr_birth[i,j] > 0.5:\n",
    "                G[i,j], G[j,i] = 1,1\n",
    "\n",
    "    return G\n"
   ]
  },
  {
   "cell_type": "code",
   "execution_count": 44,
   "id": "b257621a",
   "metadata": {},
   "outputs": [
    {
     "ename": "TypeError",
     "evalue": "__init__() missing 1 required positional argument: 'seed'",
     "output_type": "error",
     "traceback": [
      "\u001b[0;31m---------------------------------------------------------------------------\u001b[0m",
      "\u001b[0;31mTypeError\u001b[0m                                 Traceback (most recent call last)",
      "\u001b[0;32m/tmp/ipykernel_5110/3565624184.py\u001b[0m in \u001b[0;36m<module>\u001b[0;34m\u001b[0m\n\u001b[0;32m----> 1\u001b[0;31m \u001b[0mtest\u001b[0m \u001b[0;34m=\u001b[0m \u001b[0mSIM\u001b[0m\u001b[0;34m(\u001b[0m\u001b[0mD\u001b[0m\u001b[0;34m,\u001b[0m \u001b[0mV\u001b[0m\u001b[0;34m,\u001b[0m \u001b[0mk\u001b[0m\u001b[0;34m)\u001b[0m\u001b[0;34m\u001b[0m\u001b[0;34m\u001b[0m\u001b[0m\n\u001b[0m\u001b[1;32m      2\u001b[0m \u001b[0mtest\u001b[0m\u001b[0;34m.\u001b[0m\u001b[0msample_GK\u001b[0m\u001b[0;34m(\u001b[0m\u001b[0mgamma\u001b[0m\u001b[0;34m)\u001b[0m  \u001b[0;31m# Will get G, K, Sigma\u001b[0m\u001b[0;34m\u001b[0m\u001b[0;34m\u001b[0m\u001b[0m\n\u001b[1;32m      3\u001b[0m \u001b[0mtest\u001b[0m\u001b[0;34m.\u001b[0m\u001b[0msample_H\u001b[0m\u001b[0;34m(\u001b[0m\u001b[0;34m)\u001b[0m  \u001b[0;31m# Will get H, Theta from Sigma\u001b[0m\u001b[0;34m\u001b[0m\u001b[0;34m\u001b[0m\u001b[0m\n\u001b[1;32m      4\u001b[0m \u001b[0mtest\u001b[0m\u001b[0;34m.\u001b[0m\u001b[0mgenerate_Z_from_M\u001b[0m\u001b[0;34m(\u001b[0m\u001b[0mM\u001b[0m\u001b[0;34m)\u001b[0m  \u001b[0;31m# Will get Z from Theta\u001b[0m\u001b[0;34m\u001b[0m\u001b[0;34m\u001b[0m\u001b[0m\n\u001b[1;32m      5\u001b[0m \u001b[0mtest\u001b[0m\u001b[0;34m.\u001b[0m\u001b[0msample_B\u001b[0m\u001b[0;34m(\u001b[0m\u001b[0;34m)\u001b[0m  \u001b[0;31m# Will get B\u001b[0m\u001b[0;34m\u001b[0m\u001b[0;34m\u001b[0m\u001b[0m\n",
      "\u001b[0;31mTypeError\u001b[0m: __init__() missing 1 required positional argument: 'seed'"
     ]
    }
   ],
   "source": [
    "test = SIM(D, V, k)\n",
    "test.sample_GK(gamma)  # Will get G, K, Sigma\n",
    "test.sample_H()  # Will get H, Theta from Sigma\n",
    "test.generate_Z_from_M(M)  # Will get Z from Theta\n",
    "test.sample_B()  # Will get B\n",
    "test.generate_W_from_M(M)  # Will get W\n",
    "test.update_E()\n",
    "# generate W from Z needs debugging\n",
    "\n",
    "G = update_G(test.W, test.Z, test.H, test.K, test.G, test.E)\n",
    "print(G)"
   ]
  },
  {
   "cell_type": "code",
   "execution_count": 45,
   "id": "ac98bb98",
   "metadata": {},
   "outputs": [
    {
     "data": {
      "text/plain": [
       "array([[0, 0, 0, 0, 0],\n",
       "       [0, 0, 0, 0, 0],\n",
       "       [0, 0, 0, 0, 0],\n",
       "       [0, 0, 0, 0, 0],\n",
       "       [0, 0, 0, 0, 0]])"
      ]
     },
     "execution_count": 45,
     "metadata": {},
     "output_type": "execute_result"
    }
   ],
   "source": [
    "test.G"
   ]
  },
  {
   "cell_type": "markdown",
   "id": "a8df2f91",
   "metadata": {},
   "source": [
    "# DATA GENERATION"
   ]
  },
  {
   "cell_type": "code",
   "execution_count": 47,
   "id": "818976a1",
   "metadata": {},
   "outputs": [
    {
     "name": "stdout",
     "output_type": "stream",
     "text": [
      "5 10 5\n",
      "Success: Sigma transformed from K\n",
      "Success: Theta transformed from H\n",
      "Success: Z generated from Theta\n",
      "Success: W generated from M\n"
     ]
    },
    {
     "data": {
      "text/plain": [
       "0"
      ]
     },
     "execution_count": 47,
     "metadata": {},
     "output_type": "execute_result"
    }
   ],
   "source": [
    "test = SIM(D, V, k, seed=1984)\n",
    "test.sample_GK(gamma)  # Will get G, K, Sigma\n",
    "test.sample_H()  # Will get H, Theta from Sigma\n",
    "test.generate_Z_from_M(M)  # Will get Z from Theta\n",
    "test.sample_B()  # Will get B\n",
    "test.generate_W_from_M(M)  # Will get W\n",
    "# test.update_E()"
   ]
  },
  {
   "cell_type": "code",
   "execution_count": 48,
   "id": "3b6e00ca",
   "metadata": {},
   "outputs": [
    {
     "data": {
      "text/plain": [
       "array([[3., 9., 8., 6., 8., 5., 2., 9., 0., 1.],\n",
       "       [5., 7., 6., 6., 4., 1., 0., 2., 8., 2.],\n",
       "       [1., 6., 4., 2., 5., 4., 0., 8., 8., 1.],\n",
       "       [8., 7., 5., 6., 2., 9., 1., 6., 8., 1.],\n",
       "       [8., 7., 0., 8., 4., 5., 5., 2., 6., 6.]])"
      ]
     },
     "execution_count": 48,
     "metadata": {},
     "output_type": "execute_result"
    }
   ],
   "source": [
    "# Input Data:\n",
    "test.W"
   ]
  },
  {
   "cell_type": "markdown",
   "id": "30440d19",
   "metadata": {},
   "source": [
    "# SAMPLER"
   ]
  },
  {
   "cell_type": "code",
   "execution_count": 61,
   "id": "29bf4ada",
   "metadata": {},
   "outputs": [],
   "source": [
    "# # Initial guesses\n",
    "simulator = SIM(D, V, k, 125)\n",
    "simulator.sample_GK(gamma)\n",
    "simulator.sample_B()\n",
    "simulator.sample_H()\n",
    "simulator.W = test.W.astype(int)  # Passing data to the simulator\n",
    "simulator.generate_Z_from_W()  # Generating random topic distributions based on real data\n",
    "simulator.update_E()  # Deterministic transformation of Z (counters)\n",
    "simulator.update_C()  # Deterministic transformation of Z (counters)"
   ]
  },
  {
   "cell_type": "code",
   "execution_count": 63,
   "id": "e37280b4",
   "metadata": {},
   "outputs": [
    {
     "ename": "TypeError",
     "evalue": "'numpy.float64' object cannot be interpreted as an integer",
     "output_type": "error",
     "traceback": [
      "\u001b[0;31m---------------------------------------------------------------------------\u001b[0m",
      "\u001b[0;31mTypeError\u001b[0m                                 Traceback (most recent call last)",
      "\u001b[0;32m/tmp/ipykernel_5110/967348172.py\u001b[0m in \u001b[0;36m<module>\u001b[0;34m\u001b[0m\n\u001b[1;32m     15\u001b[0m \u001b[0;34m\u001b[0m\u001b[0m\n\u001b[1;32m     16\u001b[0m \u001b[0;32mfor\u001b[0m \u001b[0miteration\u001b[0m \u001b[0;32min\u001b[0m \u001b[0mrange\u001b[0m\u001b[0;34m(\u001b[0m\u001b[0mmax_iteration\u001b[0m\u001b[0;34m)\u001b[0m\u001b[0;34m:\u001b[0m\u001b[0;34m\u001b[0m\u001b[0;34m\u001b[0m\u001b[0m\n\u001b[0;32m---> 17\u001b[0;31m     \u001b[0mZ\u001b[0m \u001b[0;34m=\u001b[0m \u001b[0mCGS\u001b[0m\u001b[0;34m(\u001b[0m\u001b[0mZ\u001b[0m\u001b[0;34m,\u001b[0m \u001b[0mW\u001b[0m\u001b[0;34m,\u001b[0m \u001b[0mTheta\u001b[0m\u001b[0;34m,\u001b[0m \u001b[0mB\u001b[0m\u001b[0;34m,\u001b[0m \u001b[0mE\u001b[0m\u001b[0;34m,\u001b[0m \u001b[0mC\u001b[0m\u001b[0;34m)\u001b[0m\u001b[0;34m\u001b[0m\u001b[0;34m\u001b[0m\u001b[0m\n\u001b[0m\u001b[1;32m     18\u001b[0m     \u001b[0;31m# get E from Z ...\u001b[0m\u001b[0;34m\u001b[0m\u001b[0;34m\u001b[0m\u001b[0;34m\u001b[0m\u001b[0m\n\u001b[1;32m     19\u001b[0m     \u001b[0;31m# get C from Z ...\u001b[0m\u001b[0;34m\u001b[0m\u001b[0;34m\u001b[0m\u001b[0;34m\u001b[0m\u001b[0m\n",
      "\u001b[0;32m/tmp/ipykernel_5110/532489952.py\u001b[0m in \u001b[0;36mCGS\u001b[0;34m(Z, W, Theta, B, E, C)\u001b[0m\n\u001b[1;32m      3\u001b[0m         \u001b[0;31m# computing N_d\u001b[0m\u001b[0;34m\u001b[0m\u001b[0;34m\u001b[0m\u001b[0;34m\u001b[0m\u001b[0m\n\u001b[1;32m      4\u001b[0m         \u001b[0mN_d\u001b[0m \u001b[0;34m=\u001b[0m \u001b[0mnp\u001b[0m\u001b[0;34m.\u001b[0m\u001b[0msum\u001b[0m\u001b[0;34m(\u001b[0m\u001b[0mW\u001b[0m\u001b[0;34m[\u001b[0m\u001b[0md\u001b[0m\u001b[0;34m]\u001b[0m\u001b[0;34m)\u001b[0m\u001b[0;34m\u001b[0m\u001b[0;34m\u001b[0m\u001b[0m\n\u001b[0;32m----> 5\u001b[0;31m         \u001b[0;32mfor\u001b[0m \u001b[0mi\u001b[0m \u001b[0;32min\u001b[0m \u001b[0mrange\u001b[0m\u001b[0;34m(\u001b[0m\u001b[0mN_d\u001b[0m\u001b[0;34m)\u001b[0m\u001b[0;34m:\u001b[0m\u001b[0;34m\u001b[0m\u001b[0;34m\u001b[0m\u001b[0m\n\u001b[0m\u001b[1;32m      6\u001b[0m             \u001b[0mv\u001b[0m \u001b[0;34m=\u001b[0m \u001b[0mV\u001b[0m\u001b[0;34m[\u001b[0m\u001b[0mi\u001b[0m\u001b[0;34m]\u001b[0m\u001b[0;34m\u001b[0m\u001b[0;34m\u001b[0m\u001b[0m\n\u001b[1;32m      7\u001b[0m             \u001b[0mI_di\u001b[0m \u001b[0;34m=\u001b[0m \u001b[0mW\u001b[0m\u001b[0;34m[\u001b[0m\u001b[0md\u001b[0m\u001b[0;34m]\u001b[0m\u001b[0;34m[\u001b[0m\u001b[0mi\u001b[0m\u001b[0;34m]\u001b[0m\u001b[0;34m\u001b[0m\u001b[0;34m\u001b[0m\u001b[0m\n",
      "\u001b[0;31mTypeError\u001b[0m: 'numpy.float64' object cannot be interpreted as an integer"
     ]
    }
   ],
   "source": [
    "max_iteration = 100\n",
    "\n",
    "# Data\n",
    "W = test.W\n",
    "\n",
    "# Initialization\n",
    "Sigma = simulator.Sigma\n",
    "K = np.linalg.inv(Sigma)\n",
    "B = simulator.B  # MATTEO, PLEASE HELP US!!!\n",
    "Theta = simulator.Theta\n",
    "Z = simulator.Z\n",
    "E = simulator.E\n",
    "C = simulator.C\n",
    "G = simulator.G\n",
    "\n",
    "for iteration in range(max_iteration):\n",
    "    Z = CGS(Z, W, Theta, B, E, C)\n",
    "    # get E from Z ...\n",
    "    # get C from Z ...\n",
    "    H = H_sampler(E, Sigma)\n",
    "    # get Theta from H\n",
    "    G = update_G(W,Z,H,K,G)\n",
    "    K = update_K(G, b, shape_matrix)\n",
    "    Sigma = np.inv(K)\n",
    "    # Hope for convergence!"
   ]
  },
  {
   "cell_type": "code",
   "execution_count": null,
   "id": "ff49a41b",
   "metadata": {},
   "outputs": [],
   "source": []
  }
 ],
 "metadata": {
  "interpreter": {
   "hash": "a803b5bf187bf95155bcb05f6102b06519856e9ee60d4a9ebc29561a74488513"
  },
  "kernelspec": {
   "display_name": "Python 3 (ipykernel)",
   "language": "python",
   "name": "python3"
  },
  "language_info": {
   "codemirror_mode": {
    "name": "ipython",
    "version": 3
   },
   "file_extension": ".py",
   "mimetype": "text/x-python",
   "name": "python",
   "nbconvert_exporter": "python",
   "pygments_lexer": "ipython3",
   "version": "3.9.1"
  }
 },
 "nbformat": 4,
 "nbformat_minor": 5
}
