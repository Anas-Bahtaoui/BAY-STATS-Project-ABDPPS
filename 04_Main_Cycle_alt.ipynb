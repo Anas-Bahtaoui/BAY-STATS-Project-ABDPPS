{
 "cells": [
  {
   "cell_type": "markdown",
   "id": "5065f1fb",
   "metadata": {},
   "source": [
    "Idea: When B stabilizes, the topics will be stable and hence G will be comparable.\n",
    "\n",
    "We perform many iterations and verify B converges.\n",
    "\n",
    "After B converges, we take the graphs from those iterations and choose the most frequent one."
   ]
  },
  {
   "cell_type": "code",
   "execution_count": 2,
   "id": "3abf6dad",
   "metadata": {},
   "outputs": [],
   "source": [
    "# GLOBAL VARIABLES. BE SURE NOT TO OVERWRITE THEM\n",
    "D = 100 # Amount of documents\n",
    "V = 18 # Size of the vocabulary\n",
    "\n",
    "# (Approximate) Maximum allowed amount of same word repetition in a document (it may be lower in practise due to the data generation strategy)\n",
    "# To get the actual maximum amount, call Simulator.get_M\n",
    "M = 5 \n",
    "\n",
    "k = 6 # Amount of topics\n",
    "gamma = 0.2\n",
    "\n",
    "# FA: Since we're testing so much, lets agree on using just 1 small set of global variables for now"
   ]
  },
  {
   "cell_type": "code",
   "execution_count": 3,
   "id": "c72a2899",
   "metadata": {},
   "outputs": [],
   "source": [
    "from matplotlib import pyplot as plt\n",
    "import numpy as np\n",
    "import pandas as pd"
   ]
  },
  {
   "cell_type": "markdown",
   "id": "8438ed74",
   "metadata": {},
   "source": [
    "From now on let's use the following simulated data for further testing"
   ]
  },
  {
   "cell_type": "code",
   "execution_count": 12,
   "id": "e471e566",
   "metadata": {},
   "outputs": [],
   "source": [
    "from simulator import Simulator\n",
    "from samplers import MC_sample_Z, MC_sample_B, MC_sample_H, MC_sample_GK\n",
    "from transformation_functions import update_Theta, update_Sigma, update_E, update_C\n",
    "from generator_functions import sample_Z_from_W\n",
    "from binder_loss import binder_loss"
   ]
  },
  {
   "cell_type": "markdown",
   "id": "dfec37dc",
   "metadata": {},
   "source": [
    "# 4. MAIN CYCLE"
   ]
  },
  {
   "cell_type": "markdown",
   "id": "9ebedb9d",
   "metadata": {},
   "source": [
    "### Generating Target Data\n",
    "\n",
    "These data will be used as input (matrix Z and W) and target (matrix G) for our simulation. "
   ]
  },
  {
   "cell_type": "code",
   "execution_count": 5,
   "id": "2ece0755",
   "metadata": {},
   "outputs": [
    {
     "name": "stdout",
     "output_type": "stream",
     "text": [
      "Success: Sigma transformed from K\n",
      "Success: G transformed from K\n",
      "Success: W and Z generated\n",
      "Success: E transformed from Z\n",
      "Success: C transformed from Z\n"
     ]
    }
   ],
   "source": [
    "simulated_data = Simulator(D, V, M, k, gamma, seed=1888)\n",
    "simulated_data.generate_all_data()"
   ]
  },
  {
   "cell_type": "code",
   "execution_count": 6,
   "id": "8fb0bf66",
   "metadata": {},
   "outputs": [
    {
     "data": {
      "text/plain": [
       "array([[2., 1., 3., ..., 5., 2., 0.],\n",
       "       [3., 3., 2., ..., 2., 4., 2.],\n",
       "       [1., 1., 1., ..., 2., 2., 0.],\n",
       "       ...,\n",
       "       [0., 2., 0., ..., 1., 0., 1.],\n",
       "       [2., 2., 0., ..., 2., 1., 3.],\n",
       "       [2., 1., 0., ..., 1., 2., 3.]])"
      ]
     },
     "execution_count": 6,
     "metadata": {},
     "output_type": "execute_result"
    }
   ],
   "source": [
    "# Input Data:\n",
    "simulated_data.W"
   ]
  },
  {
   "cell_type": "code",
   "execution_count": 7,
   "id": "243cc130",
   "metadata": {},
   "outputs": [
    {
     "data": {
      "text/plain": [
       "<matplotlib.image.AxesImage at 0x7f560a13dc30>"
      ]
     },
     "execution_count": 7,
     "metadata": {},
     "output_type": "execute_result"
    },
    {
     "data": {
      "image/png": "[encoded data removed]",
      "text/plain": [
       "<Figure size 288x288 with 1 Axes>"
      ]
     },
     "metadata": {
      "needs_background": "light"
     },
     "output_type": "display_data"
    }
   ],
   "source": [
    "# Target graph\n",
    "plt.matshow(simulated_data.G, cmap='Blues')"
   ]
  },
  {
   "cell_type": "markdown",
   "id": "3ba8360b",
   "metadata": {},
   "source": [
    "### Generating Initial Data\n",
    "\n",
    "These are used as our initial guess for Sigma, K, B, Theta and G"
   ]
  },
  {
   "cell_type": "code",
   "execution_count": 8,
   "id": "0d692b94",
   "metadata": {},
   "outputs": [
    {
     "name": "stdout",
     "output_type": "stream",
     "text": [
      "Success: Sigma transformed from K\n",
      "Success: G transformed from K\n"
     ]
    }
   ],
   "source": [
    "# # Initial guesses\n",
    "initial = Simulator(D, V, M, k, gamma, 2020)\n",
    "initial.sample_GK()\n",
    "initial.sample_B()\n",
    "initial.sample_H()"
   ]
  },
  {
   "cell_type": "code",
   "execution_count": 9,
   "id": "4e349261",
   "metadata": {},
   "outputs": [
    {
     "data": {
      "text/plain": [
       "<matplotlib.image.AxesImage at 0x7f560802b220>"
      ]
     },
     "execution_count": 9,
     "metadata": {},
     "output_type": "execute_result"
    },
    {
     "data": {
      "image/png": "[encoded data removed]",
      "text/plain": [
       "<Figure size 288x288 with 1 Axes>"
      ]
     },
     "metadata": {
      "needs_background": "light"
     },
     "output_type": "display_data"
    }
   ],
   "source": [
    "# Initial graph\n",
    "plt.matshow(initial.G, cmap='Blues')"
   ]
  },
  {
   "cell_type": "markdown",
   "id": "8bbd26a2",
   "metadata": {},
   "source": [
    "## Global Sampler\n",
    "\n",
    "All objects are updated within the cycle."
   ]
  },
  {
   "cell_type": "code",
   "execution_count": null,
   "id": "8956a28a",
   "metadata": {},
   "outputs": [],
   "source": [
    "%%time\n",
    "max_iterations = 5000\n",
    "np.random.seed(25041945)\n",
    "\n",
    "# Initialization\n",
    "Sigma = initial.Sigma.copy()\n",
    "K = np.linalg.inv(Sigma)\n",
    "B = initial.B.copy()\n",
    "Theta = initial.Theta.copy()\n",
    "G = initial.G.copy()\n",
    "\n",
    "alpha = np.ones(V)  # Uninformative prior\n",
    "b = k - 1\n",
    "\n",
    "Z = sample_Z_from_W(simulated_data.W.astype(int), k, 2020)  # Random sample of Z based on actual data\n",
    "\n",
    "E = update_E(np.zeros((D, k)), Z)  # Transformation of Z\n",
    "C = update_C(np.zeros((k, V)), Z)  # Transformation of Z\n",
    "\n",
    "H = None\n",
    "step = 0.5\n",
    "\n",
    "# Metrics\n",
    "\n",
    "Zerrors = []\n",
    "\n",
    "Berrors = []\n",
    "B_converge = [] \n",
    "\n",
    "waiting_times = []\n",
    "sampled_Gs = []\n",
    "graph_changes = []\n",
    "edges_log = []\n",
    "errors_log = []\n",
    "\n",
    "\n",
    "for iteration in range(max_iterations):\n",
    "    \n",
    "    # Step 1\n",
    "    Z, E, C = MC_sample_Z(Z, simulated_data.W, Theta, B, E, C, debug=True)\n",
    "    Zerrors.append(binder_loss(Z, simulated_data.Z))\n",
    "    \n",
    "    # Step 2\n",
    "    last_B = B.copy()\n",
    "    B = MC_sample_B(alpha, C)\n",
    "    B_converge.append(np.linalg.norm(B - last_B))\n",
    "    \n",
    "    err_by_it = []\n",
    "    for topic in range(k):\n",
    "        err_by_it.append(np.linalg.norm(B[topic] - last_B[topic]))  # Computing error wrt the target distribution  # BUG https://trello.com/c/uEYV7fSC/32-mcsampleb-shape-mismatch\n",
    "    Berrors.append(err_by_it)\n",
    "    \n",
    "    # Step 3\n",
    "    H, step = MC_sample_H(E, Sigma, K, step_size=step, H_current=H, burn_in=15)\n",
    "    Theta = update_Theta(Theta, H)  # get Theta from H\n",
    "    \n",
    "    # Step 4    \n",
    "    G_old = G.copy()\n",
    "    wt_sample, G_new, K = MC_sample_GK(G, H, b, debug=False)\n",
    "    \n",
    "    graph_changes.append(~np.all(G_new == G_old))\n",
    "    \n",
    "    G = G_new\n",
    "    Sigma = np.linalg.inv(K)\n",
    "    \n",
    "    waiting_times.append(wt_sample)\n",
    "    sampled_Gs.append(G.copy())\n",
    "    \n",
    "    wrong_edges = np.sum(G != simulated_data.G)\n",
    "    error = np.linalg.norm(Sigma - simulated_data.Sigma)\n",
    "    edges_log.append(wrong_edges)\n",
    "    errors_log.append(error)\n",
    "    \n",
    "    if iteration%500==0:\n",
    "        print('Now at iteration '+str(iteration)+'/'+str(max_iterations))\n",
    "    \n",
    "# NOTE: Should perform 500 iterations every 7 minutes\n",
    "# If it takes longer, RESTART, it could have gotten stuck in the R part"
   ]
  },
  {
   "cell_type": "code",
   "execution_count": null,
   "id": "43b4e9db",
   "metadata": {},
   "outputs": [],
   "source": [
    "errors = pd.Series(Zerrors)\n",
    "print(\"Z binder loss metrics\")\n",
    "print(errors.describe())\n",
    "errors.hist(bins=30)\n",
    "plt.suptitle('Z binder loss histogram', x=0.5, y=1, ha='center')\n",
    "plt.show()\n",
    "\n",
    "errors.plot(title=\"Z convergence series\")  # See if we still have a caterpillar\n",
    "plt.show()\n",
    "\n",
    "errors[0:200].plot(title=\"Z convergence series: First 200 iterations\")\n",
    "plt.show()\n",
    "\n",
    "errors[cut:].plot(title=\"Z convergence series: Last iterations\")\n",
    "plt.show()"
   ]
  },
  {
   "cell_type": "code",
   "execution_count": 16,
   "id": "4b4c57d7",
   "metadata": {},
   "outputs": [
    {
     "name": "stdout",
     "output_type": "stream",
     "text": [
      "B convergence metrics\n",
      "count    4000.000000\n",
      "mean        0.260634\n",
      "std         0.048675\n",
      "min         0.126901\n",
      "25%         0.228721\n",
      "50%         0.259398\n",
      "75%         0.290657\n",
      "max         0.518723\n",
      "dtype: float64\n"
     ]
    },
    {
     "data": {
      "image/png": "[encoded data removed]",
      "text/plain": [
       "<Figure size 432x288 with 1 Axes>"
      ]
     },
     "metadata": {
      "needs_background": "light"
     },
     "output_type": "display_data"
    },
    {
     "data": {
      "image/png": "[encoded data removed]",
      "text/plain": [
       "<Figure size 432x288 with 1 Axes>"
      ]
     },
     "metadata": {
      "needs_background": "light"
     },
     "output_type": "display_data"
    }
   ],
   "source": [
    "B_conv = pd.Series(B_converge)\n",
    "\n",
    "print(\"B convergence metrics\")\n",
    "print(B_conv.describe())\n",
    "\n",
    "B_conv.hist(bins=30)  # Should look like an exponential decay?\n",
    "plt.suptitle('B marginal changes histogram', x=0.5, y=1, ha='center')\n",
    "plt.show()\n",
    "\n",
    "B_conv.plot(title=\"B convergence series\")  # Find where it stabilizes\n",
    "# TODO: Add the finder for a certain threshold and plot the vertical line of the iteration and save variable\n",
    "cut = 3500\n",
    "plt.axvline(x=cut, color='red', linestyle='--')\n",
    "plt.show()\n",
    "\n",
    "B_conv[0:200].plot(title=\"B convergence series: First 200 iterations\")\n",
    "plt.show()\n",
    "\n",
    "B_conv[cut:].plot(title=\"B convergence series: Last iterations\")\n",
    "plt.show()"
   ]
  },
  {
   "cell_type": "code",
   "execution_count": null,
   "id": "876c5468",
   "metadata": {},
   "outputs": [],
   "source": [
    "Berrors = pd.DataFrame(Berrors)\n",
    "print(\"B L2-error metrics\")\n",
    "print(errors.describe())\n",
    "\n",
    "Berrors.hist(bins=30, layout=(3,2), figsize=(10, 6))\n",
    "plt.show()\n",
    "\n",
    "Berrors.plot(subplots=True, layout=(3,2), figsize=(10, 6))\n",
    "plt.title('B L2-error series')\n",
    "plt.axvline(x=cut, color='red', linestyle='--')\n",
    "plt.show()\n",
    "\n",
    "Berrors[0:200].plot(subplots=True, layout=(3,2), figsize=(10, 6))\n",
    "plt.title('B L2-error series: First 200 iterations')\n",
    "plt.show()\n",
    "\n",
    "Berrors[cut:].plot(subplots=True, layout=(3,2), figsize=(10, 6))\n",
    "plt.title('B L2-error series: Last iterations')\n",
    "plt.show()"
   ]
  },
  {
   "cell_type": "code",
   "execution_count": 25,
   "id": "178854a9",
   "metadata": {},
   "outputs": [
    {
     "data": {
      "image/png": "[encoded data removed]",
      "text/plain": [
       "<Figure size 432x288 with 1 Axes>"
      ]
     },
     "metadata": {
      "needs_background": "light"
     },
     "output_type": "display_data"
    }
   ],
   "source": [
    "graphs = []\n",
    "counts = []\n",
    "not_found = True\n",
    "for graph in sampled_Gs[cut:]:\n",
    "    for i in range(len(graphs)):\n",
    "        not_found = True\n",
    "        if np.all(graph == graphs[i]):\n",
    "            counts[i] += waiting_times[i]\n",
    "            not_found = False\n",
    "    if not_found:\n",
    "        graphs.append(graph)\n",
    "        counts.append(waiting_times[i])\n",
    "\n",
    "plt.bar(range(len(counts)),counts)\n",
    "plt.suptitle('Sampled graphs histogram', x=0.5, y=1, ha='center')\n",
    "plt.show()\n",
    "\n",
    "modes = counts.sort()\n",
    "\n",
    "plt.matshow(graphs[counts.index(modes[0])], cmap='Blues')\n",
    "plt.suptitle(\"Most frequent graph in stable region\", x=0.5, y=1, ha='center')\n",
    "plt.show()\n",
    "\n",
    "plt.matshow(graphs[counts.index(modes[1])], cmap='Blues')\n",
    "plt.suptitle(\"Second most frequent graph in stable region\", x=0.5, y=1, ha='center')\n",
    "plt.show()\n",
    "\n",
    "plt.matshow(graphs[counts.index(modes[2])], cmap='Blues')\n",
    "plt.suptitle(\"Third most frequent graph in stable region\", x=0.5, y=1, ha='center')\n",
    "plt.show()"
   ]
  },
  {
   "cell_type": "code",
   "execution_count": 18,
   "id": "d815d088",
   "metadata": {},
   "outputs": [
    {
     "data": {
      "image/png": "[encoded data removed]",
      "text/plain": [
       "<Figure size 432x288 with 1 Axes>"
      ]
     },
     "metadata": {
      "needs_background": "light"
     },
     "output_type": "display_data"
    },
    {
     "data": {
      "image/png": "[encoded data removed]",
      "text/plain": [
       "<Figure size 432x288 with 1 Axes>"
      ]
     },
     "metadata": {
      "needs_background": "light"
     },
     "output_type": "display_data"
    }
   ],
   "source": [
    "wait_times_full = pd.Series(waiting_times)\n",
    "wait_times_full.plot(title=\"Waiting times full series\")\n",
    "plt.show()\n",
    "\n",
    "wait_times_cut = pd.Series(waiting_times[cut:])\n",
    "wait_times_cut.plot(title=\"Waiting times series since iteration \"+str(cut))\n",
    "plt.show()"
   ]
  },
  {
   "cell_type": "markdown",
   "id": "4279dde3",
   "metadata": {},
   "source": [
    "#### Data dumping"
   ]
  },
  {
   "cell_type": "code",
   "execution_count": null,
   "id": "e3ddc242",
   "metadata": {},
   "outputs": [],
   "source": [
    "from datetime import datetime as dt\n",
    "import pickle"
   ]
  },
  {
   "cell_type": "code",
   "execution_count": null,
   "id": "3bc38422",
   "metadata": {},
   "outputs": [],
   "source": [
    "timestamp = dt.now().strftime(\"%Y-%m-%d_%H%M\")  # by minute\n",
    "\n",
    "filename = 'Zerrors.pkl'\n",
    "with open(timestamp + '_' + filename, 'wb+') as f:  # opens a (new) file in write byte mode \n",
    "    pickle.dump(Zerrors, f)\n",
    "\n",
    "filename = 'Berrors.pkl'\n",
    "with open(timestamp + '_' + filename, 'wb+') as f:  # opens a (new) file in write byte mode \n",
    "    pickle.dump(Berrors, f)\n",
    "\n",
    "filename = 'B_converge.pkl'\n",
    "with open(timestamp + '_' + filename, 'wb+') as f:  # opens a (new) file in write byte mode \n",
    "    pickle.dump(B_converge, f)\n",
    "    \n",
    "filename = 'waiting_times.pkl'\n",
    "with open(timestamp + '_' + filename, 'wb+') as f:  # opens a (new) file in write byte mode \n",
    "    pickle.dump(waiting_times, f)\n",
    "    \n",
    "filename = 'sampled_Gs.pkl'\n",
    "with open(timestamp + '_' + filename, 'wb+') as f:  # opens a (new) file in write byte mode \n",
    "    pickle.dump(sampled_Gs, f)\n",
    "    \n",
    "filename = 'graph_changes.pkl'\n",
    "with open(timestamp + '_' + filename, 'wb+') as f:  # opens a (new) file in write byte mode \n",
    "    pickle.dump(graph_changes, f)\n",
    "    \n",
    "filename = 'edges_log.pkl'\n",
    "with open(timestamp + '_' + filename, 'wb+') as f:  # opens a (new) file in write byte mode \n",
    "    pickle.dump(edges_log, f)\n",
    "    \n",
    "filename = 'errors_log.pkl'\n",
    "with open(timestamp + '_' + filename, 'wb+') as f:  # opens a (new) file in write byte mode \n",
    "    pickle.dump(errors_log, f)"
   ]
  },
  {
   "cell_type": "code",
   "execution_count": null,
   "id": "f7b91b38",
   "metadata": {},
   "outputs": [],
   "source": [
    "with open(timestamp + '_' + filename, 'rb') as f:  # opens a file in read byte mode \n",
    "    my_saved_results = pickle.load(f)"
   ]
  },
  {
   "cell_type": "markdown",
   "id": "8e69cfa0",
   "metadata": {},
   "source": [
    "### Generating Uninformative Initial Data\n",
    "\n",
    "These are used as our initial guess for Sigma, K, B, Theta and G"
   ]
  },
  {
   "cell_type": "code",
   "execution_count": null,
   "id": "e26a4c7e",
   "metadata": {},
   "outputs": [],
   "source": [
    "# Initial guesses\n",
    "initial_uninf = Simulator(D, V, M, k, gamma, 2020)\n",
    "initial_uninf.generate_non_informative()\n",
    "\n",
    "# Initial graph\n",
    "plt.matshow(initial_uninf.G, cmap='Blues')"
   ]
  },
  {
   "cell_type": "markdown",
   "id": "3684ae96",
   "metadata": {},
   "source": [
    "## Global Sampler\n",
    "\n",
    "All objects are updated within the cycle."
   ]
  },
  {
   "cell_type": "code",
   "execution_count": null,
   "id": "6a14b9cd",
   "metadata": {},
   "outputs": [],
   "source": [
    "%%time\n",
    "max_iterations = 5000\n",
    "np.random.seed(25041945)\n",
    "\n",
    "# Initialization\n",
    "Sigma1 = initial.Sigma.copy()\n",
    "K = np.linalg.inv(Sigma)\n",
    "B = initial.B.copy()\n",
    "Theta = initial.Theta.copy()\n",
    "G = initial.G.copy()\n",
    "\n",
    "alpha = np.ones(V)  # Uninformative prior\n",
    "b = k - 1\n",
    "\n",
    "Z = sample_Z_from_W(simulated_data.W.astype(int), k, 2020)  # Random sample of Z based on actual data\n",
    "\n",
    "E = update_E(np.zeros((D, k)), Z)  # Transformation of Z\n",
    "C = update_C(np.zeros((k, V)), Z)  # Transformation of Z\n",
    "\n",
    "H = None\n",
    "step = 0.5\n",
    "\n",
    "# Metrics\n",
    "\n",
    "Zerrors1 = []\n",
    "\n",
    "Berrors1 = []\n",
    "B_converge1 = [] \n",
    "\n",
    "waiting_times1 = []\n",
    "sampled_Gs1 = []\n",
    "graph_changes1 = []\n",
    "edges_log1 = []\n",
    "errors_log1 = []\n",
    "\n",
    "\n",
    "for iteration in range(max_iterations):\n",
    "    \n",
    "    # Step 1\n",
    "    Z, E, C = MC_sample_Z(Z, simulated_data.W, Theta, B, E, C, debug=True)\n",
    "    Zerrors1.append(binder_loss(Z, simulated_data.Z))\n",
    "    \n",
    "    # Step 2\n",
    "    last_B = B.copy()\n",
    "    B = MC_sample_B(alpha, C)\n",
    "    B_converge1.append(np.linalg.norm(B - last_B))\n",
    "    \n",
    "    err_by_it = []\n",
    "    for topic in range(k):\n",
    "        err_by_it.append(np.linalg.norm(B[topic] - last_B[topic]))  # Computing error wrt the target distribution  # BUG https://trello.com/c/uEYV7fSC/32-mcsampleb-shape-mismatch\n",
    "    Berrors1.append(err_by_it)\n",
    "    \n",
    "    # Step 3\n",
    "    H, step = MC_sample_H(E, Sigma, K, step_size=step, H_current=H, burn_in=15)\n",
    "    Theta = update_Theta(Theta, H)  # get Theta from H\n",
    "    \n",
    "    # Step 4    \n",
    "    G_old = G.copy()\n",
    "    wt_sample, G_new, K = MC_sample_GK(G, H, b, debug=False)\n",
    "    \n",
    "    graph_changes1.append(~np.all(G_new == G_old))\n",
    "    \n",
    "    G = G_new\n",
    "    Sigma = np.linalg.inv(K)\n",
    "    \n",
    "    waiting_times1.append(wt_sample)\n",
    "    sampled_Gs1.append(G.copy())\n",
    "    \n",
    "    wrong_edges = np.sum(G != simulated_data.G)\n",
    "    error = np.linalg.norm(Sigma - simulated_data.Sigma)\n",
    "    edges_log1.append(wrong_edges)\n",
    "    errors_log1.append(error)\n",
    "    \n",
    "    if iteration%500==0:\n",
    "        print('Now at iteration '+str(iteration)+'/'+str(max_iterations))\n",
    "    \n",
    "# NOTE: Should perform 500 iterations every 7 minutes\n",
    "# If it takes longer, RESTART, it could have gotten stuck in the R part"
   ]
  },
  {
   "cell_type": "code",
   "execution_count": null,
   "id": "2586db17",
   "metadata": {},
   "outputs": [],
   "source": [
    "errors = pd.Series(Zerrors1)\n",
    "print(\"Z binder loss metrics\")\n",
    "print(errors.describe())\n",
    "errors.hist(bins=30)\n",
    "plt.suptitle('Z binder loss histogram', x=0.5, y=1, ha='center')\n",
    "plt.show()\n",
    "\n",
    "errors.plot(title=\"Z convergence series\")  # See if we still have a caterpillar\n",
    "plt.show()\n",
    "\n",
    "errors[0:200].plot(title=\"Z convergence series: First 200 iterations\")\n",
    "plt.show()\n",
    "\n",
    "errors[cut:].plot(title=\"Z convergence series: Last iterations\")\n",
    "plt.show()"
   ]
  },
  {
   "cell_type": "code",
   "execution_count": null,
   "id": "629eb1b9",
   "metadata": {},
   "outputs": [],
   "source": [
    "B_conv = pd.Series(B_converge)\n",
    "\n",
    "print(\"B convergence metrics\")\n",
    "print(B_conv.describe())\n",
    "\n",
    "B_conv.hist(bins=30)  # Should look like an exponential decay?\n",
    "plt.suptitle('B marginal changes histogram', x=0.5, y=1, ha='center')\n",
    "plt.show()\n",
    "\n",
    "B_conv.plot(title=\"B convergence series\")  # Find where it stabilizes\n",
    "# TODO: Add the finder for a certain threshold and plot the vertical line of the iteration and save variable\n",
    "cut = 3500\n",
    "plt.axvline(x=cut, color='red', linestyle='--')\n",
    "plt.show()\n",
    "\n",
    "B_conv[0:200].plot(title=\"B convergence series: First 200 iterations\")\n",
    "plt.show()\n",
    "\n",
    "B_conv[cut:].plot(title=\"B convergence series: Last iterations\")\n",
    "plt.show()"
   ]
  },
  {
   "cell_type": "code",
   "execution_count": null,
   "id": "7f75ee0b",
   "metadata": {},
   "outputs": [],
   "source": [
    "Berrors = pd.DataFrame(Berrors)\n",
    "print(\"B L2-error metrics\")\n",
    "print(errors.describe())\n",
    "\n",
    "Berrors.hist(bins=30, layout=(3,2), figsize=(10, 6))\n",
    "plt.show()\n",
    "\n",
    "Berrors.plot(subplots=True, layout=(3,2), figsize=(10, 6))\n",
    "plt.title('B L2-error series')\n",
    "plt.axvline(x=cut, color='red', linestyle='--')\n",
    "plt.show()\n",
    "\n",
    "Berrors[0:200].plot(subplots=True, layout=(3,2), figsize=(10, 6))\n",
    "plt.title('B L2-error series: First 200 iterations')\n",
    "plt.show()\n",
    "\n",
    "Berrors[cut:].plot(subplots=True, layout=(3,2), figsize=(10, 6))\n",
    "plt.title('B L2-error series: Last iterations')\n",
    "plt.show()"
   ]
  },
  {
   "cell_type": "code",
   "execution_count": null,
   "id": "2dfcfeb7",
   "metadata": {},
   "outputs": [],
   "source": [
    "graphs = []\n",
    "counts = []\n",
    "not_found = True\n",
    "for graph in sampled_Gs[cut:]:\n",
    "    for i in range(len(graphs)):\n",
    "        not_found = True\n",
    "        if np.all(graph == graphs[i]):\n",
    "            counts[i] += waiting_times[i]\n",
    "            not_found = False\n",
    "    if not_found:\n",
    "        graphs.append(graph)\n",
    "        counts.append(waiting_times[i])\n",
    "\n",
    "plt.bar(range(len(counts)),counts)\n",
    "plt.suptitle('Sampled graphs histogram', x=0.5, y=1, ha='center')\n",
    "plt.show()\n",
    "\n",
    "modes = counts.sort()\n",
    "\n",
    "plt.matshow(graphs[counts.index(modes[0])], cmap='Blues')\n",
    "plt.suptitle(\"Most frequent graph in stable region\", x=0.5, y=1, ha='center')\n",
    "plt.show()\n",
    "\n",
    "plt.matshow(graphs[counts.index(modes[1])], cmap='Blues')\n",
    "plt.suptitle(\"Second most frequent graph in stable region\", x=0.5, y=1, ha='center')\n",
    "plt.show()\n",
    "\n",
    "plt.matshow(graphs[counts.index(modes[2])], cmap='Blues')\n",
    "plt.suptitle(\"Third most frequent graph in stable region\", x=0.5, y=1, ha='center')\n",
    "plt.show()"
   ]
  },
  {
   "cell_type": "code",
   "execution_count": null,
   "id": "791cbadf",
   "metadata": {},
   "outputs": [],
   "source": [
    "wait_times_full = pd.Series(waiting_times)\n",
    "wait_times_full.plot(title=\"Waiting times full series\")\n",
    "plt.show()\n",
    "\n",
    "wait_times_cut = pd.Series(waiting_times[cut:])\n",
    "wait_times_cut.plot(title=\"Waiting times series since iteration \"+str(cut))\n",
    "plt.show()"
   ]
  },
  {
   "cell_type": "markdown",
   "id": "01337aee",
   "metadata": {},
   "source": [
    "#### Data dumping"
   ]
  },
  {
   "cell_type": "code",
   "execution_count": null,
   "id": "d3fad6f6",
   "metadata": {},
   "outputs": [],
   "source": [
    "from datetime import datetime as dt\n",
    "import pickle"
   ]
  },
  {
   "cell_type": "code",
   "execution_count": null,
   "id": "259e3173",
   "metadata": {},
   "outputs": [],
   "source": [
    "timestamp = dt.now().strftime(\"%Y-%m-%d_%H%M\")  # by minute\n",
    "\n",
    "filename = 'Zerrors.pkl'\n",
    "with open(timestamp + '_' + filename, 'wb+') as f:  # opens a (new) file in write byte mode \n",
    "    pickle.dump(Zerrors, f)\n",
    "\n",
    "filename = 'Berrors.pkl'\n",
    "with open(timestamp + '_' + filename, 'wb+') as f:  # opens a (new) file in write byte mode \n",
    "    pickle.dump(Berrors, f)\n",
    "\n",
    "filename = 'B_converge.pkl'\n",
    "with open(timestamp + '_' + filename, 'wb+') as f:  # opens a (new) file in write byte mode \n",
    "    pickle.dump(B_converge, f)\n",
    "    \n",
    "filename = 'waiting_times.pkl'\n",
    "with open(timestamp + '_' + filename, 'wb+') as f:  # opens a (new) file in write byte mode \n",
    "    pickle.dump(waiting_times, f)\n",
    "    \n",
    "filename = 'sampled_Gs.pkl'\n",
    "with open(timestamp + '_' + filename, 'wb+') as f:  # opens a (new) file in write byte mode \n",
    "    pickle.dump(sampled_Gs, f)\n",
    "    \n",
    "filename = 'graph_changes.pkl'\n",
    "with open(timestamp + '_' + filename, 'wb+') as f:  # opens a (new) file in write byte mode \n",
    "    pickle.dump(graph_changes, f)\n",
    "    \n",
    "filename = 'edges_log.pkl'\n",
    "with open(timestamp + '_' + filename, 'wb+') as f:  # opens a (new) file in write byte mode \n",
    "    pickle.dump(edges_log, f)\n",
    "    \n",
    "filename = 'errors_log.pkl'\n",
    "with open(timestamp + '_' + filename, 'wb+') as f:  # opens a (new) file in write byte mode \n",
    "    pickle.dump(errors_log, f)"
   ]
  },
  {
   "cell_type": "code",
   "execution_count": null,
   "id": "f42758d3",
   "metadata": {},
   "outputs": [],
   "source": [
    "with open(timestamp + '_' + filename, 'rb') as f:  # opens a file in read byte mode \n",
    "    my_saved_results = pickle.load(f)"
   ]
  }
 ],
 "metadata": {
  "interpreter": {
   "hash": "a803b5bf187bf95155bcb05f6102b06519856e9ee60d4a9ebc29561a74488513"
  },
  "kernelspec": {
   "display_name": "Python 3 (ipykernel)",
   "language": "python",
   "name": "python3"
  },
  "language_info": {
   "codemirror_mode": {
    "name": "ipython",
    "version": 3
   },
   "file_extension": ".py",
   "mimetype": "text/x-python",
   "name": "python",
   "nbconvert_exporter": "python",
   "pygments_lexer": "ipython3",
   "version": "3.10.2"
  }
 },
 "nbformat": 4,
 "nbformat_minor": 5
}
