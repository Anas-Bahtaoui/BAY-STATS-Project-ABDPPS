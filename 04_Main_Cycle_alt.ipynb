{
 "cells": [
  {
   "cell_type": "markdown",
   "id": "5065f1fb",
   "metadata": {},
   "source": [
    "Idea: When B stabilizes, the topics will be stable and hence G will be comparable.\n",
    "\n",
    "We perform many iterations and verify B converges.\n",
    "\n",
    "After B converges, we take the graphs from those iterations and choose the most frequent one."
   ]
  },
  {
   "cell_type": "code",
   "execution_count": 1,
   "id": "3abf6dad",
   "metadata": {},
   "outputs": [],
   "source": [
    "# GLOBAL VARIABLES. BE SURE NOT TO OVERWRITE THEM\n",
    "D = 100 # Amount of documents\n",
    "V = 18 # Size of the vocabulary\n",
    "\n",
    "# (Approximate) Maximum allowed amount of same word repetition in a document (it may be lower in practise due to the data generation strategy)\n",
    "# To get the actual maximum amount, call Simulator.get_M\n",
    "M = 5 \n",
    "\n",
    "k = 6 # Amount of topics\n",
    "gamma = 0.2\n",
    "\n",
    "# FA: Since we're testing so much, lets agree on using just 1 small set of global variables for now"
   ]
  },
  {
   "cell_type": "code",
   "execution_count": 6,
   "id": "c72a2899",
   "metadata": {},
   "outputs": [],
   "source": [
    "from matplotlib import pyplot as plt\n",
    "import numpy as np\n",
    "import pandas as pd"
   ]
  },
  {
   "cell_type": "markdown",
   "id": "8438ed74",
   "metadata": {},
   "source": [
    "From now on let's use the following simulated data for further testing"
   ]
  },
  {
   "cell_type": "code",
   "execution_count": 10,
   "id": "e471e566",
   "metadata": {},
   "outputs": [],
   "source": [
    "from simulator import Simulator\n",
    "from samplers import MC_sample_Z, MC_sample_B, MC_sample_H, MC_sample_GK\n",
    "from transformation_functions import update_Theta, update_Sigma, update_E, update_C\n",
    "from generator_functions import sample_Z_from_W"
   ]
  },
  {
   "cell_type": "markdown",
   "id": "dfec37dc",
   "metadata": {},
   "source": [
    "# 4. MAIN CYCLE"
   ]
  },
  {
   "cell_type": "markdown",
   "id": "9ebedb9d",
   "metadata": {},
   "source": [
    "### Generating Target Data\n",
    "\n",
    "These data will be used as input (matrix Z and W) and target (matrix G) for our simulation. "
   ]
  },
  {
   "cell_type": "code",
   "execution_count": 11,
   "id": "2ece0755",
   "metadata": {},
   "outputs": [
    {
     "name": "stdout",
     "output_type": "stream",
     "text": [
      "Success: Sigma transformed from K\n",
      "Success: G transformed from K\n",
      "Success: W and Z generated\n",
      "Success: E transformed from Z\n",
      "Success: C transformed from Z\n"
     ]
    }
   ],
   "source": [
    "simulated_data = Simulator(D, V, M, k, gamma, seed=1888)\n",
    "simulated_data.generate_all_data()"
   ]
  },
  {
   "cell_type": "code",
   "execution_count": 12,
   "id": "8fb0bf66",
   "metadata": {},
   "outputs": [
    {
     "data": {
      "text/plain": [
       "array([[2., 1., 3., ..., 5., 2., 0.],\n",
       "       [3., 3., 2., ..., 2., 4., 2.],\n",
       "       [1., 1., 1., ..., 2., 2., 0.],\n",
       "       ...,\n",
       "       [0., 2., 0., ..., 1., 0., 1.],\n",
       "       [2., 2., 0., ..., 2., 1., 3.],\n",
       "       [2., 1., 0., ..., 1., 2., 3.]])"
      ]
     },
     "execution_count": 12,
     "metadata": {},
     "output_type": "execute_result"
    }
   ],
   "source": [
    "# Input Data:\n",
    "simulated_data.W"
   ]
  },
  {
   "cell_type": "code",
   "execution_count": 13,
   "id": "243cc130",
   "metadata": {},
   "outputs": [
    {
     "data": {
      "text/plain": [
       "<matplotlib.image.AxesImage at 0x7f968d40e110>"
      ]
     },
     "execution_count": 13,
     "metadata": {},
     "output_type": "execute_result"
    },
    {
     "data": {
      "image/png": "[encoded data removed]",
      "text/plain": [
       "<Figure size 288x288 with 1 Axes>"
      ]
     },
     "metadata": {
      "needs_background": "light"
     },
     "output_type": "display_data"
    }
   ],
   "source": [
    "# Target graph\n",
    "plt.matshow(simulated_data.G, cmap='Blues')"
   ]
  },
  {
   "cell_type": "markdown",
   "id": "3ba8360b",
   "metadata": {},
   "source": [
    "### Generating Initial Data\n",
    "\n",
    "These are used as our initial guess for Sigma, K, B, Theta and G"
   ]
  },
  {
   "cell_type": "code",
   "execution_count": 14,
   "id": "0d692b94",
   "metadata": {},
   "outputs": [
    {
     "name": "stdout",
     "output_type": "stream",
     "text": [
      "Success: Sigma transformed from K\n",
      "Success: G transformed from K\n"
     ]
    }
   ],
   "source": [
    "# # Initial guesses\n",
    "initial = Simulator(D, V, M, k, gamma, 2020)\n",
    "initial.sample_GK()\n",
    "initial.sample_B()\n",
    "initial.sample_H()"
   ]
  },
  {
   "cell_type": "code",
   "execution_count": 15,
   "id": "4e349261",
   "metadata": {},
   "outputs": [
    {
     "data": {
      "text/plain": [
       "<matplotlib.image.AxesImage at 0x7f968a0e3b80>"
      ]
     },
     "execution_count": 15,
     "metadata": {},
     "output_type": "execute_result"
    },
    {
     "data": {
      "image/png": "[encoded data removed]",
      "text/plain": [
       "<Figure size 288x288 with 1 Axes>"
      ]
     },
     "metadata": {
      "needs_background": "light"
     },
     "output_type": "display_data"
    }
   ],
   "source": [
    "# Initial graph\n",
    "plt.matshow(initial.G, cmap='Blues')"
   ]
  },
  {
   "cell_type": "markdown",
   "id": "8bbd26a2",
   "metadata": {},
   "source": [
    "## Global Sampler\n",
    "\n",
    "All objects are updated within the cycle."
   ]
  },
  {
   "cell_type": "code",
   "execution_count": null,
   "id": "8956a28a",
   "metadata": {},
   "outputs": [],
   "source": [
    "%%time\n",
    "max_iterations = 4000\n",
    "np.random.seed(25041945)\n",
    "\n",
    "# Initialization\n",
    "Sigma = initial.Sigma.copy()\n",
    "K = np.linalg.inv(Sigma)\n",
    "B = initial.B.copy()\n",
    "Theta = initial.Theta.copy()\n",
    "G = initial.G.copy()\n",
    "\n",
    "alpha = np.ones(V)  # Uninformative prior\n",
    "b = k - 1\n",
    "\n",
    "Z = sample_Z_from_W(simulated_data.W.astype(int), k, 2020)  # Random sample of Z based on actual data\n",
    "\n",
    "E = update_E(np.zeros((D, k)), Z)  # Transformation of Z\n",
    "C = update_C(np.zeros((k, V)), Z)  # Transformation of Z\n",
    "\n",
    "H = None\n",
    "step = 0.5\n",
    "\n",
    "waiting_times = []\n",
    "sampled_Gs = []\n",
    "#edges_log = []\n",
    "#errors_log = []\n",
    "#graph_changes = []\n",
    "B_converge = [] \n",
    "\n",
    "for iteration in range(max_iterations):\n",
    "    \n",
    "    # Step 1\n",
    "    Z, E, C = MC_sample_Z(Z, simulated_data.W, Theta, B, E, C, debug=True) \n",
    "    \n",
    "    # Step 2\n",
    "    last_B = B.copy()\n",
    "    B = MC_sample_B(alpha, C)\n",
    "    B_converge.append(np.linalg.norm(B - last_B))\n",
    "    \n",
    "    # Step 3\n",
    "    H, step = MC_sample_H(E, Sigma, K, step_size=step, H_current=H, burn_in=15)\n",
    "    Theta = update_Theta(Theta, H)  # get Theta from H\n",
    "    \n",
    "    # Step 4    \n",
    "    G_old = G.copy()\n",
    "    wt_sample, G_new, K = MC_sample_GK(G, H, b, debug=False)\n",
    "    #if np.all(G_new == G_old):\n",
    "    #    print('G matrix has NOT changed!')\n",
    "    #graph_changes.append(~np.all(G_new == G_old))\n",
    "    G = G_new\n",
    "    Sigma = np.linalg.inv(K)\n",
    "    \n",
    "    waiting_times.append(wt_sample)\n",
    "    sampled_Gs.append(G.copy())\n",
    "    \n",
    "    # Hope for convergence!\n",
    "    #wrong_edges = np.sum(G != simulated_data.G)\n",
    "    #error = np.linalg.norm(Sigma - simulated_data.Sigma)\n",
    "    #print(f\"At iteration {iteration}, the wrong edges are {wrong_edges} and the error on Sigma is {error}. Waiting time {wt_sample}\")\n",
    "    \n",
    "    #edges_log.append(wrong_edges)\n",
    "    #errors_log.append(error)\n",
    "    \n",
    "    if iteration%1000==0:\n",
    "        print('Now at iteration '+str(iteration)+'/'+str(max_iterations))\n",
    "    #    plt.matshow(G, cmap='Blues')\n",
    "    #    plt.suptitle(\"Graph of iteration \"+str(iteration), x=0.5, y=1, ha='center')\n",
    "    #    plt.show()"
   ]
  },
  {
   "cell_type": "code",
   "execution_count": null,
   "id": "4b4c57d7",
   "metadata": {},
   "outputs": [],
   "source": [
    "B_converge = pd.Series(B_converge)\n",
    "\n",
    "print(\"B convergence metrics\")\n",
    "print(B_converge.describe())\n",
    "\n",
    "B_converge.hist(bins=30)  # Should look like an exponential decay?\n",
    "plt.suptitle('B marginal changes histogram', x=0.5, y=1, ha='center')\n",
    "plt.show()\n",
    "\n",
    "B_converge.plot(title=\"B convergence series\")  # Find where it stabilizes\n",
    "# TODO: Add the finder for a certain threshold and plot the vertical line of the iteration and save variable\n",
    "cut = \n",
    "plt.axvline(x=cut, color='red', linestyle='--')\n",
    "plt.show()"
   ]
  },
  {
   "cell_type": "code",
   "execution_count": null,
   "id": "178854a9",
   "metadata": {},
   "outputs": [],
   "source": [
    "G_matrices = pd.Series(sampled_Gs[cut:])  # Should this work?\n",
    "\n",
    "G_matrices.hist(bins=30)\n",
    "plt.suptitle('Sampled graphs histogram', x=0.5, y=1, ha='center')\n",
    "plt.show()\n",
    "\n",
    "plt.matshow(G_matrices.mode(), cmap='Blues')\n",
    "plt.suptitle(\"Most frequent graph in stable region\", x=0.5, y=1, ha='center')\n",
    "plt.show()"
   ]
  },
  {
   "cell_type": "code",
   "execution_count": null,
   "id": "d815d088",
   "metadata": {},
   "outputs": [],
   "source": [
    "wait_times = pd.Series(waiting_times)\n",
    "wait_times.plot(title=\"Waiting times series\")\n",
    "plt.show()"
   ]
  },
  {
   "cell_type": "code",
   "execution_count": null,
   "id": "d2a9e173",
   "metadata": {},
   "outputs": [],
   "source": []
  }
 ],
 "metadata": {
  "interpreter": {
   "hash": "a803b5bf187bf95155bcb05f6102b06519856e9ee60d4a9ebc29561a74488513"
  },
  "kernelspec": {
   "display_name": "Python 3 (ipykernel)",
   "language": "python",
   "name": "python3"
  },
  "language_info": {
   "codemirror_mode": {
    "name": "ipython",
    "version": 3
   },
   "file_extension": ".py",
   "mimetype": "text/x-python",
   "name": "python",
   "nbconvert_exporter": "python",
   "pygments_lexer": "ipython3",
   "version": "3.10.2"
  }
 },
 "nbformat": 4,
 "nbformat_minor": 5
}
