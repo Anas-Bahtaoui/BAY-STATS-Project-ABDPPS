{
 "cells": [
  {
   "cell_type": "code",
   "execution_count": 2,
   "id": "615916a0-bfd2-4739-b8b7-39ccccbfeb42",
   "metadata": {},
   "outputs": [],
   "source": [
    "# GLOBAL VARIABLES. BE SURE NOT TO OVERWRITE THEM\n",
    "D = 8 # Amount of documents\n",
    "V = 12 # Size of the vocabulary\n",
    "\n",
    "# (Approximate) Maximum allowed amount of same word repetition in a document (it may be lower in practise due to the data generation strategy)\n",
    "# To get the actual maximum amount, call Simulator.get_M\n",
    "M = 10 \n",
    "\n",
    "\n",
    "k = 5 # Amount of topics\n",
    "gamma = 0.2  #"
   ]
  },
  {
   "cell_type": "code",
   "execution_count": 3,
   "id": "20613827-2e36-4bf3-9e6d-4f5e37a5a1e9",
   "metadata": {},
   "outputs": [],
   "source": [
    "from matplotlib import pyplot as plt\n",
    "import numpy as np\n",
    "import pandas as pd"
   ]
  },
  {
   "cell_type": "code",
   "execution_count": 4,
   "id": "4ec68917-f944-4fe3-ba13-7ed63c089bc6",
   "metadata": {},
   "outputs": [],
   "source": [
    "from simulator import Simulator"
   ]
  },
  {
   "cell_type": "code",
   "execution_count": 5,
   "id": "8b9e6c2c-84dc-4273-b183-08075067af2f",
   "metadata": {},
   "outputs": [
    {
     "name": "stdout",
     "output_type": "stream",
     "text": [
      "Success: Sigma transformed from K\n",
      "Success: G transformed from K\n",
      "Success: W and Z generated\n",
      "Success: E transformed from Z\n",
      "Success: C transformed from Z\n",
      "Success: Sigma transformed from K\n",
      "Success: G transformed from K\n",
      "Success: W and Z generated\n",
      "Success: E transformed from Z\n",
      "Success: C transformed from Z\n"
     ]
    }
   ],
   "source": [
    "test_data = Simulator(D, V, M, k, gamma, seed=1967)  # Man on the moon\n",
    "test_data.generate_all_data()\n",
    "\n",
    "random_initial_data = Simulator(D, V, M, k, gamma, seed=1969)  # Woodstock Music Festival\n",
    "random_initial_data.generate_all_data()"
   ]
  },
  {
   "cell_type": "code",
   "execution_count": 6,
   "id": "7b508323-fc9d-45fd-85dc-793157047f7e",
   "metadata": {},
   "outputs": [
    {
     "data": {
      "text/plain": [
       "<matplotlib.image.AxesImage at 0x2061078fe50>"
      ]
     },
     "execution_count": 6,
     "metadata": {},
     "output_type": "execute_result"
    },
    {
     "data": {
      "image/png": "[encoded data removed]",
      "text/plain": [
       "<Figure size 288x288 with 1 Axes>"
      ]
     },
     "metadata": {
      "needs_background": "light"
     },
     "output_type": "display_data"
    },
    {
     "data": {
      "image/png": "[encoded data removed]",
      "text/plain": [
       "<Figure size 288x288 with 1 Axes>"
      ]
     },
     "metadata": {
      "needs_background": "light"
     },
     "output_type": "display_data"
    }
   ],
   "source": [
    "plt.matshow(test_data.G, cmap='Blues')\n",
    "plt.matshow(random_initial_data.G, cmap='Blues')"
   ]
  },
  {
   "cell_type": "markdown",
   "id": "a7ec5a8b-484e-4305-b680-09946892c276",
   "metadata": {},
   "source": [
    "# 2. MC SAMPLER"
   ]
  },
  {
   "cell_type": "markdown",
   "id": "500f8d41-9a25-49da-a477-28f8fbcbf0fa",
   "metadata": {},
   "source": [
    "## 2.1.2 Z,B and H Sampling Tests"
   ]
  },
  {
   "cell_type": "code",
   "execution_count": 7,
   "id": "5dc29f53-ded8-4b40-990d-2f0ddc0b0070",
   "metadata": {},
   "outputs": [],
   "source": [
    "from samplers import MC_sample_H\n",
    "from samplers import MC_sample_B\n",
    "from samplers import MC_sample_Z\n",
    "from transformation_functions import update_Theta"
   ]
  },
  {
   "cell_type": "code",
   "execution_count": 8,
   "id": "0953b50f-c41f-4637-9598-41ad9900bff5",
   "metadata": {},
   "outputs": [],
   "source": [
    "Z_copy = random_initial_data.Z.copy()\n",
    "E_copy = random_initial_data.E.copy()\n",
    "C_copy = random_initial_data.C.copy()\n",
    "B_copy = random_initial_data.B.copy()\n",
    "H_copy = random_initial_data.H.copy()\n",
    "Theta_copy=random_initial_data.Theta.copy()\n",
    "\n",
    "alpha = np.ones(V)\n",
    "step_size = 2\n",
    "W_copy=test_data.W.copy()\n",
    "Sigma_copy = test_data.Sigma.copy()\n",
    "K_copy = test_data.K.copy()\n",
    "G_copy=test_data.G.copy()\n",
    "\n",
    "Z_sample, E_sample, C_sample = MC_sample_Z(Z_copy, W_copy, Theta_copy, B_copy, E_copy, C_copy, debug=True)\n",
    "B_sample = MC_sample_B(alpha, C_copy)\n",
    "H_sample, step_size = MC_sample_H(E_copy, Sigma_copy, K_copy, step_size=step_size,\n",
    "                                 adaptive_step_ratio=1.5, adaptive_step_threshold=0.55, max_step=2)\n",
    "Theta_sample=update_Theta(Theta_copy,H_sample)\n"
   ]
  },
  {
   "cell_type": "code",
   "execution_count": 9,
   "id": "d5c6e2e8-0b1e-4ece-b210-43a7731f4dca",
   "metadata": {},
   "outputs": [
    {
     "name": "stdout",
     "output_type": "stream",
     "text": [
      "Wall time: 7min 25s\n"
     ]
    }
   ],
   "source": [
    "%%time\n",
    "# Check that the Sampler works properly (This will take... forever)\n",
    "errors = []\n",
    "matrix_changes = []\n",
    "burn_in = 1000\n",
    "step_size = 0.25\n",
    "steps = []\n",
    "\n",
    "for i in range(10000):\n",
    "    H_sample_old=H_sample.copy()\n",
    "    Z_sample, E_sample, C_sample = MC_sample_Z(Z_sample, W_copy, Theta_sample, B_sample, E_sample, C_sample)\n",
    "    B_sample = MC_sample_B(alpha, C_sample)\n",
    "    H_sample, step_size = MC_sample_H(E=E_sample, Sigma=Sigma_copy, K=K_copy, H_current=H_sample_old, step_size=step_size,\n",
    "                                 adaptive_step_ratio=1.5, adaptive_step_threshold=0.55, max_step=0.25)\n",
    "    Theta_sample=update_Theta(Theta_copy,H_sample)\n",
    "    matrix_changes.append(~np.all(H_sample_old == H_sample))\n",
    "    if i >= burn_in:\n",
    "        errors.append(np.linalg.norm(H_sample - test_data.H))  # Computing error wrt the target matrix\n",
    "        steps.append(step_size)"
   ]
  },
  {
   "cell_type": "code",
   "execution_count": 10,
   "id": "9eb1a991-c46f-4689-9217-2241e78ffebf",
   "metadata": {},
   "outputs": [
    {
     "name": "stdout",
     "output_type": "stream",
     "text": [
      "Matrix changes (1 = changed, 0 = same)\n",
      "count    10000.0\n",
      "mean         0.0\n",
      "std          0.0\n",
      "min          0.0\n",
      "25%          0.0\n",
      "50%          0.0\n",
      "75%          0.0\n",
      "max          0.0\n",
      "dtype: float64\n"
     ]
    },
    {
     "data": {
      "text/plain": [
       "<AxesSubplot:>"
      ]
     },
     "execution_count": 10,
     "metadata": {},
     "output_type": "execute_result"
    },
    {
     "data": {
      "image/png": "[encoded data removed]",
      "text/plain": [
       "<Figure size 432x288 with 1 Axes>"
      ]
     },
     "metadata": {
      "needs_background": "light"
     },
     "output_type": "display_data"
    }
   ],
   "source": [
    "# Matrix should change\n",
    "matrix_changes = pd.Series(matrix_changes).astype(int)\n",
    "print(\"Matrix changes (1 = changed, 0 = same)\")\n",
    "\n",
    "print(matrix_changes.describe())\n",
    "matrix_changes.hist(bins=30)"
   ]
  },
  {
   "cell_type": "code",
   "execution_count": 11,
   "id": "8d91b924-85b1-4083-88e4-ed887356105d",
   "metadata": {},
   "outputs": [
    {
     "name": "stdout",
     "output_type": "stream",
     "text": [
      "H L2-error metrics\n",
      "count    9000.000000\n",
      "mean       91.616883\n",
      "std         1.939878\n",
      "min        84.296351\n",
      "25%        90.247458\n",
      "50%        91.674125\n",
      "75%        92.932547\n",
      "max        97.613154\n",
      "dtype: float64\n"
     ]
    },
    {
     "data": {
      "text/plain": [
       "<AxesSubplot:>"
      ]
     },
     "execution_count": 11,
     "metadata": {},
     "output_type": "execute_result"
    },
    {
     "data": {
      "image/png": "[encoded data removed]",
      "text/plain": [
       "<Figure size 432x288 with 1 Axes>"
      ]
     },
     "metadata": {
      "needs_background": "light"
     },
     "output_type": "display_data"
    }
   ],
   "source": [
    "# Error should be distributed close to 0 (I guess...)  # BUG https://trello.com/c/9k2e8PQz/33-mcsampleh-is-not-close-to-expected-target\n",
    "errors = pd.Series(errors)\n",
    "print(\"H L2-error metrics\")\n",
    "print(errors.describe())\n",
    "errors.hist(bins=30)"
   ]
  },
  {
   "cell_type": "code",
   "execution_count": 12,
   "id": "7505bd51-d1c3-47d4-a61b-9a612db0c417",
   "metadata": {},
   "outputs": [
    {
     "name": "stdout",
     "output_type": "stream",
     "text": [
      "H L2-error series\n"
     ]
    },
    {
     "data": {
      "image/png": "[encoded data removed]",
      "text/plain": [
       "<Figure size 432x288 with 1 Axes>"
      ]
     },
     "metadata": {
      "needs_background": "light"
     },
     "output_type": "display_data"
    }
   ],
   "source": [
    "errors.plot()\n",
    "print(\"H L2-error series\")"
   ]
  },
  {
   "cell_type": "code",
   "execution_count": 13,
   "id": "fe2f9f9d-4cc0-48d0-97c4-477b08d06d84",
   "metadata": {},
   "outputs": [
    {
     "name": "stdout",
     "output_type": "stream",
     "text": [
      "Steps\n",
      "count    9000.000000\n",
      "mean        0.183413\n",
      "std         0.061637\n",
      "min         0.032922\n",
      "25%         0.111111\n",
      "50%         0.166667\n",
      "75%         0.250000\n",
      "max         0.250000\n",
      "dtype: float64\n"
     ]
    },
    {
     "data": {
      "text/plain": [
       "<AxesSubplot:>"
      ]
     },
     "execution_count": 13,
     "metadata": {},
     "output_type": "execute_result"
    },
    {
     "data": {
      "image/png": "[encoded data removed]",
      "text/plain": [
       "<Figure size 432x288 with 1 Axes>"
      ]
     },
     "metadata": {
      "needs_background": "light"
     },
     "output_type": "display_data"
    }
   ],
   "source": [
    "# Matrix should change\n",
    "steps = pd.Series(steps)\n",
    "print(\"Steps\")\n",
    "\n",
    "print(steps.describe())\n",
    "steps.hist(bins=30)"
   ]
  },
  {
   "cell_type": "code",
   "execution_count": 14,
   "id": "0d1348e1-9946-4ab6-b7d3-ab95ea31679b",
   "metadata": {},
   "outputs": [
    {
     "name": "stdout",
     "output_type": "stream",
     "text": [
      "Steps\n"
     ]
    },
    {
     "data": {
      "image/png": "[encoded data removed]",
      "text/plain": [
       "<Figure size 432x288 with 1 Axes>"
      ]
     },
     "metadata": {
      "needs_background": "light"
     },
     "output_type": "display_data"
    }
   ],
   "source": [
    "steps.plot()\n",
    "print(\"Steps\")"
   ]
  },
  {
   "cell_type": "code",
   "execution_count": 15,
   "id": "649ee198-935e-4e2c-81d2-5c2ae0906058",
   "metadata": {},
   "outputs": [
    {
     "data": {
      "image/png": "[encoded data removed]",
      "text/plain": [
       "<Figure size 1080x360 with 6 Axes>"
      ]
     },
     "metadata": {
      "needs_background": "light"
     },
     "output_type": "display_data"
    },
    {
     "data": {
      "text/plain": [
       "2.2468085390714068"
      ]
     },
     "execution_count": 15,
     "metadata": {},
     "output_type": "execute_result"
    }
   ],
   "source": [
    "import seaborn as sn\n",
    "from transformation_functions import update_Theta\n",
    "\n",
    "\n",
    "fig, ax = plt.subplots(1,3, figsize=(15, 5))\n",
    "\n",
    "last_Theta = update_Theta(np.zeros(H_sample.shape), H_sample)\n",
    "true_Theta = update_Theta(np.zeros(H_sample.shape), test_data.H)\n",
    "\n",
    "sn.heatmap(true_Theta, cmap='Blues',ax=ax[0])\n",
    "sn.heatmap(last_Theta, cmap='Blues',ax=ax[1])\n",
    "sn.heatmap(abs(true_Theta - last_Theta),cmap='Blues',ax=ax[2],center=0)\n",
    "plt.show()\n",
    "\n",
    "np.linalg.norm(true_Theta-last_Theta)"
   ]
  },
  {
   "cell_type": "code",
   "execution_count": null,
   "id": "b8f70e36-1ac8-47de-8f6c-1f0847640049",
   "metadata": {},
   "outputs": [],
   "source": []
  },
  {
   "cell_type": "code",
   "execution_count": 16,
   "id": "a52eaee7-7968-456f-b003-1a698aac3018",
   "metadata": {},
   "outputs": [
    {
     "data": {
      "text/plain": [
       "1"
      ]
     },
     "execution_count": 16,
     "metadata": {},
     "output_type": "execute_result"
    }
   ],
   "source": [
    "np.random.randint(1,4)"
   ]
  },
  {
   "cell_type": "code",
   "execution_count": null,
   "id": "292718dd-bf47-4b8a-9932-a1c9f034e9a2",
   "metadata": {},
   "outputs": [],
   "source": []
  },
  {
   "cell_type": "code",
   "execution_count": null,
   "id": "5ef1c81c-d28e-47fd-957c-072de3a0ecc8",
   "metadata": {},
   "outputs": [],
   "source": []
  },
  {
   "cell_type": "code",
   "execution_count": null,
   "id": "c5fe4a45-7f5f-4ca7-9fab-bc8cfc6807ef",
   "metadata": {},
   "outputs": [],
   "source": []
  }
 ],
 "metadata": {
  "kernelspec": {
   "display_name": "Python 3",
   "language": "python",
   "name": "python3"
  },
  "language_info": {
   "codemirror_mode": {
    "name": "ipython",
    "version": 3
   },
   "file_extension": ".py",
   "mimetype": "text/x-python",
   "name": "python",
   "nbconvert_exporter": "python",
   "pygments_lexer": "ipython3",
   "version": "3.8.8"
  }
 },
 "nbformat": 4,
 "nbformat_minor": 5
}
