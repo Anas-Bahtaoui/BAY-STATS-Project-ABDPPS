{
 "cells": [
  {
   "cell_type": "code",
   "execution_count": null,
   "id": "912e5e98",
   "metadata": {},
   "outputs": [],
   "source": [
    "from const import globs"
   ]
  },
  {
   "cell_type": "code",
   "execution_count": 2,
   "id": "38c072b4",
   "metadata": {},
   "outputs": [],
   "source": [
    "# GLOBAL VARIABLES. BE SURE NOT TO OVERWRITE THEM\n",
    "\n",
    "D, V, M, k, gamma = globs('l')"
   ]
  },
  {
   "cell_type": "code",
   "execution_count": 3,
   "id": "a9c32d19",
   "metadata": {},
   "outputs": [],
   "source": [
    "from matplotlib import pyplot as plt\n",
    "import numpy as np\n",
    "import pandas as pd"
   ]
  },
  {
   "cell_type": "markdown",
   "id": "4a14bea8",
   "metadata": {},
   "source": [
    "From now on let's use the following simulated data for further testing"
   ]
  },
  {
   "cell_type": "code",
   "execution_count": 4,
   "id": "9681cbce",
   "metadata": {},
   "outputs": [],
   "source": [
    "from simulator import Simulator"
   ]
  },
  {
   "cell_type": "code",
   "execution_count": 5,
   "id": "55d37fe0",
   "metadata": {},
   "outputs": [
    {
     "name": "stdout",
     "output_type": "stream",
     "text": [
      "Success: Sigma transformed from K\n",
      "Success: G transformed from K\n",
      "Success: W and Z generated\n",
      "Success: E transformed from Z\n",
      "Success: C transformed from Z\n",
      "Success: Sigma transformed from K\n",
      "Success: G transformed from K\n",
      "Success: W and Z generated\n",
      "Success: E transformed from Z\n",
      "Success: C transformed from Z\n"
     ]
    }
   ],
   "source": [
    "test_data = Simulator(D, V, M, k, gamma, seed=1967)  # Man on the moon\n",
    "test_data.generate_all_data()\n",
    "\n",
    "random_initial_data = Simulator(D, V, M, k, gamma, seed=1969)  # Woodstock Music Festival\n",
    "random_initial_data.generate_all_data()"
   ]
  },
  {
   "cell_type": "code",
   "execution_count": 6,
   "id": "a142e66a",
   "metadata": {},
   "outputs": [
    {
     "data": {
      "text/plain": [
       "<matplotlib.image.AxesImage at 0x7faa66265520>"
      ]
     },
     "execution_count": 6,
     "metadata": {},
     "output_type": "execute_result"
    },
    {
     "data": {
      "image/png": "[encoded data removed]",
      "text/plain": [
       "<Figure size 288x288 with 1 Axes>"
      ]
     },
     "metadata": {
      "needs_background": "light"
     },
     "output_type": "display_data"
    },
    {
     "data": {
      "image/png": "[encoded data removed]",
      "text/plain": [
       "<Figure size 288x288 with 1 Axes>"
      ]
     },
     "metadata": {
      "needs_background": "light"
     },
     "output_type": "display_data"
    }
   ],
   "source": [
    "plt.matshow(test_data.G, cmap='Blues')\n",
    "plt.matshow(random_initial_data.G, cmap='Blues')"
   ]
  },
  {
   "cell_type": "markdown",
   "id": "1950d8d3",
   "metadata": {},
   "source": [
    "# 2 MC SAMPLER"
   ]
  },
  {
   "cell_type": "markdown",
   "id": "77d2e2c5",
   "metadata": {},
   "source": [
    "## 2.4.1 Sampling G and K (BDMCMC Sampling)"
   ]
  },
  {
   "cell_type": "code",
   "execution_count": 7,
   "id": "3a358d5d",
   "metadata": {},
   "outputs": [],
   "source": [
    "from samplers import serialize_matrix, deserialize_matrix"
   ]
  },
  {
   "cell_type": "markdown",
   "id": "f36e1d2a",
   "metadata": {},
   "source": [
    "#### Serialization test"
   ]
  },
  {
   "cell_type": "code",
   "execution_count": 8,
   "id": "698cdd5d",
   "metadata": {},
   "outputs": [],
   "source": [
    "# This function is only used to test if the serialization and deserialization functions between R and python work properly\n",
    "import subprocess\n",
    "\n",
    "\n",
    "def serialization_function_test(n_tests=200, shape=(8,17)):    \n",
    "    results = []\n",
    "    for _ in range(n_tests):\n",
    "        \n",
    "        # Generate random matrix\n",
    "        test_matrix = np.random.random(shape) * 100\n",
    "        \n",
    "        # Serialize matrix\n",
    "        serialized_test_matrix = serialize_matrix(test_matrix)\n",
    "        \n",
    "        # Send to R script\n",
    "        command = f\"Rscript --vanilla serialize_matrix_test.R {serialized_test_matrix}\"\n",
    "        result = subprocess.run(command, \n",
    "                                shell=True, \n",
    "                                capture_output=True,\n",
    "                                text=True)\n",
    "        \n",
    "        # Deserialize from R output\n",
    "        deserialized_test_matrix = deserialize_matrix(result.stdout, shape=shape)\n",
    "        differences = np.abs(test_matrix-deserialized_test_matrix)\n",
    "        max_diff = np.max(differences)\n",
    "        min_diff = np.min(differences)\n",
    "        diff_sum = np.sum(differences)\n",
    "        results.append({'max_diff': max_diff, 'min_diff': min_diff, 'diff_sum': diff_sum})\n",
    "    return pd.DataFrame(results)"
   ]
  },
  {
   "cell_type": "code",
   "execution_count": 9,
   "id": "368dfacf",
   "metadata": {},
   "outputs": [
    {
     "name": "stdout",
     "output_type": "stream",
     "text": [
      "CPU times: user 431 ms, sys: 876 ms, total: 1.31 s\n",
      "Wall time: 45.6 s\n"
     ]
    },
    {
     "data": {
      "text/html": [
       "<div>\n",
       "<style scoped>\n",
       "    .dataframe tbody tr th:only-of-type {\n",
       "        vertical-align: middle;\n",
       "    }\n",
       "\n",
       "    .dataframe tbody tr th {\n",
       "        vertical-align: top;\n",
       "    }\n",
       "\n",
       "    .dataframe thead th {\n",
       "        text-align: right;\n",
       "    }\n",
       "</style>\n",
       "<table border=\"1\" class=\"dataframe\">\n",
       "  <thead>\n",
       "    <tr style=\"text-align: right;\">\n",
       "      <th></th>\n",
       "      <th>max_diff</th>\n",
       "      <th>min_diff</th>\n",
       "      <th>diff_sum</th>\n",
       "    </tr>\n",
       "  </thead>\n",
       "  <tbody>\n",
       "    <tr>\n",
       "      <th>0</th>\n",
       "      <td>0.0</td>\n",
       "      <td>0.0</td>\n",
       "      <td>0.0</td>\n",
       "    </tr>\n",
       "    <tr>\n",
       "      <th>1</th>\n",
       "      <td>0.0</td>\n",
       "      <td>0.0</td>\n",
       "      <td>0.0</td>\n",
       "    </tr>\n",
       "    <tr>\n",
       "      <th>2</th>\n",
       "      <td>0.0</td>\n",
       "      <td>0.0</td>\n",
       "      <td>0.0</td>\n",
       "    </tr>\n",
       "    <tr>\n",
       "      <th>3</th>\n",
       "      <td>0.0</td>\n",
       "      <td>0.0</td>\n",
       "      <td>0.0</td>\n",
       "    </tr>\n",
       "    <tr>\n",
       "      <th>4</th>\n",
       "      <td>0.0</td>\n",
       "      <td>0.0</td>\n",
       "      <td>0.0</td>\n",
       "    </tr>\n",
       "  </tbody>\n",
       "</table>\n",
       "</div>"
      ],
      "text/plain": [
       "   max_diff  min_diff  diff_sum\n",
       "0       0.0       0.0       0.0\n",
       "1       0.0       0.0       0.0\n",
       "2       0.0       0.0       0.0\n",
       "3       0.0       0.0       0.0\n",
       "4       0.0       0.0       0.0"
      ]
     },
     "execution_count": 9,
     "metadata": {},
     "output_type": "execute_result"
    }
   ],
   "source": [
    "%%time\n",
    "test_result_df = serialization_function_test()\n",
    "test_result_df.head()"
   ]
  },
  {
   "cell_type": "code",
   "execution_count": 10,
   "id": "11bdab03",
   "metadata": {},
   "outputs": [
    {
     "data": {
      "text/html": [
       "<div>\n",
       "<style scoped>\n",
       "    .dataframe tbody tr th:only-of-type {\n",
       "        vertical-align: middle;\n",
       "    }\n",
       "\n",
       "    .dataframe tbody tr th {\n",
       "        vertical-align: top;\n",
       "    }\n",
       "\n",
       "    .dataframe thead th {\n",
       "        text-align: right;\n",
       "    }\n",
       "</style>\n",
       "<table border=\"1\" class=\"dataframe\">\n",
       "  <thead>\n",
       "    <tr style=\"text-align: right;\">\n",
       "      <th></th>\n",
       "      <th>max_diff</th>\n",
       "      <th>min_diff</th>\n",
       "      <th>diff_sum</th>\n",
       "    </tr>\n",
       "  </thead>\n",
       "  <tbody>\n",
       "    <tr>\n",
       "      <th>count</th>\n",
       "      <td>2.000000e+02</td>\n",
       "      <td>200.0</td>\n",
       "      <td>2.000000e+02</td>\n",
       "    </tr>\n",
       "    <tr>\n",
       "      <th>mean</th>\n",
       "      <td>1.132427e-16</td>\n",
       "      <td>0.0</td>\n",
       "      <td>1.132427e-16</td>\n",
       "    </tr>\n",
       "    <tr>\n",
       "      <th>std</th>\n",
       "      <td>8.678588e-16</td>\n",
       "      <td>0.0</td>\n",
       "      <td>8.678588e-16</td>\n",
       "    </tr>\n",
       "    <tr>\n",
       "      <th>min</th>\n",
       "      <td>0.000000e+00</td>\n",
       "      <td>0.0</td>\n",
       "      <td>0.000000e+00</td>\n",
       "    </tr>\n",
       "    <tr>\n",
       "      <th>10%</th>\n",
       "      <td>0.000000e+00</td>\n",
       "      <td>0.0</td>\n",
       "      <td>0.000000e+00</td>\n",
       "    </tr>\n",
       "    <tr>\n",
       "      <th>20%</th>\n",
       "      <td>0.000000e+00</td>\n",
       "      <td>0.0</td>\n",
       "      <td>0.000000e+00</td>\n",
       "    </tr>\n",
       "    <tr>\n",
       "      <th>30%</th>\n",
       "      <td>0.000000e+00</td>\n",
       "      <td>0.0</td>\n",
       "      <td>0.000000e+00</td>\n",
       "    </tr>\n",
       "    <tr>\n",
       "      <th>40%</th>\n",
       "      <td>0.000000e+00</td>\n",
       "      <td>0.0</td>\n",
       "      <td>0.000000e+00</td>\n",
       "    </tr>\n",
       "    <tr>\n",
       "      <th>50%</th>\n",
       "      <td>0.000000e+00</td>\n",
       "      <td>0.0</td>\n",
       "      <td>0.000000e+00</td>\n",
       "    </tr>\n",
       "    <tr>\n",
       "      <th>60%</th>\n",
       "      <td>0.000000e+00</td>\n",
       "      <td>0.0</td>\n",
       "      <td>0.000000e+00</td>\n",
       "    </tr>\n",
       "    <tr>\n",
       "      <th>70%</th>\n",
       "      <td>0.000000e+00</td>\n",
       "      <td>0.0</td>\n",
       "      <td>0.000000e+00</td>\n",
       "    </tr>\n",
       "    <tr>\n",
       "      <th>80%</th>\n",
       "      <td>0.000000e+00</td>\n",
       "      <td>0.0</td>\n",
       "      <td>0.000000e+00</td>\n",
       "    </tr>\n",
       "    <tr>\n",
       "      <th>90%</th>\n",
       "      <td>0.000000e+00</td>\n",
       "      <td>0.0</td>\n",
       "      <td>0.000000e+00</td>\n",
       "    </tr>\n",
       "    <tr>\n",
       "      <th>max</th>\n",
       "      <td>7.105427e-15</td>\n",
       "      <td>0.0</td>\n",
       "      <td>7.105427e-15</td>\n",
       "    </tr>\n",
       "  </tbody>\n",
       "</table>\n",
       "</div>"
      ],
      "text/plain": [
       "           max_diff  min_diff      diff_sum\n",
       "count  2.000000e+02     200.0  2.000000e+02\n",
       "mean   1.132427e-16       0.0  1.132427e-16\n",
       "std    8.678588e-16       0.0  8.678588e-16\n",
       "min    0.000000e+00       0.0  0.000000e+00\n",
       "10%    0.000000e+00       0.0  0.000000e+00\n",
       "20%    0.000000e+00       0.0  0.000000e+00\n",
       "30%    0.000000e+00       0.0  0.000000e+00\n",
       "40%    0.000000e+00       0.0  0.000000e+00\n",
       "50%    0.000000e+00       0.0  0.000000e+00\n",
       "60%    0.000000e+00       0.0  0.000000e+00\n",
       "70%    0.000000e+00       0.0  0.000000e+00\n",
       "80%    0.000000e+00       0.0  0.000000e+00\n",
       "90%    0.000000e+00       0.0  0.000000e+00\n",
       "max    7.105427e-15       0.0  7.105427e-15"
      ]
     },
     "execution_count": 10,
     "metadata": {},
     "output_type": "execute_result"
    }
   ],
   "source": [
    "test_result_df.describe(percentiles=[i * 0.1 for i in range(1, 10)])"
   ]
  },
  {
   "cell_type": "markdown",
   "id": "737f7513",
   "metadata": {},
   "source": [
    "### Task:\n",
    "\n",
    "You must implement a function that receives matrices $W$, $Z_{i+1}$ and $H_{i+1}$ and generates the next $G_{i+1}$ and $K_{i+1}$."
   ]
  },
  {
   "cell_type": "code",
   "execution_count": 11,
   "id": "3cbadd37",
   "metadata": {},
   "outputs": [],
   "source": [
    "from samplers import MC_sample_GK"
   ]
  },
  {
   "cell_type": "markdown",
   "id": "5b8c7993",
   "metadata": {},
   "source": [
    "## 2.4.2 G and K Sampling Tests"
   ]
  },
  {
   "cell_type": "markdown",
   "id": "5139ab26",
   "metadata": {},
   "source": [
    "#### MC_sample_GK tests"
   ]
  },
  {
   "cell_type": "code",
   "execution_count": 12,
   "id": "b34ea502",
   "metadata": {},
   "outputs": [
    {
     "name": "stdout",
     "output_type": "stream",
     "text": [
      "[1] \"[R] Matrix G:\"\n",
      "     V1 V2 V3 V4 V5 V6\n",
      "[1,]  0  1  0  0  0  0\n",
      "[2,]  1  0  0  0  1  0\n",
      "[3,]  0  0  0  1  1  0\n",
      "[4,]  0  0  1  0  1  1\n",
      "[5,]  0  1  1  1  0  0\n",
      "[6,]  0  0  0  1  0  0\n",
      "[1] \"[R] Data Matrix:\"\n",
      "             V1         V2         V3         V4         V5         V6\n",
      "[1,] 113.902604 -18.740222  -2.574988 -15.345477 -19.373414  -3.674199\n",
      "[2,] -18.740222  79.907268   2.299193   2.379722  -6.338472 -19.018370\n",
      "[3,]  -2.574988   2.299193 101.449047   6.748986  -9.993750  79.772529\n",
      "[4,] -15.345477   2.379722   6.748986  98.183702  75.337787  10.601217\n",
      "[5,] -19.373414  -6.338472  -9.993750  75.337787 165.112490 -10.433948\n",
      "[6,]  -3.674199 -19.018370  79.772529  10.601217 -10.433948 149.098644\n",
      "[1] \"[R] Shape Matrix:\"\n",
      "     [,1] [,2] [,3] [,4] [,5] [,6]\n",
      "[1,]    1    0    0    0    0    0\n",
      "[2,]    0    1    0    0    0    0\n",
      "[3,]    0    0    1    0    0    0\n",
      "[4,]    0    0    0    1    0    0\n",
      "[5,]    0    0    0    0    1    0\n",
      "[6,]    0    0    0    0    0    1\n",
      "[1] \"[R] Iterations:\"\n",
      "[1] 2\n",
      "2 iteration is started.                     \n",
      " Iteration  2                 \n",
      "[1] \"[R] Waiting time:\"\n",
      "[1] 0.2274686\n",
      "[1] \"[R] Sampled Matrix G:\"\n",
      "   V1 V2 V3 V4 V5 V6\n",
      "V1  0  1  0  0  0  0\n",
      "V2  1  0  0  0  1  0\n",
      "V3  0  0  0  1  1  0\n",
      "V4  0  0  1  0  1  1\n",
      "V5  0  1  1  1  0  0\n",
      "V6  0  0  0  1  0  0\n",
      "[1] \"[R] Sampled Matrix K:\"\n",
      "              [,1]          [,2]          [,3]          [,4]          [,5]\n",
      "[1,]  7.755787e-03  3.121897e-03 -4.767805e-15 -3.893115e-16 -2.521334e-20\n",
      "[2,]  3.121897e-03  1.612032e-02  3.260407e-17 -1.266843e-16  7.071180e-05\n",
      "[3,] -4.767799e-15  3.262499e-17  7.900983e-03 -8.334896e-03  5.244172e-03\n",
      "[4,] -3.893199e-16 -1.267311e-16 -8.334896e-03  3.472476e-02 -2.037142e-02\n",
      "[5,] -8.660694e-21  7.071180e-05  5.244172e-03 -2.037142e-02  1.513687e-02\n",
      "[6,]  2.341367e-22  2.018203e-21  2.054198e-19 -7.168958e-04  4.320252e-19\n",
      "              [,6]\n",
      "[1,]  3.332526e-22\n",
      "[2,]  1.484648e-21\n",
      "[3,]  1.825447e-19\n",
      "[4,] -7.168958e-04\n",
      "[5,]  4.320252e-19\n",
      "[6,]  4.016822e-03\n",
      "[1] \"[R] returning results:\"\n",
      "0.2274686245346042\n",
      "0 1 0 0 0 0 1 0 0 0 1 0 0 0 0 1 1 0 0 0 1 0 1 1 0 1 1 1 0 0 0 0 0 1 0 0 \n",
      "0.00775578660706371415811677394458 0.00312189682263324394875803058369 -0.00000000000000476780465356365531 -0.00000000000000038931154762710736 -0.00000000000000000002521334092244 0.00000000000000000000033325263503 0.00312189682263324264771542360108 0.01612031866011256336923551657492 0.00000000000000003260407035296325 -0.00000000000000012668425182741174 0.00007071180415813044684448379629 0.00000000000000000000148464751870 -0.00000000000000476779926698654111 0.00000000000000003262499378337764 0.00790098275158943735840821886995 -0.00833489621502869065805541026748 0.00524417234528597956538797930648 0.00000000000000000018254466846224 -0.00000000000000038931987497913754 -0.00000000000000012673110386543955 -0.00833489621502869239277888624429 0.03472475690505559542398117400808 -0.02037141534068262135881433039231 -0.00071689584618427342095625665053 -0.00000000000000000000866069375667 0.00007071180415813048750206526449 0.00524417234528597956538797930648 -0.02037141534068261788936737843869 0.01513687488999732044803181452153 0.00000000000000000043202518122218 0.00000000000000000000023413670793 0.00000000000000000000201820258329 0.00000000000000000020541979189918 -0.00071689584618427331253603940198 0.00000000000000000043202518122218 0.00401682245201382282645541366151 \n"
     ]
    }
   ],
   "source": [
    "# Check that the function runs with no issues, without side effects\n",
    "G_copy = random_initial_data.G.copy()\n",
    "H_copy = test_data.H.copy()\n",
    "degrees_of_freedom_b = k - 1\n",
    "shape_matrix = np.eye(k)\n",
    "\n",
    "wt_sample, G_sample, K_sample = MC_sample_GK(G_copy, H_copy, degrees_of_freedom_b, debug=True)"
   ]
  },
  {
   "cell_type": "code",
   "execution_count": 13,
   "id": "ffaaed0b",
   "metadata": {},
   "outputs": [
    {
     "data": {
      "text/plain": [
       "<matplotlib.image.AxesImage at 0x7faa662eea60>"
      ]
     },
     "execution_count": 13,
     "metadata": {},
     "output_type": "execute_result"
    },
    {
     "data": {
      "image/png": "[encoded data removed]",
      "text/plain": [
       "<Figure size 288x288 with 1 Axes>"
      ]
     },
     "metadata": {
      "needs_background": "light"
     },
     "output_type": "display_data"
    }
   ],
   "source": [
    "plt.matshow(G_sample, cmap='Blues')"
   ]
  },
  {
   "cell_type": "code",
   "execution_count": 14,
   "id": "1dbda2e9",
   "metadata": {},
   "outputs": [
    {
     "data": {
      "text/plain": [
       "<matplotlib.image.AxesImage at 0x7faa65cc3b50>"
      ]
     },
     "execution_count": 14,
     "metadata": {},
     "output_type": "execute_result"
    },
    {
     "data": {
      "image/png": "[encoded data removed]",
      "text/plain": [
       "<Figure size 288x288 with 1 Axes>"
      ]
     },
     "metadata": {
      "needs_background": "light"
     },
     "output_type": "display_data"
    }
   ],
   "source": [
    "plt.matshow(K_sample, cmap='Blues')  # Why is this NOT a mask of G?"
   ]
  },
  {
   "cell_type": "code",
   "execution_count": 15,
   "id": "9e5dacc5",
   "metadata": {},
   "outputs": [
    {
     "name": "stdout",
     "output_type": "stream",
     "text": [
      "CPU times: user 7.84 s, sys: 23.2 s, total: 31 s\n",
      "Wall time: 1h 31min 33s\n"
     ]
    }
   ],
   "source": [
    "%%time\n",
    "# Check that the Sampler works properly (This will take... forever)\n",
    "K_errors = []\n",
    "G_errors = []\n",
    "wrong_edges = []\n",
    "matrix_changes = []\n",
    "burn_in = 1000\n",
    "for i in range(5000):\n",
    "    K_sample_old = K_sample.copy()\n",
    "    G_sample_old = G_sample.copy()\n",
    "    wt_sample, G_sample, K_sample = MC_sample_GK(G_sample, H_copy, degrees_of_freedom_b, debug=False)\n",
    "    matrix_changes.append(~np.all(K_sample_old == K_sample))\n",
    "    if i >= burn_in:\n",
    "        K_errors.append(np.linalg.norm(K_sample - test_data.K))  # Computing error wrt the target matrix        \n",
    "        G_errors.append(np.linalg.norm(G_sample - test_data.G))  # Computing error wrt the target matrix\n",
    "        wrong_edges.append(np.sum(np.abs(G_sample - test_data.G)))  # Computing error wrt the target matrix"
   ]
  },
  {
   "cell_type": "code",
   "execution_count": 16,
   "id": "3f19e98a",
   "metadata": {},
   "outputs": [
    {
     "name": "stdout",
     "output_type": "stream",
     "text": [
      "K matrix changes (1 = changed, 0 = same)\n",
      "count    5000.0\n",
      "mean        1.0\n",
      "std         0.0\n",
      "min         1.0\n",
      "25%         1.0\n",
      "50%         1.0\n",
      "75%         1.0\n",
      "max         1.0\n",
      "dtype: float64\n"
     ]
    },
    {
     "data": {
      "text/plain": [
       "<AxesSubplot:>"
      ]
     },
     "execution_count": 16,
     "metadata": {},
     "output_type": "execute_result"
    },
    {
     "data": {
      "image/png": "[encoded data removed]",
      "text/plain": [
       "<Figure size 432x288 with 1 Axes>"
      ]
     },
     "metadata": {
      "needs_background": "light"
     },
     "output_type": "display_data"
    }
   ],
   "source": [
    "# K matrix should change\n",
    "matrix_changes = pd.Series(matrix_changes).astype(int)\n",
    "print(\"K matrix changes (1 = changed, 0 = same)\")\n",
    "print(matrix_changes.describe())\n",
    "matrix_changes.hist()"
   ]
  },
  {
   "cell_type": "code",
   "execution_count": 17,
   "id": "3999b7d1",
   "metadata": {},
   "outputs": [
    {
     "name": "stdout",
     "output_type": "stream",
     "text": [
      "K L2-error metrics\n",
      "count    4000.000000\n",
      "mean        3.512013\n",
      "std         0.008490\n",
      "min         3.479395\n",
      "25%         3.506447\n",
      "50%         3.512659\n",
      "75%         3.518137\n",
      "max         3.538883\n",
      "dtype: float64\n"
     ]
    },
    {
     "data": {
      "text/plain": [
       "<AxesSubplot:>"
      ]
     },
     "execution_count": 17,
     "metadata": {},
     "output_type": "execute_result"
    },
    {
     "data": {
      "image/png": "[encoded data removed]",
      "text/plain": [
       "<Figure size 432x288 with 1 Axes>"
      ]
     },
     "metadata": {
      "needs_background": "light"
     },
     "output_type": "display_data"
    }
   ],
   "source": [
    "# Error should be distributed close to 0 (I guess...)  # BUG https://trello.com/c/9k2e8PQz/33-mcsampleh-is-not-close-to-expected-target\n",
    "K_errors = pd.Series(K_errors)\n",
    "print(\"K L2-error metrics\")\n",
    "print(K_errors.describe())\n",
    "K_errors.hist()"
   ]
  },
  {
   "cell_type": "code",
   "execution_count": 18,
   "id": "436e24a1",
   "metadata": {},
   "outputs": [
    {
     "name": "stdout",
     "output_type": "stream",
     "text": [
      "K L2-error series\n"
     ]
    },
    {
     "data": {
      "image/png": "[encoded data removed]",
      "text/plain": [
       "<Figure size 432x288 with 1 Axes>"
      ]
     },
     "metadata": {
      "needs_background": "light"
     },
     "output_type": "display_data"
    }
   ],
   "source": [
    "K_errors.plot()\n",
    "print(\"K L2-error series\")"
   ]
  },
  {
   "cell_type": "code",
   "execution_count": null,
   "id": "4dd95e92-8f9c-42a4-98bb-e2afc54a596c",
   "metadata": {},
   "outputs": [],
   "source": [
    "graphs = []\n",
    "counts = []\n",
    "cut=4000\n",
    "max_iterations=5000\n",
    "not_found = True\n",
    "for it in range(cut,max_iterations):\n",
    "    not_found = True\n",
    "    for j in range(len(graphs)):\n",
    "        if np.all(sampled_Gs1[it] == graphs[j]):\n",
    "            counts[j] += wt_sample[it]\n",
    "            not_found = False\n",
    "    if not_found:\n",
    "        graphs.append(sampled_Gs1[it])\n",
    "        counts.append(wt_sample[it])\n",
    "\n",
    "plt.bar(range(len(counts)),counts)\n",
    "plt.suptitle('Sampled graphs histogram', x=0.5, y=1, ha='center')\n",
    "plt.show()\n",
    "\n",
    "modes = pd.Series(counts).sort_values()\n",
    "\n",
    "plt.matshow(graphs[counts.index(modes[0])], cmap='Blues')\n",
    "plt.suptitle(\"Most frequent graph in stable region\", x=0.5, y=1, ha='center')\n",
    "plt.show()\n",
    "\n",
    "plt.matshow(graphs[counts.index(modes[1])], cmap='Blues')\n",
    "plt.suptitle(\"Second most frequent graph in stable region\", x=0.5, y=1, ha='center')\n",
    "plt.show()\n",
    "\n",
    "plt.matshow(graphs[counts.index(modes[2])], cmap='Blues')\n",
    "plt.suptitle(\"Third most frequent graph in stable region\", x=0.5, y=1, ha='center')\n",
    "plt.show()"
   ]
  },
  {
   "cell_type": "code",
   "execution_count": null,
   "id": "a2bac831-31af-4996-bb23-29a492d0353b",
   "metadata": {},
   "outputs": [],
   "source": []
  },
  {
   "cell_type": "code",
   "execution_count": null,
   "id": "5b086450-3ed6-4914-b3e8-ba4b9c33b057",
   "metadata": {},
   "outputs": [],
   "source": [
    "we = [] #wrong edges unique\n",
    "counts = []\n",
    "cut=4000\n",
    "max_iterations=5000\n",
    "not_found = True\n",
    "for it in range(cut,max_iterations):\n",
    "    not_found = True\n",
    "    for j in range(len(we)):\n",
    "        if np.all(wrong_edges[it] == we[j]):\n",
    "            counts[j] += wt_sample[it]\n",
    "            not_found = False\n",
    "    if not_found:\n",
    "        we.append(wrong_edges[it])\n",
    "        counts.append(wt_sample[it])\n",
    "\n",
    "plt.hist(we, weights=counts)\n",
    "plt.suptitle('Wrong Edges histogram', x=0.5, y=1, ha='center')\n",
    "plt.show()\n",
    "\n",
    "modes = pd.Series(counts).sort_values()\n"
   ]
  },
  {
   "cell_type": "code",
   "execution_count": null,
   "id": "739f12f5-a0ce-46bb-9324-1f2b13be6571",
   "metadata": {},
   "outputs": [],
   "source": []
  },
  {
   "cell_type": "code",
   "execution_count": null,
   "id": "9de7ae0c-a1b8-4076-8c59-d9ec39b716f5",
   "metadata": {},
   "outputs": [],
   "source": []
  },
  {
   "cell_type": "code",
   "execution_count": 19,
   "id": "711d18e0",
   "metadata": {},
   "outputs": [
    {
     "name": "stdout",
     "output_type": "stream",
     "text": [
      "G L2-error metrics\n",
      "count    4000.000000\n",
      "mean        2.091812\n",
      "std         0.609439\n",
      "min         1.414214\n",
      "25%         1.414214\n",
      "50%         2.449490\n",
      "75%         2.449490\n",
      "max         3.162278\n",
      "dtype: float64\n"
     ]
    },
    {
     "data": {
      "text/plain": [
       "<AxesSubplot:>"
      ]
     },
     "execution_count": 19,
     "metadata": {},
     "output_type": "execute_result"
    },
    {
     "data": {
      "image/png": "[encoded data removed]",
      "text/plain": [
       "<Figure size 432x288 with 1 Axes>"
      ]
     },
     "metadata": {
      "needs_background": "light"
     },
     "output_type": "display_data"
    }
   ],
   "source": [
    "# Error should be distributed close to 0 (I guess...)  # BUG https://trello.com/c/9k2e8PQz/33-mcsampleh-is-not-close-to-expected-target\n",
    "G_errors = pd.Series(G_errors)\n",
    "print(\"G L2-error metrics\")\n",
    "print(G_errors.describe())\n",
    "G_errors.hist()"
   ]
  },
  {
   "cell_type": "code",
   "execution_count": 20,
   "id": "134055f3",
   "metadata": {
    "scrolled": true
   },
   "outputs": [
    {
     "name": "stdout",
     "output_type": "stream",
     "text": [
      "G L2-error series\n"
     ]
    },
    {
     "data": {
      "image/png": "[encoded data removed]",
      "text/plain": [
       "<Figure size 432x288 with 1 Axes>"
      ]
     },
     "metadata": {
      "needs_background": "light"
     },
     "output_type": "display_data"
    }
   ],
   "source": [
    "G_errors.plot()\n",
    "print(\"G L2-error series\")"
   ]
  },
  {
   "cell_type": "code",
   "execution_count": 21,
   "id": "2e5ec025",
   "metadata": {},
   "outputs": [
    {
     "name": "stdout",
     "output_type": "stream",
     "text": [
      "G wrong edges count\n",
      "count    4000.000000\n",
      "mean        4.747000\n",
      "std         2.599169\n",
      "min         2.000000\n",
      "25%         2.000000\n",
      "50%         6.000000\n",
      "75%         6.000000\n",
      "max        10.000000\n",
      "dtype: float64\n"
     ]
    },
    {
     "data": {
      "text/plain": [
       "<AxesSubplot:>"
      ]
     },
     "execution_count": 21,
     "metadata": {},
     "output_type": "execute_result"
    },
    {
     "data": {
      "image/png": "[encoded data removed]",
      "text/plain": [
       "<Figure size 432x288 with 1 Axes>"
      ]
     },
     "metadata": {
      "needs_background": "light"
     },
     "output_type": "display_data"
    }
   ],
   "source": [
    "wrong_edges = pd.Series(wrong_edges)\n",
    "print(\"G wrong edges count\")\n",
    "print(wrong_edges.describe())\n",
    "wrong_edges.hist()"
   ]
  },
  {
   "cell_type": "code",
   "execution_count": 22,
   "id": "542aff0b",
   "metadata": {
    "scrolled": true
   },
   "outputs": [
    {
     "name": "stdout",
     "output_type": "stream",
     "text": [
      "G wrong edges series\n"
     ]
    },
    {
     "data": {
      "image/png": "[encoded data removed]",
      "text/plain": [
       "<Figure size 432x288 with 1 Axes>"
      ]
     },
     "metadata": {
      "needs_background": "light"
     },
     "output_type": "display_data"
    }
   ],
   "source": [
    "wrong_edges.plot()\n",
    "print(\"G wrong edges series\")"
   ]
  }
 ],
 "metadata": {
  "interpreter": {
   "hash": "a803b5bf187bf95155bcb05f6102b06519856e9ee60d4a9ebc29561a74488513"
  },
  "kernelspec": {
   "display_name": "Python 3",
   "language": "python",
   "name": "python3"
  },
  "language_info": {
   "codemirror_mode": {
    "name": "ipython",
    "version": 3
   },
   "file_extension": ".py",
   "mimetype": "text/x-python",
   "name": "python",
   "nbconvert_exporter": "python",
   "pygments_lexer": "ipython3",
   "version": "3.8.8"
  }
 },
 "nbformat": 4,
 "nbformat_minor": 5
}
