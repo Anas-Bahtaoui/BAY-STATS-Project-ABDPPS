{
 "cells": [
  {
   "cell_type": "code",
   "execution_count": 1,
   "id": "19317a5d",
   "metadata": {},
   "outputs": [],
   "source": [
    "# GLOBAL VARIABLES. BE SURE NOT TO OVERWRITE THEM\n",
    "D = 8 # Amount of documents\n",
    "V = 12 # Size of the vocabulary\n",
    "\n",
    "# (Approximate) Maximum allowed amount of same word repetition in a document (it may be lower in practise due to the data generation strategy)\n",
    "# To get the actual maximum amount, call Simulator.get_M\n",
    "M = 10 \n",
    "\n",
    "\n",
    "k = 5 # Amount of topics\n",
    "gamma = 0.2  #"
   ]
  },
  {
   "cell_type": "code",
   "execution_count": 2,
   "id": "88287d9a",
   "metadata": {},
   "outputs": [],
   "source": [
    "# GLOBAL VARIABLES. BE SURE NOT TO OVERWRITE THEM\n",
    "#D = 100 # Amount of documents\n",
    "#V = 18 # Size of the vocabulary\n",
    "\n",
    "# (Approximate) Maximum allowed amount of same word repetition in a document (it may be lower in practise due to the data generation strategy)\n",
    "# To get the actual maximum amount, call Simulator.get_M\n",
    "#M = 5 \n",
    "\n",
    "#k = 6 # Amount of topics\n",
    "#gamma = 0.2\n",
    "\n",
    "# FA: Since we're testing so much, lets agree on using just 1 small set of global variables for now"
   ]
  },
  {
   "cell_type": "code",
   "execution_count": 3,
   "id": "c1510cda",
   "metadata": {},
   "outputs": [],
   "source": [
    "from matplotlib import pyplot as plt\n",
    "import numpy as np\n",
    "import pandas as pd"
   ]
  },
  {
   "cell_type": "markdown",
   "id": "0b61e12d",
   "metadata": {},
   "source": [
    "From now on let's use the following simulated data for further testing"
   ]
  },
  {
   "cell_type": "code",
   "execution_count": 4,
   "id": "7a28fbb1",
   "metadata": {},
   "outputs": [],
   "source": [
    "from simulator import Simulator"
   ]
  },
  {
   "cell_type": "code",
   "execution_count": 5,
   "id": "ad7ca671",
   "metadata": {},
   "outputs": [
    {
     "name": "stdout",
     "output_type": "stream",
     "text": [
      "Success: Sigma transformed from K\n",
      "Success: G transformed from K\n",
      "Success: W and Z generated\n",
      "Success: E transformed from Z\n",
      "Success: C transformed from Z\n",
      "Success: Sigma transformed from K\n",
      "Success: G transformed from K\n",
      "Success: W and Z generated\n",
      "Success: E transformed from Z\n",
      "Success: C transformed from Z\n"
     ]
    }
   ],
   "source": [
    "test_data = Simulator(D, V, M, k, gamma, seed=1967)  # Man on the moon\n",
    "test_data.generate_all_data()\n",
    "\n",
    "random_initial_data = Simulator(D, V, M, k, gamma, seed=1969)  # Woodstock Music Festival\n",
    "random_initial_data.generate_all_data()"
   ]
  },
  {
   "cell_type": "code",
   "execution_count": 6,
   "id": "a4bb4554",
   "metadata": {},
   "outputs": [
    {
     "data": {
      "text/plain": [
       "<matplotlib.image.AxesImage at 0x7f270842cfa0>"
      ]
     },
     "execution_count": 6,
     "metadata": {},
     "output_type": "execute_result"
    },
    {
     "data": {
      "image/png": "[encoded data removed]",
      "text/plain": [
       "<Figure size 288x288 with 1 Axes>"
      ]
     },
     "metadata": {
      "needs_background": "light"
     },
     "output_type": "display_data"
    },
    {
     "data": {
      "image/png": "[encoded data removed]",
      "text/plain": [
       "<Figure size 288x288 with 1 Axes>"
      ]
     },
     "metadata": {
      "needs_background": "light"
     },
     "output_type": "display_data"
    }
   ],
   "source": [
    "plt.matshow(test_data.G, cmap='Blues')\n",
    "plt.matshow(random_initial_data.G, cmap='Blues')"
   ]
  },
  {
   "cell_type": "markdown",
   "id": "1b3673eb",
   "metadata": {},
   "source": [
    "# 2 MC SAMPLER"
   ]
  },
  {
   "cell_type": "markdown",
   "id": "346a9acb",
   "metadata": {},
   "source": [
    "## 2.4.1 Sampling G and K (BDMCMC Sampling)"
   ]
  },
  {
   "cell_type": "code",
   "execution_count": 7,
   "id": "a7e34281",
   "metadata": {},
   "outputs": [],
   "source": [
    "from samplers import serialize_matrix, deserialize_matrix"
   ]
  },
  {
   "cell_type": "markdown",
   "id": "bf7ad8db",
   "metadata": {},
   "source": [
    "#### Serialization test"
   ]
  },
  {
   "cell_type": "code",
   "execution_count": 8,
   "id": "7003571f",
   "metadata": {},
   "outputs": [],
   "source": [
    "# This function is only used to test if the serialization and deserialization functions between R and python work properly\n",
    "import subprocess\n",
    "\n",
    "\n",
    "def serialization_function_test(n_tests=200, shape=(8,17)):    \n",
    "    results = []\n",
    "    for _ in range(n_tests):\n",
    "        \n",
    "        # Generate random matrix\n",
    "        test_matrix = np.random.random(shape) * 100\n",
    "        \n",
    "        # Serialize matrix\n",
    "        serialized_test_matrix = serialize_matrix(test_matrix)\n",
    "        \n",
    "        # Send to R script\n",
    "        command = f\"Rscript --vanilla serialize_matrix_test.R {serialized_test_matrix}\"\n",
    "        result = subprocess.run(command, \n",
    "                                shell=True, \n",
    "                                capture_output=True,\n",
    "                                text=True)\n",
    "        \n",
    "        # Deserialize from R output\n",
    "        deserialized_test_matrix = deserialize_matrix(result.stdout, shape=shape)\n",
    "        differences = np.abs(test_matrix-deserialized_test_matrix)\n",
    "        max_diff = np.max(differences)\n",
    "        min_diff = np.min(differences)\n",
    "        diff_sum = np.sum(differences)\n",
    "        results.append({'max_diff': max_diff, 'min_diff': min_diff, 'diff_sum': diff_sum})\n",
    "    return pd.DataFrame(results)"
   ]
  },
  {
   "cell_type": "code",
   "execution_count": 9,
   "id": "91eb1cb6",
   "metadata": {},
   "outputs": [
    {
     "name": "stdout",
     "output_type": "stream",
     "text": [
      "CPU times: user 254 ms, sys: 668 ms, total: 921 ms\n",
      "Wall time: 26.6 s\n"
     ]
    },
    {
     "data": {
      "text/html": [
       "<div>\n",
       "<style scoped>\n",
       "    .dataframe tbody tr th:only-of-type {\n",
       "        vertical-align: middle;\n",
       "    }\n",
       "\n",
       "    .dataframe tbody tr th {\n",
       "        vertical-align: top;\n",
       "    }\n",
       "\n",
       "    .dataframe thead th {\n",
       "        text-align: right;\n",
       "    }\n",
       "</style>\n",
       "<table border=\"1\" class=\"dataframe\">\n",
       "  <thead>\n",
       "    <tr style=\"text-align: right;\">\n",
       "      <th></th>\n",
       "      <th>max_diff</th>\n",
       "      <th>min_diff</th>\n",
       "      <th>diff_sum</th>\n",
       "    </tr>\n",
       "  </thead>\n",
       "  <tbody>\n",
       "    <tr>\n",
       "      <th>0</th>\n",
       "      <td>0.0</td>\n",
       "      <td>0.0</td>\n",
       "      <td>0.0</td>\n",
       "    </tr>\n",
       "    <tr>\n",
       "      <th>1</th>\n",
       "      <td>0.0</td>\n",
       "      <td>0.0</td>\n",
       "      <td>0.0</td>\n",
       "    </tr>\n",
       "    <tr>\n",
       "      <th>2</th>\n",
       "      <td>0.0</td>\n",
       "      <td>0.0</td>\n",
       "      <td>0.0</td>\n",
       "    </tr>\n",
       "    <tr>\n",
       "      <th>3</th>\n",
       "      <td>0.0</td>\n",
       "      <td>0.0</td>\n",
       "      <td>0.0</td>\n",
       "    </tr>\n",
       "    <tr>\n",
       "      <th>4</th>\n",
       "      <td>0.0</td>\n",
       "      <td>0.0</td>\n",
       "      <td>0.0</td>\n",
       "    </tr>\n",
       "  </tbody>\n",
       "</table>\n",
       "</div>"
      ],
      "text/plain": [
       "   max_diff  min_diff  diff_sum\n",
       "0       0.0       0.0       0.0\n",
       "1       0.0       0.0       0.0\n",
       "2       0.0       0.0       0.0\n",
       "3       0.0       0.0       0.0\n",
       "4       0.0       0.0       0.0"
      ]
     },
     "execution_count": 9,
     "metadata": {},
     "output_type": "execute_result"
    }
   ],
   "source": [
    "%%time\n",
    "test_result_df = serialization_function_test()\n",
    "test_result_df.head()"
   ]
  },
  {
   "cell_type": "code",
   "execution_count": 10,
   "id": "3e3c79d0",
   "metadata": {},
   "outputs": [
    {
     "data": {
      "text/html": [
       "<div>\n",
       "<style scoped>\n",
       "    .dataframe tbody tr th:only-of-type {\n",
       "        vertical-align: middle;\n",
       "    }\n",
       "\n",
       "    .dataframe tbody tr th {\n",
       "        vertical-align: top;\n",
       "    }\n",
       "\n",
       "    .dataframe thead th {\n",
       "        text-align: right;\n",
       "    }\n",
       "</style>\n",
       "<table border=\"1\" class=\"dataframe\">\n",
       "  <thead>\n",
       "    <tr style=\"text-align: right;\">\n",
       "      <th></th>\n",
       "      <th>max_diff</th>\n",
       "      <th>min_diff</th>\n",
       "      <th>diff_sum</th>\n",
       "    </tr>\n",
       "  </thead>\n",
       "  <tbody>\n",
       "    <tr>\n",
       "      <th>count</th>\n",
       "      <td>2.000000e+02</td>\n",
       "      <td>200.0</td>\n",
       "      <td>2.000000e+02</td>\n",
       "    </tr>\n",
       "    <tr>\n",
       "      <th>mean</th>\n",
       "      <td>8.881784e-18</td>\n",
       "      <td>0.0</td>\n",
       "      <td>8.881784e-18</td>\n",
       "    </tr>\n",
       "    <tr>\n",
       "      <th>std</th>\n",
       "      <td>1.256074e-16</td>\n",
       "      <td>0.0</td>\n",
       "      <td>1.256074e-16</td>\n",
       "    </tr>\n",
       "    <tr>\n",
       "      <th>min</th>\n",
       "      <td>0.000000e+00</td>\n",
       "      <td>0.0</td>\n",
       "      <td>0.000000e+00</td>\n",
       "    </tr>\n",
       "    <tr>\n",
       "      <th>10%</th>\n",
       "      <td>0.000000e+00</td>\n",
       "      <td>0.0</td>\n",
       "      <td>0.000000e+00</td>\n",
       "    </tr>\n",
       "    <tr>\n",
       "      <th>20%</th>\n",
       "      <td>0.000000e+00</td>\n",
       "      <td>0.0</td>\n",
       "      <td>0.000000e+00</td>\n",
       "    </tr>\n",
       "    <tr>\n",
       "      <th>30%</th>\n",
       "      <td>0.000000e+00</td>\n",
       "      <td>0.0</td>\n",
       "      <td>0.000000e+00</td>\n",
       "    </tr>\n",
       "    <tr>\n",
       "      <th>40%</th>\n",
       "      <td>0.000000e+00</td>\n",
       "      <td>0.0</td>\n",
       "      <td>0.000000e+00</td>\n",
       "    </tr>\n",
       "    <tr>\n",
       "      <th>50%</th>\n",
       "      <td>0.000000e+00</td>\n",
       "      <td>0.0</td>\n",
       "      <td>0.000000e+00</td>\n",
       "    </tr>\n",
       "    <tr>\n",
       "      <th>60%</th>\n",
       "      <td>0.000000e+00</td>\n",
       "      <td>0.0</td>\n",
       "      <td>0.000000e+00</td>\n",
       "    </tr>\n",
       "    <tr>\n",
       "      <th>70%</th>\n",
       "      <td>0.000000e+00</td>\n",
       "      <td>0.0</td>\n",
       "      <td>0.000000e+00</td>\n",
       "    </tr>\n",
       "    <tr>\n",
       "      <th>80%</th>\n",
       "      <td>0.000000e+00</td>\n",
       "      <td>0.0</td>\n",
       "      <td>0.000000e+00</td>\n",
       "    </tr>\n",
       "    <tr>\n",
       "      <th>90%</th>\n",
       "      <td>0.000000e+00</td>\n",
       "      <td>0.0</td>\n",
       "      <td>0.000000e+00</td>\n",
       "    </tr>\n",
       "    <tr>\n",
       "      <th>max</th>\n",
       "      <td>1.776357e-15</td>\n",
       "      <td>0.0</td>\n",
       "      <td>1.776357e-15</td>\n",
       "    </tr>\n",
       "  </tbody>\n",
       "</table>\n",
       "</div>"
      ],
      "text/plain": [
       "           max_diff  min_diff      diff_sum\n",
       "count  2.000000e+02     200.0  2.000000e+02\n",
       "mean   8.881784e-18       0.0  8.881784e-18\n",
       "std    1.256074e-16       0.0  1.256074e-16\n",
       "min    0.000000e+00       0.0  0.000000e+00\n",
       "10%    0.000000e+00       0.0  0.000000e+00\n",
       "20%    0.000000e+00       0.0  0.000000e+00\n",
       "30%    0.000000e+00       0.0  0.000000e+00\n",
       "40%    0.000000e+00       0.0  0.000000e+00\n",
       "50%    0.000000e+00       0.0  0.000000e+00\n",
       "60%    0.000000e+00       0.0  0.000000e+00\n",
       "70%    0.000000e+00       0.0  0.000000e+00\n",
       "80%    0.000000e+00       0.0  0.000000e+00\n",
       "90%    0.000000e+00       0.0  0.000000e+00\n",
       "max    1.776357e-15       0.0  1.776357e-15"
      ]
     },
     "execution_count": 10,
     "metadata": {},
     "output_type": "execute_result"
    }
   ],
   "source": [
    "test_result_df.describe(percentiles=[i * 0.1 for i in range(1, 10)])"
   ]
  },
  {
   "cell_type": "markdown",
   "id": "7a673e9c",
   "metadata": {},
   "source": [
    "### Task:\n",
    "\n",
    "You must implement a function that receives matrices $W$, $Z_{i+1}$ and $H_{i+1}$ and generates the next $G_{i+1}$ and $K_{i+1}$."
   ]
  },
  {
   "cell_type": "code",
   "execution_count": 11,
   "id": "f8bb9b27",
   "metadata": {},
   "outputs": [],
   "source": [
    "from samplers import MC_sample_GK"
   ]
  },
  {
   "cell_type": "markdown",
   "id": "3e133b67",
   "metadata": {},
   "source": [
    "## 2.4.2 G and K Sampling Tests"
   ]
  },
  {
   "cell_type": "markdown",
   "id": "ec2633cd",
   "metadata": {},
   "source": [
    "#### MC_sample_GK tests"
   ]
  },
  {
   "cell_type": "code",
   "execution_count": 12,
   "id": "44798bb6",
   "metadata": {},
   "outputs": [
    {
     "name": "stdout",
     "output_type": "stream",
     "text": [
      "[1] \"[R] Matrix G:\"\n",
      "     V1 V2 V3 V4 V5\n",
      "[1,]  0  0  0  0  1\n",
      "[2,]  0  0  0  0  0\n",
      "[3,]  0  0  0  0  0\n",
      "[4,]  0  0  0  0  1\n",
      "[5,]  1  0  0  1  0\n",
      "[1] \"[R] Data Matrix:\"\n",
      "             V1        V2          V3          V4         V5\n",
      "[1,]  4.8271696 -2.529908 -2.60905613  2.06795435  0.9204163\n",
      "[2,] -2.5299083 20.108788  1.69769232  1.36241338  1.0238644\n",
      "[3,] -2.6090561  1.697692 10.93384050 -0.01653776 -4.1524335\n",
      "[4,]  2.0679544  1.362413 -0.01653776  4.42360858 -3.7338783\n",
      "[5,]  0.9204163  1.023864 -4.15243354 -3.73387834  7.9064371\n",
      "[1] \"[R] Shape Matrix:\"\n",
      "     [,1] [,2] [,3] [,4] [,5]\n",
      "[1,]    1    0    0    0    0\n",
      "[2,]    0    1    0    0    0\n",
      "[3,]    0    0    1    0    0\n",
      "[4,]    0    0    0    1    0\n",
      "[5,]    0    0    0    0    1\n",
      "[1] \"[R] Iterations:\"\n",
      "[1] 2\n",
      "2 iteration is started.                     \n",
      " Iteration  2                 \n",
      "[1] \"[R] Waiting time:\"\n",
      "[1] 0.5688709\n",
      "[1] \"[R] Sampled Matrix G:\"\n",
      "   V1 V2 V3 V4 V5\n",
      "V1  0  0  0  1  1\n",
      "V2  0  0  0  0  0\n",
      "V3  0  0  0  0  1\n",
      "V4  1  0  0  0  1\n",
      "V5  1  0  1  1  0\n",
      "[1] \"[R] Sampled Matrix K:\"\n",
      "              [,1]       [,2]          [,3]          [,4]        [,5]\n",
      "[1,]  2.896094e-01 0.00000000 -6.064130e-18 -1.953465e-01 -0.07601408\n",
      "[2,]  0.000000e+00 0.02142252  0.000000e+00  0.000000e+00  0.00000000\n",
      "[3,] -6.727810e-18 0.00000000  1.060832e-01  4.036686e-17  0.10643032\n",
      "[4,] -1.953465e-01 0.00000000  1.814733e-17  5.876694e-01  0.22956987\n",
      "[5,] -7.601408e-02 0.00000000  1.064303e-01  2.295699e-01  0.32901897\n",
      "[1] \"[R] returning results:\"\n",
      "0.5688708717511963\n",
      "0 0 0 1 1 0 0 0 0 0 0 0 0 0 1 1 0 0 0 1 1 0 1 1 0 \n",
      "0.28960940088319553353812807472423 0.00000000000000000000000000000000 -0.00000000000000000606412998106075 -0.19534654420695532484053558164305 -0.07601408186500520358652721597537 0.00000000000000000000000000000000 0.02142252089554015637151707096564 0.00000000000000000000000000000000 0.00000000000000000000000000000000 0.00000000000000000000000000000000 -0.00000000000000000672781043704074 0.00000000000000000000000000000000 0.10608324640997351950844063139812 0.00000000000000004036686262224444 0.10643031770417232806380525289569 -0.19534654420695535259611119727197 0.00000000000000000000000000000000 0.00000000000000001814733360167927 0.58766941857622223555068785572075 0.22956986638858906113469515730685 -0.07601408186500520358652721597537 0.00000000000000000000000000000000 0.10643031770417231418601744508123 0.22956986638858906113469515730685 0.32901897011333613995986979716690 \n"
     ]
    }
   ],
   "source": [
    "# Check that the function runs with no issues, without side effects\n",
    "G_copy = random_initial_data.G.copy()\n",
    "H_copy = test_data.H.copy()\n",
    "degrees_of_freedom_b = k - 1\n",
    "shape_matrix = np.eye(k)\n",
    "\n",
    "wt_sample, G_sample, K_sample = MC_sample_GK(G_copy, H_copy, degrees_of_freedom_b, debug=True)"
   ]
  },
  {
   "cell_type": "code",
   "execution_count": 13,
   "id": "6aa32ee5",
   "metadata": {},
   "outputs": [
    {
     "data": {
      "text/plain": [
       "<matplotlib.image.AxesImage at 0x7f270832f5b0>"
      ]
     },
     "execution_count": 13,
     "metadata": {},
     "output_type": "execute_result"
    },
    {
     "data": {
      "image/png": "[encoded data removed]",
      "text/plain": [
       "<Figure size 288x288 with 1 Axes>"
      ]
     },
     "metadata": {
      "needs_background": "light"
     },
     "output_type": "display_data"
    }
   ],
   "source": [
    "plt.matshow(G_sample, cmap='Blues')"
   ]
  },
  {
   "cell_type": "code",
   "execution_count": 14,
   "id": "cac6c5cd",
   "metadata": {},
   "outputs": [
    {
     "data": {
      "text/plain": [
       "<matplotlib.image.AxesImage at 0x7f27082a8b50>"
      ]
     },
     "execution_count": 14,
     "metadata": {},
     "output_type": "execute_result"
    },
    {
     "data": {
      "image/png": "[encoded data removed]",
      "text/plain": [
       "<Figure size 288x288 with 1 Axes>"
      ]
     },
     "metadata": {
      "needs_background": "light"
     },
     "output_type": "display_data"
    }
   ],
   "source": [
    "plt.matshow(K_sample, cmap='Blues')  # Why is this NOT a mask of G?"
   ]
  },
  {
   "cell_type": "code",
   "execution_count": 15,
   "id": "bd27ef7a",
   "metadata": {},
   "outputs": [
    {
     "name": "stdout",
     "output_type": "stream",
     "text": [
      "CPU times: user 723 ms, sys: 2.84 s, total: 3.56 s\n",
      "Wall time: 2min 50s\n"
     ]
    }
   ],
   "source": [
    "%%time\n",
    "# Check that the Sampler works properly (This will take... forever)\n",
    "K_errors = []\n",
    "G_errors = []\n",
    "wrong_edges = []\n",
    "matrix_changes = []\n",
    "burn_in = 0\n",
    "for i in range(1000):\n",
    "    K_sample_old = K_sample.copy()\n",
    "    G_sample_old = G_sample.copy()\n",
    "    wt_sample, G_sample, K_sample = MC_sample_GK(G_sample, H_copy, degrees_of_freedom_b, debug=False)\n",
    "    matrix_changes.append(~np.all(K_sample_old == K_sample))\n",
    "    if i >= burn_in:\n",
    "        K_errors.append(np.linalg.norm(K_sample - test_data.K))  # Computing error wrt the target matrix        \n",
    "        G_errors.append(np.linalg.norm(G_sample - test_data.G))  # Computing error wrt the target matrix\n",
    "        wrong_edges.append(np.sum(np.abs(G_sample - test_data.G)))  # Computing error wrt the target matrix"
   ]
  },
  {
   "cell_type": "code",
   "execution_count": 16,
   "id": "5bd96388",
   "metadata": {},
   "outputs": [
    {
     "name": "stdout",
     "output_type": "stream",
     "text": [
      "K matrix changes (1 = changed, 0 = same)\n",
      "count    1000.0\n",
      "mean        1.0\n",
      "std         0.0\n",
      "min         1.0\n",
      "25%         1.0\n",
      "50%         1.0\n",
      "75%         1.0\n",
      "max         1.0\n",
      "dtype: float64\n"
     ]
    },
    {
     "data": {
      "text/plain": [
       "<AxesSubplot:>"
      ]
     },
     "execution_count": 16,
     "metadata": {},
     "output_type": "execute_result"
    },
    {
     "data": {
      "image/png": "[encoded data removed]",
      "text/plain": [
       "<Figure size 432x288 with 1 Axes>"
      ]
     },
     "metadata": {
      "needs_background": "light"
     },
     "output_type": "display_data"
    }
   ],
   "source": [
    "# K matrix should change\n",
    "matrix_changes = pd.Series(matrix_changes).astype(int)\n",
    "print(\"K matrix changes (1 = changed, 0 = same)\")\n",
    "print(matrix_changes.describe())\n",
    "matrix_changes.hist()"
   ]
  },
  {
   "cell_type": "code",
   "execution_count": 17,
   "id": "b8afca91",
   "metadata": {},
   "outputs": [
    {
     "name": "stdout",
     "output_type": "stream",
     "text": [
      "K L2-error metrics\n",
      "count    1000.000000\n",
      "mean        2.135428\n",
      "std         0.204435\n",
      "min         1.748849\n",
      "25%         2.023830\n",
      "50%         2.111542\n",
      "75%         2.214284\n",
      "max         6.039950\n",
      "dtype: float64\n"
     ]
    },
    {
     "data": {
      "text/plain": [
       "<AxesSubplot:>"
      ]
     },
     "execution_count": 17,
     "metadata": {},
     "output_type": "execute_result"
    },
    {
     "data": {
      "image/png": "[encoded data removed]",
      "text/plain": [
       "<Figure size 432x288 with 1 Axes>"
      ]
     },
     "metadata": {
      "needs_background": "light"
     },
     "output_type": "display_data"
    }
   ],
   "source": [
    "# Error should be distributed close to 0 (I guess...)  # BUG https://trello.com/c/9k2e8PQz/33-mcsampleh-is-not-close-to-expected-target\n",
    "K_errors = pd.Series(K_errors)\n",
    "print(\"K L2-error metrics\")\n",
    "print(K_errors.describe())\n",
    "K_errors.hist()"
   ]
  },
  {
   "cell_type": "code",
   "execution_count": 18,
   "id": "b0c64838",
   "metadata": {},
   "outputs": [
    {
     "name": "stdout",
     "output_type": "stream",
     "text": [
      "K L2-error series\n"
     ]
    },
    {
     "data": {
      "image/png": "[encoded data removed]",
      "text/plain": [
       "<Figure size 432x288 with 1 Axes>"
      ]
     },
     "metadata": {
      "needs_background": "light"
     },
     "output_type": "display_data"
    }
   ],
   "source": [
    "K_errors.plot()\n",
    "print(\"K L2-error series\")"
   ]
  },
  {
   "cell_type": "code",
   "execution_count": 19,
   "id": "32f0c648",
   "metadata": {},
   "outputs": [
    {
     "name": "stdout",
     "output_type": "stream",
     "text": [
      "G L2-error metrics\n",
      "count    1000.000000\n",
      "mean        3.167879\n",
      "std         0.429802\n",
      "min         2.449490\n",
      "25%         3.162278\n",
      "50%         3.162278\n",
      "75%         3.162278\n",
      "max         4.242641\n",
      "dtype: float64\n"
     ]
    },
    {
     "data": {
      "text/plain": [
       "<AxesSubplot:>"
      ]
     },
     "execution_count": 19,
     "metadata": {},
     "output_type": "execute_result"
    },
    {
     "data": {
      "image/png": "[encoded data removed]",
      "text/plain": [
       "<Figure size 432x288 with 1 Axes>"
      ]
     },
     "metadata": {
      "needs_background": "light"
     },
     "output_type": "display_data"
    }
   ],
   "source": [
    "# Error should be distributed close to 0 (I guess...)  # BUG https://trello.com/c/9k2e8PQz/33-mcsampleh-is-not-close-to-expected-target\n",
    "G_errors = pd.Series(G_errors)\n",
    "print(\"G L2-error metrics\")\n",
    "print(G_errors.describe())\n",
    "G_errors.hist()"
   ]
  },
  {
   "cell_type": "code",
   "execution_count": 20,
   "id": "aa29d556",
   "metadata": {
    "scrolled": true
   },
   "outputs": [
    {
     "name": "stdout",
     "output_type": "stream",
     "text": [
      "G L2-error series\n"
     ]
    },
    {
     "data": {
      "image/png": "[encoded data removed]",
      "text/plain": [
       "<Figure size 432x288 with 1 Axes>"
      ]
     },
     "metadata": {
      "needs_background": "light"
     },
     "output_type": "display_data"
    }
   ],
   "source": [
    "G_errors.plot()\n",
    "print(\"G L2-error series\")"
   ]
  },
  {
   "cell_type": "code",
   "execution_count": 21,
   "id": "a076ef96",
   "metadata": {},
   "outputs": [
    {
     "name": "stdout",
     "output_type": "stream",
     "text": [
      "G wrong edges count\n",
      "count    1000.000000\n",
      "mean       10.220000\n",
      "std         2.696455\n",
      "min         6.000000\n",
      "25%        10.000000\n",
      "50%        10.000000\n",
      "75%        10.000000\n",
      "max        18.000000\n",
      "dtype: float64\n"
     ]
    },
    {
     "data": {
      "text/plain": [
       "<AxesSubplot:>"
      ]
     },
     "execution_count": 21,
     "metadata": {},
     "output_type": "execute_result"
    },
    {
     "data": {
      "image/png": "[encoded data removed]",
      "text/plain": [
       "<Figure size 432x288 with 1 Axes>"
      ]
     },
     "metadata": {
      "needs_background": "light"
     },
     "output_type": "display_data"
    }
   ],
   "source": [
    "wrong_edges = pd.Series(wrong_edges)\n",
    "print(\"G wrong edges count\")\n",
    "print(wrong_edges.describe())\n",
    "wrong_edges.hist()"
   ]
  },
  {
   "cell_type": "code",
   "execution_count": 22,
   "id": "b3066cc2",
   "metadata": {
    "scrolled": true
   },
   "outputs": [
    {
     "name": "stdout",
     "output_type": "stream",
     "text": [
      "G wrong edges series\n"
     ]
    },
    {
     "data": {
      "image/png": "[encoded data removed]",
      "text/plain": [
       "<Figure size 432x288 with 1 Axes>"
      ]
     },
     "metadata": {
      "needs_background": "light"
     },
     "output_type": "display_data"
    }
   ],
   "source": [
    "wrong_edges.plot()\n",
    "print(\"G wrong edges series\")"
   ]
  }
 ],
 "metadata": {
  "interpreter": {
   "hash": "a803b5bf187bf95155bcb05f6102b06519856e9ee60d4a9ebc29561a74488513"
  },
  "kernelspec": {
   "display_name": "Python 3.8 (d2)",
   "language": "python",
   "name": "d2"
  },
  "language_info": {
   "codemirror_mode": {
    "name": "ipython",
    "version": 3
   },
   "file_extension": ".py",
   "mimetype": "text/x-python",
   "name": "python",
   "nbconvert_exporter": "python",
   "pygments_lexer": "ipython3",
   "version": "3.8.12"
  }
 },
 "nbformat": 4,
 "nbformat_minor": 5
}
