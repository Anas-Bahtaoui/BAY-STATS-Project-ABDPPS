{
 "cells": [
  {
   "cell_type": "code",
   "execution_count": 1,
   "id": "7353440c",
   "metadata": {},
   "outputs": [],
   "source": [
    "from const import globs\n",
    "import ipykernel\n",
    "ipykernel.__version__\n",
    "\n",
    "D, V, M, k, gamma = globs('l')"
   ]
  },
  {
   "cell_type": "code",
   "execution_count": 2,
   "id": "d9161220",
   "metadata": {},
   "outputs": [],
   "source": [
    "from matplotlib import pyplot as plt\n",
    "import numpy as np\n",
    "import pandas as pd"
   ]
  },
  {
   "cell_type": "markdown",
   "id": "1bbffc28",
   "metadata": {},
   "source": [
    "From now on let's use the following simulated data for further testing"
   ]
  },
  {
   "cell_type": "code",
   "execution_count": 3,
   "id": "86bcad58",
   "metadata": {},
   "outputs": [],
   "source": [
    "from simulator import Simulator\n",
    "from samplers import MC_sample_Z, MC_sample_B, MC_sample_H, MC_sample_GK\n",
    "from transformation_functions import update_Theta, update_Sigma, update_E, update_C\n",
    "from generator_functions import sample_Z_from_W\n",
    "from graph_loss import permutation_topics, graph_loss"
   ]
  },
  {
   "cell_type": "markdown",
   "id": "48a0dcdf",
   "metadata": {},
   "source": [
    "# 3. MAIN CYCLE TESTS"
   ]
  },
  {
   "cell_type": "markdown",
   "id": "4ae48b29",
   "metadata": {},
   "source": [
    "### Generating Target Data\n",
    "\n",
    "These data will be used as input (matrix Z and W) and target (matrix G) for our simulation. "
   ]
  },
  {
   "cell_type": "code",
   "execution_count": 4,
   "id": "82444cdd",
   "metadata": {},
   "outputs": [
    {
     "name": "stdout",
     "output_type": "stream",
     "text": [
      "Success: Sigma transformed from K\n",
      "Success: G transformed from K\n",
      "Success: W and Z generated\n",
      "Success: E transformed from Z\n",
      "Success: C transformed from Z\n"
     ]
    }
   ],
   "source": [
    "simulated_data = Simulator(D, V, M, k, gamma, seed=1888)\n",
    "simulated_data.generate_all_data()"
   ]
  },
  {
   "cell_type": "code",
   "execution_count": 5,
   "id": "043a1144",
   "metadata": {},
   "outputs": [
    {
     "data": {
      "text/plain": [
       "array([[2., 1., 3., ..., 5., 2., 0.],\n",
       "       [3., 3., 2., ..., 2., 4., 2.],\n",
       "       [1., 1., 1., ..., 2., 2., 0.],\n",
       "       ...,\n",
       "       [0., 2., 0., ..., 1., 0., 1.],\n",
       "       [2., 2., 0., ..., 2., 1., 3.],\n",
       "       [2., 1., 0., ..., 1., 2., 3.]])"
      ]
     },
     "execution_count": 5,
     "metadata": {},
     "output_type": "execute_result"
    }
   ],
   "source": [
    "# Input Data:\n",
    "simulated_data.W"
   ]
  },
  {
   "cell_type": "code",
   "execution_count": 6,
   "id": "50d5eae4",
   "metadata": {},
   "outputs": [
    {
     "data": {
      "text/plain": [
       "<matplotlib.image.AxesImage at 0x7f812d9a1a30>"
      ]
     },
     "execution_count": 6,
     "metadata": {},
     "output_type": "execute_result"
    },
    {
     "data": {
      "image/png": "[encoded data removed]",
      "text/plain": [
       "<Figure size 288x288 with 1 Axes>"
      ]
     },
     "metadata": {
      "needs_background": "light"
     },
     "output_type": "display_data"
    }
   ],
   "source": [
    "# Target graph\n",
    "plt.matshow(simulated_data.G, cmap='Blues')"
   ]
  },
  {
   "cell_type": "markdown",
   "id": "c60d1dde",
   "metadata": {},
   "source": [
    "### Generating Initial Data\n",
    "\n",
    "These are used as our initial guess for Sigma, K, B, Theta and G"
   ]
  },
  {
   "cell_type": "code",
   "execution_count": 7,
   "id": "da4bf0d3",
   "metadata": {},
   "outputs": [
    {
     "name": "stdout",
     "output_type": "stream",
     "text": [
      "Success: G transformed from K\n",
      "Success: E transformed from Z\n",
      "Success: C transformed from Z\n"
     ]
    },
    {
     "data": {
      "text/plain": [
       "<matplotlib.image.AxesImage at 0x7f812dc1c910>"
      ]
     },
     "execution_count": 7,
     "metadata": {},
     "output_type": "execute_result"
    },
    {
     "data": {
      "image/png": "[encoded data removed]",
      "text/plain": [
       "<Figure size 288x288 with 1 Axes>"
      ]
     },
     "metadata": {
      "needs_background": "light"
     },
     "output_type": "display_data"
    }
   ],
   "source": [
    "# Initial guesses\n",
    "initial = Simulator(D, V, M, k, gamma, 2020)\n",
    "initial.generate_non_informative(simulated_data.W)\n",
    "\n",
    "# Initial graph\n",
    "plt.matshow(initial.G, cmap='Blues')"
   ]
  },
  {
   "cell_type": "markdown",
   "id": "8d2e01f8",
   "metadata": {},
   "source": [
    "## 3.1 Test graph loss\n",
    "\n",
    "We use the true versions of the data that isn't related to B, G"
   ]
  },
  {
   "cell_type": "code",
   "execution_count": 8,
   "id": "626496a1",
   "metadata": {},
   "outputs": [
    {
     "name": "stdout",
     "output_type": "stream",
     "text": [
      "[0.0, 1.0, 2.0, 3.0, 4.0, 5.0]\n",
      "Finished iteration 0\n",
      "[0.0, 1.0, 2.0, 3.0, 4.0, 5.0]\n",
      "[0.0, 1.0, 2.0, 3.0, 4.0, 5.0]\n",
      "[0.0, 1.0, 2.0, 3.0, 4.0, 5.0]\n",
      "[0.0, 1.0, 2.0, 3.0, 4.0, 5.0]\n",
      "[0.0, 1.0, 2.0, 3.0, 4.0, 5.0]\n",
      "[0.0, 1.0, 2.0, 3.0, 4.0, 5.0]\n",
      "[0.0, 1.0, 2.0, 3.0, 4.0, 5.0]\n",
      "[0.0, 1.0, 2.0, 3.0, 4.0, 5.0]\n",
      "[0.0, 1.0, 2.0, 3.0, 4.0, 5.0]\n",
      "[0.0, 1.0, 2.0, 3.0, 4.0, 5.0]\n",
      "[0.0, 1.0, 2.0, 3.0, 4.0, 5.0]\n",
      "[0.0, 1.0, 2.0, 3.0, 4.0, 5.0]\n",
      "[0.0, 1.0, 2.0, 3.0, 4.0, 5.0]\n",
      "[0.0, 1.0, 2.0, 3.0, 4.0, 5.0]\n",
      "[0.0, 1.0, 2.0, 3.0, 4.0, 5.0]\n",
      "[0.0, 1.0, 2.0, 3.0, 4.0, 5.0]\n",
      "[0.0, 1.0, 2.0, 3.0, 4.0, 5.0]\n",
      "[0.0, 1.0, 2.0, 3.0, 4.0, 5.0]\n",
      "[0.0, 1.0, 2.0, 3.0, 4.0, 5.0]\n",
      "[0.0, 1.0, 2.0, 3.0, 4.0, 5.0]\n",
      "[0.0, 1.0, 2.0, 3.0, 4.0, 5.0]\n",
      "[0.0, 1.0, 2.0, 3.0, 4.0, 5.0]\n",
      "[0.0, 1.0, 2.0, 3.0, 4.0, 5.0]\n",
      "[0.0, 1.0, 2.0, 3.0, 4.0, 5.0]\n",
      "[0.0, 1.0, 2.0, 3.0, 4.0, 5.0]\n",
      "[0.0, 1.0, 2.0, 3.0, 4.0, 5.0]\n",
      "[0.0, 1.0, 2.0, 3.0, 4.0, 5.0]\n",
      "[0.0, 1.0, 2.0, 3.0, 4.0, 5.0]\n",
      "[0.0, 1.0, 2.0, 3.0, 4.0, 5.0]\n",
      "[0.0, 1.0, 2.0, 3.0, 4.0, 5.0]\n",
      "[0.0, 1.0, 2.0, 3.0, 4.0, 5.0]\n",
      "[0.0, 1.0, 2.0, 3.0, 4.0, 5.0]\n",
      "[0.0, 1.0, 2.0, 3.0, 4.0, 5.0]\n",
      "[0.0, 1.0, 2.0, 3.0, 4.0, 5.0]\n"
     ]
    },
    {
     "ename": "KeyboardInterrupt",
     "evalue": "",
     "output_type": "error",
     "traceback": [
      "\u001b[0;31m---------------------------------------------------------------------------\u001b[0m",
      "\u001b[0;31mKeyboardInterrupt\u001b[0m                         Traceback (most recent call last)",
      "\u001b[0;32m<timed exec>\u001b[0m in \u001b[0;36m<module>\u001b[0;34m\u001b[0m\n",
      "\u001b[0;32m~/Desktop/Bayesian Project/BAY-STATS-Project-ABDPPS/samplers.py\u001b[0m in \u001b[0;36mMC_sample_Z\u001b[0;34m(Z, W, Theta, B, E, C, debug)\u001b[0m\n\u001b[1;32m     40\u001b[0m                         \u001b[0;32mfor\u001b[0m \u001b[0mb\u001b[0m \u001b[0;32min\u001b[0m \u001b[0mrange\u001b[0m\u001b[0;34m(\u001b[0m\u001b[0mV\u001b[0m\u001b[0;34m)\u001b[0m\u001b[0;34m:\u001b[0m\u001b[0;34m\u001b[0m\u001b[0;34m\u001b[0m\u001b[0m\n\u001b[1;32m     41\u001b[0m                             \u001b[0;32mif\u001b[0m \u001b[0mb\u001b[0m \u001b[0;34m!=\u001b[0m \u001b[0mv\u001b[0m\u001b[0;34m:\u001b[0m\u001b[0;34m\u001b[0m\u001b[0;34m\u001b[0m\u001b[0m\n\u001b[0;32m---> 42\u001b[0;31m                                 \u001b[0mC_vk\u001b[0m \u001b[0;34m+=\u001b[0m \u001b[0mC\u001b[0m\u001b[0;34m[\u001b[0m\u001b[0mz\u001b[0m\u001b[0;34m,\u001b[0m \u001b[0mb\u001b[0m\u001b[0;34m]\u001b[0m\u001b[0;34m\u001b[0m\u001b[0;34m\u001b[0m\u001b[0m\n\u001b[0m\u001b[1;32m     43\u001b[0m                         \u001b[0;31m# Compute the upper limits of the topic probabilities\u001b[0m\u001b[0;34m\u001b[0m\u001b[0;34m\u001b[0m\u001b[0;34m\u001b[0m\u001b[0m\n\u001b[1;32m     44\u001b[0m                         \u001b[0md_part\u001b[0m \u001b[0;34m=\u001b[0m \u001b[0mE\u001b[0m\u001b[0;34m[\u001b[0m\u001b[0md\u001b[0m\u001b[0;34m,\u001b[0m \u001b[0mz\u001b[0m\u001b[0;34m]\u001b[0m \u001b[0;34m+\u001b[0m \u001b[0mTheta\u001b[0m\u001b[0;34m[\u001b[0m\u001b[0md\u001b[0m\u001b[0;34m,\u001b[0m \u001b[0mz\u001b[0m\u001b[0;34m]\u001b[0m\u001b[0;34m\u001b[0m\u001b[0;34m\u001b[0m\u001b[0m\n",
      "\u001b[0;31mKeyboardInterrupt\u001b[0m: "
     ]
    }
   ],
   "source": [
    "%%time\n",
    "max_iterations = 5000\n",
    "np.random.seed(25041945)\n",
    "\n",
    "# Initialization\n",
    "Sigma = initial.Sigma.copy()\n",
    "K = np.linalg.inv(Sigma)\n",
    "B = initial.B.copy()\n",
    "Theta = initial.Theta.copy()\n",
    "G = initial.G.copy()\n",
    "\n",
    "alpha = np.ones(V)  # Uninformative prior\n",
    "b = k - 1\n",
    "\n",
    "# Skipping part\n",
    "Z = initial.Z.copy()\n",
    "E = initial.E.copy()\n",
    "C = initial.C.copy()\n",
    "\n",
    "H = initial.H.copy()\n",
    "Theta = update_Theta(Theta, H)  # get Theta from H\n",
    "\n",
    "step = 0.5\n",
    "\n",
    "# Metrics\n",
    "\n",
    "Zerrors1 = []\n",
    "\n",
    "Berrors1 = []\n",
    "B_converge1 = [] \n",
    "\n",
    "waiting_times1 = []\n",
    "sampled_Gs1 = []\n",
    "graph_changes1 = []\n",
    "edges_log1 = []\n",
    "errors_log1 = []\n",
    "\n",
    "\n",
    "sampled_Bs = []\n",
    "permutations = []\n",
    "waiting_times = []\n",
    "sampled_Gs = []\n",
    "graph_losses = []\n",
    "\n",
    "permutations = []\n",
    "\n",
    "\n",
    "for iteration in range(max_iterations):\n",
    "    \n",
    "    # Step 1\n",
    "    Z, E, C = MC_sample_Z(Z, simulated_data.W, Theta, B, E, C, debug=True) \n",
    "    \n",
    "    # Step 2\n",
    "    B = MC_sample_B(alpha, C)\n",
    "    sampled_Bs.append(B)\n",
    "    \n",
    "    permute = permutation_topics(B_true=simulated_data.B, B_sampled=B)\n",
    "    permutations.append(permute)\n",
    "    \n",
    "    #print(permute)\n",
    "    \n",
    "    # Step 3\n",
    "    #H = MC_sample_H(E, Sigma, K, H_current=H, burn_in=10)\n",
    "    H, step = MC_sample_H(E, Sigma, K, step_size=step, H_current=H, burn_in=15)\n",
    "    Theta = update_Theta(Theta, H)  # get Theta from H\n",
    "    \n",
    "    # Step 4    \n",
    "    G_old = G.copy()\n",
    "    wt_sample, G_new, K = MC_sample_GK(G, H, b, debug=False)\n",
    "    \n",
    "    G = G_new\n",
    "    Sigma = np.linalg.inv(K)\n",
    "    \n",
    "    waiting_times.append(wt_sample)\n",
    "    sampled_Gs.append(G.copy())\n",
    "    \n",
    "    graph_losss = graph_loss(G_true=simulated_data.G, G_sampled=G, permutation=permute)\n",
    "    graph_losses.append(graph_losss)\n",
    "    \n",
    "    if iteration % 100 == 0:  # Plot every 20 iterations\n",
    "        print('Finished iteration '+str(iteration))\n",
    "        #plt.matshow(G, cmap='Blues')\n",
    "        #plt.suptitle(\"Graph of iteration \" + str(iteration), x=0.5, y=1, ha='center')\n",
    "        #plt.show()"
   ]
  },
  {
   "cell_type": "code",
   "execution_count": 10,
   "id": "013d683e",
   "metadata": {},
   "outputs": [
    {
     "ename": "AttributeError",
     "evalue": "'numpy.ndarray' object has no attribute 'B'",
     "output_type": "error",
     "traceback": [
      "\u001b[0;31m---------------------------------------------------------------------------\u001b[0m",
      "\u001b[0;31mAttributeError\u001b[0m                            Traceback (most recent call last)",
      "\u001b[0;32m<ipython-input-10-40310b9c6031>\u001b[0m in \u001b[0;36m<module>\u001b[0;34m\u001b[0m\n\u001b[1;32m      5\u001b[0m \u001b[0mB_True_Permuted\u001b[0m\u001b[0;34m[\u001b[0m\u001b[0;36m1\u001b[0m\u001b[0;34m]\u001b[0m \u001b[0;34m=\u001b[0m \u001b[0mB_True\u001b[0m\u001b[0;34m[\u001b[0m\u001b[0;36m0\u001b[0m\u001b[0;34m]\u001b[0m\u001b[0;34m.\u001b[0m\u001b[0mcopy\u001b[0m\u001b[0;34m(\u001b[0m\u001b[0;34m)\u001b[0m\u001b[0;34m\u001b[0m\u001b[0;34m\u001b[0m\u001b[0m\n\u001b[1;32m      6\u001b[0m \u001b[0;34m\u001b[0m\u001b[0m\n\u001b[0;32m----> 7\u001b[0;31m \u001b[0mpermute\u001b[0m \u001b[0;34m=\u001b[0m \u001b[0mpermutation_topics\u001b[0m\u001b[0;34m(\u001b[0m\u001b[0mB_true\u001b[0m\u001b[0;34m=\u001b[0m\u001b[0mB_True\u001b[0m\u001b[0;34m.\u001b[0m\u001b[0mB\u001b[0m\u001b[0;34m,\u001b[0m \u001b[0mB_sampled\u001b[0m\u001b[0;34m=\u001b[0m\u001b[0mB\u001b[0m\u001b[0;34m)\u001b[0m\u001b[0;34m\u001b[0m\u001b[0;34m\u001b[0m\u001b[0m\n\u001b[0m\u001b[1;32m      8\u001b[0m \u001b[0mprint\u001b[0m\u001b[0;34m(\u001b[0m\u001b[0mpermute\u001b[0m\u001b[0;34m)\u001b[0m\u001b[0;34m\u001b[0m\u001b[0;34m\u001b[0m\u001b[0m\n",
      "\u001b[0;31mAttributeError\u001b[0m: 'numpy.ndarray' object has no attribute 'B'"
     ]
    }
   ],
   "source": [
    "B_True = simulated_data.B.copy()\n",
    "B_True_Permuted = B_True.copy()\n",
    "\n",
    "B_True_Permuted[0] = B_True[1].copy()\n",
    "B_True_Permuted[1] = B_True[0].copy()\n",
    "\n",
    "permute = permutation_topics(B_true=B_True, B_sampled=B)\n",
    "print(permute)"
   ]
  },
  {
   "cell_type": "code",
   "execution_count": null,
   "id": "9c40f21f",
   "metadata": {},
   "outputs": [],
   "source": [
    "graph_loss = pd.Series(graph_losses)\n",
    "\n",
    "print(\"Graph loss metrics\")\n",
    "print(graph_loss.describe())\n",
    "\n",
    "graph_loss.hist(bins=30)\n",
    "plt.suptitle('G graph loss histogram', x=0.5, y=1, ha='center')\n",
    "plt.show()\n",
    "\n",
    "graph_loss.plot(title=\"Graph loss series\")\n",
    "plt.show()\n",
    "\n",
    "wait_times = pd.Series(waiting_times)\n",
    "wait_times.plot(title=\"Waiting times series\")\n",
    "plt.show()"
   ]
  },
  {
   "cell_type": "code",
   "execution_count": null,
   "id": "10562f3a",
   "metadata": {},
   "outputs": [],
   "source": [
    "import seaborn as sn\n",
    "fig, ax = plt.subplots(1,1)\n",
    "sn.heatmap(permutations, cmap='Blues',ax=ax[0])"
   ]
  },
  {
   "cell_type": "code",
   "execution_count": null,
   "id": "39f321ee",
   "metadata": {},
   "outputs": [],
   "source": [
    "plt.scatter(wait_times, graph_loss)\n",
    "plt.xlabel('Waiting times')\n",
    "plt.ylabel('Graph losses')\n",
    "plt.show()"
   ]
  }
 ],
 "metadata": {
  "interpreter": {
   "hash": "a803b5bf187bf95155bcb05f6102b06519856e9ee60d4a9ebc29561a74488513"
  },
  "kernelspec": {
   "display_name": "Python 3 (ipykernel)",
   "language": "python",
   "name": "python3"
  },
  "language_info": {
   "codemirror_mode": {
    "name": "ipython",
    "version": 3
   },
   "file_extension": ".py",
   "mimetype": "text/x-python",
   "name": "python",
   "nbconvert_exporter": "python",
   "pygments_lexer": "ipython3",
   "version": "3.8.8"
  }
 },
 "nbformat": 4,
 "nbformat_minor": 5
}
