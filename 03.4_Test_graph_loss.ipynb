{
 "cells": [
  {
   "cell_type": "code",
   "execution_count": null,
   "id": "7353440c",
   "metadata": {},
   "outputs": [],
   "source": [
    "from const import globs\n",
    "\n",
    "D, V, M, k, gamma = globs('l')"
   ]
  },
  {
   "cell_type": "code",
   "execution_count": null,
   "id": "d9161220",
   "metadata": {},
   "outputs": [],
   "source": [
    "from matplotlib import pyplot as plt\n",
    "import numpy as np\n",
    "import pandas as pd"
   ]
  },
  {
   "cell_type": "markdown",
   "id": "1bbffc28",
   "metadata": {},
   "source": [
    "From now on let's use the following simulated data for further testing"
   ]
  },
  {
   "cell_type": "code",
   "execution_count": null,
   "id": "86bcad58",
   "metadata": {},
   "outputs": [],
   "source": [
    "from simulator import Simulator\n",
    "from samplers import MC_sample_Z, MC_sample_B, MC_sample_H, MC_sample_GK\n",
    "from transformation_functions import update_Theta, update_Sigma, update_E, update_C\n",
    "from generator_functions import sample_Z_from_W\n",
    "from graph_loss import permutation_topics, graph_loss"
   ]
  },
  {
   "cell_type": "markdown",
   "id": "48a0dcdf",
   "metadata": {},
   "source": [
    "# 3. MAIN CYCLE TESTS"
   ]
  },
  {
   "cell_type": "markdown",
   "id": "4ae48b29",
   "metadata": {},
   "source": [
    "### Generating Target Data\n",
    "\n",
    "These data will be used as input (matrix Z and W) and target (matrix G) for our simulation. "
   ]
  },
  {
   "cell_type": "code",
   "execution_count": null,
   "id": "82444cdd",
   "metadata": {},
   "outputs": [],
   "source": [
    "simulated_data = Simulator(D, V, M, k, gamma, seed=1888)\n",
    "simulated_data.generate_all_data()"
   ]
  },
  {
   "cell_type": "code",
   "execution_count": null,
   "id": "043a1144",
   "metadata": {},
   "outputs": [],
   "source": [
    "# Input Data:\n",
    "simulated_data.W"
   ]
  },
  {
   "cell_type": "code",
   "execution_count": null,
   "id": "50d5eae4",
   "metadata": {},
   "outputs": [],
   "source": [
    "# Target graph\n",
    "plt.matshow(simulated_data.G, cmap='Blues')"
   ]
  },
  {
   "cell_type": "markdown",
   "id": "c60d1dde",
   "metadata": {},
   "source": [
    "### Generating Initial Data\n",
    "\n",
    "These are used as our initial guess for Sigma, K, B, Theta and G"
   ]
  },
  {
   "cell_type": "code",
   "execution_count": null,
   "id": "da4bf0d3",
   "metadata": {},
   "outputs": [],
   "source": [
    "# # Initial guesses\n",
    "initial = Simulator(D, V, M, k, gamma, 2020)\n",
    "initial.sample_GK()\n",
    "initial.sample_B()\n",
    "initial.sample_H()"
   ]
  },
  {
   "cell_type": "code",
   "execution_count": null,
   "id": "1b8fc855",
   "metadata": {},
   "outputs": [],
   "source": [
    "# Initial graph\n",
    "plt.matshow(initial.G, cmap='Blues')"
   ]
  },
  {
   "cell_type": "markdown",
   "id": "8d2e01f8",
   "metadata": {},
   "source": [
    "## 3.1 Test graph loss\n",
    "\n",
    "We use the true versions of the data that isn't related to B, G"
   ]
  },
  {
   "cell_type": "code",
   "execution_count": null,
   "id": "626496a1",
   "metadata": {},
   "outputs": [],
   "source": [
    "%%time\n",
    "max_iterations = 4000\n",
    "np.random.seed(25041945)\n",
    "\n",
    "# Initialization\n",
    "Sigma = initial.Sigma.copy()\n",
    "K = np.linalg.inv(Sigma)\n",
    "B = initial.B.copy()\n",
    "Theta = initial.Theta.copy()\n",
    "G = initial.G.copy()\n",
    "\n",
    "alpha = np.ones(V)  # Uninformative prior\n",
    "b = k - 1\n",
    "\n",
    "# Skipping part\n",
    "Z = simulated_data.Z.copy()\n",
    "E = simulated_data.E.copy()\n",
    "C = simulated_data.C.copy()\n",
    "\n",
    "H = simulated_data.H.copy()\n",
    "Theta = update_Theta(Theta, H)  # get Theta from H\n",
    "\n",
    "sampled_Bs = []\n",
    "permutations = []\n",
    "waiting_times = []\n",
    "sampled_Gs = []\n",
    "graph_losses = []\n",
    "\n",
    "for iteration in range(max_iterations):\n",
    "    \n",
    "    # Step 1\n",
    "    #Z, E, C = MC_sample_Z(Z, simulated_data.W, Theta, B, E, C, debug=True) \n",
    "    \n",
    "    # Step 2\n",
    "    B = MC_sample_B(alpha, C)\n",
    "    sampled_Bs.append(B)\n",
    "    \n",
    "    permute = permutation_topics(B_true=simulated_data.B, B_sampled=B)\n",
    "    permutations.append(permute)\n",
    "    \n",
    "    # Step 3\n",
    "    #H = MC_sample_H(E, Sigma, H_current=H, burn_in=10)\n",
    "    \n",
    "    # Step 4    \n",
    "    G_old = G.copy()\n",
    "    wt_sample, G_new, K = MC_sample_GK(G, H, b, debug=False)\n",
    "    \n",
    "    G = G_new\n",
    "    Sigma = np.linalg.inv(K)\n",
    "    \n",
    "    waiting_times.append(wt_sample)\n",
    "    sampled_Gs.append(G.copy())\n",
    "    \n",
    "    graph_loss = graph_loss(G_true=simulated_data.G, G_sampled=G, permutation=permute)\n",
    "    graph_losses.append(graph_loss)\n",
    "    \n",
    "    if iteration % 100 == 0:  # Plot every 20 iterations\n",
    "        print('Finished iteration '+str(iteration))\n",
    "        #plt.matshow(G, cmap='Blues')\n",
    "        #plt.suptitle(\"Graph of iteration \" + str(iteration), x=0.5, y=1, ha='center')\n",
    "        #plt.show()"
   ]
  },
  {
   "cell_type": "code",
   "execution_count": null,
   "id": "9c40f21f",
   "metadata": {},
   "outputs": [],
   "source": [
    "graph_loss = pd.Series(graph_losses)\n",
    "\n",
    "print(\"Graph loss metrics\")\n",
    "print(graph_loss.describe())\n",
    "\n",
    "graph_loss.hist(bins=30)\n",
    "plt.suptitle('G graph loss histogram', x=0.5, y=1, ha='center')\n",
    "plt.show()\n",
    "\n",
    "graph_loss.plot(title=\"Graph loss series\")\n",
    "plt.show()\n",
    "\n",
    "wait_times = pd.Series(waiting_times)\n",
    "wait_times.plot(title=\"Waiting times series\")\n",
    "plt.show()"
   ]
  },
  {
   "cell_type": "code",
   "execution_count": null,
   "id": "10562f3a",
   "metadata": {},
   "outputs": [],
   "source": [
    "import seaborn as sn\n",
    "fig, ax = plt.subplots(1,1)\n",
    "sn.heatmap(permutations, cmap='Blues',ax=ax[0])"
   ]
  },
  {
   "cell_type": "code",
   "execution_count": null,
   "id": "39f321ee",
   "metadata": {},
   "outputs": [],
   "source": [
    "plt.scatter(wait_times, graph_loss)\n",
    "plt.xlabel('Waiting times')\n",
    "plt.ylabel('Graph losses')\n",
    "plt.show()"
   ]
  }
 ],
 "metadata": {
  "interpreter": {
   "hash": "a803b5bf187bf95155bcb05f6102b06519856e9ee60d4a9ebc29561a74488513"
  },
  "kernelspec": {
   "display_name": "Python 3 (ipykernel)",
   "language": "python",
   "name": "python3"
  },
  "language_info": {
   "codemirror_mode": {
    "name": "ipython",
    "version": 3
   },
   "file_extension": ".py",
   "mimetype": "text/x-python",
   "name": "python",
   "nbconvert_exporter": "python",
   "pygments_lexer": "ipython3",
   "version": "3.10.2"
  }
 },
 "nbformat": 4,
 "nbformat_minor": 5
}
